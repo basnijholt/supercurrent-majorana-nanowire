{
 "cells": [
  {
   "cell_type": "code",
   "execution_count": null,
   "metadata": {},
   "outputs": [],
   "source": [
    "import holoviews as hv\n",
    "import pandas as pd\n",
    "import numpy as np\n",
    "from funcs import constants\n",
    "hv.notebook_extension()\n",
    "\n",
    "def add_energy_gs(df):\n",
    "    flux_quantum_over_2pi = constants.hbar / (2 * constants.eV) / (constants.eV * 1e6)\n",
    "    df['E'] = df['currents'].apply(np.cumsum)\n",
    "    df['E'] *= flux_quantum_over_2pi\n",
    "    df['phase_gs_arg'] = df['E'].apply(np.argmin)\n",
    "    df['phase_gs'] = [row['phases'][row['phase_gs_arg']] for i, row in df.iterrows()]\n",
    "\n",
    "    # Move the phase_gs from -π to +π if they are within the tolerance\n",
    "    tol = np.diff(df['phases'].iloc[0]).max()\n",
    "    df['phase_gs'] = [-row['phase_gs'] if row['phase_gs'] < -(np.pi - tol) else row['phase_gs'] \n",
    "                      for i, row in df.iterrows()]\n",
    "    return df\n",
    "\n",
    "df = pd.read_hdf('data/I_c(B_x)_mu10,20meV_disorder0,75meV_T0.1K_c5over8_only_combinations_in_paper.hdf')\n",
    "df = add_energy_gs(df)\n",
    "params = ['orbital', 'g', 'alpha', 'mu', 'disorder', 'salt']\n",
    "gb = df.groupby(params)"
   ]
  },
  {
   "cell_type": "code",
   "execution_count": null,
   "metadata": {},
   "outputs": [],
   "source": [
    "%%opts Curve (color='k') Scatter (s=200)\n",
    "\n",
    "def plot(orbital, g, alpha, mu, disorder, salt, B_x):\n",
    "    gr = gb.get_group((orbital, g, alpha, mu, disorder, salt))\n",
    "    gr = gr.set_index('B_x', drop=False)\n",
    "    x = gr.loc[B_x]\n",
    "    current = hv.Curve((gr.B_x, gr.current_c), kdims=['B_x'], vdims=['I_c'])\n",
    "    phase_gs = hv.Curve((gr.B_x, gr.phase_gs), kdims=['B_x'], vdims=['theta_gs'])\n",
    "    cpr = hv.Curve((x.phases, x.currents), kdims=['phi'], vdims=['I'])\n",
    "    energy = hv.Curve((x.phases, x.E), kdims=['phi'], vdims=['I'])\n",
    "    E_min = hv.Scatter((x.phase_gs, x.E[x.phase_gs_arg]), kdims=['phi'], vdims=['I'])\n",
    "    VLine = hv.VLine(B_x)\n",
    "    return (current * VLine + phase_gs * VLine + cpr + energy * E_min).cols(2)\n",
    "\n",
    "kdims = [hv.Dimension('orbital', values=df.orbital.unique()), \n",
    "         hv.Dimension('g', values=df.g.unique()), \n",
    "         hv.Dimension('alpha', values=df.alpha.unique()), \n",
    "         hv.Dimension('mu', values=df.mu.unique()), \n",
    "         hv.Dimension('disorder', values=df.disorder.unique()), \n",
    "         hv.Dimension('salt', values=df.salt.unique()), \n",
    "         hv.Dimension('B_x', values=df.B_x.unique())]\n",
    "\n",
    "hv.DynamicMap(plot, kdims=kdims)"
   ]
  }
 ],
 "metadata": {
  "kernelspec": {
   "display_name": "Python [conda env:dev]",
   "language": "python",
   "name": "conda-env-dev-py"
  },
  "language_info": {
   "codemirror_mode": {
    "name": "ipython",
    "version": 3
   },
   "file_extension": ".py",
   "mimetype": "text/x-python",
   "name": "python",
   "nbconvert_exporter": "python",
   "pygments_lexer": "ipython3",
   "version": "3.6.1"
  }
 },
 "nbformat": 4,
 "nbformat_minor": 2
}
