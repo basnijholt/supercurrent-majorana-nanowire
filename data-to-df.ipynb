{
 "cells": [
  {
   "cell_type": "code",
   "execution_count": null,
   "metadata": {
    "collapsed": false
   },
   "outputs": [],
   "source": [
    "from types import SimpleNamespace\n",
    "import numpy as np\n",
    "import deepdish as dd\n",
    "import os\n",
    "import pandas as pd\n",
    "pd.set_option('display.max_columns', None)"
   ]
  },
  {
   "cell_type": "markdown",
   "metadata": {},
   "source": [
    "# Parse data"
   ]
  },
  {
   "cell_type": "code",
   "execution_count": null,
   "metadata": {
    "collapsed": false
   },
   "outputs": [],
   "source": [
    "def to_df(fname_start, vals_columns, remove_keys, save, fname):\n",
    "    # Load all data from deepdish and convert it to pd.DataFrame\n",
    "    files = [f for f in os.listdir('./') if f.startswith(fname_start) and f.endswith('.h5')]\n",
    "    print(files)\n",
    "    df = pd.DataFrame()\n",
    "    for f in files:\n",
    "        x = dd.io.load(f)\n",
    "        df1 = pd.DataFrame(x.pop('vals'), columns=vals_columns)\n",
    "        df2 = pd.DataFrame(x.pop('current_phase'))\n",
    "        df_new = pd.concat([df1, df2], axis=1)\n",
    "\n",
    "        for key in remove_keys:\n",
    "            x.pop(key)\n",
    "\n",
    "        for dim in x.keys():\n",
    "            if isinstance(x[dim], dict):\n",
    "                dic = {key: val for key, val in x[dim].items() if val is not None}\n",
    "                df_new = df_new.assign(**dic)\n",
    "            else:\n",
    "                df_new[dim] = x[dim]\n",
    "\n",
    "        df = df.append(df_new, ignore_index=True)\n",
    "\n",
    "    if save:\n",
    "        df.reindex().to_hdf(fname, 'all_data', mode='w')\n",
    "    return df"
   ]
  },
  {
   "cell_type": "code",
   "execution_count": null,
   "metadata": {
    "collapsed": false
   },
   "outputs": [],
   "source": [
    "fname_start = 'no_disorder_B_vs_I_c'\n",
    "vals_columns = ['T', 'B_x', 'orbital', 'g', 'alpha', 'mu']\n",
    "remove_keys = ['T_list', 'T', 'B_x', 'orbital_list', 'g_list', 'alpha_list', 'mu_list']\n",
    "save = True\n",
    "fname = 'test.hdf'\n",
    "df = to_df(fname_start, vals_columns, remove_keys, save, fname)"
   ]
  },
  {
   "cell_type": "code",
   "execution_count": null,
   "metadata": {
    "collapsed": false
   },
   "outputs": [],
   "source": [
    "fname_start = 'current_as_function_of_gate'\n",
    "vals_columns = ['B_x', 'Vs']\n",
    "remove_keys = ['B_x', 'Vs']\n",
    "save = True\n",
    "fname = 'test_gate.hdf'\n",
    "df = to_df(fname_start, vals_columns, remove_keys, save, fname)"
   ]
  }
 ],
 "metadata": {
  "kernelspec": {
   "display_name": "Python 3",
   "language": "python",
   "name": "python3"
  },
  "language_info": {
   "codemirror_mode": {
    "name": "ipython",
    "version": 3
   },
   "file_extension": ".py",
   "mimetype": "text/x-python",
   "name": "python",
   "nbconvert_exporter": "python",
   "pygments_lexer": "ipython3",
   "version": "3.5.2"
  }
 },
 "nbformat": 4,
 "nbformat_minor": 0
}
