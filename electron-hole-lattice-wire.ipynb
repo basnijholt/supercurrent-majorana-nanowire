{
 "cells": [
  {
   "cell_type": "code",
   "execution_count": null,
   "metadata": {
    "collapsed": false
   },
   "outputs": [],
   "source": [
    "import sympy.interactive\n",
    "sympy.interactive.init_printing('mathjax')"
   ]
  },
  {
   "cell_type": "code",
   "execution_count": null,
   "metadata": {
    "collapsed": true
   },
   "outputs": [],
   "source": [
    "import sys\n",
    "sys.path.append('/home/bnijholt/orbitalfield/')"
   ]
  },
  {
   "cell_type": "code",
   "execution_count": null,
   "metadata": {
    "collapsed": true
   },
   "outputs": [],
   "source": [
    "%matplotlib inline\n",
    "\n",
    "# 1. Standard library imports\n",
    "import os.path\n",
    "from math import pi\n",
    "from itertools import product\n",
    "# 2. External package imports\n",
    "import kwant\n",
    "import types\n",
    "import sympy\n",
    "from sympy.physics.quantum import TensorProduct as kr\n",
    "import numpy as np\n",
    "import holoviews as hv\n",
    "import scipy.sparse.linalg as sla\n",
    "from scipy.constants import hbar, m_e, eV, physical_constants\n",
    "# 3. Internal imports\n",
    "from discretizer import Discretizer, momentum_operators"
   ]
  },
  {
   "cell_type": "code",
   "execution_count": null,
   "metadata": {
    "collapsed": true
   },
   "outputs": [],
   "source": [
    "sx, sy, sz = [sympy.physics.matrices.msigma(i) for i in range(1, 4)]\n",
    "s0 = sympy.eye(2)\n",
    "s0sz = np.kron(s0, sz)\n",
    "s0s0 = np.kron(s0, s0)\n",
    "\n",
    "# Parameters taken from arXiv:1204.2792\n",
    "# All constant parameters, mostly fundamental constants, in a SimpleNamespace.\n",
    "constants = types.SimpleNamespace(\n",
    "    m=0.015 * m_e,  # effective mass in kg\n",
    "    a=10,  # lattice spacing in nm\n",
    "    g=50,  # Lande factor\n",
    "    hbar=hbar,\n",
    "    m_e=m_e,\n",
    "    e=eV,\n",
    "    eV=eV,\n",
    "    meV=eV * 1e-3)\n",
    "\n",
    "constants.t = (hbar ** 2 / (2 * constants.m)) * (1e18 / constants.meV)  # meV * nm^2\n",
    "constants.mu_B = physical_constants['Bohr magneton'][0] / constants.meV\n",
    "\n",
    "# All frequently used dimensions in a SimpleNamespace.\n",
    "dimensions = types.SimpleNamespace(\n",
    "    B=hv.Dimension(name=('B', r'$B$'), unit='T'),\n",
    "    mu=hv.Dimension(name=('mu', r'$\\mu$'), unit='meV'),\n",
    "    gap=hv.Dimension(name='Band gap', unit=r'$\\mu$eV'),\n",
    "    # gap=hv.Dimension(name=r'$E_\\textrm{gap}$', unit=r'\\textmu eV'),\n",
    "    decay_length=hv.Dimension(name='Inverse decay length', unit=r'$\\mu m^{-1}$'),\n",
    "    # decay_length=hv.Dimension(r'$\\xi^{-1}$', unit=r'\\textmu m$^{-1}$'),\n",
    "    k=hv.Dimension(name=r'$k$', unit=r'nm$^{-1}$'),\n",
    "    E=hv.Dimension(name=r'$E$', unit='meV'),\n",
    "    delta=hv.Dimension(name=('Delta', r'$\\Delta$'), unit='mev'),\n",
    "    delta_ind=hv.Dimension(name=('Delta_ind', r'$\\Delta_{ind}$'), unit='mev'),\n",
    "    angles={'kdims': [hv.Dimension(name=('theta', r'$\\theta$'), unit=r'$\\pi$'),\n",
    "                      hv.Dimension(name=('phi', r'$\\phi$'), unit=r'$\\pi$')]})\n",
    "\n",
    "from types import SimpleNamespace \n",
    "def make_params(alpha=20,\n",
    "                B_x=0,\n",
    "                B_y=0,\n",
    "                B_z=0,\n",
    "                Delta=0.25,\n",
    "                mu=0,\n",
    "                orbital=True,\n",
    "                A_correction=True,\n",
    "                t=constants.t,\n",
    "                g=constants.g,\n",
    "                mu_B=constants.mu_B,\n",
    "                V=lambda x,y,z: 0,\n",
    "                **kwargs):\n",
    "    \"\"\"Function that creates a namespace with parameters.\n",
    "\n",
    "    Parameters:\n",
    "    -----------\n",
    "    alpha : float\n",
    "        Spin-orbit coupling strength in units of meV*nm.\n",
    "    B_x, B_y, B_z : float\n",
    "        The magnetic field strength in the x, y and z direction in units of Tesla.\n",
    "    Delta : float\n",
    "        The superconducting gap in units of meV.\n",
    "    mu : float\n",
    "        The chemical potential in units of meV.\n",
    "    orbital : bool\n",
    "        Switches the orbital effects on and off.\n",
    "    A_correction : bool\n",
    "        Corrects for the net supercurrent flowing in the wire. If True, the\n",
    "        current will be set to zero.\n",
    "    t : float\n",
    "        Hopping parameter in meV * nm^2.\n",
    "    g : float\n",
    "        Lande g factor.\n",
    "    mu_B : float\n",
    "        Bohr magneton in meV/K.\n",
    "    V : function\n",
    "        Function of spatial coordinates (x, y, z) with is added to mu.\n",
    "\n",
    "    Returns:\n",
    "    --------\n",
    "    p : types.SimpleNamespace object\n",
    "        A simple container that is used to store Hamiltonian parameters.\n",
    "    \"\"\"\n",
    "    p = types.SimpleNamespace(t=t,\n",
    "                              g=g,\n",
    "                              mu_B=mu_B,\n",
    "                              alpha=alpha,\n",
    "                              B_x=B_x,\n",
    "                              B_y=B_y,\n",
    "                              B_z=B_z,\n",
    "                              Delta=Delta,\n",
    "                              mu=mu,\n",
    "                              orbital=orbital,\n",
    "                              A_correction=A_correction,\n",
    "                              V=V,\n",
    "                              **kwargs)\n",
    "    return p\n"
   ]
  },
  {
   "cell_type": "code",
   "execution_count": null,
   "metadata": {
    "collapsed": false
   },
   "outputs": [],
   "source": [
    "def cylinder_sector(r1, r2=0, phi=360, angle=0):\n",
    "    phi *= np.pi / 360\n",
    "    angle *= np.pi / 180\n",
    "    r1sq, r2sq = r1 ** 2, r2 ** 2\n",
    "    def sector(pos):\n",
    "        x, y, z = pos\n",
    "        n = (y + 1j * z) * np.exp(1j * angle)\n",
    "        y, z = n.real, n.imag\n",
    "        rsq = y ** 2 + z ** 2\n",
    "        return r2sq <= rsq < r1sq and z >= np.cos(phi) * np.sqrt(rsq)\n",
    "    r_mid = (r1 + r2) / 2\n",
    "    return sector, (0, r_mid * np.sin(angle), r_mid * np.cos(angle))\n",
    "\n",
    "r1 = 50\n",
    "r2 = 70\n",
    "phi = 135\n",
    "angle = 0"
   ]
  },
  {
   "cell_type": "code",
   "execution_count": null,
   "metadata": {
    "collapsed": false
   },
   "outputs": [],
   "source": [
    "k_x, k_y, k_z = momentum_operators\n",
    "t, B_x, B_y, B_z, mu_B, Delta, mu, alpha, g, V = sympy.symbols('t B_x B_y B_z mu_B Delta mu alpha g V', real=True)\n",
    "t_interface = sympy.symbols('t_interface', real=True)\n",
    "k =  sympy.sqrt(k_x**2+k_y**2+k_z**2)\n",
    "a = 10\n",
    "lat_e = kwant.lattice.general(a * np.eye(3), name='e')\n",
    "lat_h = kwant.lattice.general(a * np.eye(3), name='h')\n",
    "\n",
    "kin = (t * k**2 - mu - V) * s0\n",
    "Rashba_SO = alpha * (k_y * sx - k_x * sy)\n",
    "Zeeman = 0.5 * g * mu_B * (B_x * sx + B_y * sy + B_z * sz)\n",
    "ham_e = kin + Rashba_SO + Zeeman\n",
    "ham_h = -kin - Rashba_SO + Zeeman\n",
    "\n",
    "args = dict(space_dependent={'V'}, lattice_constant=a, discrete_coordinates={'x', 'y', 'z'})\n",
    "\n",
    "tb_normal_e = Discretizer(ham_e, **args)\n",
    "tb_normal_h = Discretizer(ham_h, **args)\n",
    "tb_interface_e = Discretizer(ham_e.subs(t, t_interface), **args)\n",
    "tb_interface_h = Discretizer(ham_h.subs(t, t_interface), **args)\n",
    "\n",
    "# syst = kwant.Builder()\n",
    "syst = kwant.Builder(kwant.TranslationalSymmetry((-a, 0, 0)))\n",
    "shape_normal = cylinder_sector(r1=r1, angle=angle)\n",
    "shape_sc = cylinder_sector(r1=r2, r2=r1, phi=phi, angle=angle)\n",
    "sc_sites = list(syst.expand(lat_e.shape(*shape_sc)))\n",
    "\n",
    "syst[lat_e.shape(*shape_normal)] = tb_normal_e.onsite\n",
    "syst[lat_h.shape(*shape_normal)] = tb_normal_h.onsite\n",
    "syst[lat_e.shape(*shape_sc)] = tb_normal_e.onsite\n",
    "syst[lat_h.shape(*shape_sc)] = tb_normal_h.onsite\n",
    "\n",
    "\n",
    "def peierls(val, ind, electron=True):\n",
    "    def phase(s1, s2, p):\n",
    "        x, y, z = s1.pos\n",
    "        A = lambda p, x, y, z: [p.B_y * z - p.B_z * y, 0, p.B_x * y]\n",
    "        A_site = A(p, x, y, z)[ind]\n",
    "        if p.A_correction:\n",
    "            A_sc = [A(p, *site.pos) for site in sc_sites]\n",
    "            A_site -= np.mean(A_sc, axis=0)[ind]\n",
    "        A_site *= a * 1e-18 * eV / hbar\n",
    "        \n",
    "        if not electron:\n",
    "            A_site *= -1\n",
    "        \n",
    "        return np.exp(-1j * A_site) * np.eye(2)\n",
    "\n",
    "    def with_phase(s1, s2, p):\n",
    "        if p.orbital:\n",
    "            return phase(s1, s2, p).dot(val(s1, s2, p))\n",
    "        else:\n",
    "            return val(s1, s2, p)\n",
    "    return with_phase\n",
    "\n",
    "\n",
    "for tb, lat, electron in zip([tb_normal_e, tb_normal_h], [lat_e, lat_h], [True, False]):\n",
    "    for hop, val in tb.hoppings.items():\n",
    "        ind = np.argmax(hop.delta)\n",
    "        syst[kwant.builder.HoppingKind(hop.delta, lat, lat)] = peierls(val, ind, electron)\n",
    "\n",
    "def at_interface(site1, site2):\n",
    "    return ((shape_sc[0](site1.pos) and shape_normal[0](site2.pos)) or\n",
    "            (shape_normal[0](site1.pos) and shape_sc[0](site2.pos)))\n",
    "\n",
    "# Hoppings at the barrier between wire and superconductor\n",
    "for tb_interface, lat, electron in zip([tb_interface_e, tb_interface_h], [lat_e, lat_h], [True, False]):\n",
    "    for hop, val in tb_interface.hoppings.items():\n",
    "        hopping_iterator = ((i, j) for (i, j) in kwant.builder.HoppingKind(hop.delta, lat)(syst) if at_interface(i, j))\n",
    "        ind = np.argmax(hop.delta)\n",
    "        syst[hopping_iterator] = peierls(val, ind, electron)\n",
    "\n",
    "hopping_iterator = [i for i in kwant.builder.HoppingKind((0, 0, 0), lat_e, lat_h)(syst) if shape_sc[0](i[0].pos)]\n",
    "syst[hopping_iterator] = lambda site1, site2, p: p.Delta * np.eye(2)\n",
    "\n",
    "fsyst = syst.finalized()"
   ]
  },
  {
   "cell_type": "code",
   "execution_count": null,
   "metadata": {
    "collapsed": false
   },
   "outputs": [],
   "source": [
    "kwant.plot(syst)"
   ]
  },
  {
   "cell_type": "code",
   "execution_count": null,
   "metadata": {
    "collapsed": false
   },
   "outputs": [],
   "source": [
    "%matplotlib inline\n",
    "p = make_params(t_interface=7*constants.t/8, orbital=True, alpha=1000, Delta=60, mu_B=1, A_correction=False, B_x=1, B_y=1)\n",
    "b1 = kwant.physics.Bands(fsyst, args=[p])\n",
    "from fun import make_3d_wire_external_sc\n",
    "b2 = kwant.physics.Bands(make_3d_wire_external_sc(angle=0), args=[p])\n",
    "np.allclose(b1(1)[0], b2(1)[0]), (b1(1)[0] - b2(1)[0])"
   ]
  },
  {
   "cell_type": "code",
   "execution_count": null,
   "metadata": {
    "collapsed": true
   },
   "outputs": [],
   "source": []
  }
 ],
 "metadata": {
  "kernelspec": {
   "display_name": "Python 3",
   "language": "python",
   "name": "python3"
  },
  "language_info": {
   "codemirror_mode": {
    "name": "ipython",
    "version": 3
   },
   "file_extension": ".py",
   "mimetype": "text/x-python",
   "name": "python",
   "nbconvert_exporter": "python",
   "pygments_lexer": "ipython3",
   "version": "3.5.1"
  }
 },
 "nbformat": 4,
 "nbformat_minor": 0
}
