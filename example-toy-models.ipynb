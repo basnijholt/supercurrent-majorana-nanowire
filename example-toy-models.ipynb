{
 "cells": [
  {
   "cell_type": "markdown",
   "metadata": {},
   "source": [
    "# Calculations of supercurrents: examples\n",
    "\n",
    "## The Python conda environment that is used\n",
    "* We used the following Python environment. See [README.md](README.md) for installation instructions.\n",
    "```yaml\n",
    "name: python3\n",
    "channels:\n",
    "  - conda-forge\n",
    "dependencies:\n",
    "  - python=3.6\n",
    "  - kwant=1.3\n",
    "  - holoviews=1.8.1\n",
    "  - xarray=0.9.6\n",
    "  - pandas=0.20.3\n",
    "  - pytables=3.4.2\n",
    "  - toolz=0.8.2\n",
    "  - hpc05  # This is only needed if you use a PBS cluster with headnode, as on the TU Delft network\n",
    "```"
   ]
  },
  {
   "cell_type": "code",
   "execution_count": null,
   "metadata": {},
   "outputs": [],
   "source": [
    "import holoviews as hv\n",
    "import kwant\n",
    "import numpy as np\n",
    "\n",
    "# Local imports\n",
    "import funcs\n",
    "from funcs import (\n",
    "    constants,\n",
    "    discretized_hamiltonian,\n",
    "    get_cuts,\n",
    "    add_vlead,\n",
    "    hopping_between_cuts,\n",
    ")\n",
    "\n",
    "%matplotlib inline\n",
    "hv.notebook_extension()\n",
    "\n",
    "\n",
    "def plot_CPR(syst, hopping, params, tol=0.01, max_frequencies=1000):\n",
    "    phases = np.linspace(-np.pi, np.pi, 51)\n",
    "    H_0_cache = []\n",
    "    I = [\n",
    "        funcs.current_at_phase(\n",
    "            syst, hopping, params, H_0_cache, phase, tol, max_frequencies\n",
    "        )\n",
    "        for phase in phases\n",
    "    ]\n",
    "\n",
    "    return hv.Curve((phases, I), kdims=[\"phase\"], vdims=[\"$I$\"], label=\"Nummerical CPR\")"
   ]
  },
  {
   "cell_type": "markdown",
   "metadata": {},
   "source": [
    "# 1D"
   ]
  },
  {
   "cell_type": "code",
   "execution_count": null,
   "metadata": {},
   "outputs": [],
   "source": [
    "syst, hopping = funcs.make_1d_wire(a=10, L=100, L_sc=100)\n",
    "\n",
    "params = dict(\n",
    "    T=0.06,\n",
    "    Delta=0.250,\n",
    "    mu=15,\n",
    "    k=constants.k,\n",
    "    hbar=constants.hbar,\n",
    "    m_eff=constants.m_eff,\n",
    "    current_unit=constants.current_unit,\n",
    "    c=constants.c,\n",
    "    B_x=0,\n",
    "    B_y=0,\n",
    "    B_z=0,\n",
    "    g=0,\n",
    "    mu_B=0,\n",
    "    alpha=0,\n",
    "    V=lambda x: 0,\n",
    ")\n",
    "\n",
    "plot_CPR(syst, hopping, params)"
   ]
  },
  {
   "cell_type": "markdown",
   "metadata": {},
   "source": [
    "# Simpler way of calculating the super current (but slower)"
   ]
  },
  {
   "cell_type": "code",
   "execution_count": null,
   "metadata": {},
   "outputs": [],
   "source": [
    "from funcs import matsubara_frequency\n",
    "\n",
    "\n",
    "def null_G(syst, params, n):\n",
    "    en = matsubara_frequency(n, params)\n",
    "    gf = kwant.greens_function(\n",
    "        syst, en, out_leads=[0], in_leads=[0], check_hermiticity=False, params=params\n",
    "    )\n",
    "    return gf.data[::2, ::2]\n",
    "\n",
    "\n",
    "def current_from_G_0(G_0s, H12, phase, params):\n",
    "    t = H12 * np.exp(1j * phase)\n",
    "    dim = t.shape[0]\n",
    "    I = 0\n",
    "    for G_0 in G_0s:\n",
    "        V = np.zeros_like(G_0, dtype=complex)\n",
    "        v = t - H12\n",
    "        V[:dim, dim:] = v.T.conj()\n",
    "        V[dim:, :dim] = v\n",
    "        gf = np.linalg.solve(np.identity(2 * dim) - G_0 @ V, G_0)\n",
    "        H12G21 = t.T.conj() @ gf[dim:, :dim]\n",
    "        H21G12 = t @ gf[:dim, dim:]\n",
    "        I += (\n",
    "            -4\n",
    "            * params[\"T\"]\n",
    "            * params[\"current_unit\"]\n",
    "            * (np.trace(H21G12) - np.trace(H12G21)).imag\n",
    "        )\n",
    "    return I\n",
    "\n",
    "\n",
    "matsfreqs = 500\n",
    "G_0s = [null_G(syst, params, n) for n in range(matsfreqs)]\n",
    "H12 = hopping(syst, params=params)\n",
    "phases = np.linspace(-np.pi, np.pi, 51)\n",
    "I = [current_from_G_0(G_0s, H12, phase, params) for phase in phases]\n",
    "hv.Curve((phases, I), kdims=[\"phase\"], vdims=[\"$I$\"])"
   ]
  },
  {
   "cell_type": "markdown",
   "metadata": {},
   "source": [
    "# Test 2D system and compare with exact equation"
   ]
  },
  {
   "cell_type": "code",
   "execution_count": null,
   "metadata": {},
   "outputs": [],
   "source": [
    "a = 1\n",
    "\n",
    "syst, hopping = funcs.make_2d_test_system(Y=2 * a, X=2 * a, a=a)\n",
    "kwant.plot(syst)\n",
    "\n",
    "params = dict(\n",
    "    T=0.0001,\n",
    "    hbar=constants.hbar,\n",
    "    m=constants.m_eff,\n",
    "    Delta=0.001,\n",
    "    mu=constants.t * 4 / a**2,\n",
    "    k=constants.k,\n",
    "    current_unit=constants.current_unit,\n",
    "    c=constants.c,\n",
    ")\n",
    "kwant.plotter.bands(syst.leads[1], params=params)\n",
    "\n",
    "# Analytical comparison\n",
    "phases = np.linspace(-np.pi, np.pi, 51)\n",
    "N_modes = 2\n",
    "tanh_part = np.tanh(\n",
    "    params[\"Delta\"]\n",
    "    / (2 * params[\"T\"] * params[\"k\"])\n",
    "    * np.sqrt(1 - np.sin(0.5 * phases) ** 2)\n",
    ")\n",
    "sum_part = np.sin(phases) / np.sqrt(1 - np.sin(0.5 * phases) ** 2)\n",
    "prefactor = (\n",
    "    constants.eV * (params[\"Delta\"] * constants.meV) / (2 * constants.hbar)\n",
    ")  # Delta in J\n",
    "I_analytical = (\n",
    "    prefactor * N_modes * sum_part * tanh_part * 1e9\n",
    ")  # Eq. (35) from arXiv:cond-mat/0406127v2\n",
    "\n",
    "(\n",
    "    plot_CPR(syst, hopping, params, tol=0.001)\n",
    "    * hv.Curve(\n",
    "        (phases, I_analytical),\n",
    "        kdims=[\"phase\"],\n",
    "        vdims=[\"$I$\"],\n",
    "        label=\"Analytical result\",\n",
    "    )\n",
    ")"
   ]
  },
  {
   "cell_type": "markdown",
   "metadata": {},
   "source": [
    "\n",
    "# 3D test system"
   ]
  },
  {
   "cell_type": "code",
   "execution_count": null,
   "metadata": {},
   "outputs": [],
   "source": [
    "sx_ = np.array([[0.0, 1.0], [1.0, 0.0]])\n",
    "sz_ = np.array([[1.0, 0.0], [0.0, -1.0]])\n",
    "\n",
    "onsite = lambda site, mu: -mu * sz_\n",
    "onsite_lead = lambda site, mu, delta: -mu * sz_ + delta * sx_\n",
    "hops = lambda site1, site2, t: -t * sz_\n",
    "\n",
    "\n",
    "def make_test_system(X, Y, Z):\n",
    "    lat = kwant.lattice.general(np.eye(3), norbs=2)\n",
    "    syst = kwant.Builder()\n",
    "    syst[(lat(x, y, z) for x in range(X) for y in range(Y) for z in range(Z))] = onsite\n",
    "    syst[lat.neighbors()] = hops\n",
    "\n",
    "    cuts = get_cuts(syst, lat)\n",
    "    syst = add_vlead(syst, lat, *cuts)\n",
    "\n",
    "    lead = kwant.Builder(kwant.TranslationalSymmetry((-1, 0, 0)))\n",
    "    lead[(lat(0, y, z) for y in range(Y) for z in range(Z))] = onsite_lead\n",
    "    lead[lat.neighbors()] = hops\n",
    "    syst.attach_lead(lead)\n",
    "    syst.attach_lead(lead.reversed())\n",
    "    syst = syst.finalized()\n",
    "\n",
    "    hopping = hopping_between_cuts(syst, *cuts)\n",
    "\n",
    "    return syst, hopping\n",
    "\n",
    "\n",
    "delta = 0.01\n",
    "params = dict(mu=0.0, t=1.0, delta=delta, k=1, current_unit=1, T=delta / 100)\n",
    "syst, hopping = make_test_system(X=3, Y=3, Z=3)\n",
    "kwant.plot(syst)\n",
    "plot_CPR(syst, hopping, params)"
   ]
  },
  {
   "cell_type": "markdown",
   "metadata": {},
   "source": [
    "# 3D system with Discretizer Hamiltonian, squared system"
   ]
  },
  {
   "cell_type": "code",
   "execution_count": null,
   "metadata": {},
   "outputs": [],
   "source": [
    "# Test Hamiltonian\n",
    "syst, hopping = funcs.make_3d_test_system(X=5, Y=3, Z=3, a=1, test_hamiltonian=True)\n",
    "params = dict(T=0.01, Delta=1, mu=2, t=1, k=1, current_unit=1, c=1)\n",
    "kwant.plotter.bands(syst.leads[2], params=params)\n",
    "plot_CPR(syst, hopping, params)"
   ]
  },
  {
   "cell_type": "code",
   "execution_count": null,
   "metadata": {},
   "outputs": [],
   "source": [
    "# Full Hamiltonian\n",
    "syst, hopping = funcs.make_3d_test_system(\n",
    "    X=30, Y=30, Z=30, a=10, test_hamiltonian=False\n",
    ")\n",
    "params = dict(\n",
    "    T=1,\n",
    "    Delta=0.250,\n",
    "    mu=35,\n",
    "    B_x=0,\n",
    "    B_y=0,\n",
    "    B_z=0,\n",
    "    g=0,\n",
    "    alpha=0,\n",
    "    V=lambda x: 0,\n",
    "    **constants.__dict__\n",
    ")\n",
    "kwant.plot(syst)\n",
    "kwant.plotter.bands(syst.leads[2], params=params)\n",
    "plot_CPR(syst, hopping, params)"
   ]
  },
  {
   "cell_type": "markdown",
   "metadata": {},
   "source": [
    "# 3D full wire"
   ]
  },
  {
   "cell_type": "code",
   "execution_count": null,
   "metadata": {},
   "outputs": [],
   "source": [
    "syst_pars = dict(\n",
    "    a=8,\n",
    "    angle=0,\n",
    "    site_disorder=False,\n",
    "    L=80,\n",
    "    L_sc=8,\n",
    "    phi=135,\n",
    "    r1=50,\n",
    "    r2=70,\n",
    "    shape=\"circle\",\n",
    "    with_leads=True,\n",
    "    with_shell=True,\n",
    "    with_vlead=True,\n",
    "    holes=True,\n",
    ")\n",
    "\n",
    "syst, hopping = funcs.make_3d_wire(**syst_pars)\n",
    "\n",
    "kwant.plot(syst)"
   ]
  },
  {
   "cell_type": "code",
   "execution_count": null,
   "metadata": {},
   "outputs": [],
   "source": [
    "params = dict(\n",
    "    alpha=20,\n",
    "    B_x=0,\n",
    "    B_y=0,\n",
    "    B_z=0,\n",
    "    Delta=40,\n",
    "    g=50,\n",
    "    mu=20,\n",
    "    c_tunnel=1,\n",
    "    orbital=True,\n",
    "    V=lambda x: 0,\n",
    "    T=1,\n",
    "    **funcs.constants.__dict__\n",
    ")"
   ]
  },
  {
   "cell_type": "code",
   "execution_count": null,
   "metadata": {},
   "outputs": [],
   "source": [
    "plot_CPR(syst, hopping, params)"
   ]
  },
  {
   "cell_type": "code",
   "execution_count": null,
   "metadata": {},
   "outputs": [],
   "source": []
  }
 ],
 "metadata": {
  "anaconda-cloud": {},
  "kernelspec": {
   "display_name": "Python 3",
   "language": "python",
   "name": "python3"
  },
  "language_info": {
   "codemirror_mode": {
    "name": "ipython",
    "version": 3
   },
   "file_extension": ".py",
   "mimetype": "text/x-python",
   "name": "python",
   "nbconvert_exporter": "python",
   "pygments_lexer": "ipython3",
   "version": "3.6.3"
  }
 },
 "nbformat": 4,
 "nbformat_minor": 1
}
