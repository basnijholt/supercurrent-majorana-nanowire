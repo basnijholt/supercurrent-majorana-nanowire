{
 "cells": [
  {
   "cell_type": "code",
   "execution_count": null,
   "metadata": {
    "collapsed": false
   },
   "outputs": [],
   "source": [
    "from types import SimpleNamespace\n",
    "import numpy as np\n",
    "import holoviews as hv\n",
    "import pandas as pd\n",
    "import xarray as xr\n",
    "hv.notebook_extension()\n",
    "%opts Scatter (color='b') Path [show_legend=True aspect='square'] Layout [show_title=False] Image [aspect='square']\n",
    "pd.set_option('display.max_columns', None)\n",
    "\n",
    "def drop_constant_columns(df):\n",
    "    \"\"\"Taken from http://stackoverflow.com/a/20210048/3447047\"\"\"\n",
    "    return df.loc[:, (df != df.ix[0]).any()]\n",
    "\n",
    "def hm_of_df(fname, ymax=None):\n",
    "    df = pd.read_hdf(fname)\n",
    "    df['(leads, L_sc)'] = [str(t) for t in zip(df.with_leads, df.L_sc)]\n",
    "    df2 = df.drop(['with_leads', 'L_sc', 'phase_c'], axis=1)  # because of line above\n",
    "    df2 = df2.drop(['currents', 'phases', 'git_hash'], axis=1)  # because not hashable\n",
    "    df2 = drop_constant_columns(df2)  # because collumns contain constants\n",
    "    ds = hv.Dataset(df2)\n",
    "    hm = ds.to.curve(kdims='B_x', vdims='current_c', dynamic=True)\n",
    "    hm = hm.redim(current_c=dict(range=(0, ymax)))\n",
    "    return hm"
   ]
  },
  {
   "cell_type": "markdown",
   "metadata": {},
   "source": [
    "# Disorder with wire length $L=640$ nm"
   ]
  },
  {
   "cell_type": "code",
   "execution_count": null,
   "metadata": {
    "collapsed": false
   },
   "outputs": [],
   "source": [
    "# from glob import glob\n",
    "# files = glob('tmp/I_c_B_x_disorder*')\n",
    "# df = pd.concat([pd.read_hdf(f) for f in files])\n",
    "# df = df.sort_values(['salt', 'disorder', 'orbital', 'g', 'alpha', 'mu', 'B_x'])\n",
    "# df = df.reset_index(drop=True)\n",
    "# df.to_hdf('data/current_as_function_of_B_x_with_disorder_with_combinations_of_effects.hdf', 'all_data')\n",
    "\n",
    "hm_of_df('data/current_as_function_of_B_x_with_disorder_with_combinations_of_effects.hdf', 25)"
   ]
  },
  {
   "cell_type": "markdown",
   "metadata": {},
   "source": [
    "# Disorder with wire length $L=1000$ nm"
   ]
  },
  {
   "cell_type": "code",
   "execution_count": null,
   "metadata": {
    "collapsed": false
   },
   "outputs": [],
   "source": [
    "# from glob import glob\n",
    "# files = glob('tmp/I_c_B_x_disorder*')\n",
    "# df = pd.concat([pd.read_hdf(f) for f in files])\n",
    "# df = df.sort_values(['salt', 'disorder', 'orbital', 'g', 'alpha', 'mu', 'B_x'])\n",
    "# df = df.reset_index(drop=True)\n",
    "# df.to_hdf('data/current_as_function_of_B_x_with_disorder_with_combinations_of_effects_new.hdf', 'all_data')\n",
    "\n",
    "hm_of_df('data/current_as_function_of_B_x_with_disorder_with_combinations_of_effects_new.hdf', 19)"
   ]
  },
  {
   "cell_type": "markdown",
   "metadata": {},
   "source": [
    "# All combinations of effects\n",
    "### Different panels are to show that the vector potential in the SC doesn't effect the current much"
   ]
  },
  {
   "cell_type": "code",
   "execution_count": null,
   "metadata": {
    "collapsed": false
   },
   "outputs": [],
   "source": [
    "# For a square\n",
    "hm_of_df('data/all_data_square_A_in_SM.hdf', 140)"
   ]
  },
  {
   "cell_type": "code",
   "execution_count": null,
   "metadata": {
    "collapsed": false,
    "scrolled": false
   },
   "outputs": [],
   "source": [
    "# For a square wire\n",
    "hm_of_df('data/all_data_square_A_in_SM_and_SC.hdf', 140)"
   ]
  },
  {
   "cell_type": "code",
   "execution_count": null,
   "metadata": {
    "collapsed": false
   },
   "outputs": [],
   "source": [
    "ymax = 90\n",
    "(hm_of_df('data/all_data_circular_A_in_SM_incorrect_vector_potential.hdf', ymax) +\n",
    " hm_of_df('data/all_data_circular_A_in_SM.hdf', ymax) +\n",
    " hm_of_df('data/all_data_circular_A_in_SM_and_SC.hdf', ymax))"
   ]
  },
  {
   "cell_type": "markdown",
   "metadata": {},
   "source": [
    "# Gate without disorder"
   ]
  },
  {
   "cell_type": "code",
   "execution_count": null,
   "metadata": {
    "collapsed": false
   },
   "outputs": [],
   "source": [
    "%%opts GridImage [aspect='square']\n",
    "df = pd.read_hdf('data/all_gate_data_current_as_function_of_gate_and_B_x__A_in_SM_and_SC.hdf')\n",
    "da = df.set_index(['gate_size', 'B_x', 'Vs', 'disorder']).to_xarray()\n",
    "ds = hv.Dataset(da)\n",
    "ds.to(hv.GridImage, kdims=['B_x', 'Vs'], vdims=['current_c'])"
   ]
  },
  {
   "cell_type": "code",
   "execution_count": null,
   "metadata": {
    "collapsed": false
   },
   "outputs": [],
   "source": [
    "%%opts GridImage [aspect='square']\n",
    "# incorrect vector potential\n",
    "df = pd.read_hdf('data/all_gate_data_current_as_function_of_gate_and_B_x__A_in_SM_incorrect_vector_potential.hdf')\n",
    "da = df.set_index(['gate_size', 'B_x', 'Vs', 'disorder']).to_xarray()\n",
    "ds = hv.Dataset(da)\n",
    "ds.to(hv.GridImage, kdims=['B_x', 'Vs'], vdims=['current_c'])"
   ]
  },
  {
   "cell_type": "markdown",
   "metadata": {},
   "source": [
    "# gates with disorder\n",
    "* mu: 50 meV, disorder: 20 meV, mfp: 3147 nm\n",
    "* mu: 50 meV, disorder: 50 meV, mfp: 656 nm\n",
    "* mu: 50 meV, disorder: 70 meV, mfp: 357 nm"
   ]
  },
  {
   "cell_type": "code",
   "execution_count": null,
   "metadata": {
    "collapsed": false
   },
   "outputs": [],
   "source": [
    "%%opts GridImage [aspect='square'] {+framewise}\n",
    "\n",
    "# from glob import glob\n",
    "# files = glob('tmp/current_as_function_of_gate_and_B_x__gate_size_*')\n",
    "# df = pd.concat([pd.read_hdf(f) for f in files])\n",
    "# df = df.sort_values(['gate_size', 'B_x', 'V', 'disorder'])\n",
    "# df = df.reset_index(drop=True)\n",
    "# df.to_hdf('data/current_as_function_of_gate_and_B_x_with_disorder.hdf', 'all_data')\n",
    "\n",
    "df = pd.read_hdf('data/current_as_function_of_gate_and_B_x_with_disorder_combined.hdf')\n",
    "da = df.set_index(['gate_size', 'B_x', 'V', 'disorder']).to_xarray()\n",
    "ds = hv.Dataset(da)\n",
    "ds.to(hv.GridImage, kdims=['B_x', 'V'], vdims=['current_c'])"
   ]
  },
  {
   "cell_type": "markdown",
   "metadata": {},
   "source": [
    "# Rotation of field"
   ]
  },
  {
   "cell_type": "code",
   "execution_count": null,
   "metadata": {
    "collapsed": false
   },
   "outputs": [],
   "source": [
    "%%opts Path [aspect='square']\n",
    "to_deg = lambda col: np.round(col * 180 / np.pi, 1).astype(int)\n",
    "\n",
    "df = pd.read_hdf('data/rotation_of_field__L_640_nm__infinite_leads.hdf')\n",
    "df['theta'] = df['theta'].apply(to_deg)\n",
    "df2 = df.drop(['currents', 'phases', 'git_hash'], axis=1)  # because not hashable\n",
    "ds = hv.Dataset(df2)\n",
    "current = ds.to.curve(kdims='B', vdims='current_c', groupby='theta').redim(current_c=dict(range=(0, None)))\n",
    "phase = ds.to.curve(kdims='B', vdims='phase_c', groupby='theta')\n",
    "current + phase"
   ]
  }
 ],
 "metadata": {
  "anaconda-cloud": {},
  "kernelspec": {
   "display_name": "Python 3",
   "language": "python",
   "name": "python3"
  },
  "language_info": {
   "codemirror_mode": {
    "name": "ipython",
    "version": 3
   },
   "file_extension": ".py",
   "mimetype": "text/x-python",
   "name": "python",
   "nbconvert_exporter": "python",
   "pygments_lexer": "ipython3",
   "version": "3.5.2"
  }
 },
 "nbformat": 4,
 "nbformat_minor": 0
}
