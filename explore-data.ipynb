{
 "cells": [
  {
   "cell_type": "markdown",
   "metadata": {},
   "source": [
    "# Download the datafile [here](https://www.dropbox.com/s/0r508fymxtnepuz/all_data.hdf?dl=0) and place in the same folder as this notebook."
   ]
  },
  {
   "cell_type": "markdown",
   "metadata": {},
   "source": [
    "# [and here](https://www.dropbox.com/s/cyaxqukd89sqfe6/all_data_square.hdf?dl=0) for the data with a squared wire"
   ]
  },
  {
   "cell_type": "code",
   "execution_count": null,
   "metadata": {
    "collapsed": false
   },
   "outputs": [],
   "source": [
    "from types import SimpleNamespace\n",
    "import numpy as np\n",
    "import holoviews as hv\n",
    "import pandas as pd\n",
    "hv.notebook_extension()\n",
    "%opts Scatter (color='b') \n",
    "pd.set_option('display.max_columns', None)\n",
    "\n",
    "def dims(df):\n",
    "    return SimpleNamespace(phi=hv.Dimension(r'$\\phi$', unit='rad'),\n",
    "                           phi_c=hv.Dimension(r'$\\phi_c$', unit='rad'),\n",
    "                           I=hv.Dimension('$I$', unit=r'meV / $\\Phi_0$'),\n",
    "                           I_c=hv.Dimension('$I_c$', unit=r'meV / $\\Phi_0$'),\n",
    "                           B=hv.Dimension('$B$', unit='T', values=df['B_x'].unique().tolist()),\n",
    "                           T=hv.Dimension('$T$', unit='K', values=df['T'].unique().tolist()), \n",
    "                           L=hv.Dimension('$L$', unit='nm', values=df['L'].unique().tolist()), \n",
    "                           g=hv.Dimension('$g$-factor', values=df['g'].unique().tolist()), \n",
    "                           alpha=hv.Dimension(r'$\\alpha$', unit='mev nm', values=df['alpha'].unique().tolist()), \n",
    "                           mu=hv.Dimension(r'$\\mu$', unit='meV', values=df['mu'].unique().tolist()), \n",
    "                           a=hv.Dimension('$a$', unit='nm', values=df['a'].unique().tolist()),\n",
    "                           orbital=hv.Dimension('orbital', values=[True, False]),\n",
    "                           leads=hv.Dimension('leads', values=[True, False]),\n",
    "                           zoom=hv.Dimension('zoom', values=[5, 10, 25, 50, 75, 100, 200]))\n",
    "\n",
    "def dynamic_map(fname, title=None):\n",
    "    df = pd.read_hdf(fname)\n",
    "    d = dims(df)\n",
    "#     d.T = hv.Dimension('$T$', unit='K', values=[1])\n",
    "    gb = df.groupby(['T', 'L', 'with_leads', 'orbital', 'g', 'alpha', 'mu', 'a'])\n",
    "    groups = dict(list(gb))\n",
    "\n",
    "    if title is None:\n",
    "        title = fname\n",
    "\n",
    "    def current_curve(T, L, leads, orbital, g, alpha, mu, a, zoom):\n",
    "        gr = groups[(T, L, leads, orbital, g, alpha, mu, a)]\n",
    "        return hv.Path((gr['B_x'], gr['current_c']), kdims=[d.B, d.I_c], label=title)[:, 0:zoom]\n",
    "\n",
    "    def phase_curve(T, L, leads, orbital, g, alpha, mu, a, zoom):\n",
    "        gr = groups[(T, L, leads, orbital, g, alpha, mu, a)]\n",
    "        return hv.Path((gr['B_x'], gr['phase_c']), kdims=[d.B, d.phi_c], label=title)[:, -np.pi:np.pi]\n",
    "\n",
    "    def current_phase(B_x, T, L, leads, orbital, g, alpha, mu, a, zoom):\n",
    "        gr = groups[(T, L, leads, orbital, g, alpha, mu, a)]\n",
    "        gr = gr[gr['B_x'] == B_x]\n",
    "        phases = np.array(gr['phases'])[0]\n",
    "        currents = np.array(gr['currents'])[0]\n",
    "        return (hv.Path((phases, currents), kdims=[d.phi, d.I], label=title)[:, -zoom:zoom] *\n",
    "                hv.Scatter((gr['phase_c'], gr['current_c'])))\n",
    "\n",
    "    kdims = [d.T, d.L, d.leads, d.orbital, d.g, d.alpha, d.mu, d.a, d.zoom]\n",
    "\n",
    "    return (hv.DynamicMap(current_curve, kdims=kdims),\n",
    "            hv.DynamicMap(phase_curve, kdims=kdims),\n",
    "            hv.DynamicMap(current_phase, kdims=[d.B] + kdims))"
   ]
  },
  {
   "cell_type": "markdown",
   "metadata": {},
   "source": [
    "# Critical current and phase, $B_x$ vs $I_c$ and $B_x$ vs $\\phi_c$"
   ]
  },
  {
   "cell_type": "code",
   "execution_count": null,
   "metadata": {
    "collapsed": false
   },
   "outputs": [],
   "source": [
    "circular_A_incorrect = dynamic_map('data/all_data_circular_incorrect_vector_potential.hdf')\n",
    "\n",
    "square_A_in_SM = dynamic_map('data/all_data_square_A_in_SC.hdf', r'$A$ everywhere')\n",
    "square_A_in_SM_and_SC = dynamic_map('data/all_data_square_no_A_in_SC.hdf', r'$A$ only in SM')"
   ]
  },
  {
   "cell_type": "code",
   "execution_count": null,
   "metadata": {
    "collapsed": false,
    "scrolled": false
   },
   "outputs": [],
   "source": [
    "%%opts Path [show_legend=True]\n",
    "\n",
    "square_A_in_SM[0] * square_A_in_SM_and_SC[0] + square_A_in_SM[1] * square_A_in_SM_and_SC[1]"
   ]
  },
  {
   "cell_type": "markdown",
   "metadata": {},
   "source": [
    "# Current phase relation, $\\phi$ vs $I$\n",
    "Adjust `zoom` slider to change the `y`-range of the plot."
   ]
  },
  {
   "cell_type": "code",
   "execution_count": null,
   "metadata": {
    "collapsed": false
   },
   "outputs": [],
   "source": [
    "# hm + currents[key] * hv.HoloMap({B: hv.VLine(B) for B in df['B_x'].unique()}, kdims=[d.B])\n",
    "square_A_in_SM[2] * square_A_in_SM_and_SC[2]"
   ]
  },
  {
   "cell_type": "markdown",
   "metadata": {},
   "source": [
    "# Gate"
   ]
  },
  {
   "cell_type": "code",
   "execution_count": null,
   "metadata": {
    "collapsed": false
   },
   "outputs": [],
   "source": [
    "%%opts Image [colorbar=True aspect='square']\n",
    "df = pd.read_hdf('data/all_gate_data_current_as_function_of_gate_and_B_x.hdf')\n",
    "d = dims(df)\n",
    "d.V = hv.Dimension('$V$', unit='meV')\n",
    "inds = ['gate_size', 'T', 'L', 'with_leads', 'orbital', 'g', 'alpha', 'mu', 'a']\n",
    "kdims = ['gate_size', d.T, d.L, 'infinite leads', 'orbital', d.g, d.alpha, d.mu, d.a]\n",
    "\n",
    "gb = df.groupby(inds)\n",
    "bnds = (df['B_x'].min(), df['Vs'].min(), df['B_x'].max(), df['Vs'].max())\n",
    "gate_sizes = hv.HoloMap({key: hv.Image(np.rot90(val['current_c'].reshape(100, -1)),\n",
    "                                       bounds=bnds, kdims=[d.B, d.V], vdims=[d.I_c])\n",
    "                         for key, val in gb}, kdims=kdims)\n",
    "\n",
    "\n",
    "gate_sizes"
   ]
  },
  {
   "cell_type": "markdown",
   "metadata": {},
   "source": [
    "# Debug"
   ]
  },
  {
   "cell_type": "code",
   "execution_count": null,
   "metadata": {
    "collapsed": false
   },
   "outputs": [],
   "source": [
    "dm1 = hv.DynamicMap(lambda x, y: hv.Curve(np.random.rand(10)), kdims=[hv.Dimension('x', values=[0, 1, 2]), hv.Dimension('y', values=[5, 7])])\n",
    "dm2 = hv.DynamicMap(lambda x, y: hv.Curve(np.random.rand(10)), kdims=[hv.Dimension('x', values=[3]), hv.Dimension('y', values=[5, 7])])\n",
    "dm2 * dm1"
   ]
  }
 ],
 "metadata": {
  "kernelspec": {
   "display_name": "Python 3",
   "language": "python",
   "name": "python3"
  },
  "language_info": {
   "codemirror_mode": {
    "name": "ipython",
    "version": 3
   },
   "file_extension": ".py",
   "mimetype": "text/x-python",
   "name": "python",
   "nbconvert_exporter": "python",
   "pygments_lexer": "ipython3",
   "version": "3.5.2"
  }
 },
 "nbformat": 4,
 "nbformat_minor": 0
}
