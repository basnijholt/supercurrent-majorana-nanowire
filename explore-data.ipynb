{
 "cells": [
  {
   "cell_type": "code",
   "execution_count": null,
   "metadata": {
    "collapsed": false
   },
   "outputs": [],
   "source": [
    "from types import SimpleNamespace\n",
    "import numpy as np\n",
    "import holoviews as hv\n",
    "import pandas as pd\n",
    "hv.notebook_extension()\n",
    "%opts Scatter (color='b') Path [show_legend=True aspect='square'] Layout [show_title=False] Image [aspect='square']\n",
    "pd.set_option('display.max_columns', None)\n",
    "\n",
    "def dims(df):\n",
    "    return SimpleNamespace(phi=hv.Dimension(r'$\\phi$', unit='rad'),\n",
    "                           phi_c=hv.Dimension(r'$\\phi_c$', unit='rad'),\n",
    "                           I=hv.Dimension('$I$', unit=r'meV / $\\Phi_0$'),\n",
    "                           I_c=hv.Dimension('$I_c$', unit=r'meV / $\\Phi_0$'),\n",
    "                           B_x=hv.Dimension('$B_x$', unit='T', values=df['B_x']),\n",
    "                           T=hv.Dimension('$T$', unit='K', values=df['T']), \n",
    "                           L=hv.Dimension('$L$', unit='nm', values=df['L']), \n",
    "                           g=hv.Dimension('$g$-factor', values=df['g']), \n",
    "                           alpha=hv.Dimension(r'$\\alpha$', unit='mev nm', values=df['alpha']), \n",
    "                           mu=hv.Dimension(r'$\\mu$', unit='meV', values=df['mu']), \n",
    "                           a=hv.Dimension('$a$', unit='nm', values=df['a']),\n",
    "                           orbital=hv.Dimension('orbital', values=df['orbital']),\n",
    "                           leads=hv.Dimension('leads', values=df['with_leads']),\n",
    "                           zoom=hv.Dimension('zoom', values=[5, 10, 25, 50, 75, 100, 200]))\n",
    "\n",
    "def dynamic_map(fname, label=None):\n",
    "    df = pd.read_hdf(fname)\n",
    "    d = dims(df)\n",
    "    gb = df.groupby(['T', 'L', 'with_leads', 'orbital', 'g', 'alpha', 'mu', 'a'])\n",
    "    gb2 = df.groupby(['B_x', 'T', 'L', 'with_leads', 'orbital', 'g', 'alpha', 'mu', 'a'])\n",
    "\n",
    "    if label is None:\n",
    "        label = fname\n",
    "\n",
    "    def current_curve(T, L, leads, orbital, g, alpha, mu, a, zoom):\n",
    "        gr = gb.get_group((T, L, leads, orbital, g, alpha, mu, a))\n",
    "        return hv.Path((gr['B_x'], gr['current_c']), kdims=[d.B_x, d.I_c], label=label)[:, 0:zoom]\n",
    "\n",
    "    def phase_curve(T, L, leads, orbital, g, alpha, mu, a, zoom):\n",
    "        gr = gb.get_group((T, L, leads, orbital, g, alpha, mu, a))\n",
    "        return hv.Path((gr['B_x'], gr['phase_c']), kdims=[d.B_x, d.phi_c], label=label)[:, -np.pi:np.pi]\n",
    "\n",
    "    def current_phase(B_x, T, L, leads, orbital, g, alpha, mu, a, zoom):\n",
    "        gr = gb2.get_group((B_x, T, L, leads, orbital, g, alpha, mu, a))\n",
    "        \n",
    "        phases = np.array(gr['phases'])[0]\n",
    "        currents = np.array(gr['currents'])[0]\n",
    "        \n",
    "        return (hv.Path((phases, currents), kdims=[d.phi, d.I], label=label) *\n",
    "                hv.Scatter((gr['phase_c'], gr['current_c'])))[:, -zoom:zoom]\n",
    "\n",
    "    kdims = [d.T, d.L, d.leads, d.orbital, d.g, d.alpha, d.mu, d.a, d.zoom]\n",
    "\n",
    "    return (hv.DynamicMap(current_curve, kdims=kdims),\n",
    "            hv.DynamicMap(phase_curve, kdims=kdims),\n",
    "            hv.DynamicMap(current_phase, kdims=[d.B_x] + kdims))"
   ]
  },
  {
   "cell_type": "markdown",
   "metadata": {},
   "source": [
    "# Critical current and phase, $B_x$ vs $I_c$ and $B_x$ vs $\\phi_c$"
   ]
  },
  {
   "cell_type": "code",
   "execution_count": null,
   "metadata": {
    "collapsed": false
   },
   "outputs": [],
   "source": [
    "# %%opts Layout [show_title=False]\n",
    "# def current_and_phase(fname):\n",
    "#     circular_A_in_SM_phase = dynamicmap_from_df(fname, x='B_x', y='phase_c', \n",
    "#         drops=('currents', 'phases', 'current_c', 'git_hash', 'L_sc'), ylims=(-3, 3))\n",
    "\n",
    "#     circular_A_in_SM_current = dynamicmap_from_df(fname, x='B_x', y='current_c', \n",
    "#         drops=('currents', 'phases', 'phase_c', 'git_hash', 'L_sc'), ylims=(0, None))\n",
    "    \n",
    "#     return [circular_A_in_SM_current, circular_A_in_SM_phase]\n",
    "\n",
    "# x = current_and_phase('data/all_data_circular_A_in_SM_incorrect_vector_potential.hdf')\n",
    "# x[0] + x[1]"
   ]
  },
  {
   "cell_type": "code",
   "execution_count": null,
   "metadata": {
    "collapsed": false
   },
   "outputs": [],
   "source": [
    "circular_A_incorrect = dynamic_map('data/all_data_circular_A_in_SM_incorrect_vector_potential.hdf', label='wrong $A$')\n",
    "circular_A_in_SM = dynamic_map('data/all_data_circular_A_in_SM.hdf', label='$A$ in SM')\n",
    "circular_A_in_SM_and_SC = dynamic_map('data/all_data_circular_A_in_SM_and_SC.hdf', label='correct $A$ in SM and SC')\n",
    "# square_A_in_SM = dynamic_map('data/all_data_square_A_in_SM.hdf')\n",
    "# square_A_in_SM_and_SC = dynamic_map('data/all_data_square_A_in_SM_and_SC.hdf', r'$A$ only in SM')"
   ]
  },
  {
   "cell_type": "code",
   "execution_count": null,
   "metadata": {
    "collapsed": false
   },
   "outputs": [],
   "source": [
    "circular_A_in_SM[0] * circular_A_in_SM_and_SC[0] + circular_A_in_SM[1] * circular_A_in_SM_and_SC[1]"
   ]
  },
  {
   "cell_type": "markdown",
   "metadata": {},
   "source": [
    "# Current phase relation, $\\phi$ vs $I$\n",
    "Adjust `zoom` slider to change the `y`-range of the plot."
   ]
  },
  {
   "cell_type": "code",
   "execution_count": null,
   "metadata": {
    "collapsed": false,
    "scrolled": false
   },
   "outputs": [],
   "source": [
    "# hm + currents[key] * hv.HoloMap({B: hv.VLine(B) for B in df['B_x'].unique()}, kdims=[d.B_x])\n",
    "circular_A_in_SM[2] * circular_A_in_SM_and_SC[2]"
   ]
  },
  {
   "cell_type": "markdown",
   "metadata": {},
   "source": [
    "# Gate"
   ]
  },
  {
   "cell_type": "code",
   "execution_count": null,
   "metadata": {
    "collapsed": false
   },
   "outputs": [],
   "source": [
    "%%opts Image [colorbar=True aspect='square']\n",
    "df = pd.read_hdf('data/all_gate_data_current_as_function_of_gate_and_B_x__A_in_SM_and_SC.hdf')\n",
    "d = dims(df)\n",
    "d.V = hv.Dimension('$V$', unit='meV')\n",
    "inds = ['gate_size', 'T', 'L', 'with_leads', 'orbital', 'g', 'alpha', 'mu', 'a']\n",
    "kdims = ['gate_size', d.T, d.L, 'infinite leads', 'orbital', d.g, d.alpha, d.mu, d.a]\n",
    "\n",
    "gb = df.groupby(inds)\n",
    "bnds = (df['B_x'].min(), df['Vs'].min(), df['B_x'].max(), df['Vs'].max())\n",
    "gate_sizes = hv.HoloMap({key: hv.Image(np.rot90(val['current_c'].reshape(100, -1)),\n",
    "                                       bounds=bnds, kdims=[d.B_x, d.V], vdims=[d.I_c])\n",
    "                         for key, val in gb}, kdims=kdims)\n",
    "\n",
    "\n",
    "gate_sizes"
   ]
  },
  {
   "cell_type": "markdown",
   "metadata": {},
   "source": [
    "# Rotating field"
   ]
  },
  {
   "cell_type": "code",
   "execution_count": null,
   "metadata": {
    "collapsed": false
   },
   "outputs": [],
   "source": [
    "%%opts Path [aspect='square']\n",
    "to_deg = lambda col: (col * 180 / np.pi).round(1).astype(int)\n",
    "\n",
    "df = pd.read_hdf('data/rotation_of_field__L_640_nm__infinite_leads.hdf')\n",
    "df['theta'] = to_deg(df['theta'])\n",
    "gb = df.groupby(['theta'])\n",
    "gb2 = df.groupby(['B', 'theta'])\n",
    "d = dims(df)\n",
    "d.B = hv.Dimension(r'$|B|$', unit='T', values=df['B'])\n",
    "d.theta = hv.Dimension(r'$\\theta$', unit='deg')\n",
    "\n",
    "hm = hv.HoloMap({theta: hv.Path((gr['B'], gr['current_c']), kdims=[d.B, d.I_c]) for theta, gr in gb},\n",
    "                kdims=[d.theta])\n",
    "hm"
   ]
  },
  {
   "cell_type": "code",
   "execution_count": null,
   "metadata": {
    "collapsed": false
   },
   "outputs": [],
   "source": [
    "def current_phase(B, theta, zoom):\n",
    "    gr = gb2.get_group((B, theta))\n",
    "    phases = np.array(gr['phases'])[0]\n",
    "    currents = np.array(gr['currents'])[0]\n",
    "    return (hv.Path((phases, currents), kdims=[d.phi, d.I]) *\n",
    "            hv.Scatter((gr['phase_c'], gr['current_c'])))[:, -zoom:zoom]\n",
    "\n",
    "kdims = [hv.Dimension(r'$\\theta$', unit='deg', values=df['theta']), d.zoom]\n",
    "hv.DynamicMap(current_phase, kdims=[d.B] + kdims)"
   ]
  },
  {
   "cell_type": "markdown",
   "metadata": {},
   "source": [
    "# Curves with disoder"
   ]
  },
  {
   "cell_type": "code",
   "execution_count": null,
   "metadata": {
    "collapsed": false
   },
   "outputs": [],
   "source": [
    "import funcs\n",
    "def dynamicmap_from_df(fname, x, y, z=None, drops=[], xlims=(None, None), ylims=(None, None)):\n",
    "    df = pd.read_hdf(fname)\n",
    "    udf = df.drop([x, y, *drops], axis=1)\n",
    "    if z is not None:\n",
    "        udf = udf.drop([z], axis=1)\n",
    "    udf = funcs.drop_constant_columns(udf)\n",
    "    dims = [hv.Dimension(col, values=udf[col]) for col in udf.columns]\n",
    "    gb = df.groupby(udf.columns.tolist())\n",
    "    if z is None:\n",
    "        def dmap_func(*args):\n",
    "            gr = gb.get_group(args)\n",
    "            return hv.Path((gr[x], gr[y]), kdims=[x, y])[slice(*xlims), slice(*ylims)]\n",
    "    else:\n",
    "        def dmap_func(*args):\n",
    "            gr = gb.get_group(args[0] if len(args) == 1 else args)\n",
    "            table = gr.pivot_table(index=x, columns=y, values=z)\n",
    "            extents = gr[x].min(), gr[y].min(), gr[x].max(), gr[y].max()\n",
    "            return hv.Image(np.rot90(table), kdims=[x, y], bounds=extents)\n",
    "\n",
    "    return hv.DynamicMap(dmap_func, kdims=dims)"
   ]
  },
  {
   "cell_type": "code",
   "execution_count": null,
   "metadata": {
    "collapsed": false
   },
   "outputs": [],
   "source": [
    "# from glob import glob\n",
    "# files = glob('tmp/I_c_B_x_disorder*')\n",
    "# df = pd.concat([pd.read_hdf(f) for f in files])\n",
    "# df = df.sort_values(['salt', 'disorder', 'orbital', 'g', 'alpha', 'mu', 'B_x'])\n",
    "# df = df.reset_index(drop=True)\n",
    "# df.to_hdf('data/current_as_function_of_B_x_with_disorder_with_combinations_of_effects.hdf', 'all_data')\n",
    "\n",
    "fname = 'data/current_as_function_of_B_x_with_disorder_with_combinations_of_effects.hdf'\n",
    "\n",
    "phase = dynamicmap_from_df(fname, x='B_x', y='current_c',\n",
    "                   drops=('currents', 'phases', 'phase_c'), ylims=(0, None))\n",
    "\n",
    "current = dynamicmap_from_df(fname, x='B_x', y='phase_c', \n",
    "                   drops=('currents', 'phases', 'current_c'), ylims=(-3, 3))\n",
    "\n",
    "phase + current"
   ]
  },
  {
   "cell_type": "markdown",
   "metadata": {},
   "source": [
    "# Gate"
   ]
  },
  {
   "cell_type": "code",
   "execution_count": null,
   "metadata": {
    "collapsed": false
   },
   "outputs": [],
   "source": [
    "dynamicmap_from_df(\n",
    "    'data/all_gate_data_current_as_function_of_gate_and_B_x__A_in_SM_and_SC.hdf',\n",
    "    x='B_x', y='Vs', z='current_c', drops=('currents', 'phases', 'phase_c'))"
   ]
  },
  {
   "cell_type": "markdown",
   "metadata": {},
   "source": [
    "# gates with disorder\n",
    "* mu: 50 meV, disorder: 20 meV, mfp: 3147 nm\n",
    "* mu: 50 meV, disorder: 50 meV, mfp: 656 nm\n",
    "* mu: 50 meV, disorder: 70 meV, mfp: 357 nm"
   ]
  },
  {
   "cell_type": "code",
   "execution_count": null,
   "metadata": {
    "collapsed": false
   },
   "outputs": [],
   "source": [
    "# from glob import glob\n",
    "# files = glob('tmp/current_as_function_of_gate_and_B_x__gate_size_*')\n",
    "# df = pd.concat([pd.read_hdf(f) for f in files])\n",
    "# df = df.sort_values(['gate_size', 'B_x', 'V', 'disorder'])\n",
    "# df = df.reset_index(drop=True)\n",
    "# df.to_hdf('data/current_as_function_of_gate_and_B_x_with_disorder.hdf', 'all_data')\n",
    "\n",
    "dynamicmap_from_df(\n",
    "    'data/current_as_function_of_gate_and_B_x_with_disorder_combined.hdf', x='B_x', y='V', z='current_c',\n",
    "                   drops=('currents', 'phases', 'phase_c', 'git_hash'))"
   ]
  }
 ],
 "metadata": {
  "anaconda-cloud": {},
  "kernelspec": {
   "display_name": "Python [conda env:python3]",
   "language": "python",
   "name": "conda-env-python3-py"
  },
  "language_info": {
   "codemirror_mode": {
    "name": "ipython",
    "version": 3
   },
   "file_extension": ".py",
   "mimetype": "text/x-python",
   "name": "python",
   "nbconvert_exporter": "python",
   "pygments_lexer": "ipython3",
   "version": "3.5.2"
  }
 },
 "nbformat": 4,
 "nbformat_minor": 0
}
