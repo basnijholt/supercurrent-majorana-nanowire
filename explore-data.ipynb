{
 "cells": [
  {
   "cell_type": "markdown",
   "metadata": {},
   "source": [
    "# Explore the generated data\n",
    "Here we explore the data that is generated with the [generate-data.ipynb](generate-data.ipynb) notebook.\n",
    "You can either run the simulations or download the data set. See [README.md](README.md) for the download link and instructions.\n",
    "\n",
    "### Joining the seperate data files of one simulation together, example:\n",
    "```python\n",
    "# for example if the generated files have the following names:\n",
    "# 'tmp/1d_alpha_vs_B_x_000.hdf',\n",
    "# 'tmp/1d_alpha_vs_B_x_001.hdf', \n",
    "# 'tmp/1d_alpha_vs_B_x_002.hdf', ...\n",
    "# The following line with join the files and save it as 'data/new_name.hdf'.\n",
    "df = common.combine_dfs('tmp/1d_alpha_vs_B_x_*.hdf', 'data/new_name.hdf')\n",
    "```"
   ]
  },
  {
   "cell_type": "code",
   "execution_count": null,
   "metadata": {},
   "outputs": [],
   "source": [
    "import holoviews as hv\n",
    "import numpy as np\n",
    "import pandas as pd\n",
    "import common\n",
    "hv.notebook_extension()\n",
    "\n",
    "def add_energy_gs(df):\n",
    "    hbar = df.hbar.unique()[0]\n",
    "    eV = df.eV.unique()[0]\n",
    "    flux_quantum_over_2pi =  hbar / (2 * eV) / (eV * 1e6)\n",
    "    df['E'] = df['currents'].apply(np.cumsum)\n",
    "    df['E'] *= flux_quantum_over_2pi\n",
    "    df['phase_gs_arg'] = df['E'].apply(np.argmin)\n",
    "    df['phase_gs'] = [row['phases'][row['phase_gs_arg']] for i, row in df.iterrows()]\n",
    "\n",
    "    # Move the phase_gs from -π to +π if they are within the tolerance\n",
    "    tol = np.diff(df['phases'].iloc[0]).max()\n",
    "    df['phase_gs'] = [-row['phase_gs'] if row['phase_gs'] < -(np.pi - tol) else row['phase_gs'] \n",
    "                      for i, row in df.iterrows()]\n",
    "    return df"
   ]
  },
  {
   "cell_type": "markdown",
   "metadata": {},
   "source": [
    "# Data like Figure 4 but with all combinations"
   ]
  },
  {
   "cell_type": "code",
   "execution_count": null,
   "metadata": {},
   "outputs": [],
   "source": [
    "df = pd.read_hdf('data/I_c(B_x)_mu10,20meV_disorder0,75meV_T0.1K_all_combinations_of_effects.hdf')\n",
    "df = add_energy_gs(df)\n",
    "params = ['orbital', 'g', 'alpha', 'mu', 'disorder', 'salt']\n",
    "gb = df.groupby(params)"
   ]
  },
  {
   "cell_type": "code",
   "execution_count": null,
   "metadata": {
    "scrolled": false
   },
   "outputs": [],
   "source": [
    "%%opts Curve (color='k') Scatter (s=200)\n",
    "\n",
    "def plot(orbital, g, alpha, mu, disorder, salt, B_x):\n",
    "    gr = gb.get_group((orbital, g, alpha, mu, disorder, salt))\n",
    "    gr = gr.set_index('B_x', drop=False)\n",
    "    x = gr.loc[B_x]\n",
    "    current = hv.Curve((gr.B_x, gr.current_c), kdims=['B_x'], vdims=['I_c'])[:, 0:]\n",
    "    phase_gs = hv.Curve((gr.B_x, gr.phase_gs), kdims=['B_x'], vdims=['theta_gs'])[:, -3.2:3.2]\n",
    "    cpr = hv.Curve((x.phases, x.currents), kdims=['phi'], vdims=['I'])\n",
    "    energy = hv.Curve((x.phases, x.E), kdims=['phi'], vdims=['I'])\n",
    "    E_min = hv.Scatter((x.phase_gs, x.E[x.phase_gs_arg]), kdims=['phi'], vdims=['E'])\n",
    "    VLine = hv.VLine(B_x)\n",
    "    return (current * VLine + phase_gs * VLine + cpr + energy * E_min).cols(2)\n",
    "\n",
    "kdims = [hv.Dimension('orbital', values=df.orbital.unique()), \n",
    "         hv.Dimension('g', values=df.g.unique()), \n",
    "         hv.Dimension('alpha', values=df.alpha.unique()), \n",
    "         hv.Dimension('mu', values=df.mu.unique()), \n",
    "         hv.Dimension('disorder', values=df.disorder.unique()), \n",
    "         hv.Dimension('salt', values=df.salt.unique()), \n",
    "         hv.Dimension('B_x', values=df.B_x.unique())]\n",
    "\n",
    "hv.DynamicMap(plot, kdims=kdims)"
   ]
  },
  {
   "cell_type": "markdown",
   "metadata": {},
   "source": [
    "# Different $T$, with or without leads, different lenghts of the system"
   ]
  },
  {
   "cell_type": "code",
   "execution_count": null,
   "metadata": {},
   "outputs": [],
   "source": [
    "df2 = pd.read_hdf('data/I_c(B_x)_no_disorder_combinations_of_effects_and_geometries.hdf')\n",
    "df2 = add_energy_gs(df2)\n",
    "params = ['T', 'L', 'orbital', 'g', 'alpha', 'mu', 'with_leads']\n",
    "gb = df2.groupby(params)"
   ]
  },
  {
   "cell_type": "code",
   "execution_count": null,
   "metadata": {
    "scrolled": false
   },
   "outputs": [],
   "source": [
    "%%opts Curve (color='k') Scatter (s=200)\n",
    "\n",
    "def plot(T, L, orbital, g, alpha, mu, with_leads, B_x):\n",
    "    gr = gb.get_group((T, L, orbital, g, alpha, mu, with_leads))\n",
    "    gr = gr.set_index('B_x', drop=False)\n",
    "    x = gr.loc[B_x]\n",
    "    current = hv.Curve((gr.B_x, gr.current_c), kdims=['B_x'], vdims=['I_c'])[:, 0:]\n",
    "    phase_gs = hv.Curve((gr.B_x, gr.phase_gs), kdims=['B_x'], vdims=['theta_gs'])[:, -3.2:3.2]\n",
    "    cpr = hv.Curve((x.phases, x.currents), kdims=['phi'], vdims=['I'])\n",
    "    energy = hv.Curve((x.phases, x.E), kdims=['phi'], vdims=['E'])\n",
    "    E_min = hv.Scatter((x.phase_gs, x.E[x.phase_gs_arg]), kdims=['phi'], vdims=['E'])\n",
    "    VLine = hv.VLine(B_x)\n",
    "    return (current * VLine + phase_gs * VLine + cpr + energy * E_min).cols(2)\n",
    "\n",
    "kdims = [hv.Dimension('T', values=df2['T'].unique()), \n",
    "         hv.Dimension('L', values=df2.L.unique()), \n",
    "         hv.Dimension('orbital', values=df2.orbital.unique()), \n",
    "         hv.Dimension('g', values=df2.g.unique()), \n",
    "         hv.Dimension('alpha', values=df2.alpha.unique()), \n",
    "         hv.Dimension('mu', values=df2.mu.unique()), \n",
    "         hv.Dimension('with_leads', values=df2.with_leads.unique()),\n",
    "         hv.Dimension('B_x', values=df2.B_x.unique())]\n",
    "\n",
    "dm = hv.DynamicMap(plot, kdims=kdims)\n",
    "dm"
   ]
  },
  {
   "cell_type": "code",
   "execution_count": null,
   "metadata": {},
   "outputs": [],
   "source": [
    "ds = hv.Dataset(df2)\n",
    "ds.to.curve(['B_x'], ['current_c'], groupby=params, dynamic=True).overlay('L').select(B=(0, 0.5))"
   ]
  },
  {
   "cell_type": "code",
   "execution_count": null,
   "metadata": {},
   "outputs": [],
   "source": [
    "params = ['T', 'B_x', 'orbital', 'g', 'alpha', 'mu', 'with_leads']\n",
    "curve = ds.to.curve(['L'], ['current_c'], groupby=params, dynamic=True)\n",
    "curve.redim(current_c=dict(range=(0, None)))"
   ]
  },
  {
   "cell_type": "markdown",
   "metadata": {},
   "source": [
    "# Rotation of field"
   ]
  },
  {
   "cell_type": "code",
   "execution_count": null,
   "metadata": {},
   "outputs": [],
   "source": [
    "%%opts Path [aspect='square']\n",
    "df = pd.read_hdf('data/I_c(B_x)_mu20meV_rotation_of_field_in_xy_plane.hdf')\n",
    "df = add_energy_gs(df)\n",
    "df2 = common.drop_constant_columns(df)\n",
    "ds = hv.Dataset(df2)\n",
    "current = ds.to.curve(kdims='B', vdims='current_c', groupby=['theta', 'disorder']).redim(current_c=dict(range=(0, None)))\n",
    "phase = ds.to.curve(kdims='B', vdims='phase_gs', groupby=['theta', 'disorder'])\n",
    "current + phase"
   ]
  }
 ],
 "metadata": {
  "kernelspec": {
   "display_name": "Python 3",
   "language": "python",
   "name": "python3"
  },
  "language_info": {
   "codemirror_mode": {
    "name": "ipython",
    "version": 3
   },
   "file_extension": ".py",
   "mimetype": "text/x-python",
   "name": "python",
   "nbconvert_exporter": "python",
   "pygments_lexer": "ipython3",
   "version": "3.6.3"
  }
 },
 "nbformat": 4,
 "nbformat_minor": 2
}
