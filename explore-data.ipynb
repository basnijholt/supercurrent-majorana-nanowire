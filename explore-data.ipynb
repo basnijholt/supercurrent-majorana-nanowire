{
 "cells": [
  {
   "cell_type": "code",
   "execution_count": null,
   "metadata": {
    "collapsed": false,
    "extensions": {
     "jupyter_dashboards": {
      "version": 1,
      "views": {
       "grid_default": {
        "col": 0,
        "height": 4,
        "hidden": false,
        "row": 0,
        "width": 4
       },
       "report_default": {}
      }
     }
    }
   },
   "outputs": [],
   "source": [
    "from types import SimpleNamespace\n",
    "import numpy as np\n",
    "import holoviews as hv\n",
    "from holoviews.util import Dynamic\n",
    "import pandas as pd\n",
    "import xarray as xr\n",
    "hv.notebook_extension()\n",
    "%opts Scatter (color='b') Path [show_legend=True aspect='square'] Layout [show_title=False] Image [aspect='square']\n",
    "pd.set_option('display.max_columns', None)\n",
    "\n",
    "def drop_constant_columns(df):\n",
    "    \"\"\"Taken from http://stackoverflow.com/a/20210048/3447047\"\"\"\n",
    "    return df.loc[:, (df != df.ix[0]).any()]\n",
    "\n",
    "def hm_of_df(fname, ymax=None):\n",
    "    df = pd.read_hdf(fname)\n",
    "    df['(leads, L_sc)'] = [str(t) for t in zip(df.with_leads, df.L_sc)]\n",
    "    df2 = df.drop(['with_leads', 'L_sc', 'phase_c'], axis=1)  # because of line above\n",
    "    df2 = df2.drop(['currents', 'phases', 'git_hash'], axis=1)  # because not hashable\n",
    "    df2 = drop_constant_columns(df2)  # because collumns contain constants\n",
    "    ds = hv.Dataset(df2)\n",
    "    hm = ds.to.curve(kdims='B_x', vdims='current_c', dynamic=True)\n",
    "    hm = hm.redim(current_c=dict(range=(0, ymax)))\n",
    "    return hm"
   ]
  },
  {
   "cell_type": "markdown",
   "metadata": {
    "extensions": {
     "jupyter_dashboards": {
      "version": 1,
      "views": {
       "grid_default": {
        "col": 4,
        "height": 4,
        "hidden": false,
        "row": 0,
        "width": null
       },
       "report_default": {}
      }
     }
    }
   },
   "source": [
    "# Disorder with wire length $L=640$ nm"
   ]
  },
  {
   "cell_type": "code",
   "execution_count": null,
   "metadata": {
    "collapsed": false,
    "extensions": {
     "jupyter_dashboards": {
      "version": 1,
      "views": {
       "grid_default": {
        "col": 0,
        "height": 17,
        "hidden": false,
        "row": 4,
        "width": 4
       },
       "report_default": {}
      }
     }
    }
   },
   "outputs": [],
   "source": [
    "# from glob import glob\n",
    "# files = glob('tmp/I_c_B_x_disorder*')\n",
    "# df = pd.concat([pd.read_hdf(f) for f in files])\n",
    "# df = df.sort_values(['salt', 'disorder', 'orbital', 'g', 'alpha', 'mu', 'B_x'])\n",
    "# df = df.reset_index(drop=True)\n",
    "# df.to_hdf('data/I_c(B_x)_mu10,50meV_disorder0,10,20,30,40,50,60,70,80,90,100,110meV_combinations_of_effects.hdf', 'all_data')\n",
    "\n",
    "hm_of_df('data/I_c(B_x)_mu10,50meV_disorder0,10,20,30,40,50,60,70,80,90,100,110meV_combinations_of_effects.hdf', None)"
   ]
  },
  {
   "cell_type": "markdown",
   "metadata": {
    "extensions": {
     "jupyter_dashboards": {
      "version": 1,
      "views": {
       "grid_default": {
        "col": 4,
        "height": 4,
        "hidden": false,
        "row": 4,
        "width": null
       },
       "report_default": {}
      }
     }
    }
   },
   "source": [
    "# Disorder with wire length $L=1000$ nm"
   ]
  },
  {
   "cell_type": "code",
   "execution_count": null,
   "metadata": {
    "collapsed": false,
    "extensions": {
     "jupyter_dashboards": {
      "version": 1,
      "views": {
       "grid_default": {
        "col": 4,
        "height": 15,
        "hidden": false,
        "row": 8,
        "width": 4
       },
       "report_default": {}
      }
     }
    }
   },
   "outputs": [],
   "source": [
    "# from glob import glob\n",
    "# files = glob('tmp/I_c_B_x_disorder*')\n",
    "# df = pd.concat([pd.read_hdf(f) for f in files])\n",
    "# df = df.sort_values(['salt', 'disorder', 'orbital', 'g', 'alpha', 'mu', 'B_x'])\n",
    "# df = df.reset_index(drop=True)\n",
    "# df.to_hdf('data/I_c(B_x)_mu10,15,20,25,30,35,45,50meV_disorder0,10,20,30,40,50,60,70,80,90,100,110meV_L1000nm_combinations_of_effects.hdf', 'all_data')\n",
    "\n",
    "hm = hm_of_df('data/I_c(B_x)_mu10,15,20,25,30,35,45,50meV_disorder0,10,20,30,40,50,60,70,80,90,100,110meV_L1000nm_combinations_of_effects.hdf')\n",
    "hm"
   ]
  },
  {
   "cell_type": "markdown",
   "metadata": {
    "extensions": {
     "jupyter_dashboards": {
      "version": 1,
      "views": {
       "grid_default": {
        "col": 8,
        "height": 4,
        "hidden": false,
        "row": 8,
        "width": 4
       },
       "report_default": {}
      }
     }
    }
   },
   "source": [
    "# Data until 2T"
   ]
  },
  {
   "cell_type": "code",
   "execution_count": null,
   "metadata": {
    "collapsed": false,
    "extensions": {
     "jupyter_dashboards": {
      "version": 1,
      "views": {
       "grid_default": {
        "col": 8,
        "height": 12,
        "hidden": false,
        "row": 12,
        "width": 4
       },
       "report_default": {}
      }
     }
    }
   },
   "outputs": [],
   "source": [
    "# from glob import glob\n",
    "# files = glob('tmp/I_c_B_x_no_disorder*')\n",
    "# df = pd.concat([pd.read_hdf(f) for f in files])\n",
    "# df = df.sort_values(['T', 'L', 'orbital', 'g', 'alpha', 'mu', 'with_leads', 'L_sc', 'B_x'])\n",
    "# df = df.reset_index(drop=True)\n",
    "# df.to_hdf('data/I_c(B_x)_mu10,20,30,40,50meV_combinations_of_effects_till_2T.hdf', 'all_data')\n",
    "hm = hm_of_df('data/I_c(B_x)_mu10,20,30,40,50meV_combinations_of_effects_till_2T.hdf')\n",
    "hm"
   ]
  },
  {
   "cell_type": "code",
   "execution_count": null,
   "metadata": {
    "collapsed": false,
    "extensions": {
     "jupyter_dashboards": {
      "version": 1,
      "views": {
       "grid_default": {
        "col": 0,
        "height": 5,
        "hidden": false,
        "row": 21,
        "width": 4
       },
       "report_default": {}
      }
     }
    },
    "scrolled": false
   },
   "outputs": [],
   "source": [
    "hm2 = hm.overlay(['mu'])\n",
    "hm2.layout()"
   ]
  },
  {
   "cell_type": "markdown",
   "metadata": {
    "extensions": {
     "jupyter_dashboards": {
      "version": 1,
      "views": {
       "grid_default": {
        "col": 0,
        "height": 4,
        "hidden": false,
        "row": 26,
        "width": 12
       },
       "report_default": {}
      }
     }
    }
   },
   "source": [
    "# All combinations of effects\n",
    "### Different panels are to show that the vector potential in the SC doesn't effect the current much"
   ]
  },
  {
   "cell_type": "code",
   "execution_count": null,
   "metadata": {
    "collapsed": false,
    "extensions": {
     "jupyter_dashboards": {
      "version": 1,
      "views": {
       "grid_default": {
        "col": 0,
        "height": 20,
        "hidden": false,
        "row": 30,
        "width": 4
       },
       "report_default": {}
      }
     }
    }
   },
   "outputs": [],
   "source": [
    "# For a square\n",
    "hm_of_df('data/all_data_square_A_in_SM.hdf', 140)"
   ]
  },
  {
   "cell_type": "code",
   "execution_count": null,
   "metadata": {
    "collapsed": false,
    "extensions": {
     "jupyter_dashboards": {
      "version": 1,
      "views": {
       "grid_default": {
        "col": 4,
        "height": 18,
        "hidden": false,
        "row": 30,
        "width": 4
       },
       "report_default": {}
      }
     }
    },
    "scrolled": false
   },
   "outputs": [],
   "source": [
    "# For a square wire\n",
    "hm_of_df('data/all_data_square_A_in_SM_and_SC.hdf', 140)"
   ]
  },
  {
   "cell_type": "code",
   "execution_count": null,
   "metadata": {
    "collapsed": false,
    "extensions": {
     "jupyter_dashboards": {
      "version": 1,
      "views": {
       "grid_default": {
        "col": 8,
        "height": 20,
        "hidden": false,
        "row": 30,
        "width": 4
       },
       "report_default": {}
      }
     }
    }
   },
   "outputs": [],
   "source": [
    "ymax = 90\n",
    "(hm_of_df('data/all_data_circular_A_in_SM_incorrect_vector_potential.hdf', ymax) +\n",
    " hm_of_df('data/all_data_circular_A_in_SM.hdf', ymax) +\n",
    " hm_of_df('data/all_data_circular_A_in_SM_and_SC.hdf', ymax))"
   ]
  },
  {
   "cell_type": "markdown",
   "metadata": {
    "extensions": {
     "jupyter_dashboards": {
      "version": 1,
      "views": {
       "grid_default": {
        "col": 4,
        "height": 4,
        "hidden": false,
        "row": 48,
        "width": 4
       },
       "report_default": {}
      }
     }
    }
   },
   "source": [
    "# Gate without disorder"
   ]
  },
  {
   "cell_type": "code",
   "execution_count": null,
   "metadata": {
    "collapsed": false,
    "extensions": {
     "jupyter_dashboards": {
      "version": 1,
      "views": {
       "grid_default": {
        "col": 0,
        "height": 7,
        "hidden": false,
        "row": 50,
        "width": 4
       },
       "report_default": {}
      }
     }
    }
   },
   "outputs": [],
   "source": [
    "%%opts GridImage [aspect='square']\n",
    "df = pd.read_hdf('data/50meV/I_c(B_x,_V)_mu50meV_gate_size80,160,320,640nm.hdf')\n",
    "da = df.set_index(['gate_size', 'B_x', 'Vs', 'disorder']).to_xarray()\n",
    "ds = hv.Dataset(da)\n",
    "ds.to(hv.GridImage, kdims=['B_x', 'Vs'], vdims=['current_c'])"
   ]
  },
  {
   "cell_type": "code",
   "execution_count": null,
   "metadata": {
    "collapsed": false,
    "extensions": {
     "jupyter_dashboards": {
      "version": 1,
      "views": {
       "grid_default": {
        "col": 8,
        "height": 7,
        "hidden": false,
        "row": 50,
        "width": 4
       },
       "report_default": {}
      }
     }
    }
   },
   "outputs": [],
   "source": [
    "%%opts GridImage [aspect='square']\n",
    "# incorrect vector potential\n",
    "df = pd.read_hdf('data/50meV/I_c(B_x,_V)_mu50meV_gate_size80,160,320,640nm__A_in_SM_incorrect_vector_potential.hdf')\n",
    "da = df.set_index(['gate_size', 'B_x', 'Vs', 'disorder']).to_xarray()\n",
    "ds = hv.Dataset(da)\n",
    "ds.to(hv.GridImage, kdims=['B_x', 'Vs'], vdims=['current_c'])"
   ]
  },
  {
   "cell_type": "markdown",
   "metadata": {
    "extensions": {
     "jupyter_dashboards": {
      "version": 1,
      "views": {
       "grid_default": {
        "col": 0,
        "height": 5,
        "hidden": false,
        "row": 57,
        "width": 12
       },
       "report_default": {}
      }
     }
    }
   },
   "source": [
    "# gates with disorder\n",
    "* mu: 50 meV, disorder: 20 meV, mfp: 3147 nm\n",
    "* mu: 50 meV, disorder: 50 meV, mfp: 656 nm\n",
    "* mu: 50 meV, disorder: 70 meV, mfp: 357 nm"
   ]
  },
  {
   "cell_type": "code",
   "execution_count": null,
   "metadata": {
    "collapsed": false,
    "extensions": {
     "jupyter_dashboards": {
      "version": 1,
      "views": {
       "grid_default": {
        "col": 0,
        "height": 7,
        "hidden": false,
        "row": 62,
        "width": 4
       },
       "report_default": {}
      }
     }
    }
   },
   "outputs": [],
   "source": [
    "%%opts GridImage [aspect='square'] {+framewise}\n",
    "\n",
    "# from glob import glob\n",
    "# files = glob('tmp/current_as_function_of_gate_and_B_x__gate_size_*')\n",
    "# df = pd.concat([pd.read_hdf(f) for f in files])\n",
    "# df = df.sort_values(['gate_size', 'B_x', 'V', 'disorder'])\n",
    "# df = df.reset_index(drop=True)\n",
    "# df.to_hdf('data/50meV/I_c(B_x)_mu50meV_disorder20,50,70,100meV_gate_size80,160,320,640nm.hdf', 'all_data')\n",
    "\n",
    "df = pd.read_hdf('data/50meV/I_c(B_x)_mu50meV_disorder20,50,70,100meV_gate_size80,160,320,640nm.hdf')\n",
    "da = df.set_index(['gate_size', 'B_x', 'V', 'disorder']).to_xarray()\n",
    "ds = hv.Dataset(da)\n",
    "ds.to(hv.GridImage, kdims=['B_x', 'V'], vdims=['current_c'])"
   ]
  },
  {
   "cell_type": "markdown",
   "metadata": {
    "extensions": {
     "jupyter_dashboards": {
      "version": 1,
      "views": {
       "grid_default": {
        "col": 4,
        "height": 4,
        "hidden": false,
        "row": 62,
        "width": null
       },
       "report_default": {}
      }
     }
    }
   },
   "source": [
    "# Gate with $\\mu=25$ meV"
   ]
  },
  {
   "cell_type": "code",
   "execution_count": null,
   "metadata": {
    "collapsed": false,
    "extensions": {
     "jupyter_dashboards": {
      "version": 1,
      "views": {
       "grid_default": {
        "col": 4,
        "height": 7,
        "hidden": false,
        "row": 66,
        "width": 4
       },
       "report_default": {}
      }
     }
    }
   },
   "outputs": [],
   "source": [
    "%%opts GridImage [aspect='square'] {+framewise}\n",
    "# from glob import glob\n",
    "# files = glob('tmp/current_as_function_of_gate_and_B_x_with_disorder_mu25meV_*_hpc05*')\n",
    "# df = pd.concat([pd.read_hdf(f) for f in files])\n",
    "# df = df.sort_values(['gate_size', 'B_x', 'V', 'disorder'])\n",
    "# df = df.reset_index(drop=True)\n",
    "# df.to_hdf('data/25meV/I_c(B_x,_V)_mu25meV_disorder0,100meV_gate_size80,160,320,640nm.hdf', 'all_data')\n",
    "df = pd.read_hdf('data/25meV/I_c(B_x,_V)_mu25meV_disorder0,100meV_gate_size80,160,320,640nm.hdf')\n",
    "da = df.set_index(['gate_size', 'B_x', 'V', 'disorder']).to_xarray()\n",
    "ds = hv.Dataset(da)\n",
    "ds.to(hv.GridImage, kdims=['B_x', 'V'], vdims=['current_c'])"
   ]
  },
  {
   "cell_type": "code",
   "execution_count": null,
   "metadata": {
    "collapsed": false
   },
   "outputs": [],
   "source": [
    "%%opts GridImage [aspect='square'] {+framewise}\n",
    "\n",
    "# from glob import glob\n",
    "# files = glob('tmp/current_as_function_of_gate_and_B_x_with_disorder_mu25meV_70_disorder_*')\n",
    "# df = pd.concat([pd.read_hdf(f) for f in files])\n",
    "# df = df.sort_values(['gate_size', 'B_x', 'V', 'disorder'])\n",
    "# df = df.reset_index(drop=True)\n",
    "# df.to_hdf('data/25meV/I_c(B_x,_V)_mu25meV_disorder70meV.hdf', 'all_data')\n",
    "df = pd.read_hdf('data/25meV/I_c(B_x,_V)_mu25meV_disorder70meV.hdf')\n",
    "da = df.set_index(['gate_size', 'B_x', 'V', 'disorder']).to_xarray()\n",
    "ds = hv.Dataset(da)\n",
    "ds.to(hv.GridImage, kdims=['B_x', 'V'], vdims=['current_c'])"
   ]
  },
  {
   "cell_type": "markdown",
   "metadata": {},
   "source": [
    "# Gate with $\\mu = 30$ meV"
   ]
  },
  {
   "cell_type": "code",
   "execution_count": null,
   "metadata": {
    "collapsed": false
   },
   "outputs": [],
   "source": [
    "%%opts GridImage [aspect='square'] {+framewise}\n",
    "\n",
    "# from glob import glob\n",
    "# files = glob('tmp/current_as_function_of_gate_and_B_x_with_and_without_disorder_mu30meV*.h5')\n",
    "# df = pd.concat([pd.read_hdf(f) for f in files])\n",
    "# df = df.sort_values(['gate_size', 'B_x', 'V', 'disorder'])\n",
    "# df = df.reset_index(drop=True)\n",
    "# df.to_hdf('data/current_as_function_of_gate_and_B_x_with_and_without_disorder_mu30meV.hdf', 'all_data')\n",
    "\n",
    "df = pd.read_hdf('data/I_c(B_x,_V)_mu30meV_disorder0,80meV.hdf')\n",
    "da = df.set_index(['gate_size', 'B_x', 'V', 'disorder']).to_xarray()\n",
    "ds = hv.Dataset(da)\n",
    "ds.to(hv.GridImage, kdims=['B_x', 'V'], vdims=['current_c'])"
   ]
  },
  {
   "cell_type": "code",
   "execution_count": null,
   "metadata": {
    "collapsed": false
   },
   "outputs": [],
   "source": [
    "%%opts GridImage [aspect='square'] {+framewise}\n",
    "\n",
    "# from glob import glob\n",
    "# files = glob('tmp/current_as_function_of_gate_and_B_x_with_and_without_disorder_mu30meV_zoomin*.h5')\n",
    "# df = pd.concat([pd.read_hdf(f) for f in files])\n",
    "# df = df.sort_values(['gate_size', 'B_x', 'V', 'disorder'])\n",
    "# df = df.reset_index(drop=True)\n",
    "# df.to_hdf('data/current_as_function_of_gate_and_B_x_with_and_without_disorder_mu30meV_zoomin.hdf', 'all_data')\n",
    "\n",
    "df = pd.read_hdf('data/I_c(B_x,_V)_mu30meV_disorder0,80meV_zoomin.hdf')\n",
    "da = df.set_index(['gate_size', 'B_x', 'V', 'disorder']).to_xarray()\n",
    "ds = hv.Dataset(da)\n",
    "ds.to(hv.GridImage, kdims=['B_x', 'V'], vdims=['current_c'])"
   ]
  },
  {
   "cell_type": "markdown",
   "metadata": {
    "extensions": {
     "jupyter_dashboards": {
      "version": 1,
      "views": {
       "grid_default": {
        "col": 4,
        "height": 4,
        "hidden": false,
        "row": 52,
        "width": 4
       },
       "report_default": {}
      }
     }
    }
   },
   "source": [
    "# Rotation of field"
   ]
  },
  {
   "cell_type": "code",
   "execution_count": null,
   "metadata": {
    "collapsed": false,
    "extensions": {
     "jupyter_dashboards": {
      "version": 1,
      "views": {
       "grid_default": {
        "col": 0,
        "height": 81,
        "hidden": false,
        "row": 69,
        "width": 4
       },
       "report_default": {}
      }
     }
    },
    "scrolled": false
   },
   "outputs": [],
   "source": [
    "%%opts Path [aspect='square']\n",
    "to_deg = lambda col: np.round(col * 180 / np.pi, 1).astype(int)\n",
    "\n",
    "df = pd.read_hdf('data/50meV/I_c(B_x)_mu50meV_rotation_of_field_in_xz_plane.hdf')\n",
    "df['theta'] = df['theta'].apply(to_deg)\n",
    "df2 = df.drop(['currents', 'phases', 'git_hash'], axis=1)  # because not hashable\n",
    "ds = hv.Dataset(df2)\n",
    "current = ds.to.curve(kdims='B', vdims='current_c', groupby='theta').redim(current_c=dict(range=(0, None)))\n",
    "phase = ds.to.curve(kdims='B', vdims='phase_c', groupby='theta')\n",
    "current + phase"
   ]
  },
  {
   "cell_type": "code",
   "execution_count": null,
   "metadata": {
    "collapsed": false,
    "scrolled": false
   },
   "outputs": [],
   "source": [
    "%%opts Curve [aspect='square']\n",
    "from holoviews.util import Dynamic\n",
    "df = pd.read_hdf('data/I_c(B_x)_mu25meV_rotation_of_field_in_xy_plane.hdf')\n",
    "df2 = df.drop(['currents', 'phases', 'git_hash'], axis=1)  # because not hashable\n",
    "ds = hv.Dataset(df2)\n",
    "current = ds.to.curve(kdims='B', vdims='current_c', groupby='theta')#.redim(current_c=dict(range=(0, None)))\n",
    "phase = ds.to.curve(kdims='B', vdims='phase_c', groupby='theta')\n",
    "current + phase"
   ]
  },
  {
   "cell_type": "markdown",
   "metadata": {},
   "source": [
    "# CPR"
   ]
  },
  {
   "cell_type": "code",
   "execution_count": null,
   "metadata": {
    "collapsed": true
   },
   "outputs": [],
   "source": [
    "df = pd.read_hdf('data/I_c(B_x)_mu10,30meV_disorder0,65,80meV_combinations_of_effects.hdf')\n",
    "gb = df.groupby(['orbital', 'g', 'alpha', 'mu', 'disorder'])\n",
    "\n",
    "hm = {}\n",
    "for i, gr in gb:\n",
    "    for j, (B_x, current) in enumerate(zip(gr['B_x'], gr['currents'])):\n",
    "        if j%10 == 0:\n",
    "            hm[i + (B_x,)] = hv.Curve((gr['phases'].iloc[0], current), kdims=[r'$\\phi$'], vdims=[r'$I$'])\n",
    "        \n",
    "hm = hv.HoloMap(hm, kdims=['orbital', 'g', 'alpha', 'mu', 'disorder', 'B_x'])"
   ]
  },
  {
   "cell_type": "code",
   "execution_count": null,
   "metadata": {
    "collapsed": false
   },
   "outputs": [],
   "source": [
    "%%opts Curve {+axiswise} (linewidth=0.3 color='k') [show_legend=False]\n",
    "%%output fig='svg' #filename='CPR'\n",
    "hm.overlay(['B_x']).layout()"
   ]
  },
  {
   "cell_type": "code",
   "execution_count": null,
   "metadata": {
    "collapsed": false
   },
   "outputs": [],
   "source": [
    "hm.layout(['orbital', 'g', 'alpha', 'mu', 'disorder'])"
   ]
  },
  {
   "cell_type": "code",
   "execution_count": null,
   "metadata": {
    "collapsed": false
   },
   "outputs": [],
   "source": [
    "Dynamic(hm.overlay(['B_x']))"
   ]
  }
 ],
 "metadata": {
  "anaconda-cloud": {},
  "extensions": {
   "jupyter_dashboards": {
    "activeView": "grid_default",
    "version": 1,
    "views": {
     "grid_default": {
      "cellMargin": 10,
      "defaultCellHeight": 20,
      "maxColumns": 12,
      "name": "grid",
      "type": "grid"
     },
     "report_default": {
      "name": "report",
      "type": "report"
     }
    }
   }
  },
  "kernelspec": {
   "display_name": "Python 3",
   "language": "python",
   "name": "python3"
  },
  "language_info": {
   "codemirror_mode": {
    "name": "ipython",
    "version": 3
   },
   "file_extension": ".py",
   "mimetype": "text/x-python",
   "name": "python",
   "nbconvert_exporter": "python",
   "pygments_lexer": "ipython3",
   "version": "3.5.2"
  }
 },
 "nbformat": 4,
 "nbformat_minor": 0
}
