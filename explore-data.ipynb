{
 "cells": [
  {
   "cell_type": "code",
   "execution_count": null,
   "metadata": {
    "collapsed": false
   },
   "outputs": [],
   "source": [
    "from types import SimpleNamespace\n",
    "import numpy as np\n",
    "import holoviews as hv\n",
    "import pandas as pd\n",
    "hv.notebook_extension()\n",
    "%opts Scatter (color='b') Path [show_legend=True]\n",
    "pd.set_option('display.max_columns', None)\n",
    "\n",
    "def dims(df):\n",
    "    return SimpleNamespace(phi=hv.Dimension(r'$\\phi$', unit='rad'),\n",
    "                           phi_c=hv.Dimension(r'$\\phi_c$', unit='rad'),\n",
    "                           I=hv.Dimension('$I$', unit=r'meV / $\\Phi_0$'),\n",
    "                           I_c=hv.Dimension('$I_c$', unit=r'meV / $\\Phi_0$'),\n",
    "                           B_x=hv.Dimension('$B_x$', unit='T', values=df['B_x']),\n",
    "                           T=hv.Dimension('$T$', unit='K', values=df['T']), \n",
    "                           L=hv.Dimension('$L$', unit='nm', values=df['L']), \n",
    "                           g=hv.Dimension('$g$-factor', values=df['g']), \n",
    "                           alpha=hv.Dimension(r'$\\alpha$', unit='mev nm', values=df['alpha']), \n",
    "                           mu=hv.Dimension(r'$\\mu$', unit='meV', values=df['mu']), \n",
    "                           a=hv.Dimension('$a$', unit='nm', values=df['a']),\n",
    "                           orbital=hv.Dimension('orbital', values=df['orbital']),\n",
    "                           leads=hv.Dimension('leads', values=df['with_leads']),\n",
    "                           zoom=hv.Dimension('zoom', values=[5, 10, 25, 50, 75, 100, 200]))\n",
    "\n",
    "def dynamic_map(fname, label=None):\n",
    "    df = pd.read_hdf(fname)\n",
    "    d = dims(df)\n",
    "    gb = df.groupby(['T', 'L', 'with_leads', 'orbital', 'g', 'alpha', 'mu', 'a'])\n",
    "    gb2 = df.groupby(['B_x', 'T', 'L', 'with_leads', 'orbital', 'g', 'alpha', 'mu', 'a'])\n",
    "\n",
    "    if label is None:\n",
    "        label = fname\n",
    "\n",
    "    def current_curve(T, L, leads, orbital, g, alpha, mu, a, zoom):\n",
    "        gr = gb.get_group((T, L, leads, orbital, g, alpha, mu, a))\n",
    "        return hv.Path((gr['B_x'], gr['current_c']), kdims=[d.B_x, d.I_c], label=label)[:, 0:zoom]\n",
    "\n",
    "    def phase_curve(T, L, leads, orbital, g, alpha, mu, a, zoom):\n",
    "        gr = gb.get_group((T, L, leads, orbital, g, alpha, mu, a))\n",
    "        return hv.Path((gr['B_x'], gr['phase_c']), kdims=[d.B_x, d.phi_c], label=label)[:, -np.pi:np.pi]\n",
    "\n",
    "    def current_phase(B_x, T, L, leads, orbital, g, alpha, mu, a, zoom):\n",
    "        gr = gb2.get_group((B_x, T, L, leads, orbital, g, alpha, mu, a))\n",
    "        \n",
    "        phases = np.array(gr['phases'])[0]\n",
    "        currents = np.array(gr['currents'])[0]\n",
    "        \n",
    "        return (hv.Path((phases, currents), kdims=[d.phi, d.I], label=label) *\n",
    "                hv.Scatter((gr['phase_c'], gr['current_c'])))[:, -zoom:zoom]\n",
    "\n",
    "    kdims = [d.T, d.L, d.leads, d.orbital, d.g, d.alpha, d.mu, d.a, d.zoom]\n",
    "\n",
    "    return (hv.DynamicMap(current_curve, kdims=kdims),\n",
    "            hv.DynamicMap(phase_curve, kdims=kdims),\n",
    "            hv.DynamicMap(current_phase, kdims=[d.B_x] + kdims))"
   ]
  },
  {
   "cell_type": "markdown",
   "metadata": {},
   "source": [
    "# Critical current and phase, $B_x$ vs $I_c$ and $B_x$ vs $\\phi_c$"
   ]
  },
  {
   "cell_type": "code",
   "execution_count": null,
   "metadata": {
    "collapsed": false
   },
   "outputs": [],
   "source": [
    "circular_A_incorrect = dynamic_map('data/all_data_circular_A_in_SM_incorrect_vector_potential.hdf', label='wrong $A$')\n",
    "circular_A_in_SM = dynamic_map('data/all_data_circular_A_in_SM.hdf', label='$A$ in SM')\n",
    "circular_A_in_SM_and_SC = dynamic_map('data/all_data_circular_A_in_SM_and_SC.hdf', label='correct $A$ in SM and SC')\n",
    "square_A_in_SM = dynamic_map('data/all_data_square_A_in_SM.hdf')\n",
    "square_A_in_SM_and_SC = dynamic_map('data/all_data_square_A_in_SM_and_SC.hdf', r'$A$ only in SM')"
   ]
  },
  {
   "cell_type": "code",
   "execution_count": null,
   "metadata": {
    "collapsed": false
   },
   "outputs": [],
   "source": [
    "circular_A_in_SM[0] * circular_A_in_SM_and_SC[0] + circular_A_in_SM[1] * circular_A_in_SM_and_SC[1]"
   ]
  },
  {
   "cell_type": "code",
   "execution_count": null,
   "metadata": {
    "collapsed": false,
    "scrolled": false
   },
   "outputs": [],
   "source": [
    "square_A_in_SM[0] * square_A_in_SM_and_SC[0] #+ square_A_in_SM[1] * square_A_in_SM_and_SC[1]"
   ]
  },
  {
   "cell_type": "markdown",
   "metadata": {},
   "source": [
    "# Current phase relation, $\\phi$ vs $I$\n",
    "Adjust `zoom` slider to change the `y`-range of the plot."
   ]
  },
  {
   "cell_type": "code",
   "execution_count": null,
   "metadata": {
    "collapsed": false
   },
   "outputs": [],
   "source": [
    "# hm + currents[key] * hv.HoloMap({B: hv.VLine(B) for B in df['B_x'].unique()}, kdims=[d.B_x])\n",
    "square_A_in_SM[2] * square_A_in_SM_and_SC[2]"
   ]
  },
  {
   "cell_type": "markdown",
   "metadata": {},
   "source": [
    "# Gate"
   ]
  },
  {
   "cell_type": "code",
   "execution_count": null,
   "metadata": {
    "collapsed": false
   },
   "outputs": [],
   "source": [
    "%%opts Image [colorbar=True aspect='square']\n",
    "df = pd.read_hdf('data/all_gate_data_current_as_function_of_gate_and_B_x__A_in_SM_and_SC.hdf')\n",
    "d = dims(df)\n",
    "d.V = hv.Dimension('$V$', unit='meV')\n",
    "inds = ['gate_size', 'T', 'L', 'with_leads', 'orbital', 'g', 'alpha', 'mu', 'a']\n",
    "kdims = ['gate_size', d.T, d.L, 'infinite leads', 'orbital', d.g, d.alpha, d.mu, d.a]\n",
    "\n",
    "gb = df.groupby(inds)\n",
    "bnds = (df['B_x'].min(), df['Vs'].min(), df['B_x'].max(), df['Vs'].max())\n",
    "gate_sizes = hv.HoloMap({key: hv.Image(np.rot90(val['current_c'].reshape(100, -1)),\n",
    "                                       bounds=bnds, kdims=[d.B_x, d.V], vdims=[d.I_c])\n",
    "                         for key, val in gb}, kdims=kdims)\n",
    "\n",
    "\n",
    "gate_sizes"
   ]
  },
  {
   "cell_type": "markdown",
   "metadata": {},
   "source": [
    "# Rotating field"
   ]
  },
  {
   "cell_type": "code",
   "execution_count": null,
   "metadata": {
    "collapsed": false
   },
   "outputs": [],
   "source": [
    "%%opts Path [aspect='square']\n",
    "to_deg = lambda col: (col * 180 / np.pi).round(1).astype(int)\n",
    "\n",
    "df = pd.read_hdf('data/rotation_of_field__L_640_nm__infinite_leads.hdf')\n",
    "df['theta'] = to_deg(df['theta'])\n",
    "gb = df.groupby(['theta'])\n",
    "gb2 = df.groupby(['B', 'theta'])\n",
    "d = dims(df)\n",
    "d.B = hv.Dimension(r'$|B|$', unit='T', values=df['B'])\n",
    "d.theta = hv.Dimension(r'$\\theta$', unit='deg')\n",
    "\n",
    "hm = hv.HoloMap({theta: hv.Path((gr['B'], gr['current_c']), kdims=[d.B, d.I_c]) for theta, gr in gb},\n",
    "                kdims=[d.theta])\n",
    "hm"
   ]
  },
  {
   "cell_type": "code",
   "execution_count": null,
   "metadata": {
    "collapsed": false
   },
   "outputs": [],
   "source": [
    "def current_phase(B, theta, zoom):\n",
    "    gr = gb2.get_group((B, theta))\n",
    "    phases = np.array(gr['phases'])[0]\n",
    "    currents = np.array(gr['currents'])[0]\n",
    "    return (hv.Path((phases, currents), kdims=[d.phi, d.I]) *\n",
    "            hv.Scatter((gr['phase_c'], gr['current_c'])))[:, -zoom:zoom]\n",
    "\n",
    "kdims = [hv.Dimension(r'$\\theta$', unit='deg', values=df['theta']), d.zoom]\n",
    "hv.DynamicMap(current_phase, kdims=[d.B] + kdims)"
   ]
  },
  {
   "cell_type": "markdown",
   "metadata": {},
   "source": [
    "# B in $y$"
   ]
  },
  {
   "cell_type": "code",
   "execution_count": null,
   "metadata": {
    "collapsed": false,
    "scrolled": false
   },
   "outputs": [],
   "source": [
    "df = pd.read_hdf('test.hdf')\n",
    "gb = df.groupby(['orbital', 'g', 'alpha', 'mu'])\n",
    "d = dims(df)\n",
    "d.B = hv.Dimension(r'$|B|$', unit='T')"
   ]
  },
  {
   "cell_type": "code",
   "execution_count": null,
   "metadata": {
    "collapsed": false
   },
   "outputs": [],
   "source": [
    "%%opts Path [aspect='square']\n",
    "hm = hv.HoloMap({key: hv.Path((gr['B_y'], gr['current_c']), kdims=[d.B, d.I_c]) for key, gr in gb},\n",
    "                kdims=[d.orbital, d.g, d.alpha, d.mu])\n",
    "hm"
   ]
  }
 ],
 "metadata": {
  "anaconda-cloud": {},
  "kernelspec": {
   "display_name": "Python 3",
   "language": "python",
   "name": "python3"
  },
  "language_info": {
   "codemirror_mode": {
    "name": "ipython",
    "version": 3
   },
   "file_extension": ".py",
   "mimetype": "text/x-python",
   "name": "python",
   "nbconvert_exporter": "python",
   "pygments_lexer": "ipython3",
   "version": "3.5.2"
  }
 },
 "nbformat": 4,
 "nbformat_minor": 0
}
