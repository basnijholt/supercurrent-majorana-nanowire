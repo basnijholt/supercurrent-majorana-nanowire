{
 "cells": [
  {
   "cell_type": "code",
   "execution_count": null,
   "metadata": {
    "collapsed": false
   },
   "outputs": [],
   "source": [
    "from types import SimpleNamespace\n",
    "import numpy as np\n",
    "import deepdish as dd\n",
    "import os\n",
    "import holoviews as hv\n",
    "import xarray as xr\n",
    "import pandas as pd\n",
    "hv.notebook_extension()\n",
    "%opts Scatter (color='b') \n",
    "d = SimpleNamespace(phi=hv.Dimension(r'$\\phi$', unit='rad'),\n",
    "                    phi_c=hv.Dimension(r'$\\phi_c$', unit='rad'),\n",
    "                    I=hv.Dimension('$I$', unit=r'meV / $\\Phi_0$'),\n",
    "                    I_c=hv.Dimension('$I_c$', unit=r'meV / $\\Phi_0$'),\n",
    "                    B=hv.Dimension('$B$', unit='T'),\n",
    "                    T=hv.Dimension('$T$', unit='K'), \n",
    "                    L=hv.Dimension('$L$', unit='nm'), \n",
    "                    g=hv.Dimension('$g$-factor'), \n",
    "                    alpha=hv.Dimension(r'$\\alpha$', unit='mev nm'), \n",
    "                    mu=hv.Dimension(r'$\\mu$', unit='meV'), \n",
    "                    a=hv.Dimension('$a$', unit='nm'),\n",
    "                    V=hv.Dimension('$V$', unit='meV'))\n",
    "\n",
    "pd.set_option('display.max_columns', None)"
   ]
  },
  {
   "cell_type": "markdown",
   "metadata": {},
   "source": [
    "# Gate"
   ]
  },
  {
   "cell_type": "code",
   "execution_count": null,
   "metadata": {
    "collapsed": false
   },
   "outputs": [],
   "source": [
    "from itertools import product\n",
    "df = pd.DataFrame()\n",
    "\n",
    "files = [f for f in os.listdir('./') if f.startswith('current_as_function_of_gate_and_B_x__ga') and f.endswith('.h5')]\n",
    "for fname in files:\n",
    "    x = dd.io.load(fname)\n",
    "    fname_new = fname[:-3] + '.hdf'\n",
    "    vals = list(product(x.pop('B_x'), x.pop('Vs')))\n",
    "    df1 = pd.DataFrame(vals, columns=['B_x', 'Vs'])\n",
    "    df2 = pd.DataFrame(x.pop('current_phase'))\n",
    "    df_new = pd.concat([df1, df2], axis=1)\n",
    "    \n",
    "    for dim in x.keys():\n",
    "        if isinstance(x[dim], dict):\n",
    "            dic = {key: val for key, val in x[dim].items() if val is not None}\n",
    "            df_new = df_new.assign(**dic)\n",
    "        else:\n",
    "            df_new[dim] = x[dim]\n",
    "\n",
    "    df = df.append(df_new, ignore_index=True)\n",
    "\n",
    "# df = df.sort_values(by=['gate_size']) # doesn't work!\n",
    "df.reindex().to_hdf('all_gate_data.hdf', 'all_data', mode='w')"
   ]
  },
  {
   "cell_type": "code",
   "execution_count": null,
   "metadata": {
    "collapsed": false
   },
   "outputs": [],
   "source": [
    "%%opts Image [colorbar=True aspect='square']\n",
    "\n",
    "inds = ['gate_size', 'T', 'L', 'with_leads', 'orbital', 'g', 'alpha', 'mu', 'a']\n",
    "kdims = ['gate_size', d.T, d.L, 'infinite leads', 'orbital', d.g, d.alpha, d.mu, d.a]\n",
    "\n",
    "gb = df.groupby(inds)\n",
    "bnds = (df['B_x'].min(), df['Vs'].min(), df['B_x'].max(), df['Vs'].max())\n",
    "gate_sizes = hv.HoloMap({key: hv.Image(np.rot90(val['current_c'].reshape(100, -1)),\n",
    "                                       bounds=bnds, kdims=[d.B, d.V], vdims=[d.I_c])\n",
    "                         for key, val in gb}, kdims=kdims)\n",
    "\n",
    "\n",
    "gate_sizes"
   ]
  },
  {
   "cell_type": "code",
   "execution_count": null,
   "metadata": {
    "collapsed": false
   },
   "outputs": [],
   "source": []
  }
 ],
 "metadata": {
  "kernelspec": {
   "display_name": "Python 3",
   "language": "python",
   "name": "python3"
  },
  "language_info": {
   "codemirror_mode": {
    "name": "ipython",
    "version": 3
   },
   "file_extension": ".py",
   "mimetype": "text/x-python",
   "name": "python",
   "nbconvert_exporter": "python",
   "pygments_lexer": "ipython3",
   "version": "3.5.2"
  }
 },
 "nbformat": 4,
 "nbformat_minor": 0
}
