{
 "cells": [
  {
   "cell_type": "markdown",
   "metadata": {},
   "source": [
    "# Calculations of supercurrents in a proximitized semiconducting 3D nanowire\n",
    "The simulations in this notebook generate data that is used for the plotting of the theoretical figures of the paper.\n",
    "\n",
    "Some simulations are expensive and take ~20hrs on 300 cores. Therefore we often cut up the simulation in parts using the `funcs.run_simulation` function with the `N` argument. The resulting (partial) data is saved in `pandas.DataFrame`s.\n",
    "\n",
    "To view the resulting data (after joining the parts with `funcs.combine_dfs`, see example just below) see [paper-figures.ipynb](paper-figures.ipynb) for the figures from the paper or [explore-data.ipynb](explore-data.ipynb) to interactively explore the data using sliders.\n",
    "\n",
    "### Example: joining the data files\n",
    "```python\n",
    "# If the simulation is run with:\n",
    "funcs.run_simulation(lview, func, vals, parameters=dict(**params, **syst_pars),\n",
    "                     fname_i='tmp/1d_alpha_vs_B_x_{}.hdf', N=20000, overwrite=True)\n",
    "# You can join the resulting files with:\n",
    "df = funcs.combine_dfs('tmp/1d_alpha_vs_B_x_*.hdf', 'data/1d_alpha_vs_B_x.hdf')\n",
    "```\n",
    "\n",
    "# The Python conda environment that is used\n",
    "* We used the following Python environment. See [README.md](README.md) for installation instructions.\n",
    "```yaml\n",
    "name: python3\n",
    "channels:\n",
    "  - conda-forge\n",
    "dependencies:\n",
    "  - python=3.6\n",
    "  - kwant=1.3\n",
    "  - holoviews=1.8.1\n",
    "  - xarray=0.9.6\n",
    "  - pandas=0.20.3\n",
    "  - pytables=3.4.2\n",
    "  - toolz=0.8.2\n",
    "  - hpc05  # This is only needed if you use a PBS cluster with headnode, as on the TU Delft network\n",
    "```\n",
    "\n",
    "## Notes\n",
    "* See [example-toy-models.ipynb](example-toy-models.ipynb) for simpler examples.\n",
    "* Read the comments!"
   ]
  },
  {
   "cell_type": "code",
   "execution_count": null,
   "metadata": {
    "scrolled": false
   },
   "outputs": [],
   "source": [
    "# Connect the ipyparallel.Client\n",
    "try:\n",
    "    # If this can be imported, it assumes you have access to a PBS cluster\n",
    "    # with a headnode where you started a cluster\n",
    "    import hpc05\n",
    "    client = hpc05.Client(profile='pbs', timeout=60)\n",
    "    print(\"Connected to hpc05\")\n",
    "except ImportError:\n",
    "    # Otherwise start an ipyparallel ipcluster locally\n",
    "    from ipyparallel import Client\n",
    "    client = Client()\n",
    "    print(\"Connected to local engines\")"
   ]
  },
  {
   "cell_type": "code",
   "execution_count": null,
   "metadata": {
    "scrolled": false
   },
   "outputs": [],
   "source": [
    "dview = client[:]\n",
    "dview.use_dill()\n",
    "lview = client.load_balanced_view()\n",
    "print('Connected to {} engines.'.format(len(dview)))"
   ]
  },
  {
   "cell_type": "code",
   "execution_count": null,
   "metadata": {
    "scrolled": false
   },
   "outputs": [],
   "source": [
    "# Make sure this folder is in your $PYTHONPATH of the ipengines\n",
    "# or set the correct location in the next line (run after all engines are connected)\n",
    "%px import sys, os; sys.path.append(os.path.expanduser('~/Work/nanowire_current/'))"
   ]
  },
  {
   "cell_type": "markdown",
   "metadata": {},
   "source": [
    "# Imports"
   ]
  },
  {
   "cell_type": "code",
   "execution_count": null,
   "metadata": {
    "scrolled": false
   },
   "outputs": [],
   "source": [
    "# Related third party imports\n",
    "import holoviews as hv\n",
    "import kwant\n",
    "import numpy as np\n",
    "import pandas as pd\n",
    "\n",
    "# Local imports\n",
    "import funcs\n",
    "\n",
    "%matplotlib inline\n",
    "hv.notebook_extension()"
   ]
  },
  {
   "cell_type": "markdown",
   "metadata": {},
   "source": [
    "# Creating some wires as example"
   ]
  },
  {
   "cell_type": "code",
   "execution_count": null,
   "metadata": {
    "scrolled": false
   },
   "outputs": [],
   "source": [
    "# Create system with infinite leads\n",
    "syst_pars = dict(a=8, angle=0, site_disorder=False, holes=True, L=200, L_sc=80,\n",
    "                 phi=135, r1=50, r2=70, shape='circle', with_leads=True,\n",
    "                 with_shell=True, with_vlead=True)\n",
    "\n",
    "syst, hopping = funcs.make_3d_wire(**syst_pars)\n",
    "kwant.plot(syst);"
   ]
  },
  {
   "cell_type": "code",
   "execution_count": null,
   "metadata": {
    "scrolled": false
   },
   "outputs": [],
   "source": [
    "# Create system without leads and bigger SC regions\n",
    "syst_pars['L_sc'] = 40\n",
    "syst_pars['L'] = 40\n",
    "syst, hopping = funcs.make_3d_wire(**syst_pars)\n",
    "kwant.plot(syst, site_size=0, hop_lw=0.1);"
   ]
  },
  {
   "cell_type": "code",
   "execution_count": null,
   "metadata": {
    "scrolled": false
   },
   "outputs": [],
   "source": [
    "# Create system without leads\n",
    "syst_pars['with_leads'] = False\n",
    "syst, hopping = funcs.make_3d_wire(**syst_pars)\n",
    "kwant.plot(syst);"
   ]
  },
  {
   "cell_type": "markdown",
   "metadata": {},
   "source": [
    "# Mean free path calculation\n",
    "See [mean-free-path.ipynb](mean-free-path.ipynb) for the data processing."
   ]
  },
  {
   "cell_type": "code",
   "execution_count": null,
   "metadata": {
    "scrolled": false
   },
   "outputs": [],
   "source": [
    "syst_pars = dict(a=8, angle=0, site_disorder=True, holes=False, L_sc=8,\n",
    "                 phi=135, r1=50, r2=70, shape='circle', with_leads=True,\n",
    "                 with_shell=False, with_vlead=False)\n",
    "\n",
    "params = dict(alpha=20, B_x=0, B_y=0, B_z=0, Delta=0, g=50,\n",
    "              orbital=True, V='lambda x: 0', **funcs.constants.__dict__)\n",
    "\n",
    "Ls = np.arange(80, 2000, 80)\n",
    "salts = np.arange(0, 10)\n",
    "disorders = [0, 10, 20, 30, 40, 50, 55, 60, 65, 70, 75, 80, 90, 100, 110]\n",
    "mus = np.arange(10, 31)\n",
    "\n",
    "vals = funcs.named_product(salt=salts, disorder=disorders, L=Ls, mu=mus)\n",
    "print(len(vals))\n",
    "\n",
    "def func(val, syst_pars=syst_pars, params=params):\n",
    "    import kwant, funcs\n",
    "    \n",
    "    # Combine the fixed parameters `params` and the changing\n",
    "    # parameters `val` to one dict and evaluate the string\n",
    "    # lambda functions.\n",
    "    params = funcs.parse_params(dict(**params, **val))\n",
    "    \n",
    "    # Remove the parameters from `params` that belong in `syst_pars`.\n",
    "    for x in ['L']:\n",
    "        syst_pars[x] = params.pop(x)\n",
    "\n",
    "    syst, hopping = funcs.make_3d_wire(**syst_pars)\n",
    "    smatrix = kwant.smatrix(syst, params=params)\n",
    "    \n",
    "    # Return a combined dictionary with the results and input.\n",
    "    return dict(transmission=smatrix.transmission(0, 1),\n",
    "                num_propagating=smatrix.num_propagating(0),\n",
    "                **val)\n",
    "\n",
    "fname = 'data/mean_free_path.hdf'\n",
    "funcs.run_simulation(lview, func, vals, dict(**params, **syst_pars), fname, overwrite=True)"
   ]
  },
  {
   "cell_type": "markdown",
   "metadata": {},
   "source": [
    "# $B_x(I_c)$ combinations of effects and geometries:"
   ]
  },
  {
   "cell_type": "code",
   "execution_count": null,
   "metadata": {},
   "outputs": [],
   "source": [
    "syst_pars = dict(a=8, angle=0, site_disorder=False, holes=True, phi=135,\n",
    "                 r1=50, r2=70, shape='circle', with_shell=True, with_vlead=True)\n",
    "\n",
    "params = dict(B_y=0, B_z=0, Delta=60, c_tunnel=5/8, V=lambda x: 0, **funcs.constants.__dict__)\n",
    "\n",
    "Ts = [0.1, 0.5, 1]\n",
    "orbital_bools = [False, True]\n",
    "gs = [0, 50]\n",
    "alphas = [0, 20]\n",
    "mus = [10, 15, 20, 25, 30]\n",
    "Ls = [80, 160, 320, 640]\n",
    "leads = [(True, 8), (False, 400)]\n",
    "Bs = np.linspace(0, 2, 101)\n",
    "\n",
    "vals = funcs.named_product(T=Ts, L=Ls, orbital=orbital_bools,\n",
    "                           g=gs, alpha=alphas, mu=mus, leads=leads, B_x=Bs)\n",
    "\n",
    "def func(val, syst_pars=syst_pars, params=params):\n",
    "    import funcs\n",
    "    val['with_leads'], val['L_sc'] = val['leads']\n",
    "\n",
    "    # Combine the fixed parameters `params` and the changing\n",
    "    # parameters `val` to one dict and evaluate the string\n",
    "    # lambda functions.\n",
    "    params = funcs.parse_params(dict(**params, **val))\n",
    "\n",
    "    # Remove the parameters from `params` that belong in `syst_pars`.\n",
    "    for x in ['with_leads', 'L_sc', 'L']:\n",
    "        syst_pars[x] = params.pop(x)\n",
    "\n",
    "    syst, hopping = funcs.make_3d_wire(**syst_pars)\n",
    "\n",
    "    # Return a combined dictionary with the results and input.\n",
    "    return dict(**funcs.I_c(syst, hopping, params), **val)\n",
    "\n",
    "fname = \"tmp/I_c(B_x)_no_disorder_combinations_of_effects_and_geometries_{}.hdf\"\n",
    "funcs.run_simulation(lview, func, vals, dict(**params, **syst_pars), fname, 2000)\n"
   ]
  },
  {
   "cell_type": "markdown",
   "metadata": {},
   "source": [
    "# $B_x(I_c)$ with disorder:\n",
    "* Main paper figure 4\n",
    "* Supplementary materials figure 8"
   ]
  },
  {
   "cell_type": "code",
   "execution_count": null,
   "metadata": {},
   "outputs": [],
   "source": [
    "ONLY_PAPER_COMBINATIONS = False\n",
    "\n",
    "syst_pars = dict(a=8, angle=0, site_disorder=True, holes=True, L=640,\n",
    "                 L_sc=8, phi=135, r1=50, r2=70, shape='circle',\n",
    "                 with_leads=True, with_shell=True, with_vlead=True)\n",
    "\n",
    "params = dict(B_y=0, B_z=0, Delta=60, c_tunnel=5/8, V='lambda x: 0', T=100e-3, **funcs.constants.__dict__)\n",
    "\n",
    "Bs = np.linspace(0, 0.5, 201)\n",
    "\n",
    "if ONLY_PAPER_COMBINATIONS:\n",
    "    # These are all the combinations of effects that are showed in Fig. 4 of the main paper.\n",
    "    vals = [[(0, 0, True, 50, 20, 10, B),\n",
    "             (0, 0, False, 50, 20, 10, B),\n",
    "             (0, 0, True, 50, 0, 10, B),\n",
    "             (0, 0, False, 50, 0, 10, B),\n",
    "             (0, 0, True, 50, 20, 20, B),\n",
    "             (0, 0, False, 50, 20, 20, B),\n",
    "             (0, 0, True, 50, 0, 20, B),\n",
    "             (0, 0, False, 50, 0, 20, B),\n",
    "             (7, 75, True, 50, 20, 20, B)]\n",
    "            for B in Bs]\n",
    "    vals = sum(vals, [])\n",
    "    names = ['salt', 'disorder', 'orbital', 'g', 'alphas', 'mu', 'B_x']\n",
    "    vals = [dict(zip(names, val)) for val in vals]\n",
    "\n",
    "else:\n",
    "    # Calculate all combinations of effects (which is much slower.)\n",
    "    vals = funcs.named_product(salt=np.arange(0, 8, 1), disorder=[0, 75], \n",
    "                               orbital=[False, True], g=[0, 50], alpha=[0, 20],\n",
    "                               mu=[10, 20], B_x=Bs)\n",
    "\n",
    "    # Filter out different salts when there is no disorder.\n",
    "    vals = [val for val in vals if not (val['salt'] > 0 and val['disorder'] == 0)]\n",
    "\n",
    "print(len(vals))\n",
    "\n",
    "def func(val, syst_pars=syst_pars, params=params):\n",
    "    import funcs\n",
    "    syst, hopping = funcs.make_3d_wire(**syst_pars)\n",
    "    \n",
    "    # Combine the fixed parameters `params` and the changing\n",
    "    # parameters `val` to one dict and evaluate the string\n",
    "    # lambda functions.\n",
    "    params = funcs.parse_params(dict(**params, **val))\n",
    "    \n",
    "    # Return a combined dictionary with the results and input.\n",
    "    return dict(**funcs.I_c(syst, hopping, params), **val)\n",
    "\n",
    "fname_i = \"tmp/I_c(B_x)_mu10,20meV_disorder0,75meV_T0.1K_all_combinations_of_effects_{}.hdf\"\n",
    "funcs.run_simulation(lview, func, vals, dict(**params, **syst_pars), fname_i, 2500)"
   ]
  },
  {
   "cell_type": "markdown",
   "metadata": {},
   "source": [
    "# Rotation of the magnetic field in the $xy$-plane\n",
    "* Supplementary materials figure 10"
   ]
  },
  {
   "cell_type": "markdown",
   "metadata": {},
   "source": [
    "![](https://upload.wikimedia.org/wikipedia/commons/thumb/4/4f/3D_Spherical.svg/200px-3D_Spherical.svg.png)"
   ]
  },
  {
   "cell_type": "code",
   "execution_count": null,
   "metadata": {},
   "outputs": [],
   "source": [
    "syst_pars = dict(a=8, angle=0, site_disorder=True, holes=True, L=160, L_sc=8,\n",
    "                 phi=135, r1=50, r2=70, shape='circle',\n",
    "                 with_leads=True, with_shell=True, with_vlead=True)\n",
    "\n",
    "params = dict(alpha=20, B_z=0, Delta=60, g=50, mu=20, salt=7,\n",
    "              orbital=True, c_tunnel=5/8, V='lambda x: 0', T=100e-3, **funcs.constants.__dict__)\n",
    "\n",
    "Bs = np.linspace(0, 2, 101)\n",
    "thetas = [0, 45, 90]\n",
    "vals = funcs.named_product(B=Bs, theta=thetas, disorder=[0, 75])\n",
    "\n",
    "def func(val, syst_pars=syst_pars, params=params):\n",
    "    import funcs\n",
    "    import numpy as np\n",
    "    angle = np.deg2rad(val['theta'])\n",
    "    val['B_x'] = val['B'] * np.cos(angle).round(15)\n",
    "    val['B_y'] = val['B'] * np.sin(angle).round(15)\n",
    "    \n",
    "    # Combine the fixed parameters `params` and the changing\n",
    "    # parameters `val` to one dict and evaluate the string\n",
    "    # lambda functions.\n",
    "    params = funcs.parse_params(dict(**params, **val))\n",
    "\n",
    "    syst, hopping = funcs.make_3d_wire(**syst_pars)\n",
    "\n",
    "    # Return a combined dictionary with the results and input.\n",
    "    return dict(**funcs.I_c(syst, hopping, params), **val)\n",
    "\n",
    "fname = 'data/I_c(B_x)_mu20meV_rotation_of_field_in_xy_plane.hdf'\n",
    "funcs.run_simulation(lview, func, vals, dict(**syst_pars, **params), fname, None, overwrite=True)"
   ]
  },
  {
   "cell_type": "markdown",
   "metadata": {},
   "source": [
    "# Tuning the induced gap"
   ]
  },
  {
   "cell_type": "code",
   "execution_count": null,
   "metadata": {},
   "outputs": [],
   "source": [
    "syst_pars = dict(a=8, angle=0, site_disorder=False, holes=True,\n",
    "                 L=80, L_sc=8, phi=135, r1=50, r2=70, shape='circle',\n",
    "                 with_leads=True, with_shell=True, with_vlead=False)\n",
    "\n",
    "params = dict(alpha=20, B_x=0, B_y=0, B_z=0, g=50, orbital=True,\n",
    "              c_tunnel=5/8, V='lambda x: 0', **funcs.constants.__dict__,)\n",
    "\n",
    "mus = np.linspace(2, 30, 50)\n",
    "Deltas = np.linspace(0, 100, 50)\n",
    "\n",
    "vals = funcs.named_product(Delta=Deltas, mu=mus)\n",
    "\n",
    "def func(val, syst_pars=syst_pars, params=params):\n",
    "    import funcs\n",
    "    import numpy as np\n",
    "    lead = funcs.make_3d_wire(**syst_pars)[0].leads[1]\n",
    "\n",
    "    # Combine the fixed parameters `params` and the changing\n",
    "    # parameters `val` to one dict and evaluate the string\n",
    "    # lambda functions.\n",
    "    params = funcs.parse_params(dict(**params, **val))\n",
    "\n",
    "    # Create the Hamiltonian `ham` at k=0.\n",
    "    h0 = lead.cell_hamiltonian(params=params)\n",
    "    t0 = lead.inter_cell_hopping(params=params)\n",
    "    ham = h0 + t0 + t0.conj().T\n",
    "\n",
    "    # Find the energies.\n",
    "    ev = np.linalg.eigvalsh(ham)\n",
    "    \n",
    "    # Return a combined dictionary with the results and input.\n",
    "    return dict(E_min=np.abs(ev).min(), **val)\n",
    "\n",
    "funcs.run_simulation(lview, func, vals, dict(**params, **syst_pars), 'data/gap_tuning.hdf')"
   ]
  },
  {
   "cell_type": "code",
   "execution_count": null,
   "metadata": {},
   "outputs": [],
   "source": [
    "# Plot the gaps and find the `Delta` that is needed for the required `Delta_induced`.\n",
    "df = pd.read_hdf('data/gap_tuning.hdf')\n",
    "Deltas = sorted(df.Delta.unique())\n",
    "mus = sorted(df.mu.unique())\n",
    "gap = np.reshape(df.E_min.values, (len(Deltas), len(mus))) \n",
    "max_gap = np.max(np.min(gap, axis=1))\n",
    "print(\"Max gap is {} meV\".format(max_gap))"
   ]
  },
  {
   "cell_type": "code",
   "execution_count": null,
   "metadata": {
    "scrolled": false
   },
   "outputs": [],
   "source": [
    "hv.Curve((Deltas, gap.min(axis=1)), kdims=[r'$\\Delta$'], vdims=[r'$E_{gap}$'],\n",
    "         label=r\"$E_{gap}$ over range of $\\Delta$'s\")"
   ]
  },
  {
   "cell_type": "code",
   "execution_count": null,
   "metadata": {
    "scrolled": false
   },
   "outputs": [],
   "source": [
    "Delta_ind = {delta: hv.Path((mus, evs), kdims=[r'$\\mu$', ('E_gap', r'$E_{gap}$')]) \n",
    "      for evs, delta in zip(gap, Deltas)}\n",
    "\n",
    "hm = hv.HoloMap(Delta_ind, kdims=[r'$\\Delta$'])\n",
    "(hm.select(E_gap=(0.15, 0.40)) * hv.HLine(0.25))"
   ]
  },
  {
   "cell_type": "markdown",
   "metadata": {},
   "source": [
    "## Gate simulation with and without disorder $I_c(B_x, V)$\n",
    "* Main paper figure 5(b)\n",
    "* Supplementary materials figure 9"
   ]
  },
  {
   "cell_type": "code",
   "execution_count": null,
   "metadata": {
    "scrolled": true
   },
   "outputs": [],
   "source": [
    "# Plot test\n",
    "syst_pars = dict(a=8, angle=0, site_disorder=False, holes=True,\n",
    "                 L=640, L_sc=8, phi=135, r1=50, r2=70, shape='circle',\n",
    "                 with_leads=True, with_shell=True, with_vlead=True)\n",
    "\n",
    "syst, hopping = funcs.make_3d_wire(**syst_pars)\n",
    "gate_fun = funcs.gate(syst, 100, 160)\n",
    "sites = [gate_fun(pos[0]) for pos in [i.pos for i in syst.sites]]\n",
    "kwant.plot(syst, site_lw=0, site_color=sites, colorbar=False)"
   ]
  },
  {
   "cell_type": "code",
   "execution_count": null,
   "metadata": {},
   "outputs": [],
   "source": [
    "syst_pars = dict(a=8, angle=0, site_disorder=True, holes=True,\n",
    "                 L=640, L_sc=8, phi=135, r1=50, r2=70, shape='circle',\n",
    "                 with_leads=True, with_shell=True, with_vlead=True)\n",
    "\n",
    "params = dict(alpha=20, B_y=0, B_z=0, Delta=60, g=50, mu=20, orbital=True,\n",
    "              c_tunnel=5/8, salt=7, T=100e-3, **funcs.constants.__dict__)\n",
    "\n",
    "Bs = np.linspace(0, 0.5, 51)\n",
    "Vs = np.linspace(0, 10, 51)\n",
    "gate_sizes = [160]\n",
    "disorders = [0, 75]\n",
    "\n",
    "vals = funcs.named_product(gate_size=gate_sizes,\n",
    "                           disorder=disorders, V=Vs, B_x=Bs)\n",
    "\n",
    "def func(val, syst_pars=syst_pars, params=params):\n",
    "    import funcs\n",
    "    syst, hopping = funcs.make_3d_wire(**syst_pars)\n",
    "\n",
    "    # Combine the fixed parameters `params` and the changing\n",
    "    # parameters `val` to one dict and evaluate the string\n",
    "    # lambda functions.\n",
    "    params = funcs.parse_params(dict(**params, **val))\n",
    "\n",
    "    # Create a potential function for the gate.\n",
    "    params['V'] = funcs.gate(syst, params['V'], params['gate_size'])\n",
    "\n",
    "    # Return a combined dictionary with the results and input.\n",
    "    return dict(**funcs.I_c(syst, hopping, params), **val)\n",
    "\n",
    "fname = \"tmp/I_c(B_x,_V)_gate160nm_mu20meV_disorder0,75meV_T0.1K_{}.hdf\"\n",
    "funcs.run_simulation(lview, func, vals, dict(**params, **syst_pars), fname, 2500)"
   ]
  },
  {
   "cell_type": "markdown",
   "metadata": {},
   "source": [
    "# 1D toymodel $I_c(\\alpha, B_x)$\n",
    "Supplementary materials figure 7"
   ]
  },
  {
   "cell_type": "code",
   "execution_count": null,
   "metadata": {},
   "outputs": [],
   "source": [
    "syst_pars = dict(a=10, L=500, L_sc=100)\n",
    "\n",
    "params = dict(B_y=0, B_z=0, Delta=0.25, g=50, V='lambda x: 0', T=0.1,\n",
    "              **funcs.constants.__dict__)\n",
    "\n",
    "alphas = np.linspace(0, 30, 101)\n",
    "B_xs = np.linspace(0, 1.4, 101)\n",
    "mus = [0.1, 0.3, 1, 3, 10, 30]\n",
    "\n",
    "vals = funcs.named_product(alpha=alphas, B_x=B_xs, mu=mus)\n",
    "\n",
    "def func(val, syst_pars=syst_pars, params=params):\n",
    "    import funcs\n",
    "    syst, hopping = funcs.make_1d_wire(**syst_pars)\n",
    "\n",
    "    # Combine the fixed parameters `params` and the changing\n",
    "    # parameters `val` to one dict and evaluate the string\n",
    "    # lambda functions.\n",
    "    params = funcs.parse_params(dict(**params, **val))\n",
    "\n",
    "    # Return a combined dictionary with the results and input.\n",
    "    return dict(**funcs.I_c(syst, hopping, params), **val)\n",
    "\n",
    "funcs.run_simulation(lview, func, vals, dict(**params, **syst_pars),\n",
    "                     'tmp/1d_alpha_vs_B_x_{}.hdf', N=20000, overwrite=True)"
   ]
  }
 ],
 "metadata": {
  "anaconda-cloud": {},
  "kernelspec": {
   "display_name": "Python 3",
   "language": "python",
   "name": "python3"
  },
  "language_info": {
   "codemirror_mode": {
    "name": "ipython",
    "version": 3
   },
   "file_extension": ".py",
   "mimetype": "text/x-python",
   "name": "python",
   "nbconvert_exporter": "python",
   "pygments_lexer": "ipython3",
   "version": "3.6.3"
  }
 },
 "nbformat": 4,
 "nbformat_minor": 1
}
