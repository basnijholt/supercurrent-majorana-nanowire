{
 "cells": [
  {
   "cell_type": "code",
   "execution_count": null,
   "metadata": {
    "collapsed": false
   },
   "outputs": [],
   "source": [
    "from types import SimpleNamespace\n",
    "import numpy as np\n",
    "import deepdish as dd\n",
    "import os\n",
    "import holoviews as hv\n",
    "import funcs\n",
    "import pandas as pd\n",
    "hv.notebook_extension()\n",
    "%opts Scatter (color='b') \n",
    "d = SimpleNamespace(phi=hv.Dimension(r'$\\phi$', unit='rad'),\n",
    "                    phi_c=hv.Dimension(r'$\\phi_c$', unit='rad'),\n",
    "                    I=hv.Dimension('$I$', unit=r'meV / $\\Phi_0$'),\n",
    "                    I_c=hv.Dimension('$I_c$', unit=r'meV / $\\Phi_0$'),\n",
    "                    B=hv.Dimension('$B$', unit='T'),\n",
    "                    T=hv.Dimension('$T$', unit='K'), \n",
    "                    L=hv.Dimension('$L$', unit='nm'), \n",
    "                    g=hv.Dimension('$g$-factor'), \n",
    "                    alpha=hv.Dimension(r'$\\alpha$', unit='mev nm'), \n",
    "                    mu=hv.Dimension(r'$\\mu$', unit='meV'), \n",
    "                    a=hv.Dimension('$a$', unit='nm'),\n",
    "                    V=hv.Dimension('$V$', unit='meV'))\n",
    "\n",
    "pd.set_option('display.max_columns', None)"
   ]
  },
  {
   "cell_type": "markdown",
   "metadata": {},
   "source": [
    "# Disorder"
   ]
  },
  {
   "cell_type": "code",
   "execution_count": null,
   "metadata": {
    "collapsed": false,
    "scrolled": false
   },
   "outputs": [],
   "source": [
    "path = './'\n",
    "files = [f for f in os.listdir(path) if f.startswith('disorder_B_vs_I_c')]\n",
    "\n",
    "fs = {f: dd.io.load(path + f) for f in files}\n",
    "\n",
    "hm = {}\n",
    "\n",
    "    \n",
    "for fname, data in fs.items():\n",
    "    disorders = data['disorders']\n",
    "    I_cs = data['I_cs']\n",
    "    Bs = data['B_xs']\n",
    "    wire_params = data['wire_params']\n",
    "    p = data['p']\n",
    "    dims = dict(kdims=[hv.Dimension('$B$', unit='$T$')], vdims=['$I_c$'])\n",
    "\n",
    "    for disorder, I_cs, std in zip(disorders, I_cs.mean(axis=0), I_cs.std(axis=0)):\n",
    "        key = (wire_params['a'], wire_params['L'], data['T'], \n",
    "               p.mu, disorder, wire_params['with_leads'], p.orbital, p.g)\n",
    "        val = hv.Spread((Bs, I_cs, std), kdims=[hv.Dimension('$B$', unit='$T$')], vdims=[hv.Dimension('$I_c$'), 'err'])\n",
    "        val *= hv.Path((Bs, I_cs), kdims=[hv.Dimension('$B$', unit='$T$'), '$I_c$'])\n",
    "        hm[key] = val[:, 0:100]\n",
    "\n",
    "\n",
    "hv.HoloMap(hm, kdims=[hv.Dimension('$a$', unit='nm'),\n",
    "                      hv.Dimension('$L$', unit='nm'),\n",
    "                      hv.Dimension('$T$', unit='K'),\n",
    "                      hv.Dimension('$\\mu$', unit='meV'),\n",
    "                      hv.Dimension('disorder', unit='meV'),\n",
    "                      'infinite leads', 'orbital', 'zeeman']).select(T=1)"
   ]
  },
  {
   "cell_type": "code",
   "execution_count": null,
   "metadata": {
    "collapsed": false
   },
   "outputs": [],
   "source": [
    "len(files)"
   ]
  },
  {
   "cell_type": "markdown",
   "metadata": {},
   "source": [
    "# Mean free path $g \\sim N_{ch} / (1 + L / \\lambda_{MFP})$\n",
    "Check with Carlo's review paper on random matrix theory"
   ]
  },
  {
   "cell_type": "code",
   "execution_count": null,
   "metadata": {
    "collapsed": false
   },
   "outputs": [],
   "source": [
    "df = pd.read_hdf('data/mean_free_path.hdf')\n",
    "gb = df.groupby(['disorder', 'L', 'mu', 'num_propagating'])['transmission']\n",
    "conduction = gb.agg({'means' : np.mean, 'vars' : np.var}).reset_index()\n",
    "\n",
    "d = {}\n",
    "for key, gr in conduction.groupby(['L', 'mu']):\n",
    "    d[key] = (hv.Curve((gr.disorder, gr.means), kdims=['disorder'], vdims=['resistance']) *\n",
    "              hv.Spread((gr.disorder, gr.means, gr.vars)) *\n",
    "              hv.Scatter((gr.disorder, gr.means)))[:, 0:25]\n",
    "hv.HoloMap(d, kdims=['L', 'mu'])"
   ]
  },
  {
   "cell_type": "code",
   "execution_count": null,
   "metadata": {
    "collapsed": false
   },
   "outputs": [],
   "source": [
    "for (mu, disorder), gr in conduction.groupby(['mu', 'disorder']):\n",
    "    modes = gr.num_propagating.values[0]\n",
    "    fit = np.polyfit(gr.L, 1/gr.means, deg=1)\n",
    "    mfp = 1 / (modes * fit[0])\n",
    "    print(\"mu: {} meV, disorder: {} meV, mfp: {} nm\".format(mu, disorder, mfp))"
   ]
  }
 ],
 "metadata": {
  "kernelspec": {
   "display_name": "Python 3",
   "language": "python",
   "name": "python3"
  },
  "language_info": {
   "codemirror_mode": {
    "name": "ipython",
    "version": 3
   },
   "file_extension": ".py",
   "mimetype": "text/x-python",
   "name": "python",
   "nbconvert_exporter": "python",
   "pygments_lexer": "ipython3",
   "version": "3.5.2"
  }
 },
 "nbformat": 4,
 "nbformat_minor": 0
}
