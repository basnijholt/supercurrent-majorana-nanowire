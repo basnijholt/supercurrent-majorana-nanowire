{
 "cells": [
  {
   "cell_type": "code",
   "execution_count": null,
   "metadata": {
    "collapsed": false
   },
   "outputs": [],
   "source": [
    "from types import SimpleNamespace\n",
    "import numpy as np\n",
    "import deepdish as dd\n",
    "import os\n",
    "import holoviews as hv\n",
    "import funcs\n",
    "import pandas as pd\n",
    "hv.notebook_extension()\n",
    "%opts Scatter (color='b') \n",
    "d = SimpleNamespace(phi=hv.Dimension(r'$\\phi$', unit='rad'),\n",
    "                    phi_c=hv.Dimension(r'$\\phi_c$', unit='rad'),\n",
    "                    I=hv.Dimension('$I$', unit=r'meV / $\\Phi_0$'),\n",
    "                    I_c=hv.Dimension('$I_c$', unit=r'meV / $\\Phi_0$'),\n",
    "                    B=hv.Dimension('$B$', unit='T'),\n",
    "                    T=hv.Dimension('$T$', unit='K'), \n",
    "                    L=hv.Dimension('$L$', unit='nm'), \n",
    "                    g=hv.Dimension('$g$-factor'), \n",
    "                    alpha=hv.Dimension(r'$\\alpha$', unit='mev nm'), \n",
    "                    mu=hv.Dimension(r'$\\mu$', unit='meV'), \n",
    "                    a=hv.Dimension('$a$', unit='nm'),\n",
    "                    V=hv.Dimension('$V$', unit='meV'))\n",
    "\n",
    "pd.set_option('display.max_columns', None)"
   ]
  },
  {
   "cell_type": "markdown",
   "metadata": {},
   "source": [
    "# Disorder"
   ]
  },
  {
   "cell_type": "code",
   "execution_count": null,
   "metadata": {
    "collapsed": false,
    "scrolled": false
   },
   "outputs": [],
   "source": [
    "path = './'\n",
    "files = [f for f in os.listdir(path) if f.startswith('disorder_B_vs_I_c')]\n",
    "\n",
    "fs = {f: dd.io.load(path + f) for f in files}\n",
    "\n",
    "hm = {}\n",
    "\n",
    "    \n",
    "for fname, data in fs.items():\n",
    "    disorders = data['disorders']\n",
    "    I_cs = data['I_cs']\n",
    "    Bs = data['B_xs']\n",
    "    wire_params = data['wire_params']\n",
    "    p = data['p']\n",
    "    dims = dict(kdims=[hv.Dimension('$B$', unit='$T$')], vdims=['$I_c$'])\n",
    "\n",
    "    for disorder, I_cs, std in zip(disorders, I_cs.mean(axis=0), I_cs.std(axis=0)):\n",
    "        key = (wire_params['a'], wire_params['L'], data['T'], \n",
    "               p.mu, disorder, wire_params['with_leads'], p.orbital, p.g)\n",
    "        val = hv.Spread((Bs, I_cs, std), kdims=[hv.Dimension('$B$', unit='$T$')], vdims=[hv.Dimension('$I_c$'), 'err'])\n",
    "        val *= hv.Path((Bs, I_cs), kdims=[hv.Dimension('$B$', unit='$T$'), '$I_c$'])\n",
    "        hm[key] = val[:, 0:100]\n",
    "\n",
    "\n",
    "hv.HoloMap(hm, kdims=[hv.Dimension('$a$', unit='nm'),\n",
    "                      hv.Dimension('$L$', unit='nm'),\n",
    "                      hv.Dimension('$T$', unit='K'),\n",
    "                      hv.Dimension('$\\mu$', unit='meV'),\n",
    "                      hv.Dimension('disorder', unit='meV'),\n",
    "                      'infinite leads', 'orbital', 'zeeman']).select(T=1)"
   ]
  },
  {
   "cell_type": "code",
   "execution_count": null,
   "metadata": {
    "collapsed": false
   },
   "outputs": [],
   "source": [
    "len(files)"
   ]
  },
  {
   "cell_type": "markdown",
   "metadata": {},
   "source": [
    "# Mean free path $g \\sim N_{ch} / (1 + L / \\lambda_{MFP})$\n",
    "\n",
    "I fit:\n",
    "$1/g \\sim  (1/N_{ch} + L / (\\lambda_{MFP}N_{ch}))$\n",
    "\n",
    "Check with Carlo's review paper on random matrix theory"
   ]
  },
  {
   "cell_type": "code",
   "execution_count": null,
   "metadata": {
    "collapsed": false
   },
   "outputs": [],
   "source": [
    "df = pd.read_hdf('data/mean_free_path.hdf')\n",
    "gb = df.groupby(['disorder', 'L', 'mu', 'num_propagating'])['transmission']\n",
    "conduction = gb.agg({'means' : np.mean, 'vars' : np.var}).reset_index()\n",
    "\n",
    "d = {}\n",
    "for key, gr in conduction.groupby(['L', 'mu']):\n",
    "    d[key] = (hv.Curve((gr.disorder, gr.means), kdims=['disorder'], vdims=['resistance']) *\n",
    "              hv.Spread((gr.disorder, gr.means, gr.vars)) *\n",
    "              hv.Scatter((gr.disorder, gr.means)))[:, 0:25]\n",
    "hv.HoloMap(d, kdims=['L', 'mu'])"
   ]
  },
  {
   "cell_type": "markdown",
   "metadata": {},
   "source": [
    "### Using a simple polyfit to find  $\\lambda_{MFP}$"
   ]
  },
  {
   "cell_type": "code",
   "execution_count": null,
   "metadata": {
    "collapsed": false,
    "scrolled": false
   },
   "outputs": [],
   "source": [
    "for (mu, disorder), gr in conduction.groupby(['mu', 'disorder']):\n",
    "    modes = gr.num_propagating.values[0]\n",
    "    fit = np.polyfit(gr.L, 1/gr.means, deg=1)\n",
    "    mfp = 1 / (modes * fit[0])\n",
    "    print(\"mu: {} meV, disorder: {} meV, mfp: {:.0f} nm\".format(mu, disorder, mfp))"
   ]
  },
  {
   "cell_type": "markdown",
   "metadata": {},
   "source": [
    "### Using bootstrapping to find $l\\lambda_{MFP}$"
   ]
  },
  {
   "cell_type": "code",
   "execution_count": null,
   "metadata": {
    "collapsed": false
   },
   "outputs": [],
   "source": [
    "from functools import partial\n",
    "from scipy import optimize\n",
    "\n",
    "def fit_bootstrap(p0, datax, datay, function, yerr_systematic=0.0):\n",
    "    \"\"\"From http://stackoverflow.com/a/21844726/3447047\"\"\"\n",
    "    errfunc = lambda p, x, y: function(x, p) - y\n",
    "\n",
    "    # Fit first time\n",
    "    pfit, perr = optimize.leastsq(errfunc, p0, args=(datax, datay), full_output=0)\n",
    "\n",
    "\n",
    "    # Get the stdev of the residuals\n",
    "    residuals = errfunc(pfit, datax, datay)\n",
    "    sigma_res = np.std(residuals)\n",
    "\n",
    "    sigma_err_total = np.sqrt(sigma_res**2 + yerr_systematic**2)\n",
    "\n",
    "    # 100 random data sets are generated and fitted\n",
    "    ps = []\n",
    "    for i in range(100):\n",
    "\n",
    "        randomDelta = np.random.normal(0., sigma_err_total, len(datay))\n",
    "        randomdataY = datay + randomDelta\n",
    "\n",
    "        randomfit, randomcov = \\\n",
    "            optimize.leastsq(errfunc, p0, args=(datax, randomdataY),\\\n",
    "                             full_output=0)\n",
    "\n",
    "        ps.append(randomfit) \n",
    "\n",
    "    ps = np.array(ps)\n",
    "    mean_pfit = np.mean(ps,0)\n",
    "\n",
    "    # You can choose the confidence interval that you want for your\n",
    "    # parameter estimates: \n",
    "    Nsigma = 1. # 1sigma gets approximately the same as methods above\n",
    "                # 1sigma corresponds to 68.3% confidence interval\n",
    "                # 2sigma corresponds to 95.44% confidence interval\n",
    "    err_pfit = Nsigma * np.std(ps,0) \n",
    "\n",
    "    pfit_bootstrap = mean_pfit\n",
    "    perr_bootstrap = err_pfit\n",
    "    return pfit_bootstrap, perr_bootstrap \n",
    "\n",
    "def inv_conductance(L, lambda_mfp, N_ch):\n",
    "    return 1 / N_ch + L / (lambda_mfp * N_ch)\n",
    "\n",
    "for (mu, disorder), gr in conduction.groupby(['mu', 'disorder']):\n",
    "    modes = gr.num_propagating.values[0]\n",
    "    ff = partial(inv_conductance, N_ch=modes)\n",
    "    xdata = gr.L\n",
    "    ydata = 1 / gr.means\n",
    "    pstart = 1000\n",
    "    pfit, perr = fit_bootstrap(pstart, xdata, ydata, ff)\n",
    "    print(\"mu: {} meV, disorder: {} meV, mfp: {:.0f} nm ± {:.0f}\".format(mu, disorder, pfit[0], perr[0]))"
   ]
  }
 ],
 "metadata": {
  "kernelspec": {
   "display_name": "Python 3",
   "language": "python",
   "name": "python3"
  },
  "language_info": {
   "codemirror_mode": {
    "name": "ipython",
    "version": 3
   },
   "file_extension": ".py",
   "mimetype": "text/x-python",
   "name": "python",
   "nbconvert_exporter": "python",
   "pygments_lexer": "ipython3",
   "version": "3.5.2"
  }
 },
 "nbformat": 4,
 "nbformat_minor": 0
}
