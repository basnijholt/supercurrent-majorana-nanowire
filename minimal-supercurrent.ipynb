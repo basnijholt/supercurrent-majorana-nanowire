{
 "cells": [
  {
   "cell_type": "code",
   "execution_count": null,
   "metadata": {
    "collapsed": false
   },
   "outputs": [],
   "source": [
    "from types import SimpleNamespace\n",
    "import kwant\n",
    "import numpy as np\n",
    "import holoviews as hv\n",
    "from supercurrent import current_at_phase, null_H\n",
    "hv.notebook_extension()\n",
    "\n",
    "s0 = np.array([[1., 0.], [0., 1.]])\n",
    "sx = np.array([[0., 1.], [1., 0.]])\n",
    "sy = np.array([[0., -1j], [1j, 0.]])\n",
    "sz = np.array([[1., 0.], [0., -1.]])\n",
    "\n",
    "onsite = lambda site, p: -p.mu * sz\n",
    "onsite_lead = lambda site, p: -p.mu * sz + p.delta * sx\n",
    "hops = lambda site1, site2, p: -p.t * sz\n",
    "\n",
    "def make_test_system(W, L):\n",
    "    lat = kwant.lattice.square()\n",
    "    syst = kwant.Builder()\n",
    "    range_w = range(W//2 - W + 1, W//2 + 1)\n",
    "    range_l = range(L//2 - L + 1, L//2 + 1)\n",
    "    syst[(lat(x, y) for x in range_l for y in range_w)] = onsite\n",
    "    syst[lat.neighbors()] = hops\n",
    "\n",
    "    l_cut = [lat(0, y) for y in range_w]\n",
    "    r_cut = [lat(1, y) for y in range_w]\n",
    "\n",
    "    num_orbs = 2\n",
    "    dim = num_orbs * len(l_cut) * len(r_cut)\n",
    "    vlead = kwant.builder.SelfEnergyLead(lambda energy, args: np.zeros((dim, dim)), r_cut + l_cut)\n",
    "    syst.leads.append(vlead)\n",
    "    \n",
    "    lead = kwant.Builder(kwant.TranslationalSymmetry((-1, 0)))\n",
    "    lead[(lat(0, y) for y in range_w)] = onsite_lead\n",
    "    lead[lat.neighbors()] = hops\n",
    "    syst.attach_lead(lead)\n",
    "    syst.attach_lead(lead.reversed())\n",
    "    syst = syst.finalized()\n",
    "    \n",
    "    r_cut_sites = [syst.sites.index(site) for site in r_cut]\n",
    "    l_cut_sites = [syst.sites.index(site) for site in l_cut]\n",
    "    \n",
    "    def hopping(syst, args=()):\n",
    "        return syst.hamiltonian_submatrix(args=args,\n",
    "                                          to_sites=l_cut_sites,\n",
    "                                          from_sites=r_cut_sites)[::2, ::2]\n",
    "    return syst, hopping"
   ]
  },
  {
   "cell_type": "code",
   "execution_count": null,
   "metadata": {
    "collapsed": false
   },
   "outputs": [],
   "source": [
    "from supercurrent import current_at_phase, null_H\n",
    "W = 2\n",
    "L = 2\n",
    "delta = 0.01\n",
    "T = 0.5 * delta\n",
    "matsfreqs = 50\n",
    "\n",
    "syst, hopping = make_test_system(W, L)\n",
    "p = SimpleNamespace(mu=0., t=1., delta=delta)\n",
    "\n",
    "phases = np.linspace(-np.pi, np.pi, 51)\n",
    "H_0_cache = []\n",
    "I = np.array([current_at_phase(syst, hopping, p, T, H_0_cache, phase, tol=0.01) for phase in phases])\n",
    "plt1 = hv.Curve(I/delta/W, kdims=['phase'], vdims=['$I$'])\n",
    "plt1"
   ]
  }
 ],
 "metadata": {
  "kernelspec": {
   "display_name": "Python 3",
   "language": "python",
   "name": "python3"
  },
  "language_info": {
   "codemirror_mode": {
    "name": "ipython",
    "version": 3
   },
   "file_extension": ".py",
   "mimetype": "text/x-python",
   "name": "python",
   "nbconvert_exporter": "python",
   "pygments_lexer": "ipython3",
   "version": "3.5.2"
  }
 },
 "nbformat": 4,
 "nbformat_minor": 0
}
