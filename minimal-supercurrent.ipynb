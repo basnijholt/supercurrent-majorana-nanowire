{
 "cells": [
  {
   "cell_type": "code",
   "execution_count": null,
   "metadata": {
    "collapsed": false
   },
   "outputs": [],
   "source": [
    "from types import SimpleNamespace\n",
    "import kwant\n",
    "import numpy as np\n",
    "import holoviews as hv\n",
    "hv.notebook_extension()\n",
    "\n",
    "s0 = np.array([[1., 0.], [0., 1.]])\n",
    "sx = np.array([[0., 1.], [1., 0.]])\n",
    "sy = np.array([[0., -1j], [1j, 0.]])\n",
    "sz = np.array([[1., 0.], [0., -1.]])\n",
    "\n",
    "onsite = lambda site, p: -p.mu * sz\n",
    "onsite_lead = lambda site, p: -p.mu * sz + p.delta * sx\n",
    "hops = lambda site1, site2, p: -p.t * sz\n",
    "\n",
    "def make_test_system(W, L):\n",
    "    lat = kwant.lattice.square()\n",
    "    syst = kwant.Builder()\n",
    "    range_w = range(W//2 - W + 1, W//2 + 1)\n",
    "    range_l = range(L//2 - L + 1, L//2 + 1)\n",
    "    syst[(lat(x, y) for x in range_l for y in range_w)] = onsite\n",
    "    syst[lat.neighbors()] = hops\n",
    "\n",
    "    l_cut = [lat(0, y) for y in range_w]\n",
    "    r_cut = [lat(1, y) for y in range_w]\n",
    "\n",
    "    num_orbs = 2\n",
    "    dim = num_orbs * len(l_cut) * len(r_cut)\n",
    "    vlead = kwant.builder.SelfEnergyLead(lambda energy, args: np.zeros((dim, dim)), r_cut + l_cut)\n",
    "    syst.leads.append(vlead)\n",
    "    \n",
    "    lead = kwant.Builder(kwant.TranslationalSymmetry((-1, 0)))\n",
    "    lead[(lat(0, y) for y in range_w)] = onsite_lead\n",
    "    lead[lat.neighbors()] = hops\n",
    "    syst.attach_lead(lead)\n",
    "    syst.attach_lead(lead.reversed())\n",
    "    syst = syst.finalized()\n",
    "    \n",
    "    r_cut_sites = [syst.sites.index(site) for site in r_cut]\n",
    "    l_cut_sites = [syst.sites.index(site) for site in l_cut]\n",
    "    \n",
    "    def hopping(syst, args=()):\n",
    "        return syst.hamiltonian_submatrix(args=args,\n",
    "                                          to_sites=l_cut_sites,\n",
    "                                          from_sites=r_cut_sites)[::2, ::2]\n",
    "    return syst, hopping\n",
    "\n",
    "\n",
    "def matsubara_frequency(T, n):\n",
    "    return (2*n + 1) * np.pi * T * 1j\n",
    "\n",
    "\n",
    "def null_H(syst, p, T, n):\n",
    "    en = matsubara_frequency(T, n)\n",
    "    gf = kwant.greens_function(syst, en, [p], [0], [0], check_hermiticity=False)\n",
    "    return np.linalg.inv(gf.data[::2, ::2])\n",
    "\n",
    "\n",
    "def gf_from_H_0(H_0, t):\n",
    "    H = np.copy(H_0)\n",
    "    dim = t.shape[0]\n",
    "    H[:dim, dim:] -= t.T.conj()\n",
    "    H[dim:, :dim] -= t\n",
    "    return np.linalg.inv(H)"
   ]
  },
  {
   "cell_type": "markdown",
   "metadata": {},
   "source": [
    "# calculation with fixed number of Matsubara frequencies"
   ]
  },
  {
   "cell_type": "code",
   "execution_count": null,
   "metadata": {
    "collapsed": false
   },
   "outputs": [],
   "source": [
    "# %%timeit\n",
    "def current_from_H_0(T, H_0s, H12, phase):\n",
    "    t = H12 * np.exp(1j * phase)\n",
    "    I = 0\n",
    "    for H_0 in H_0s:\n",
    "        gf = gf_from_H_0(H_0, t - H12)\n",
    "        dim = t.shape[0]\n",
    "        H12G21 = t.T.conj() @ gf[dim:, :dim]\n",
    "        H21G12 = t @ gf[:dim, dim:]\n",
    "        I += -4 * T * (np.trace(H21G12) - np.trace(H12G21)).imag\n",
    "    return I\n",
    "\n",
    "W = 2\n",
    "L = 2\n",
    "delta = 0.01\n",
    "T = 0.5 * delta\n",
    "matsfreqs = 50\n",
    "\n",
    "syst, hopping = make_test_system(W, L)\n",
    "p = SimpleNamespace(mu=0., t=1., delta=delta)\n",
    "\n",
    "H12 = hopping(syst, [p])\n",
    "phases = np.linspace(-np.pi, np.pi, 51)\n",
    "\n",
    "H_0s = [null_H(syst, p, T, n) for n in range(matsfreqs)]\n",
    "I = np.array([current_from_H_0(T, H_0s, H12, phase) for phase in phases])\n",
    "plt1 = hv.Curve(I/delta/W, kdims=['phase'], vdims=['$I$'])\n",
    "plt1"
   ]
  },
  {
   "cell_type": "markdown",
   "metadata": {},
   "source": [
    "# calculation with relative error"
   ]
  },
  {
   "cell_type": "code",
   "execution_count": 34,
   "metadata": {
    "collapsed": false,
    "scrolled": false
   },
   "outputs": [
    {
     "data": {
      "text/html": [
       "<img src='data:image/png;base64,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' style='max-width:100%; margin: auto; display: block; '/>"
      ],
      "text/plain": [
       "b':Curve   [phase]   ($I$)'"
      ]
     },
     "execution_count": 34,
     "metadata": {},
     "output_type": "execute_result"
    }
   ],
   "source": [
    "# %%timeit\n",
    "def current_contrib_from_H_0(T, H_0, H12, phase):\n",
    "    t = H12 * np.exp(1j * phase) # Maybe take this line outside of the function?\n",
    "    gf = gf_from_H_0(H_0, t - H12)\n",
    "    dim = t.shape[0]\n",
    "    H12G21 = t.T.conj() @ gf[dim:, :dim]\n",
    "    H21G12 = t @ gf[:dim, dim:]\n",
    "    return -4 * T * (np.trace(H21G12) - np.trace(H12G21)).imag\n",
    "\n",
    "\n",
    "def current_at_phase(syst, p, T, H_0s, phase, tol=1e-2):\n",
    "    H12 = hopping(syst, [p])\n",
    "    I = current_contrib_from_H_0(T, H_0s[0], H12, phase)\n",
    "    error = 1\n",
    "    n = 1\n",
    "    while error > tol:\n",
    "        if len(H_0s) <= n:\n",
    "            print(\"Calculating H_0 for n = {}\".format(n))\n",
    "            H_0s.append(null_H(syst, p, T, n))\n",
    "        I_contrib = current_contrib_from_H_0(T, H_0s[n], H12, phase)\n",
    "        n += 1\n",
    "        I += I_contrib\n",
    "        error = np.abs(I_contrib / I)\n",
    "        if n == 50:\n",
    "            print('Did not converge in 50 Matsubara frequencies.')\n",
    "    return I\n",
    "\n",
    "\n",
    "def current_at_phase(syst, p, T, hamiltonian_cache, phase, tol=1e-2, max_frequencies=50):\n",
    "    H12 = hopping(syst, [p])\n",
    "    I = 0\n",
    "    for n in range(max_frequencies):\n",
    "        if len(hamiltonian_cache) <= n:\n",
    "            hamiltonian_cache.append(null_H(syst, p, T, n))\n",
    "        I_contrib = current_contrib_from_H_0(T, hamiltonian_cache[n], H12, phase)\n",
    "        I += I_contrib\n",
    "        if abs(I_contrib / I) < tol:\n",
    "            return I\n",
    "    raise RuntimeError('Did not converge using {} Matsubara frequencies.'.format(max_frequencies))\n",
    "\n",
    "\n",
    "W = 2\n",
    "L = 2\n",
    "delta = 0.01\n",
    "T = 0.5 * delta\n",
    "\n",
    "syst, hopping = make_test_system(W, L)\n",
    "p = SimpleNamespace(mu=0., t=1., delta=delta)\n",
    "\n",
    "\n",
    "phases = np.linspace(-np.pi, np.pi, 51)\n",
    "\n",
    "H_0s = []\n",
    "I = np.array([current_at_phase(syst, p, T, H_0s, phase) for phase in phases])\n",
    "plt2 = hv.Curve(I/delta/W, kdims=['phase'], vdims=['$I$'])\n",
    "plt2"
   ]
  },
  {
   "cell_type": "code",
   "execution_count": 35,
   "metadata": {
    "collapsed": false
   },
   "outputs": [
    {
     "data": {
      "text/html": [
       "<img src='data:image/png;base64,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' style='max-width:100%; margin: auto; display: block; '/>"
      ],
      "text/plain": [
       ":Overlay\n",
       "   .Curve.I  :Curve   [phase]   ($I$)\n",
       "   .Curve.II :Curve   [phase]   ($I$)"
      ]
     },
     "execution_count": 35,
     "metadata": {},
     "output_type": "execute_result"
    }
   ],
   "source": [
    "plt1 * plt2"
   ]
  }
 ],
 "metadata": {
  "kernelspec": {
   "display_name": "Python 3",
   "language": "python",
   "name": "python3"
  },
  "language_info": {
   "codemirror_mode": {
    "name": "ipython",
    "version": 3
   },
   "file_extension": ".py",
   "mimetype": "text/x-python",
   "name": "python",
   "nbconvert_exporter": "python",
   "pygments_lexer": "ipython3",
   "version": "3.5.2"
  }
 },
 "nbformat": 4,
 "nbformat_minor": 0
}
