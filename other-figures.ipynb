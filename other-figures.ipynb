{
 "cells": [
  {
   "cell_type": "markdown",
   "metadata": {},
   "source": [
    "\n",
    "## Without Zeeman and with orbital effects, spin-orbit has little effect on $I_c$\n",
    "\n",
    "## With spin-orbit and with orbital effects, Zeeman has little effect on $I_c$\n",
    "\n",
    "## Without orbital effects and without spin-orbit, the $B$ dependence scales both with $L$ and $\\mu$\n",
    "\n",
    "## In single mode regime, Zeeman has the predominant effect on $I_c$\n",
    "\n",
    "## Both in the single mode and multimode regime, the orbital effect has the predominant effect on $I_c$\n",
    "\n",
    "## $0-\\pi$ transitions?\n",
    "* $L=640, \\mu=50$\n",
    "* $L=640, \\mu=40$\n",
    "* $L=160, \\mu=30$\n"
   ]
  },
  {
   "cell_type": "code",
   "execution_count": null,
   "metadata": {
    "collapsed": false
   },
   "outputs": [],
   "source": [
    "import matplotlib\n",
    "matplotlib.use('Agg')\n",
    "import matplotlib.pylab as plt\n",
    "\n",
    "import numpy as np\n",
    "import pandas as pd\n",
    "import holoviews as hv\n",
    "# hv.notebook_extension()\n",
    "%matplotlib inline\n",
    "# %config InlineBackend.figure_format = 'svg'\n",
    "\n",
    "golden_mean = (np.sqrt(5) - 1) / 2 # Aesthetic ratio\n",
    "fig_width_pt = 246.0 # Columnwidth\n",
    "inches_per_pt = 1.0 / 72.27 # Convert pt to inches\n",
    "fig_width = fig_width_pt * inches_per_pt\n",
    "fig_height = fig_width * golden_mean # height in inches\n",
    "fig_size = [fig_width, fig_height]\n",
    "\n",
    "params = {'backend': 'ps',\n",
    "          'axes.labelsize': 10,\n",
    "          'font.size': 10,\n",
    "          'legend.fontsize': 8,\n",
    "          'xtick.labelsize': 8,\n",
    "          'ytick.labelsize': 8,\n",
    "          'text.usetex': True,\n",
    "          'figure.figsize': fig_size,\n",
    "          'font.family': 'serif',\n",
    "          'font.serif': 'Computer Modern Roman',\n",
    "          'legend.frameon': True,\n",
    "          'savefig.dpi': 300\n",
    "         }\n",
    "\n",
    "plt.rcParams.update(params)\n",
    "plt.rc('text.latex', preamble=[r'\\usepackage{color}', r'\\usepackage{bm}'])\n",
    "\n",
    "import matplotlib.colors as colors\n",
    "    \n",
    "class HistogramNormalize(colors.Normalize):\n",
    "    def __init__(self, data, vmin=None, vmax=None, mixing_degree=1):\n",
    "        self.mixing_degree = mixing_degree\n",
    "        if vmin is not None:\n",
    "            data = data[data >= vmin]\n",
    "        if vmax is not None:\n",
    "            data = data[data <= vmax]\n",
    "\n",
    "        self.sorted_data = np.sort(data.flatten())\n",
    "        colors.Normalize.__init__(self, vmin, vmax)\n",
    "\n",
    "    def __call__(self, value, clip=None):\n",
    "        hist_norm = np.ma.masked_array(np.searchsorted(self.sorted_data, value) /\n",
    "                                       len(self.sorted_data))\n",
    "        linear_norm = super().__call__(value, clip)\n",
    "        return self.mixing_degree * hist_norm + (1 - self.mixing_degree) * linear_norm\n",
    "\n",
    "    \n",
    "def open_mtx(fname):\n",
    "    with open(fname, 'rb') as f:\n",
    "        line1 = f.readline()\n",
    "        *shape, entry_size = [int(i) for i in  f.readline().split()]\n",
    "        print('shape: ', shape)\n",
    "        data = np.fromfile(f, (np.float64 if entry_size == 8 else np.float32))\n",
    "        data = data.reshape(shape).squeeze()\n",
    "    \n",
    "    keys = ['units', 'plot_settings', 'xname', 'xmin', 'xmax', \n",
    "            'yname', 'ymin', 'ymax', 'zname', 'zmin', 'zmax']\n",
    "    values = line1.decode(\"utf-8\").replace('\\n', '').split(',')\n",
    "    meta_data = dict(zip(keys, values))\n",
    "    meta_data = {}\n",
    "    for key, val in zip(keys, values):\n",
    "        try:\n",
    "            meta_data[key] = float(val)\n",
    "        except:\n",
    "            meta_data[key] = val\n",
    "    return meta_data, data"
   ]
  },
  {
   "cell_type": "markdown",
   "metadata": {},
   "source": [
    "# same but with disorder"
   ]
  },
  {
   "cell_type": "code",
   "execution_count": null,
   "metadata": {
    "collapsed": false
   },
   "outputs": [],
   "source": [
    "df['disorder'].unique()"
   ]
  },
  {
   "cell_type": "code",
   "execution_count": null,
   "metadata": {
    "collapsed": false
   },
   "outputs": [],
   "source": [
    "fig, axs = plt.subplots(4, 1, sharey=False, sharex=True, figsize=(fig_width, 1.5*fig_height), \n",
    "                        gridspec_kw={'height_ratios':[2, 1, 2, 1]})\n",
    "\n",
    "plt.subplots_adjust(bottom=0.2, left=0.125, right=0.90, top=0.9, hspace=0.25, wspace=0.15)\n",
    "current = lambda orbital=True, g=50, alpha=20, mu=10, disorder=0: (\n",
    "    gb.get_group((orbital, g, alpha, mu, disorder, 0))['current_c'].values * 2.09757)\n",
    "# multiplied by 2e/hbar * k_B * T\n",
    "# http://www.wolframalpha.com/input/?i=(2+*+electronic+charge+%2F+hbar+)+*+boltzmann+constant+*+50e-3+kelvin\n",
    "\n",
    "phase = lambda orbital=True, g=50, alpha=20, mu=10, disorder=0: gb.get_group((orbital, g, alpha, mu, disorder, 0))['phase_c'].values\n",
    "B_x = total['B_x']\n",
    "\n",
    "def plot_curves(ax, mu, plot=current):\n",
    "    args = {'lw': 0.6, 'alpha': 1}\n",
    "    if mu == 10:\n",
    "        disorder=70\n",
    "    else:\n",
    "        disorder=110\n",
    "    ax.plot(B_x, plot(disorder=disorder, mu=mu), label='all effects', c='b', **args)\n",
    "    ax.plot(B_x, plot(disorder=disorder, orbital=False, mu=mu), label=r'$\\bm{A}=0$', c='g', **args)\n",
    "    ax.plot(B_x, plot(disorder=disorder, g=0, mu=mu)*1.025, label='$g=0$', c='r', **args) # small off-set to make the curves not overlap\n",
    "    ax.plot(B_x, plot(disorder=disorder, alpha=0, mu=mu), label=r'$\\alpha=0$', c='m', **args)\n",
    "    ax.plot(B_x, plot(disorder=disorder, orbital=False, alpha=0, mu=mu), label=r'$\\alpha=0, \\; \\bm{A}=0$', c='c', **args)\n",
    "    ax.plot(B_x, plot(disorder=disorder, alpha=0, g=0, mu=mu), label=r'$\\alpha=0, \\; g=0$', c='y', **args)\n",
    "#     ax.plot(B_x, plot(mu=mu, disorder=70), label=r'disorder, 70 meV', c='k', **args)\n",
    "#     ax.plot(B_x, plot(mu=mu, disorder=100), label=r'disorder, 100 meV', c='k', ls=':', **args)\n",
    "    return ax\n",
    "\n",
    "ymax = 0.1\n",
    "axs[0] = plot_curves(axs[0], 10)\n",
    "# axs[0].set_yticks([0, 0.2, 0.4, 0.6])\n",
    "axs[0].set_ylim(0, ymax)\n",
    "axs[0].set_xlabel('')\n",
    "axs[0].set_ylabel('$I_c$ [nA]')\n",
    "leg0 = axs[0].legend(loc='upper center', bbox_to_anchor=(0.5, 1.9), ncol=2, prop={'size': 6})\n",
    "\n",
    "axs[0].text(0.01, 0.8*ymax, '(a)')\n",
    "\n",
    "ymax = 6\n",
    "axs[2] = plot_curves(axs[2], 50)\n",
    "# axs[2].set_yticks([0, 20, 40, 60, 80])\n",
    "axs[2].set_ylim(0, ymax)\n",
    "axs[2].set_ylabel('$I_c$ [nA]')\n",
    "axs[2].text(0.01, 0.8*ymax, '(c)')\n",
    "\n",
    "for i in argrelextrema(current(orbital=False, alpha=0, mu=10, disorder=70), np.less):\n",
    "    x = B_x.iloc[i]\n",
    "    y1, y2 = 0, ymax\n",
    "    axs[0].plot((x, x), (y1, y2), 'c--')\n",
    "\n",
    "for i in argrelextrema(current(orbital=False, alpha=0, mu=50, disorder=110), np.less):\n",
    "    x = B_x.iloc[i]\n",
    "    y1, y2 = 0, ymax\n",
    "    axs[2].plot((x, x), (y1, y2), 'c--')\n",
    "    \n",
    "def first_min_max(arr):\n",
    "    return B_x.iloc[argrelextrema(arr, np.less)[0]], B_x.iloc[argrelextrema(arr, np.greater)[0]]\n",
    "\n",
    "B1, B2 = first_min_max(current(orbital=False, alpha=0, mu=10)) # for next cell\n",
    "B3, B4 = first_min_max(current(orbital=False, alpha=0, mu=50)) # for next cell\n",
    "\n",
    "axs[1] = plot_curves(axs[1], 10, phase)\n",
    "axs[1].set_yticks([-3.14, 0, 3.14])\n",
    "axs[1].set_yticklabels(['$-\\pi$', 0, '$\\pi$'])\n",
    "axs[1].set_ylabel(r'$\\theta_c$')\n",
    "axs[1].text(0.01, -2.15, '(b)')\n",
    "\n",
    "axs[3] = plot_curves(axs[3], 50, phase)\n",
    "axs[3].set_yticks([-3.14, 0, 3.14])\n",
    "axs[3].set_yticklabels(['$-\\pi$', 0, '$\\pi$'])\n",
    "axs[3].set_xlabel('$B_x$ [$T$]')\n",
    "axs[3].set_ylabel(r'$\\theta_c$')\n",
    "axs[3].text(0.01, -2.1, '(d)')\n",
    "fig.savefig('figures/critical_currents.pdf', format='pdf', dpi=300, bbox_inches=\"tight\", additional_artists=[leg0])\n",
    "plt.show()"
   ]
  },
  {
   "cell_type": "markdown",
   "metadata": {},
   "source": [
    "# Gate dependence"
   ]
  },
  {
   "cell_type": "code",
   "execution_count": null,
   "metadata": {
    "collapsed": false
   },
   "outputs": [],
   "source": [
    "from matplotlib import rcParams\n",
    "rcParams.update({'figure.subplot.left': 0.1})"
   ]
  },
  {
   "cell_type": "code",
   "execution_count": null,
   "metadata": {
    "collapsed": false,
    "scrolled": false
   },
   "outputs": [],
   "source": [
    "df = pd.read_hdf('data/all_gate_data_current_as_function_of_gate_and_B_x__A_in_SM_and_SC.hdf')\n",
    "gb = df.groupby(['gate_size'])\n",
    "gr = gb.get_group((640))\n",
    "\n",
    "fig = plt.figure(figsize=(fig_width, fig_height))\n",
    "ax = fig.add_axes([0.1, 0.2, 0.71, 0.85])\n",
    "extent = (gr.min()['B_x'], gr.max()['B_x'], gr.min()['Vs'], gr.max()['Vs'])\n",
    "norm = HistogramNormalize(np.array(gr['current_c']))\n",
    "kwargs = dict(extent=extent, cmap='viridis', aspect='auto', vmax=20, \n",
    "              norm=norm, origin='lower')\n",
    "im = ax.imshow(gr.pivot(index='B_x', columns='Vs', values='current_c').T, **kwargs)\n",
    "ax.set_xlabel('Magnetic field $B_x$ [$T$]')\n",
    "ax.set_ylabel(r'$V_\\textrm{gate}$ [meV]')\n",
    "cax = fig.add_axes([0.83, 0.2, 0.04, 0.85])\n",
    "cbar_ticks = [0, 5, 10, 15, 20, 25]\n",
    "cb = fig.colorbar(im, cax=cax, extend='max', label=r'$I_c$ [meV$/\\Phi_0$]', ticks=cbar_ticks)\n",
    "cb.ax.set_yticklabels(cbar_ticks)\n",
    "fig.savefig('figures/gate_dependence.pdf', format='pdf', dpi=300)"
   ]
  },
  {
   "cell_type": "code",
   "execution_count": null,
   "metadata": {
    "collapsed": false
   },
   "outputs": [],
   "source": [
    "df['disorder'].unique(), df['mu'].unique()"
   ]
  },
  {
   "cell_type": "code",
   "execution_count": null,
   "metadata": {
    "collapsed": false,
    "scrolled": false
   },
   "outputs": [],
   "source": [
    "df = pd.read_hdf('data/current_as_function_of_gate_and_B_x_with_disorder_combined.hdf')\n",
    "gb = df.groupby(['disorder', 'gate_size'])\n",
    "gr = gb.get_group((70, 80))\n",
    "\n",
    "fig = plt.figure(figsize=(fig_width, fig_height))\n",
    "ax = fig.add_axes([0.1, 0.2, 0.71, 0.85])\n",
    "extent = (gr.min()['B_x'], gr.max()['B_x'], gr.min()['V'], gr.max()['V'])\n",
    "\n",
    "data = gr.pivot(index='B_x', columns='V', values='current_c').T * 2.09757\n",
    "\n",
    "norm = HistogramNormalize(np.array(data), vmin=0, vmax=2)\n",
    "kwargs = dict(extent=extent, cmap='viridis', aspect='auto', \n",
    "#               norm=norm, \n",
    "#               vmax=2,\n",
    "              origin='lower')\n",
    "im = ax.imshow(data, **kwargs)\n",
    "\n",
    "# multiplied by 2e/hbar * k_B * T\n",
    "# http://www.wolframalpha.com/input/?i=(2+*+electronic+charge+%2F+hbar+)+*+boltzmann+constant+*+50e-3+kelvin\n",
    "ax.set_xlabel('Magnetic field $B_x$ [$T$]')\n",
    "ax.set_ylabel(r'$V_\\textrm{gate}$ [meV]')\n",
    "cax = fig.add_axes([0.83, 0.2, 0.04, 0.85])\n",
    "cbar_ticks = [0, 5, 10, 15, 20, 25]\n",
    "cb = fig.colorbar(im, cax=cax, extend='max', label=r'$I_c$ [nA]')\n",
    "# cb.set_ticks(cbar_ticks)\n",
    "fig.savefig('figures/gate_dependence.pdf', format='pdf', dpi=300)"
   ]
  },
  {
   "cell_type": "code",
   "execution_count": null,
   "metadata": {
    "collapsed": false,
    "scrolled": false
   },
   "outputs": [],
   "source": [
    "%%opts Image [aspect='square']\n",
    "import funcs\n",
    "def holomap_from_df(fname, x, y, z=None, drops=[], xlims=(None, None), ylims=(None, None)):\n",
    "    df = pd.read_hdf(fname)\n",
    "    udf = df.drop([x, y, *drops], axis=1)\n",
    "    if z is not None:\n",
    "        udf = udf.drop([z], axis=1)\n",
    "    udf = funcs.drop_constant_columns(udf)\n",
    "    dims = [hv.Dimension(col, values=udf[col]) for col in udf.columns]\n",
    "    gb = df.groupby(udf.columns.tolist())\n",
    "    hm = {}\n",
    "    for i, gr in gb:\n",
    "        table = gr.pivot_table(index=x, columns=y, values=z)\n",
    "        extents = gr[x].min(), gr[y].min(), gr[x].max(), gr[y].max()\n",
    "        hm[i] = hv.Image(np.rot90(table), kdims=[x, y], bounds=extents)\n",
    "        \n",
    "    return hv.HoloMap(hm, kdims=udf.columns.tolist())\n",
    "\n",
    "\n",
    "hm = holomap_from_df('data/current_as_function_of_gate_and_B_x_with_disorder_combined.hdf', \n",
    "                   x='B_x', y='V', z='current_c', drops=('currents', 'phases', 'phase_c', 'git_hash'))\n",
    "\n",
    "print(hm.items())\n",
    "\n",
    "hm[640, 100].select(B_x=(0, 0.5), V=(0, 10)).data"
   ]
  },
  {
   "cell_type": "code",
   "execution_count": null,
   "metadata": {
    "collapsed": false,
    "scrolled": false
   },
   "outputs": [],
   "source": [
    "df = pd.read_hdf('data/current_as_function_of_gate_and_B_x_with_disorder_combined.hdf')\n",
    "gb = df.groupby(['disorder', 'gate_size'])\n",
    "gr = gb.get_group((100, 640))\n",
    "gr = gr[gr['B_x'] < 0.5]\n",
    "gr = gr[gr['V'] >= 15]\n",
    "gr = gr[gr['V'] <= 25]\n",
    "fig = plt.figure(figsize=(fig_width, fig_height))\n",
    "ax = fig.add_axes([0.1, 0.2, 0.71, 0.85])\n",
    "extent = (gr.min()['B_x'], gr.max()['B_x'], gr.min()['V'], gr.max()['V'])\n",
    "data = gr.pivot(index='B_x', columns='V', values='current_c').T * 2.09757\n",
    "norm = HistogramNormalize(np.array(data), vmax=1) \n",
    "norm = colors.PowerNorm(gamma=0.5)\n",
    "kwargs = dict(extent=extent, cmap='viridis', aspect='auto', \n",
    "              norm=norm, \n",
    "              interpolation='nearest',\n",
    "#               vmax=10,\n",
    "              origin='lower')\n",
    "im = ax.imshow(data, **kwargs)\n",
    "\n",
    "# multiplied by 2e/hbar * k_B * T\n",
    "# http://www.wolframalpha.com/input/?i=(2+*+electronic+charge+%2F+hbar+)+*+boltzmann+constant+*+50e-3+kelvin\n",
    "ax.set_xlabel('Magnetic field $B_x$ [$T$]')\n",
    "ax.set_ylabel(r'$V_\\textrm{gate}$ [meV]')\n",
    "cax = fig.add_axes([0.83, 0.2, 0.04, 0.85])\n",
    "cbar_ticks = [0, 5, 10, 15, 20, 25]\n",
    "cb = fig.colorbar(im, cax=cax, \n",
    "#                   extend='max', \n",
    "                  label=r'$I_c$ [nA]')\n",
    "# cb.set_ticks(cbar_ticks)\n",
    "fig.savefig('figures/gate_dependence.pdf', format='pdf', dpi=300)\n"
   ]
  },
  {
   "cell_type": "code",
   "execution_count": null,
   "metadata": {
    "collapsed": false
   },
   "outputs": [],
   "source": [
    "df['disorder'].unique(), df['mu'].unique(), df['gate_size'].unique()"
   ]
  },
  {
   "cell_type": "markdown",
   "metadata": {},
   "source": [
    "# Rotating field"
   ]
  },
  {
   "cell_type": "code",
   "execution_count": null,
   "metadata": {
    "collapsed": false,
    "scrolled": false
   },
   "outputs": [],
   "source": [
    "df = pd.read_hdf('data/rotation_of_field__L_640_nm__infinite_leads.hdf')\n",
    "df['theta'] = (df['theta'] * 180 / np.pi).round(0).astype(int)\n",
    "gb = df.groupby(['theta', 'T', 'L', 'with_leads', 'orbital', 'g', 'alpha', 'mu'])\n",
    "\n",
    "theta_0 = gb.get_group((0, 1, 640, True, True, 50, 20, 50))\n",
    "theta_30 = gb.get_group((30, 1, 640, True, True, 50, 20, 50))\n",
    "theta_60 = gb.get_group((60, 1, 640, True, True, 50, 20, 50))\n",
    "theta_90 = gb.get_group((90, 1, 640, True, True, 50, 20, 50))\n",
    "\n",
    "B_x = theta_0['B']\n",
    "\n",
    "fig = plt.figure(figsize=(fig_width, fig_height))\n",
    "ax = fig.add_axes([0.125, 0.2, (0.95-0.125), (0.95-0.2)])\n",
    "ax.plot(B_x, theta_0['current_c'], label=r'$\\bm{B} \\parallel \\hat{x}$')\n",
    "ax.plot(B_x, theta_90['current_c'], label=r'$\\bm{B} \\parallel \\hat{z}$')\n",
    "ax.plot(B_x, theta_30['current_c'], label=r'$\\bm{B} \\parallel \\sqrt{3} \\hat{x} + \\hat{z}$')\n",
    "ax.plot(B_x, theta_60['current_c'], label=r'$\\bm{B} \\parallel \\hat{x} + \\sqrt{3} \\hat{z}$')\n",
    "ax.set_yticks(np.arange(0, 100, 10))\n",
    "ax.set_ylim(0, 40)\n",
    "ax.set_xlabel(r'Magnetic field $|\\bm{B}|$ [$T$]')\n",
    "ax.set_ylabel('$I_c$ [meV$/\\Phi_0$]')\n",
    "ax.legend(framealpha=1)\n",
    "fig.savefig('figures/rotation_of_field.pdf', format='pdf', dpi=300)\n",
    "plt.show()"
   ]
  },
  {
   "cell_type": "markdown",
   "metadata": {},
   "source": [
    "$U H(B, \\phi) U^\\dagger = H(B, -\\phi), \\quad U = \\sigma_x \\delta(x+x')$"
   ]
  },
  {
   "cell_type": "markdown",
   "metadata": {},
   "source": [
    "# Current as function of $\\mu$ and $B_x$"
   ]
  },
  {
   "cell_type": "code",
   "execution_count": null,
   "metadata": {
    "collapsed": false,
    "scrolled": false
   },
   "outputs": [],
   "source": [
    "df = pd.read_hdf('data/no_disorder_B_vs_I_c__L_640_nm__infinite_leads__varying_mu.hdf')\n",
    "gb = df.groupby(['orbital', 'g', 'alpha'])\n",
    "\n",
    "gr = gb.get_group((True, 50, 20))\n",
    "for (orbital, g, alpha), gr in gb:\n",
    "    fig = plt.figure(figsize=(fig_width, fig_height))\n",
    "    ax = fig.add_axes([0.1, 0.2, 0.71, 0.85])\n",
    "    extent = (gr.B_x.min(), gr.B_x.max(), gr.mu.min(), gr.mu.max())\n",
    "    norm = HistogramNormalize(gr.current_c.values)\n",
    "    kwargs = dict(extent=extent, cmap='viridis', aspect='auto', vmax=20, \n",
    "                  norm=norm, origin='lower')\n",
    "    im = ax.imshow(gr.pivot_table(index='B_x', columns='mu', values='current_c').T, **kwargs)\n",
    "    ax.set_xlabel('Magnetic field $B_x$ [$T$]')\n",
    "    ax.set_ylabel(r'$\\mu$ [meV]')\n",
    "    ax.set_title(r'$\\bm{{A}} {}0, \\; g={}, \\; \\alpha={}$'.format((r'\\ne' if orbital else '='), g, alpha))\n",
    "    cax = fig.add_axes([0.83, 0.2, 0.04, 0.85])\n",
    "    cbar_ticks = [0, 5, 10, 15, 20, 25]\n",
    "    cb = fig.colorbar(im, cax=cax, extend='max', label=r'$I_c$ [meV$/\\Phi_0$]', ticks=cbar_ticks)\n",
    "    cb.ax.set_yticklabels(cbar_ticks)\n",
    "    plt.show()"
   ]
  },
  {
   "cell_type": "markdown",
   "metadata": {},
   "source": [
    "\n",
    "# $I_c(\\mu, \\alpha)$ for a 1D wire"
   ]
  },
  {
   "cell_type": "code",
   "execution_count": null,
   "metadata": {
    "collapsed": false
   },
   "outputs": [],
   "source": [
    "df = pd.read_hdf('data/1d_alpha_vs_B_x.hdf')\n",
    "gb = df.groupby('mu')\n",
    "\n",
    "fig, axs = plt.subplots(2, 3, sharey=True, sharex=True, figsize=(fig_width, fig_height))\n",
    "plt.subplots_adjust(bottom=0.2, left=0.125, right=0.80, top=0.9, hspace=0.15, wspace=0.15)\n",
    "\n",
    "for i, (ax, (mu, gr)) in enumerate(zip(axs.flatten(), gb)):\n",
    "    norm = HistogramNormalize(gr.current_c.values)\n",
    "    extent = (gr.B_x.min(), gr.B_x.max(), gr.alpha.min(), gr.alpha.max())\n",
    "    ax.imshow(gr.pivot_table(index='B_x', columns='alpha', values='current_c').T.values, \n",
    "              origin='lower', cmap='viridis', extent=extent, aspect='auto', norm=norm)\n",
    "\n",
    "    ax.set_yticks([0, 50, 100])\n",
    "    ax.set_xticks([0, 0.7, 1.4])\n",
    "    ax.set_xticklabels(['0', '0.7', '1.4'])\n",
    "\n",
    "    if i in [3, 4, 5]:\n",
    "        ax.set_xlabel('$B_x$ [T]')\n",
    "    if i in [0, 3]:\n",
    "        ax.set_ylabel(r'$\\alpha$ [meV$\\cdot$nm]')\n",
    "\n",
    "    ax.text(0.08, 80, '({})'.format('abcdef'[i]))\n",
    "fig.savefig('figures/currents_1D_alpha_vs_B_x.pdf', format='pdf', dpi=300)"
   ]
  }
 ],
 "metadata": {
  "anaconda-cloud": {},
  "kernelspec": {
   "display_name": "Python [conda env:python3]",
   "language": "python",
   "name": "conda-env-python3-py"
  },
  "language_info": {
   "codemirror_mode": {
    "name": "ipython",
    "version": 3
   },
   "file_extension": ".py",
   "mimetype": "text/x-python",
   "name": "python",
   "nbconvert_exporter": "python",
   "pygments_lexer": "ipython3",
   "version": "3.5.2"
  }
 },
 "nbformat": 4,
 "nbformat_minor": 0
}
