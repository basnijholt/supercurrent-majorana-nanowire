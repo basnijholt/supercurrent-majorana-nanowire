{
 "cells": [
  {
   "cell_type": "markdown",
   "metadata": {
    "collapsed": false
   },
   "source": [
    "# Interesting observations"
   ]
  },
  {
   "cell_type": "code",
   "execution_count": null,
   "metadata": {
    "collapsed": false
   },
   "outputs": [],
   "source": [
    "from types import SimpleNamespace\n",
    "import numpy as np\n",
    "import holoviews as hv\n",
    "import pandas as pd\n",
    "hv.notebook_extension()\n",
    "%opts Scatter (color='b') Path [show_legend=True aspect='square']\n",
    "pd.set_option('display.max_columns', None)\n",
    "\n",
    "def dims(df):\n",
    "    return SimpleNamespace(phi=hv.Dimension(r'$\\phi$', unit='rad'),\n",
    "                           phi_c=hv.Dimension(r'$\\phi_c$', unit='rad'),\n",
    "                           I=hv.Dimension('$I$', unit=r'meV / $\\Phi_0$'),\n",
    "                           I_c=hv.Dimension('$I_c$', unit=r'meV / $\\Phi_0$'),\n",
    "                           B=hv.Dimension('$B$', unit='T', values=df['B_x']),\n",
    "                           T=hv.Dimension('$T$', unit='K', values=sorted(df['T'])), \n",
    "                           L=hv.Dimension('$L$', unit='nm', values=sorted(df['L'])), \n",
    "                           g=hv.Dimension('$g$-factor', values=df['g']), \n",
    "                           alpha=hv.Dimension(r'$\\alpha$', unit='mev nm', values=df['alpha']), \n",
    "                           mu=hv.Dimension(r'$\\mu$', unit='meV', values=df['mu']), \n",
    "                           a=hv.Dimension('$a$', unit='nm', values=df['a']),\n",
    "                           orbital=hv.Dimension('orbital', values=[True, False]),\n",
    "                           leads=hv.Dimension('leads', values=[True, False]),\n",
    "                           zoom=hv.Dimension('zoom', values=[1, 5, 10, 25, 50, 75, 100, 200]))\n",
    "\n",
    "def dynamic_map(fname, label=None):\n",
    "    df = pd.read_hdf(fname)\n",
    "    d = dims(df)\n",
    "    gb = df.groupby(['T', 'L', 'with_leads', 'orbital', 'g', 'alpha', 'mu', 'a'])\n",
    "    groups = dict(list(gb))\n",
    "\n",
    "    if label is None:\n",
    "        label = fname\n",
    "\n",
    "    def current_curve(T, L, leads, orbital, g, alpha, mu, a, zoom):\n",
    "        gr = groups[(T, L, leads, orbital, g, alpha, mu, a)]\n",
    "        return hv.Path((gr['B_x'], gr['current_c']), kdims=[d.B, d.I_c], label=label)[:, 0:zoom]\n",
    "\n",
    "    def phase_curve(T, L, leads, orbital, g, alpha, mu, a, zoom):\n",
    "        gr = groups[(T, L, leads, orbital, g, alpha, mu, a)]\n",
    "        return hv.Path((gr['B_x'], gr['phase_c']), kdims=[d.B, d.phi_c], label=label)[:, -np.pi:np.pi]\n",
    "\n",
    "    def current_phase(B_x, T, L, leads, orbital, g, alpha, mu, a, zoom):\n",
    "        gr = groups[(T, L, leads, orbital, g, alpha, mu, a)]\n",
    "        gr = gr[gr['B_x'] == B_x]\n",
    "        phases = np.array(gr['phases'])[0]\n",
    "        currents = np.array(gr['currents'])[0]\n",
    "        return (hv.Path((phases, currents), kdims=[d.phi, d.I], label=label)[:, -zoom:zoom] *\n",
    "                hv.Scatter((gr['phase_c'], gr['current_c'])))\n",
    "\n",
    "    kdims = [d.T, d.L, d.leads, d.orbital, d.g, d.alpha, d.mu, d.a, d.zoom]\n",
    "\n",
    "    return (hv.DynamicMap(current_curve, kdims=kdims),\n",
    "            hv.DynamicMap(phase_curve, kdims=kdims),\n",
    "            hv.DynamicMap(current_phase, kdims=[d.B] + kdims))"
   ]
  },
  {
   "cell_type": "code",
   "execution_count": null,
   "metadata": {
    "collapsed": false
   },
   "outputs": [],
   "source": [
    "dm = dynamic_map('data/all_data_circular_A_in_SM.hdf')"
   ]
  },
  {
   "cell_type": "code",
   "execution_count": null,
   "metadata": {
    "collapsed": false
   },
   "outputs": [],
   "source": [
    "dm[0] + dm[1]"
   ]
  },
  {
   "cell_type": "code",
   "execution_count": null,
   "metadata": {
    "collapsed": false
   },
   "outputs": [],
   "source": [
    "dm[2]"
   ]
  },
  {
   "cell_type": "markdown",
   "metadata": {},
   "source": [
    "# Without Zeeman and with orbital effects, spin-orbit has little effect on $I_c$"
   ]
  },
  {
   "cell_type": "markdown",
   "metadata": {},
   "source": [
    "# With spin-orbit and with orbital effects, Zeeman has little effect on $I_c$"
   ]
  },
  {
   "cell_type": "markdown",
   "metadata": {},
   "source": [
    "# Without orbital effects and without spin-orbit, the $B$ dependence scales both with $L$ and $\\mu$"
   ]
  },
  {
   "cell_type": "markdown",
   "metadata": {},
   "source": [
    "# In single mode regime, Zeeman has the predominant effect on $I_c$"
   ]
  },
  {
   "cell_type": "markdown",
   "metadata": {},
   "source": [
    "# Both in the single mode and multimode regime, the orbital effect has the predominant effect on $I_c$"
   ]
  },
  {
   "cell_type": "markdown",
   "metadata": {},
   "source": [
    "# $0-\\pi$ transitions?\n",
    "* $L=640, \\mu=50$\n",
    "* $L=640, \\mu=40$\n",
    "* $L=160, \\mu=30$\n"
   ]
  }
 ],
 "metadata": {
  "anaconda-cloud": {},
  "kernelspec": {
   "display_name": "Python [default]",
   "language": "python",
   "name": "python3"
  },
  "language_info": {
   "codemirror_mode": {
    "name": "ipython",
    "version": 3
   },
   "file_extension": ".py",
   "mimetype": "text/x-python",
   "name": "python",
   "nbconvert_exporter": "python",
   "pygments_lexer": "ipython3",
   "version": "3.5.2"
  }
 },
 "nbformat": 4,
 "nbformat_minor": 0
}
