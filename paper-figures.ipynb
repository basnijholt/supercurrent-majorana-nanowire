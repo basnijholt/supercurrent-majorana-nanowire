{
 "cells": [
  {
   "cell_type": "markdown",
   "metadata": {},
   "source": [
    "\n",
    "## Without Zeeman and with orbital effects, spin-orbit has little effect on $I_c$\n",
    "\n",
    "## With spin-orbit and with orbital effects, Zeeman has little effect on $I_c$\n",
    "\n",
    "## Without orbital effects and without spin-orbit, the $B$ dependence scales both with $L$ and $\\mu$\n",
    "\n",
    "## In single mode regime, Zeeman has the predominant effect on $I_c$\n",
    "\n",
    "## Both in the single mode and multimode regime, the orbital effect has the predominant effect on $I_c$\n",
    "\n",
    "## $0-\\pi$ transitions?\n",
    "* $L=640, \\mu=50$\n",
    "* $L=640, \\mu=40$\n",
    "* $L=160, \\mu=30$\n"
   ]
  },
  {
   "cell_type": "code",
   "execution_count": null,
   "metadata": {
    "collapsed": false
   },
   "outputs": [],
   "source": [
    "import matplotlib.pylab as plt\n",
    "import numpy as np\n",
    "import pandas as pd\n",
    "%matplotlib inline\n",
    "# %config InlineBackend.figure_format = 'svg'\n",
    "\n",
    "golden_mean = (np.sqrt(5) - 1) / 2 # Aesthetic ratio\n",
    "fig_width_pt = 246.0 # Columnwidth\n",
    "inches_per_pt = 1.0 / 72.27 # Convert pt to inches\n",
    "fig_width = fig_width_pt * inches_per_pt\n",
    "fig_height = fig_width * golden_mean # height in inches\n",
    "fig_size = [fig_width, fig_height]\n",
    "\n",
    "params = {'backend': 'ps',\n",
    "          'axes.labelsize': 10,\n",
    "          'font.size': 10,\n",
    "          'legend.fontsize': 8,\n",
    "          'xtick.labelsize': 8,\n",
    "          'ytick.labelsize': 8,\n",
    "          'text.usetex': True,\n",
    "          'figure.figsize': fig_size,\n",
    "          'font.family': 'serif',\n",
    "          'font.serif': 'Computer Modern Roman',\n",
    "          'legend.frameon': True,\n",
    "          'savefig.dpi': 300\n",
    "         }\n",
    "\n",
    "plt.rcParams.update(params)\n",
    "plt.rc('text.latex', preamble=[r'\\usepackage{color}', r'\\usepackage{bm}'])\n",
    "\n",
    "import matplotlib.colors as colors\n",
    "    \n",
    "class HistogramNormalize(colors.Normalize):\n",
    "    def __init__(self, data, vmin=None, vmax=None):\n",
    "        if vmin is not None:\n",
    "            data = data[data > vmin]\n",
    "        if vmax is not None:\n",
    "            data = data[data < vmax]\n",
    "            \n",
    "        self.sorted_data = np.sort(data.flatten())\n",
    "        colors.Normalize.__init__(self, vmin, vmax)\n",
    "\n",
    "    def __call__(self, value, clip=None):\n",
    "        return np.ma.masked_array(np.searchsorted(self.sorted_data, value) /\n",
    "                                  len(self.sorted_data))"
   ]
  },
  {
   "cell_type": "markdown",
   "metadata": {},
   "source": [
    "# Multi mode regime:"
   ]
  },
  {
   "cell_type": "code",
   "execution_count": null,
   "metadata": {
    "collapsed": false
   },
   "outputs": [],
   "source": [
    "df = pd.read_hdf('data/all_data_circular_A_in_SM_and_SC.hdf')\n",
    "gb = df.groupby(['T', 'L', 'with_leads', 'orbital', 'g', 'alpha', 'mu'])\n",
    "\n",
    "total = gb.get_group((1, 640, True, True, 50, 20, 50))\n",
    "Zeeman_only = gb.get_group((1, 640, True, False, 50, 20, 50))\n",
    "orbital_only = gb.get_group((1, 640, True, True, 0, 20, 50))\n",
    "no_spin_orbit = gb.get_group((1, 640, True, False, 50, 0, 50))\n",
    "\n",
    "fig = plt.figure(figsize=(fig_width, fig_height))\n",
    "ax = fig.add_axes([0.125, 0.2, (0.95-0.125), (0.95-0.2)])\n",
    "ax.plot(total['B_x'], total['current_c'], label='all effects')\n",
    "ax.plot(Zeeman_only['B_x'], Zeeman_only['current_c'], label='$A=0$')\n",
    "ax.plot(orbital_only['B_x'], orbital_only['current_c'], label='$g=0$')\n",
    "ax.plot(no_spin_orbit['B_x'], no_spin_orbit['current_c'], label=r'$\\alpha=0, \\; A=0$')\n",
    "ax.set_yticks(np.arange(0, 100, 10))\n",
    "ax.set_ylim(0, 50)\n",
    "ax.set_xlabel('Magnetic field $B$ [$T$]')\n",
    "ax.set_ylabel('Critical current $I_c$ [meV$/\\Phi_0$]')\n",
    "ax.legend(framealpha=0.2)\n",
    "# fig.savefig('figures/decay_length_2d.pdf', format='pdf', dpi=1000)\n",
    "plt.show()"
   ]
  },
  {
   "cell_type": "markdown",
   "metadata": {},
   "source": [
    "# Single mode regime:"
   ]
  },
  {
   "cell_type": "code",
   "execution_count": null,
   "metadata": {
    "collapsed": false
   },
   "outputs": [],
   "source": [
    "df = pd.read_hdf('data/all_data_circular_A_in_SM_and_SC.hdf')\n",
    "gb = df.groupby(['T', 'L', 'with_leads', 'orbital', 'g', 'alpha', 'mu'])\n",
    "\n",
    "total = gb.get_group((1, 640, True, True, 50, 20, 10))\n",
    "Zeeman_only = gb.get_group((1, 640, True, False, 50, 20, 10))\n",
    "orbital_only = gb.get_group((1, 640, True, True, 0, 20, 10))\n",
    "no_spin_orbit = gb.get_group((1, 640, True, False, 50, 0, 10))\n",
    "\n",
    "fig = plt.figure(figsize=(fig_width, fig_height))\n",
    "ax = fig.add_axes([0.125,0.2,(0.95-0.125),(0.95-0.2)])\n",
    "ax.plot(total['B_x'], total['current_c'], label='all effects')\n",
    "ax.plot(Zeeman_only['B_x'], Zeeman_only['current_c'], label='$A=0$')\n",
    "ax.plot(orbital_only['B_x'], orbital_only['current_c'], label='$g=0$')\n",
    "ax.plot(no_spin_orbit['B_x'], no_spin_orbit['current_c'], label=r'$\\alpha=0, \\; A=0$')\n",
    "ax.set_yticks([0.0, 0.1, 0.2, 0.3])\n",
    "ax.set_ylim(0, 0.35)\n",
    "ax.set_xlabel('Magnetic field $B$ [$T$]')\n",
    "ax.set_ylabel('Critical current $I_c$ [meV$/\\Phi_0$]')\n",
    "ax.legend(framealpha=0.2)\n",
    "# fig.savefig('figures/decay_length_2d.pdf', format='pdf', dpi=1000)\n",
    "plt.show()"
   ]
  },
  {
   "cell_type": "markdown",
   "metadata": {},
   "source": [
    "# Both"
   ]
  },
  {
   "cell_type": "code",
   "execution_count": null,
   "metadata": {
    "collapsed": false
   },
   "outputs": [],
   "source": [
    "from scipy.signal import argrelextrema\n",
    "df = pd.read_hdf('data/all_data_circular_A_in_SM_and_SC.hdf')\n",
    "gb = df.groupby(['T', 'L', 'with_leads', 'orbital', 'g', 'alpha', 'mu'])\n",
    "fig, axs = plt.subplots(2, 1, sharey=False, sharex=True, figsize=(fig_width, 2 * fig_height))\n",
    "plt.subplots_adjust(bottom=0.2, left=0.125, right=0.80, top=0.9, hspace=0.10, wspace=0.15)\n",
    "\n",
    "current = lambda orbital=True, g=50, alpha=20, mu=10: gb.get_group((1, 640, True, orbital, g, alpha, mu))['current_c'].as_matrix()\n",
    "B_x = total['B_x']\n",
    "\n",
    "def plot_curves(ax, mu):\n",
    "    ax.plot(B_x, current(mu=mu), label='all effects', c='b')\n",
    "    ax.plot(B_x, current(orbital=False, mu=mu), label=r'$\\bm{A}=0$', c='g')\n",
    "    ax.plot(B_x, current(g=0, mu=mu), label='$g=0$', c='r')\n",
    "    ax.plot(B_x, current(alpha=0, mu=mu), label=r'$\\alpha=0$', c='m')\n",
    "    ax.plot(B_x, current(orbital=False, alpha=0, mu=mu), label=r'$\\alpha=0, \\; \\bm{A}=0$', c='c')\n",
    "    ax.plot(B_x, current(alpha=0, g=0, mu=mu), label=r'$\\alpha=0, \\; g=0$', c='y')\n",
    "    return ax\n",
    "\n",
    "axs[0] = plot_curves(axs[0], 10)\n",
    "axs[0].set_yticks([0.0, 0.2, 0.4])\n",
    "axs[0].set_ylim(0, 0.65)\n",
    "axs[0].set_xlabel('')\n",
    "axs[0].set_ylabel('$I_c$ [meV$/\\Phi_0$]')\n",
    "leg0 = axs[0].legend(framealpha=1)\n",
    "axs[0].text(0.015, 0.9*0.65, '(a)')\n",
    "\n",
    "axs[1] = plot_curves(axs[1], 50)\n",
    "axs[1].set_yticks([0, 10, 20, 30])\n",
    "axs[1].set_ylim(0, 42)\n",
    "axs[1].set_xlabel('Magnetic field $B_x$ [$T$]')\n",
    "axs[1].set_ylabel('$I_c$ [meV$/\\Phi_0$]')\n",
    "axs[1].text(0.015, 0.9*42, '(b)')\n",
    "\n",
    "for i in argrelextrema(current(orbital=False, alpha=0, mu=10), np.less):\n",
    "    x = B_x.iloc[i]\n",
    "    y1, y2 = 0, 60\n",
    "    axs[0].plot((x, x), (y1, y2), 'c--')\n",
    "\n",
    "for i in argrelextrema(current(orbital=False, alpha=0, mu=50), np.less):\n",
    "    x = B_x.iloc[i]\n",
    "    y1, y2 = 0, 60\n",
    "    axs[1].plot((x, x), (y1, y2), 'c--')\n",
    "\n",
    "    \n",
    "def first_min_max(arr):\n",
    "    return B_x.iloc[argrelextrema(arr, np.less)[0][0]], B_x.iloc[argrelextrema(arr, np.greater)[0][0]]\n",
    "\n",
    "B1, B2 = first_min_max(current(orbital=False, alpha=0, mu=10)) # for next cell\n",
    "B3, B4 = first_min_max(current(orbital=False, alpha=0, mu=50)) # for next cell\n",
    "fig.savefig('figures/critical_currents.pdf', format='pdf', dpi=600)\n",
    "plt.show()"
   ]
  },
  {
   "cell_type": "code",
   "execution_count": null,
   "metadata": {
    "collapsed": false
   },
   "outputs": [],
   "source": [
    "from scipy.signal import argrelextrema\n",
    "df = pd.read_hdf('data/all_data_circular_A_in_SM_and_SC.hdf')\n",
    "gb = df.groupby(['B_x', 'T', 'L', 'with_leads', 'orbital', 'g', 'alpha', 'mu'])\n",
    "\n",
    "\n",
    "def currents(B_x=0, orbital=True, g=50, alpha=20, mu=10):\n",
    "    return gb.get_group((B_x, 1, 640, True, orbital, g, alpha, mu))['currents'].as_matrix()[0]\n",
    "\n",
    "phases = gb.get_group((0, 1, 640, True, True, 50, 20, 10))['phases'].as_matrix()[0]\n",
    "\n",
    "fig, axs = plt.subplots(2, 2, sharey=False, sharex=True, figsize=(fig_width, 2 * fig_height))\n",
    "plt.subplots_adjust(bottom=0.2, left=0.125, right=0.80, top=0.9, hspace=0.10, wspace=0.15)\n",
    "\n",
    "axs[0][0].plot(phases, currents(B_x=B1, mu=10), label='all effects', c='b')\n",
    "axs[0][0].plot(phases, currents(B_x=B1, orbital=False, mu=10), label=r'$\\bm{A}=0$', c='g')\n",
    "axs[0][0].plot(phases, currents(B_x=B1, g=0, mu=10), label='$g=0$', c='r')\n",
    "axs[0][0].plot(phases, currents(B_x=B1, alpha=0, mu=10), label=r'$\\alpha=0$', c='m')\n",
    "axs[0][0].plot(phases, currents(B_x=B1, orbital=False, alpha=0, mu=10), label=r'$\\alpha=0, \\; \\bm{A}=0$', c='c')\n",
    "axs[0][0].plot(phases, currents(B_x=B1, alpha=0, g=0, mu=10), label=r'$\\alpha=0, \\; g=0$', c='y')\n",
    "axs[0][0].set_yticks([-0.4, 0.0, 0.4])\n",
    "axs[0][0].set_ylim(-0.4, 0.4)\n",
    "axs[0][0].set_xlim(-3.14, 3.14)\n",
    "axs[0][0].set_xlabel('')\n",
    "axs[0][0].set_ylabel('$I_c$ [meV$/\\Phi_0$]')\n",
    "axs[0][0].text(-3.00, 0.8*0.4, '(a)')\n",
    "\n",
    "axs[1][0].plot(phases, currents(B_x=B2, mu=50), label='all effects', c='b')\n",
    "axs[1][0].plot(phases, currents(B_x=B2, orbital=False, mu=50), label=r'$\\bm{A}=0$', c='g')\n",
    "axs[1][0].plot(phases, currents(B_x=B2, g=0, mu=50), label='$g=0$', c='r')\n",
    "axs[1][0].plot(phases, currents(B_x=B2, alpha=0, mu=50), label=r'$\\alpha=0$', c='m')\n",
    "axs[1][0].plot(phases, currents(B_x=B2, orbital=False, alpha=0, mu=50), label=r'$\\alpha=0, \\; \\bm{A}=0$', c='c')\n",
    "axs[1][0].plot(phases, currents(B_x=B2, alpha=0, g=0, mu=50), label=r'$\\alpha=0, \\; g=0$', c='y')\n",
    "axs[1][0].set_yticks([-30, -15, 0, 15, 30])\n",
    "axs[1][0].set_ylim(-42, 42)\n",
    "axs[1][0].set_xlabel('$\\phi$ [rad]')\n",
    "axs[1][0].set_ylabel('$I_c$ [meV$/\\Phi_0$]')\n",
    "axs[1][0].text(-3, 0.8*42, '(b)')\n",
    "\n",
    "axs[0][1].plot(phases, currents(B_x=B3, mu=10), label='all effects', c='b')\n",
    "axs[0][1].plot(phases, currents(B_x=B3, orbital=False, mu=10), label=r'$\\bm{A}=0$', c='g')\n",
    "axs[0][1].plot(phases, currents(B_x=B3, g=0, mu=10), label='$g=0$', c='r')\n",
    "axs[0][1].plot(phases, currents(B_x=B3, alpha=0, mu=10), label=r'$\\alpha=0$', c='m')\n",
    "axs[0][1].plot(phases, currents(B_x=B3, orbital=False, alpha=0, mu=10), label=r'$\\alpha=0, \\; \\bm{A}=0$', c='c')\n",
    "axs[0][1].plot(phases, currents(B_x=B3, alpha=0, g=0, mu=10), label=r'$\\alpha=0, \\; g=0$', c='y')\n",
    "axs[0][1].set_yticks([])\n",
    "axs[0][1].set_ylim(-0.4, 0.4)\n",
    "axs[0][1].set_xlim(-3.14, 3.14)\n",
    "axs[0][1].set_xlabel('')\n",
    "axs[0][1].set_ylabel('')\n",
    "axs[0][1].text(-3.00, 0.8*0.4, '(c)')\n",
    "\n",
    "axs[1][1].plot(phases, currents(B_x=B4, mu=50), label='all effects', c='b')\n",
    "axs[1][1].plot(phases, currents(B_x=B4, orbital=False, mu=50), label=r'$\\bm{A}=0$', c='g')\n",
    "axs[1][1].plot(phases, currents(B_x=B4, g=0, mu=50), label='$g=0$', c='r')\n",
    "axs[1][1].plot(phases, currents(B_x=B4, alpha=0, mu=50), label=r'$\\alpha=0$', c='m')\n",
    "axs[1][1].plot(phases, currents(B_x=B4, orbital=False, alpha=0, mu=50), label=r'$\\alpha=0, \\; \\bm{A}=0$', c='c')\n",
    "axs[1][1].plot(phases, currents(B_x=B4, alpha=0, g=0, mu=50), label=r'$\\alpha=0, \\; g=0$', c='y')\n",
    "axs[1][1].set_yticks([])\n",
    "axs[1][1].set_ylim(-42, 42)\n",
    "axs[1][1].set_xlabel('$\\phi$ [rad]')\n",
    "axs[1][1].set_ylabel('')\n",
    "axs[1][1].text(-3, 0.8*42, '(d)')\n",
    "fig.savefig('figures/current_phase_relations.pdf', format='pdf', dpi=600)\n",
    "plt.show()"
   ]
  },
  {
   "cell_type": "markdown",
   "metadata": {},
   "source": [
    "# Critical phase"
   ]
  },
  {
   "cell_type": "code",
   "execution_count": null,
   "metadata": {
    "collapsed": false
   },
   "outputs": [],
   "source": [
    "df = pd.read_hdf('data/all_data_circular_A_in_SM_and_SC.hdf')\n",
    "gb = df.groupby(['T', 'L', 'with_leads', 'orbital', 'g', 'alpha', 'mu'])\n",
    "\n",
    "fig, axs = plt.subplots(2, 1, sharey=False, sharex=True, figsize=(fig_width, 2 * fig_height))\n",
    "plt.subplots_adjust(bottom=0.2, left=0.125, right=0.80, top=0.9, hspace=0.10, wspace=0.15)\n",
    "\n",
    "total_single =         gb.get_group((1, 640, True, True, 50, 20, 50))\n",
    "total_multi =          gb.get_group((1, 640, True, True, 50, 20, 10))\n",
    "no_orbital_single =    gb.get_group((1, 640, True, False, 50, 20, 50))\n",
    "no_orbital_multi =     gb.get_group((1, 640, True, False, 50, 20, 10))\n",
    "no_zeeman_single =     gb.get_group((1, 640, True, True, 0, 20, 50))\n",
    "no_zeeman_multi =      gb.get_group((1, 640, True, True, 0, 20, 10))\n",
    "no_spin_orbit_no_orbital_single = gb.get_group((1, 640, True, False, 50, 0, 50))\n",
    "no_spin_orbit_no_orbital_multi =  gb.get_group((1, 640, True, False, 50, 0, 10))\n",
    "\n",
    "B_x = total['B_x']\n",
    "\n",
    "axs[0].plot(B_x, total_single['phase_c'], label='all effects')\n",
    "axs[0].plot(B_x, no_orbital_single['phase_c'], label=r'$\\bm{A}=0$')\n",
    "axs[0].plot(B_x, no_zeeman_single['phase_c'], label='$g=0$')\n",
    "axs[0].plot(B_x, no_spin_orbit_no_orbital_single['phase_c'], label=r'$\\alpha=0, \\; \\bm{A}=0$')\n",
    "axs[0].set_yticks([-3, 0, 3])\n",
    "axs[0].set_ylim(-3, 3)\n",
    "axs[0].set_xlabel('')\n",
    "axs[0].set_ylabel('$\\phi_c$ [rad]')\n",
    "axs[0].legend(framealpha=0.2)\n",
    "axs[0].text(0.02, 0.8*3, '(a)')\n",
    "\n",
    "\n",
    "axs[1].plot(B_x, total_multi['phase_c'], label='all effects')\n",
    "axs[1].plot(B_x, no_orbital_multi['phase_c'], label=r'$\\bm{A}=0$')\n",
    "axs[1].plot(B_x, no_zeeman_multi['phase_c'], label='$g=0$')\n",
    "axs[1].plot(B_x, no_spin_orbit_no_orbital_multi['phase_c'], label=r'$\\alpha=0, \\; \\bm{A}=0$')\n",
    "axs[1].set_yticks([-3, 0, 3])\n",
    "axs[1].set_ylim(-3, 3)\n",
    "axs[1].set_xlabel('Magnetic field $B_x$ [$T$]')\n",
    "axs[1].set_ylabel('$\\phi_c$ [rad]')\n",
    "axs[1].legend(framealpha=0.2)\n",
    "axs[1].text(0.02, 0.8*3, '(b)')\n",
    "fig.savefig('figures/critical_currents.pdf', format='pdf', dpi=600)\n",
    "plt.show()"
   ]
  },
  {
   "cell_type": "markdown",
   "metadata": {},
   "source": [
    "# Gate dependence"
   ]
  },
  {
   "cell_type": "code",
   "execution_count": null,
   "metadata": {
    "collapsed": false,
    "scrolled": false
   },
   "outputs": [],
   "source": [
    "df = pd.read_hdf('data/all_gate_data_current_as_function_of_gate_and_B_x__A_in_SM_and_SC.hdf')\n",
    "gb = df.groupby(['gate_size'])\n",
    "gr = gb.get_group((80))\n",
    "\n",
    "fig = plt.figure(figsize=(fig_width, fig_height))\n",
    "ax = fig.add_axes([0.1, 0.2, 0.71, 0.85])\n",
    "extent = (gr.min()['B_x'], gr.max()['B_x'], gr.min()['Vs'], gr.max()['Vs'])\n",
    "norm = HistogramNormalize(np.array(gr['current_c']))\n",
    "kwargs = dict(extent=extent, cmap='viridis', aspect='auto', vmax=20, \n",
    "              norm=norm, origin='lower')\n",
    "im = ax.imshow(gr.pivot(index='B_x', columns='Vs', values='current_c').T, **kwargs)\n",
    "ax.set_xlabel('Magnetic field $B_x$ [$T$]')\n",
    "ax.set_ylabel(r'$V_\\textrm{bias}$ [meV]')\n",
    "cax = fig.add_axes([0.83, 0.2, 0.04, 0.85])\n",
    "cbar_ticks = [0, 5, 10, 15, 20, 25]\n",
    "cb = fig.colorbar(im, cax=cax, extend='max', label=r'$I_c$ [meV$/\\Phi_0$]', ticks=cbar_ticks)\n",
    "cb.ax.set_yticklabels(cbar_ticks)\n",
    "fig.savefig('figures/gate_dependence.pdf', format='pdf', dpi=600)"
   ]
  },
  {
   "cell_type": "markdown",
   "metadata": {},
   "source": [
    "# Rotating field"
   ]
  },
  {
   "cell_type": "code",
   "execution_count": null,
   "metadata": {
    "collapsed": false,
    "scrolled": false
   },
   "outputs": [],
   "source": [
    "df = pd.read_hdf('data/rotation_of_field__L_640_nm__infinite_leads.hdf')\n",
    "df['theta'] = (df['theta'] * 180 / np.pi).round(0).astype(int)\n",
    "gb = df.groupby(['theta', 'T', 'L', 'with_leads', 'orbital', 'g', 'alpha', 'mu'])\n",
    "\n",
    "theta_0 = gb.get_group((0, 1, 640, True, True, 50, 20, 50))\n",
    "theta_30 = gb.get_group((30, 1, 640, True, True, 50, 20, 50))\n",
    "theta_60 = gb.get_group((60, 1, 640, True, True, 50, 20, 50))\n",
    "theta_90 = gb.get_group((90, 1, 640, True, True, 50, 20, 50))\n",
    "\n",
    "B_x = theta_0['B']\n",
    "\n",
    "fig = plt.figure(figsize=(fig_width, fig_height))\n",
    "ax = fig.add_axes([0.125, 0.2, (0.95-0.125), (0.95-0.2)])\n",
    "ax.plot(B_x, theta_0['current_c'], label=r'$\\bm{B} \\parallel \\hat{x}$')\n",
    "ax.plot(B_x, theta_90['current_c'], label=r'$\\bm{B} \\parallel \\hat{z}$')\n",
    "ax.plot(B_x, theta_30['current_c'], label=r'$\\bm{B} \\parallel \\sqrt{3} \\hat{x} + \\hat{z}$')\n",
    "ax.plot(B_x, theta_60['current_c'], label=r'$\\bm{B} \\parallel \\hat{x} + \\sqrt{3} \\hat{z}$')\n",
    "ax.set_yticks(np.arange(0, 100, 10))\n",
    "ax.set_ylim(0, 40)\n",
    "ax.set_xlabel(r'Magnetic field $|\\bm{B}|$ [$T$]')\n",
    "ax.set_ylabel('$I_c$ [meV$/\\Phi_0$]')\n",
    "ax.legend(framealpha=1)\n",
    "fig.savefig('figures/rotation_of_field.pdf', format='pdf', dpi=1000)\n",
    "plt.show()"
   ]
  },
  {
   "cell_type": "markdown",
   "metadata": {},
   "source": [
    "$U H(B, \\phi) U^\\dagger = H(B, -\\phi), \\quad U = \\sigma_x \\delta(x+x')$"
   ]
  },
  {
   "cell_type": "code",
   "execution_count": null,
   "metadata": {
    "collapsed": false,
    "scrolled": false
   },
   "outputs": [],
   "source": [
    "df = pd.read_hdf('data/no_disorder_B_vs_I_c__L_640_nm__infinite_leads__varying_mu.hdf')\n",
    "gb = df.groupby(['orbital', 'g', 'alpha'])\n",
    "\n",
    "gr = gb.get_group((True, 50, 20))\n",
    "for (orbital, g, alpha), gr in gb:\n",
    "    fig = plt.figure(figsize=(fig_width, fig_height))\n",
    "    ax = fig.add_axes([0.1, 0.2, 0.71, 0.85])\n",
    "    extent = (gr.min()['B_x'], gr.max()['B_x'], gr.min()['mu'], gr.max()['mu'])\n",
    "    norm = HistogramNormalize(np.array(gr['current_c']))\n",
    "    kwargs = dict(extent=extent, cmap='viridis', aspect='auto', vmax=20, \n",
    "                  norm=norm, origin='lower')\n",
    "    im = ax.imshow(gr.pivot_table(index='B_x', columns='mu', values='current_c').T, **kwargs)\n",
    "    ax.set_xlabel('Magnetic field $B_x$ [$T$]')\n",
    "    ax.set_ylabel(r'$\\mu$ [meV]')\n",
    "    ax.set_title(r'$\\bm{{A}} {}0, \\; g={}, \\; \\alpha={}$'.format((r'\\ne' if orbital else '='), g, alpha))\n",
    "    cax = fig.add_axes([0.83, 0.2, 0.04, 0.85])\n",
    "    cbar_ticks = [0, 5, 10, 15, 20, 25]\n",
    "    cb = fig.colorbar(im, cax=cax, extend='max', label=r'$I_c$ [meV$/\\Phi_0$]', ticks=cbar_ticks)\n",
    "    cb.ax.set_yticklabels(cbar_ticks)\n",
    "    plt.show()"
   ]
  }
 ],
 "metadata": {
  "anaconda-cloud": {},
  "kernelspec": {
   "display_name": "Python 3",
   "language": "python",
   "name": "python3"
  },
  "language_info": {
   "codemirror_mode": {
    "name": "ipython",
    "version": 3
   },
   "file_extension": ".py",
   "mimetype": "text/x-python",
   "name": "python",
   "nbconvert_exporter": "python",
   "pygments_lexer": "ipython3",
   "version": "3.5.2"
  }
 },
 "nbformat": 4,
 "nbformat_minor": 0
}
