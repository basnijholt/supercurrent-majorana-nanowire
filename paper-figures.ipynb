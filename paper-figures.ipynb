{
 "cells": [
  {
   "cell_type": "markdown",
   "metadata": {},
   "source": [
    "\n",
    "## Without Zeeman and with orbital effects, spin-orbit has little effect on $I_c$\n",
    "\n",
    "## With spin-orbit and with orbital effects, Zeeman has little effect on $I_c$\n",
    "\n",
    "## Without orbital effects and without spin-orbit, the $B$ dependence scales both with $L$ and $\\mu$\n",
    "\n",
    "## In single mode regime, Zeeman has the predominant effect on $I_c$\n",
    "\n",
    "## Both in the single mode and multimode regime, the orbital effect has the predominant effect on $I_c$\n",
    "\n",
    "## $0-\\pi$ transitions?\n",
    "* $L=640, \\mu=50$\n",
    "* $L=640, \\mu=40$\n",
    "* $L=160, \\mu=30$\n"
   ]
  },
  {
   "cell_type": "code",
   "execution_count": null,
   "metadata": {
    "collapsed": false
   },
   "outputs": [],
   "source": [
    "import matplotlib.pylab as plt\n",
    "import matplotlib.patches as patches\n",
    "import numpy as np\n",
    "import pandas as pd\n",
    "%matplotlib inline\n",
    "%config InlineBackend.figure_format = 'svg'\n",
    "\n",
    "golden_mean = (np.sqrt(5) - 1) / 2 # Aesthetic ratio\n",
    "fig_width_pt = 246.0 # Columnwidth\n",
    "inches_per_pt = 1.0 / 72.27 # Convert pt to inches\n",
    "fig_width = fig_width_pt * inches_per_pt\n",
    "fig_height = fig_width * golden_mean # height in inches\n",
    "fig_size = [fig_width, fig_height]\n",
    "\n",
    "params = {'backend': 'ps',\n",
    "          'axes.labelsize': 10,\n",
    "          'font.size': 10,\n",
    "          'legend.fontsize': 8,\n",
    "          'xtick.labelsize': 8,\n",
    "          'ytick.labelsize': 8,\n",
    "#           'text.usetex': True,\n",
    "          'figure.figsize': fig_size,\n",
    "          'font.family': 'serif',\n",
    "          'font.serif': 'Computer Modern Roman',\n",
    "          'legend.frameon': True,\n",
    "          'savefig.dpi': 1000\n",
    "         }\n",
    "\n",
    "plt.rcParams.update(params)\n",
    "# plt.rc('text.latex', preamble=[r'\\usepackage{color}', r'\\usepackage{bm}'])"
   ]
  },
  {
   "cell_type": "markdown",
   "metadata": {},
   "source": [
    "# Multi mode regime:"
   ]
  },
  {
   "cell_type": "code",
   "execution_count": null,
   "metadata": {
    "collapsed": false
   },
   "outputs": [],
   "source": [
    "df = pd.read_hdf('data/all_data_circular_A_in_SM_and_SC.hdf')\n",
    "gb = df.groupby(['T', 'L', 'with_leads', 'orbital', 'g', 'alpha', 'mu'])"
   ]
  },
  {
   "cell_type": "code",
   "execution_count": null,
   "metadata": {
    "collapsed": false
   },
   "outputs": [],
   "source": [
    "total = gb.get_group((1, 640, True, True, 50, 20, 50))\n",
    "Zeeman_only = gb.get_group((1, 640, True, False, 50, 20, 50))\n",
    "orbital_only = gb.get_group((1, 640, True, True, 0, 20, 50))\n",
    "no_spin_orbit = gb.get_group((1, 640, True, False, 50, 0, 50))\n",
    "\n",
    "fig = plt.figure(figsize=(fig_width, fig_height))\n",
    "ax = fig.add_axes([0.125, 0.2, (0.95-0.125), (0.95-0.2)])\n",
    "ax.plot(total['B_x'], total['current_c'], label='all effects')\n",
    "ax.plot(Zeeman_only['B_x'], Zeeman_only['current_c'], label='$A=0$')\n",
    "ax.plot(orbital_only['B_x'], orbital_only['current_c'], label='$g=0$')\n",
    "ax.plot(no_spin_orbit['B_x'], no_spin_orbit['current_c'], label=r'$\\alpha=0, \\; A=0$')\n",
    "ax.set_yticks(np.arange(0, 100, 10))\n",
    "ax.set_ylim(0, 50)\n",
    "ax.set_xlabel('Magnetic field $B$ [$T$]')\n",
    "ax.set_ylabel('Critical current $I_c$ [meV$/\\Phi_0$]')\n",
    "ax.legend(framealpha=0.2)\n",
    "# fig.savefig('decay_length_2d.pdf', format='pdf', dpi=1000)\n",
    "plt.show()"
   ]
  },
  {
   "cell_type": "markdown",
   "metadata": {},
   "source": [
    "# Single mode regime:"
   ]
  },
  {
   "cell_type": "code",
   "execution_count": null,
   "metadata": {
    "collapsed": false
   },
   "outputs": [],
   "source": [
    "total = gb.get_group((1, 640, True, True, 50, 20, 10))\n",
    "Zeeman_only = gb.get_group((1, 640, True, False, 50, 20, 10))\n",
    "orbital_only = gb.get_group((1, 640, True, True, 0, 20, 10))\n",
    "no_spin_orbit = gb.get_group((1, 640, True, False, 50, 0, 10))\n",
    "\n",
    "fig = plt.figure(figsize=(fig_width, fig_height))\n",
    "ax = fig.add_axes([0.125,0.2,(0.95-0.125),(0.95-0.2)])\n",
    "ax.plot(total['B_x'], total['current_c'], label='all effects')\n",
    "ax.plot(Zeeman_only['B_x'], Zeeman_only['current_c'], label='$A=0$')\n",
    "ax.plot(orbital_only['B_x'], orbital_only['current_c'], label='$g=0$')\n",
    "ax.plot(no_spin_orbit['B_x'], no_spin_orbit['current_c'], label=r'$\\alpha=0, \\; A=0$')\n",
    "ax.set_yticks(np.arange(0, 10, 0.2))\n",
    "ax.set_ylim(0, 0.35)\n",
    "ax.set_xlabel('Magnetic field $B$ [$T$]')\n",
    "ax.set_ylabel('Critical current $I_c$ [meV$/\\Phi_0$]')\n",
    "ax.legend(framealpha=0.2)\n",
    "# fig.savefig('decay_length_2d.pdf', format='pdf', dpi=1000)\n",
    "plt.show()"
   ]
  },
  {
   "cell_type": "markdown",
   "metadata": {},
   "source": [
    "# Gate dependence"
   ]
  },
  {
   "cell_type": "code",
   "execution_count": null,
   "metadata": {
    "collapsed": false
   },
   "outputs": [],
   "source": [
    "df = pd.read_hdf('data/all_gate_data_current_as_function_of_gate_and_B_x.hdf')\n",
    "gb = df.groupby(['B_x', 'gate_size'])\n",
    "gr = gb.get_group((1, 640))\n",
    "\n",
    "fig = plt.figure(figsize=(fig_width, fig_height))\n",
    "ax = fig.add_axes([0.125,0.2,(0.95-0.125),(0.95-0.2)])\n",
    "ax.plot(gr['Vs'], gr['current_c'])"
   ]
  },
  {
   "cell_type": "code",
   "execution_count": null,
   "metadata": {
    "collapsed": false
   },
   "outputs": [],
   "source": [
    "df = pd.read_hdf('data/all_gate_data_current_as_function_of_gate_and_B_x.hdf')\n",
    "gb = df.groupby(['gate_size'])\n",
    "gr = gb.get_group((640))\n",
    "\n",
    "fig = plt.figure(figsize=(fig_width, fig_height))\n",
    "ax = fig.add_axes([0.125,0.2,(0.95-0.125),(0.95-0.2)])\n",
    "ax.imshow(gr['current_c'])"
   ]
  },
  {
   "cell_type": "code",
   "execution_count": null,
   "metadata": {
    "collapsed": false
   },
   "outputs": [],
   "source": []
  }
 ],
 "metadata": {
  "anaconda-cloud": {},
  "kernelspec": {
   "display_name": "Python [default]",
   "language": "python",
   "name": "python3"
  },
  "language_info": {
   "codemirror_mode": {
    "name": "ipython",
    "version": 3
   },
   "file_extension": ".py",
   "mimetype": "text/x-python",
   "name": "python",
   "nbconvert_exporter": "python",
   "pygments_lexer": "ipython3",
   "version": "3.5.2"
  }
 },
 "nbformat": 4,
 "nbformat_minor": 0
}
