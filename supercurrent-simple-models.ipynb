{
 "cells": [
  {
   "cell_type": "code",
   "execution_count": null,
   "metadata": {
    "collapsed": false
   },
   "outputs": [],
   "source": [
    "from ipyparallel import Client\n",
    "client = Client(profile='python3')"
   ]
  },
  {
   "cell_type": "code",
   "execution_count": null,
   "metadata": {
    "collapsed": false
   },
   "outputs": [],
   "source": [
    "from hpc05 import Client\n",
    "client = Client(profile='pbs', timeout=10)"
   ]
  },
  {
   "cell_type": "code",
   "execution_count": null,
   "metadata": {
    "collapsed": false
   },
   "outputs": [],
   "source": [
    "dview = client[:]\n",
    "lview = client.load_balanced_view()\n",
    "len(dview)"
   ]
  },
  {
   "cell_type": "code",
   "execution_count": null,
   "metadata": {
    "collapsed": false,
    "scrolled": false
   },
   "outputs": [],
   "source": [
    "%%px --local\n",
    "import sys\n",
    "sys.path.append('/home/basnijholt/Dropbox/Work/nanowire_current/')\n",
    "sys.path.append('/home/bnijholt/Dropbox/Work/nanowire_current/')\n",
    "from collections import namedtuple\n",
    "import holoviews as hv\n",
    "from itertools import product\n",
    "import kwant\n",
    "import numpy as np\n",
    "import pandas as pd\n",
    "from supercurrent import (current_at_phase,\n",
    "                          discretized_hamiltonian,\n",
    "                          hoppingkind_at_interface,\n",
    "                          hoppingkind_in_shape,\n",
    "                          make_params,\n",
    "                          peierls,\n",
    "                          SimpleNamespace,\n",
    "                          I_c)\n",
    "import sympy"
   ]
  },
  {
   "cell_type": "code",
   "execution_count": null,
   "metadata": {
    "collapsed": false
   },
   "outputs": [],
   "source": [
    "%matplotlib inline\n",
    "hv.notebook_extension()\n",
    "import sympy.interactive\n",
    "sympy.interactive.init_printing('mathjax')"
   ]
  },
  {
   "cell_type": "markdown",
   "metadata": {},
   "source": [
    "\n",
    "# 3D test system"
   ]
  },
  {
   "cell_type": "code",
   "execution_count": null,
   "metadata": {
    "collapsed": false
   },
   "outputs": [],
   "source": [
    "from supercurrent import k_B\n",
    "sx_ = np.array([[0., 1.], [1., 0.]])\n",
    "sz_ = np.array([[1., 0.], [0., -1.]])\n",
    "\n",
    "onsite = lambda site, p: -p.mu * sz_\n",
    "onsite_lead = lambda site, p: -p.mu * sz_ + p.delta * sx_\n",
    "hops = lambda site1, site2, p: -p.t * sz_\n",
    "\n",
    "def make_test_system(X, Y, Z):\n",
    "    lat = kwant.lattice.general(np.eye(3))\n",
    "    syst = kwant.Builder()\n",
    "    range_X = range(X)\n",
    "    range_Y = range(Y)\n",
    "    range_Z = range(Z)\n",
    "    syst[(lat(x, y, z) for x in range_X for y in range_Y for z in range_Z)] = onsite\n",
    "    syst[lat.neighbors()] = hops\n",
    "\n",
    "    l_cut = [lat(x, y, z) for x, y, z in [i.tag for i in syst.sites()] if x == 0]\n",
    "    r_cut = [lat(x, y, z) for x, y, z in [i.tag for i in syst.sites()] if x == 1]\n",
    "\n",
    "    num_orbs = 2\n",
    "    dim = num_orbs * (len(l_cut) + len(r_cut))\n",
    "    vlead = kwant.builder.SelfEnergyLead(lambda energy, args: np.zeros((dim, dim)), r_cut + l_cut)\n",
    "    syst.leads.append(vlead)\n",
    "    \n",
    "    lead = kwant.Builder(kwant.TranslationalSymmetry((-1, 0, 0)))\n",
    "    lead[(lat(0, y, z) for y in range_Y for z in range_Z)] = onsite_lead\n",
    "    lead[lat.neighbors()] = hops\n",
    "    syst.attach_lead(lead)\n",
    "    syst.attach_lead(lead.reversed())\n",
    "    syst = syst.finalized()\n",
    "    \n",
    "    r_cut_sites = [syst.sites.index(site) for site in r_cut]\n",
    "    l_cut_sites = [syst.sites.index(site) for site in l_cut]\n",
    "    \n",
    "    def hopping(syst, args=()):\n",
    "        return syst.hamiltonian_submatrix(args=args,\n",
    "                                          to_sites=l_cut_sites,\n",
    "                                          from_sites=r_cut_sites)[::2, ::2]\n",
    "    return syst, hopping\n",
    "\n",
    "\n",
    "\n",
    "delta = 0.01\n",
    "T = 0.5 * delta / k_B\n",
    "syst, hopping = make_test_system(X=3, Y=3, Z=3)\n",
    "p = SimpleNamespace(mu=0., t=1., delta=1)\n",
    "\n",
    "phases = np.linspace(-np.pi, np.pi, 51)\n",
    "H_0_cache = []\n",
    "I = np.array([current_at_phase(syst, hopping, p, T, H_0_cache, phase, tol=None, max_frequencies=200) for phase in phases])\n",
    "hv.Curve(I, kdims=['phase'], vdims=['$I$'])"
   ]
  },
  {
   "cell_type": "markdown",
   "metadata": {},
   "source": [
    "# 3D system with Discretizer Hamiltonian, squared system"
   ]
  },
  {
   "cell_type": "code",
   "execution_count": null,
   "metadata": {
    "collapsed": false
   },
   "outputs": [],
   "source": [
    "def make_test_system(X, Y, Z, a=10):\n",
    "    tb_normal, tb_sc = discretized_hamiltonian(a)[:-1]\n",
    "    lat = tb_normal.lattice\n",
    "    syst = kwant.Builder()\n",
    "    syst[(lat(x, y, z) for x in range(X) for y in range(Y) for z in range(Z))] = tb_normal.onsite\n",
    "\n",
    "    for hop, val in tb_normal.hoppings.items():\n",
    "        syst[hop] = val\n",
    "\n",
    "    l_cut = [lat(x, y, z) for x, y, z in [i.tag for i in syst.sites()] if x == 0]\n",
    "    r_cut = [lat(x, y, z) for x, y, z in [i.tag for i in syst.sites()] if x == 1]\n",
    "\n",
    "    num_orbs = 4\n",
    "    dim = num_orbs * (len(l_cut) + len(r_cut))\n",
    "    vlead = kwant.builder.SelfEnergyLead(lambda energy, args: np.zeros((dim, dim)), r_cut + l_cut)\n",
    "    syst.leads.append(vlead)\n",
    "    \n",
    "    lead = kwant.Builder(kwant.TranslationalSymmetry((-a, 0, 0)))\n",
    "    lead[(lat(0, y, z) for y in range(Y) for z in range(Z))] = tb_sc.onsite\n",
    "\n",
    "    for hop, val in tb_sc.hoppings.items():\n",
    "        lead[hop] = val\n",
    "\n",
    "    syst.attach_lead(lead)\n",
    "    syst.attach_lead(lead.reversed())\n",
    "    \n",
    "    syst = syst.finalized()\n",
    "    \n",
    "    r_cut_sites = [syst.sites.index(site) for site in r_cut]\n",
    "    l_cut_sites = [syst.sites.index(site) for site in l_cut]\n",
    "    \n",
    "    def hopping(syst, args=()):\n",
    "        return syst.hamiltonian_submatrix(args=args,\n",
    "                                          to_sites=l_cut_sites,\n",
    "                                          from_sites=r_cut_sites)[::2, ::2]\n",
    "    return syst, hopping\n",
    "\n",
    "T = 60e-3\n",
    "\n",
    "syst, hopping = make_test_system(X=2, Y=3, Z=3)\n",
    "p = make_params(Delta=0.25, alpha=20, mu=15)\n",
    "phases = np.linspace(-np.pi, np.pi, 51)\n",
    "H_0_cache = []\n",
    "I = np.array([current_at_phase(syst, hopping, p, T, H_0_cache, phase, tol=None, max_frequencies=200) for phase in phases])\n",
    "hv.Curve(I, kdims=['phase'], vdims=['$I$'])"
   ]
  },
  {
   "cell_type": "markdown",
   "metadata": {},
   "source": [
    "# Simpler way (but slightly slower)"
   ]
  },
  {
   "cell_type": "code",
   "execution_count": null,
   "metadata": {
    "collapsed": false
   },
   "outputs": [],
   "source": [
    "from supercurrent import matsubara_frequency, k_B\n",
    "def null_G(syst, p, T, n):\n",
    "    en = matsubara_frequency(T, n)\n",
    "    gf = kwant.greens_function(syst, en, [p], [0], [0], check_hermiticity=False)\n",
    "    return gf.data[::2, ::2]\n",
    "\n",
    "def current_from_G_0(T, G_0s, H12, phase):\n",
    "    t = H12 * np.exp(1j * phase)\n",
    "    dim = t.shape[0]\n",
    "    I = 0\n",
    "    for G_0 in G_0s:\n",
    "        V = np.zeros_like(G_0, dtype=complex)\n",
    "        v = t - H12\n",
    "        V[:dim, dim:] = v.T.conj()\n",
    "        V[dim:, :dim] = v\n",
    "        gf = np.linalg.solve(np.identity(2*dim) - G_0 @ V, G_0)\n",
    "        H12G21 = t.T.conj() @ gf[dim:, :dim]\n",
    "        H21G12 = t @ gf[:dim, dim:]\n",
    "        I += -4 * T * (np.trace(H21G12) - np.trace(H12G21)).imag\n",
    "    return I\n",
    "\n",
    "matsfreqs = 200\n",
    "G_0s = [null_G(syst, p, T, n) for n in range(matsfreqs)]\n",
    "H12 = hopping(syst, args=[p])\n",
    "phases = np.linspace(-np.pi, np.pi, 51)\n",
    "I = [current_from_G_0(T, G_0s, H12, phase) for phase in phases]\n",
    "I = np.array(I)\n",
    "hv.Curve((phases, I), kdims=['phase'], vdims=['$I$'])"
   ]
  },
  {
   "cell_type": "markdown",
   "metadata": {},
   "source": [
    "# Test 2D system"
   ]
  },
  {
   "cell_type": "code",
   "execution_count": null,
   "metadata": {
    "collapsed": false
   },
   "outputs": [],
   "source": [
    "sx_ = np.array([[0., 1.], [1., 0.]])\n",
    "sz_ = np.array([[1., 0.], [0., -1.]])\n",
    "\n",
    "onsite = lambda site, p: -p.mu * sz_\n",
    "onsite_lead = lambda site, p: -p.mu * sz_ + p.delta * sx_\n",
    "hops = lambda site1, site2, p: -p.t * sz_\n",
    "\n",
    "def make_test_system_2D(X=3, Y=2):\n",
    "    lat = kwant.lattice.square()\n",
    "    syst = kwant.Builder()\n",
    "    range_X = range(X)\n",
    "    range_Y = range(Y)\n",
    "    syst[(lat(x, y) for x in range_X for y in range_Y)] = onsite\n",
    "    syst[lat.neighbors()] = hops\n",
    "\n",
    "    l_cut = [lat(x, y) for x, y in [i.tag for i in syst.sites()] if x == 0]\n",
    "    r_cut = [lat(x, y) for x, y in [i.tag for i in syst.sites()] if x == 1]\n",
    "\n",
    "    num_orbs = 2\n",
    "    dim = num_orbs * (len(l_cut) + len(r_cut))\n",
    "    vlead = kwant.builder.SelfEnergyLead(lambda energy, args: np.zeros((dim, dim)), r_cut + l_cut)\n",
    "    syst.leads.append(vlead)\n",
    "    \n",
    "    lead = kwant.Builder(kwant.TranslationalSymmetry((-1, 0)))\n",
    "    lead[(lat(0, y) for y in range_Y)] = onsite_lead\n",
    "    lead[lat.neighbors()] = hops\n",
    "    syst.attach_lead(lead)\n",
    "    syst.attach_lead(lead.reversed())\n",
    "    syst = syst.finalized()\n",
    "    \n",
    "    r_cut_sites = [syst.sites.index(site) for site in r_cut]\n",
    "    l_cut_sites = [syst.sites.index(site) for site in l_cut]\n",
    "    \n",
    "    def hopping(syst, args=()):\n",
    "        return syst.hamiltonian_submatrix(args=args,\n",
    "                                          to_sites=l_cut_sites,\n",
    "                                          from_sites=r_cut_sites)[::2, ::2]\n",
    "    return syst, hopping\n"
   ]
  },
  {
   "cell_type": "code",
   "execution_count": null,
   "metadata": {
    "collapsed": false
   },
   "outputs": [],
   "source": [
    "syst, _ = make_test_system_2D()\n",
    "kwant.plot(syst)"
   ]
  },
  {
   "cell_type": "markdown",
   "metadata": {},
   "source": [
    "# 1D\n"
   ]
  },
  {
   "cell_type": "code",
   "execution_count": null,
   "metadata": {
    "collapsed": false
   },
   "outputs": [],
   "source": [
    "%%px --local\n",
    "from discretizer import Discretizer, momentum_operators\n",
    "sx, sy, sz = [sympy.physics.matrices.msigma(i) for i in range(1, 4)]\n",
    "s0 = sympy.eye(2)\n",
    "from sympy.physics.quantum import TensorProduct as kr\n",
    "\n",
    "def discretized_hamiltonian(a, holes=True):\n",
    "    \"\"\"Discretizes a Hamiltonian.\n",
    "    Parameters:\n",
    "    -----------\n",
    "    a : int\n",
    "        Lattice constant in nm.\n",
    "    holes : bool\n",
    "        If False, Hamiltonian will only be in spin-space,\n",
    "        if True also in particle-hole space (BdG Hamiltonian),\n",
    "        used for calculating Majorana decay length.\n",
    "    \"\"\"\n",
    "    k_x, *_ = momentum_operators\n",
    "    t, B_x, B_y, B_z, mu_B, mu, mu_sm, mu_sc, alpha, g, V, Delta = sympy.symbols(\n",
    "        't B_x B_y B_z mu_B mu mu_sm mu_sc alpha g V Delta', real=True)\n",
    "\n",
    "    if not holes:\n",
    "        ham = ((t * k_x**2 - mu) * s0 + alpha * (- k_x * sy) +\n",
    "               0.5 * g * mu_B * (B_x * sx + B_y * sy + B_z * sz))\n",
    "    else:\n",
    "        ham = ((t * k_x**2 - mu) * kr(s0, sz) +\n",
    "                   alpha * (- k_x * kr(sy, sz)) +\n",
    "                   0.5 * g * mu_B * (B_x * kr(sx, s0) + B_y * kr(sy, s0)) +\n",
    "                   Delta * kr(s0, sx))\n",
    "    \n",
    "    args = dict(lattice_constant=a, discrete_coordinates=set(['x']))\n",
    "    tb_sm = Discretizer(ham.subs(mu, mu_sm).subs(Delta, 0), **args)\n",
    "    tb_sc = Discretizer(ham.subs([(g, 0), (mu, mu_sc), (alpha, 0)]), **args)\n",
    "    return tb_sm, tb_sc\n",
    "\n",
    "\n",
    "def make_test_system_1D(X, L=40, a=10):\n",
    "    tb_normal, tb_sc = discretized_hamiltonian(a)\n",
    "    lat = tb_normal.lattice\n",
    "    syst = kwant.Builder()\n",
    "    syst[(lat(x) for x in range(X))] = tb_normal.onsite\n",
    "    syst[(lat(x) for x in range(-L, 0))] = tb_sc.onsite\n",
    "    syst[(lat(x) for x in range(X, X+L))] = tb_sc.onsite\n",
    "    \n",
    "    for hop, val in tb_normal.hoppings.items():\n",
    "        syst[hop] = val\n",
    "\n",
    "    l_cut = [lat(x) for x in np.squeeze([i.tag for i in syst.sites()]) if x == X//2]\n",
    "    r_cut = [lat(x) for x in np.squeeze([i.tag for i in syst.sites()]) if x == X//2 + 1]\n",
    "    num_orbs = 4\n",
    "    dim = num_orbs * (len(l_cut) + len(r_cut))\n",
    "    vlead = kwant.builder.SelfEnergyLead(lambda energy, args: np.zeros((dim, dim)), r_cut + l_cut)\n",
    "    syst.leads.append(vlead)\n",
    "    \n",
    "    lead = kwant.Builder(kwant.TranslationalSymmetry((-a,)))\n",
    "    lead[lat(0)] = tb_sc.onsite\n",
    "    \n",
    "    for hop, val in tb_sc.hoppings.items():\n",
    "        lead[hop] = val\n",
    "\n",
    "    syst.attach_lead(lead)\n",
    "    syst.attach_lead(lead.reversed())\n",
    "    \n",
    "    syst = syst.finalized()\n",
    "    \n",
    "    r_cut_sites = [syst.sites.index(site) for site in r_cut]\n",
    "    l_cut_sites = [syst.sites.index(site) for site in l_cut]\n",
    "    \n",
    "    def hopping(syst, args=()):\n",
    "        return syst.hamiltonian_submatrix(args=args,\n",
    "                                          to_sites=l_cut_sites,\n",
    "                                          from_sites=r_cut_sites)[::2, ::2]\n",
    "    return syst, hopping\n",
    "\n",
    "syst, hopping = make_test_system_1D(50, L=1)\n",
    "p = make_params(Delta=0.25, alpha=20, mu_sm=1, mu_sc=1)"
   ]
  },
  {
   "cell_type": "code",
   "execution_count": null,
   "metadata": {
    "collapsed": false
   },
   "outputs": [],
   "source": [
    "# vals = named_product(alpha=np.linspace(0, 30, 60), B_x=np.linspace(0, 1.5, 50), mu=[0.1, 0.3 ,1, 3, 10, 30])\n",
    "# current_phase = lview.map_async(\n",
    "#     lambda x: I_c(syst, hopping, p.update(alpha=x.alpha, B_x=x.B_x, mu_sc=x.mu, mu_sm=x.mu), T=1), vals)\n",
    "\n",
    "# current_phase.wait_interactive()\n",
    "\n",
    "# current_phase = current_phase.result()\n",
    "# T = 1\n",
    "# vals = namespace_product(alpha=np.linspace(0, 25, 50), B_x=np.linspace(0, 1, 50), mu=[0, 0.1, 0.3 ,1, 3, 10, 30])[:100]\n",
    "# current_phase = [I_c(syst, hopping, p.update(alpha=x.alpha, B_x=x.B_x, mu_sc=x.mu, mu_sm=x.mu), T) for x in vals]\n",
    "# df = pd.concat((pd.DataFrame(vals), pd.DataFrame(current_phase)), axis=-1)"
   ]
  },
  {
   "cell_type": "code",
   "execution_count": null,
   "metadata": {
    "collapsed": false,
    "scrolled": false
   },
   "outputs": [],
   "source": [
    "alphas = np.linspace(0, 100, 200)\n",
    "B_xs = np.linspace(0, 1.5, 200)\n",
    "mus = [0.1, 0.3 ,1, 3, 10, 30]\n",
    "vals = list(product(alphas, B_xs, mus))\n",
    "current_phase = lview.map_async(\n",
    "    lambda x: I_c(syst, hopping, p.update(alpha=x[0], B_x=x[1], mu_sc=x[2], mu_sm=x[2]), T=1), vals)\n",
    "\n",
    "current_phase.wait_interactive()\n",
    "\n",
    "current_phase = current_phase.result()"
   ]
  },
  {
   "cell_type": "code",
   "execution_count": null,
   "metadata": {
    "collapsed": false
   },
   "outputs": [],
   "source": [
    "df = pd.concat((pd.DataFrame(vals, columns=['alpha', 'B_x', 'mu']), pd.DataFrame(current_phase)), axis=1)\n",
    "# df.to_hdf('1d_alpha_vs_B_x.hdf', 'all_data', mode='w')"
   ]
  },
  {
   "cell_type": "code",
   "execution_count": null,
   "metadata": {
    "collapsed": false
   },
   "outputs": [],
   "source": [
    "def Image(group, x, y, z):\n",
    "    bounds = (df[x].min(), df[y].min(), df[x].max(), df[y].max())\n",
    "    table = group.pivot_table(index=[x], columns=[y], values=[z])\n",
    "    return hv.Image(np.rot90(table), kdims=[x, y], vdims=[z], bounds=bounds)"
   ]
  },
  {
   "cell_type": "code",
   "execution_count": null,
   "metadata": {
    "collapsed": false,
    "scrolled": false
   },
   "outputs": [],
   "source": [
    "%%opts Image (cmap='viridis') Layout {+axiswise}\n",
    "ims = [(mu, Image(group, 'B_x', 'alpha', 'current_c')) for mu, group in df.groupby('mu')]\n",
    "hm = hv.HoloMap(ims, kdims=['mu'])\n",
    "hv.Layout([im.relabel('mu = {} meV'.format(mu)) for mu, im in ims]).cols(3)"
   ]
  },
  {
   "cell_type": "code",
   "execution_count": null,
   "metadata": {
    "collapsed": false,
    "scrolled": false
   },
   "outputs": [],
   "source": [
    "syst, hopping = make_test_system_1D(50, L=1)\n",
    "p = make_params(Delta=0.25, alpha=25, mu=3)\n",
    "p.mu_sc = p.mu_sm = p.mu\n",
    "I = np.array([I_c(syst, hopping, p, T=1)['current_c'] for p.B_x in B_xs])\n",
    "hv.Curve((B_xs, I), kdims=['B_x'], vdims=['$I_c$'])"
   ]
  },
  {
   "cell_type": "code",
   "execution_count": null,
   "metadata": {
    "collapsed": false
   },
   "outputs": [],
   "source": [
    "syst, hopping = make_test_system_1D(50, L=1)\n",
    "p = make_params(Delta=0.25, alpha=20, mu=30)\n",
    "p.mu_sc = p.mu_sm = p.mu\n",
    "phases = np.linspace(-np.pi, np.pi, 51)\n",
    "H_0_cache = []\n",
    "I = np.array([current_at_phase(syst, hopping, p, T=1, H_0_cache, phase, tol=1e-2, max_frequencies=500) for phase in phases])\n",
    "hv.Curve(I, kdims=['phase'], vdims=['$I$'])"
   ]
  },
  {
   "cell_type": "code",
   "execution_count": null,
   "metadata": {
    "collapsed": false
   },
   "outputs": [],
   "source": [
    "%%opts Path [aspect='square']\n",
    "bands = kwant.physics.Bands(syst.leads[1], args=[p])\n",
    "ks = np.linspace(-3, 3, 300)\n",
    "Es = np.array([bands(k=k) for k in ks])\n",
    "hv.Path((ks, Es))[:, -1:1]"
   ]
  },
  {
   "cell_type": "code",
   "execution_count": null,
   "metadata": {
    "collapsed": false
   },
   "outputs": [],
   "source": [
    "import scipy.sparse.linalg as sla\n",
    "from scipy.sparse import identity\n",
    "import kwant.linalg.mumps as mumps\n",
    "\n",
    "def sparse_diag(matrix, k, sigma, **kwargs):\n",
    "    \"\"\"Call sla.eigsh with mumps support.\n",
    "    Please see scipy.sparse.linalg.eigsh for documentation.\n",
    "    \"\"\"\n",
    "    class LuInv(sla.LinearOperator):\n",
    "        def __init__(self, A):\n",
    "            inst = mumps.MUMPSContext()\n",
    "            inst.analyze(A, ordering='pord')\n",
    "            inst.factor(A)\n",
    "            self.solve = inst.solve\n",
    "            sla.LinearOperator.__init__(self, A.dtype, A.shape)\n",
    "        def _matvec(self, x):\n",
    "            return self.solve(x.astype(self.dtype))\n",
    "    opinv = LuInv(matrix - sigma * identity(matrix.shape[0]))\n",
    "    return sla.eigsh(matrix, k, sigma=sigma, OPinv=opinv, **kwargs)\n",
    "\n",
    "def spectrum(syst, p):\n",
    "    ham = syst.hamiltonian_submatrix(args=[p], sparse=True)\n",
    "    eigenvals, eigenvecs = sparse_diag(ham, 20, 0)\n",
    "    return np.sort(eigenvals)"
   ]
  },
  {
   "cell_type": "code",
   "execution_count": null,
   "metadata": {
    "collapsed": false
   },
   "outputs": [],
   "source": [
    "syst, hopping = make_test_system_1D(X=64, L=40)\n",
    "p = make_params(Delta=0.25, alpha=20, mu_sc=1, mu_sm=1)\n",
    "alphas = np.linspace(0, 50, 100)\n",
    "p.B_x = 0.5\n",
    "Es = np.array([spectrum(syst, p) for p.alpha in alphas])"
   ]
  },
  {
   "cell_type": "code",
   "execution_count": null,
   "metadata": {
    "collapsed": false
   },
   "outputs": [],
   "source": [
    "%%output size=200\n",
    "%%opts Path [aspect='square'] HLine (color='k')\n",
    "hv.Path((alphas, np.sort(Es)),  kdims=[r'$\\alpha$', 'E'])[:, -p.Delta:p.Delta]"
   ]
  }
 ],
 "metadata": {
  "kernelspec": {
   "display_name": "Python 3",
   "language": "python",
   "name": "python3"
  },
  "language_info": {
   "codemirror_mode": {
    "name": "ipython",
    "version": 3
   },
   "file_extension": ".py",
   "mimetype": "text/x-python",
   "name": "python",
   "nbconvert_exporter": "python",
   "pygments_lexer": "ipython3",
   "version": "3.5.2"
  }
 },
 "nbformat": 4,
 "nbformat_minor": 0
}
