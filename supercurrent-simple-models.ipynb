{
 "cells": [
  {
   "cell_type": "code",
   "execution_count": null,
   "metadata": {
    "scrolled": false
   },
   "outputs": [],
   "source": [
    "# Standard library imports\n",
    "from itertools import product\n",
    "\n",
    "# Related third party imports\n",
    "import holoviews as hv\n",
    "import kwant\n",
    "from kwant.continuum.discretizer import discretize\n",
    "import numpy as np\n",
    "import pandas as pd\n",
    "\n",
    "# Local imports\n",
    "import funcs\n",
    "from funcs import constants, discretized_hamiltonian, lat_from_temp, get_cuts, add_vlead, hopping_between_cuts\n",
    "\n",
    "%matplotlib inline\n",
    "hv.notebook_extension()\n",
    "\n",
    "def plot_CPR(syst, hopping, params, tol=0.01, max_frequencies=1000):\n",
    "    phases = np.linspace(-np.pi, np.pi, 51)\n",
    "    H_0_cache = []\n",
    "    I = [funcs.current_at_phase(syst, hopping, params, H_0_cache, phase, tol, max_frequencies)\n",
    "                  for phase in phases]\n",
    "\n",
    "    return hv.Curve((phases, I), kdims=['phase'], vdims=['$I$'], label='Nummerical CPR')"
   ]
  },
  {
   "cell_type": "markdown",
   "metadata": {},
   "source": [
    "# 1D"
   ]
  },
  {
   "cell_type": "code",
   "execution_count": null,
   "metadata": {
    "collapsed": true
   },
   "outputs": [],
   "source": [
    "syst, hopping = funcs.make_1d_wire(a=10, L=100, L_sc=100)\n",
    "\n",
    "params = dict(T=0.06, Delta=0.250, mu=15, k=constants.k,\n",
    "              hbar=constants.hbar, m_eff=constants.m_eff, current_unit=constants.current_unit, c=constants.c, \n",
    "              B_x=0, B_y=0, B_z=0, g=0, mu_B=0, alpha=0, V=lambda x:0)\n",
    "\n",
    "plot_CPR(syst, hopping, params)"
   ]
  },
  {
   "cell_type": "markdown",
   "metadata": {},
   "source": [
    "# Simpler way of calculating the super current (but slightly slower)"
   ]
  },
  {
   "cell_type": "code",
   "execution_count": null,
   "metadata": {
    "collapsed": true
   },
   "outputs": [],
   "source": [
    "from funcs import matsubara_frequency\n",
    "\n",
    "def null_G(syst, params, n):\n",
    "    en = matsubara_frequency(n, params)\n",
    "    gf = kwant.greens_function(syst, en, out_leads=[0], in_leads=[0],\n",
    "                               check_hermiticity=False, params=params)\n",
    "    return gf.data[::2, ::2]\n",
    "\n",
    "def current_from_G_0(G_0s, H12, phase, params):\n",
    "    t = H12 * np.exp(1j * phase)\n",
    "    dim = t.shape[0]\n",
    "    I = 0\n",
    "    for G_0 in G_0s:\n",
    "        V = np.zeros_like(G_0, dtype=complex)\n",
    "        v = t - H12\n",
    "        V[:dim, dim:] = v.T.conj()\n",
    "        V[dim:, :dim] = v\n",
    "        gf = np.linalg.solve(np.identity(2*dim) - G_0 @ V, G_0)\n",
    "        H12G21 = t.T.conj() @ gf[dim:, :dim]\n",
    "        H21G12 = t @ gf[:dim, dim:]\n",
    "        I += -4 * params['T'] * params['current_unit'] * (np.trace(H21G12) - np.trace(H12G21)).imag\n",
    "    return I\n",
    "\n",
    "matsfreqs = 500\n",
    "G_0s = [null_G(syst, params, n) for n in range(matsfreqs)]\n",
    "H12 = hopping(syst, params=params)\n",
    "phases = np.linspace(-np.pi, np.pi, 51)\n",
    "I = [current_from_G_0(G_0s, H12, phase, params) for phase in phases]\n",
    "hv.Curve((phases, I), kdims=['phase'], vdims=['$I$'])"
   ]
  },
  {
   "cell_type": "markdown",
   "metadata": {},
   "source": [
    "# Test 2D system and compare with exact equation"
   ]
  },
  {
   "cell_type": "code",
   "execution_count": null,
   "metadata": {
    "collapsed": true
   },
   "outputs": [],
   "source": [
    "Y = 2\n",
    "syst, hopping = funcs.make_2d_test_system(Y=Y)\n",
    "kwant.plot(syst);\n",
    "\n",
    "params = dict(T=0.0001, hbar=constants.hbar, m=constants.m_eff, \n",
    "              Delta=0.001, mu=constants.t*4, k=constants.k, current_unit=constants.current_unit, c=constants.c)\n",
    "kwant.plotter.bands(syst.leads[1], params=params);\n",
    "\n",
    "# Analytical comparison\n",
    "phases = np.linspace(-np.pi, np.pi, 51)\n",
    "N_modes = Y\n",
    "tanh_part = np.tanh(params['Delta'] / (2 * params['T'] * params['k']) * np.sqrt(1 - np.sin(0.5 * phases)**2))\n",
    "sum_part = np.sin(phases) / np.sqrt(1 - np.sin(0.5 * phases)**2)\n",
    "prefactor = constants.eV * (params['Delta'] * constants.meV) / (2 * constants.hbar) # Delta in J\n",
    "I_analytical = prefactor * N_modes * sum_part * tanh_part * 1e9 # Eq. (35) from arXiv:cond-mat/0406127v2\n",
    "\n",
    "(plot_CPR(syst, hopping, params, tol=0.001) *\n",
    " hv.Curve((phases, I_analytical), kdims=['phase'], vdims=['$I$'], label='Analytical result'))"
   ]
  },
  {
   "cell_type": "markdown",
   "metadata": {},
   "source": [
    "\n",
    "# 3D test system"
   ]
  },
  {
   "cell_type": "code",
   "execution_count": null,
   "metadata": {
    "collapsed": true
   },
   "outputs": [],
   "source": [
    "sx_ = np.array([[0., 1.], [1., 0.]])\n",
    "sz_ = np.array([[1., 0.], [0., -1.]])\n",
    "\n",
    "onsite = lambda site, mu: -mu * sz_\n",
    "onsite_lead = lambda site, mu, delta: -mu * sz_ + delta * sx_\n",
    "hops = lambda site1, site2, t: -t * sz_\n",
    "\n",
    "def make_test_system(X, Y, Z):\n",
    "    lat = kwant.lattice.general(np.eye(3), norbs=2)\n",
    "    syst = kwant.Builder()\n",
    "    syst[(lat(x, y, z) for x in range(X) for y in range(Y) for z in range(Z))] = onsite\n",
    "    syst[lat.neighbors()] = hops\n",
    "\n",
    "    cuts = get_cuts(syst, lat)\n",
    "    syst = add_vlead(syst, lat, *cuts)\n",
    "\n",
    "    lead = kwant.Builder(kwant.TranslationalSymmetry((-1, 0, 0)))\n",
    "    lead[(lat(0, y, z) for y in range(Y) for z in range(Z))] = onsite_lead\n",
    "    lead[lat.neighbors()] = hops\n",
    "    syst.attach_lead(lead)\n",
    "    syst.attach_lead(lead.reversed())\n",
    "    syst = syst.finalized()\n",
    "    \n",
    "    hopping = hopping_between_cuts(syst, *cuts)\n",
    "    \n",
    "    return syst, hopping\n",
    "\n",
    "delta = 0.01\n",
    "params = dict(mu=0., t=1., delta=delta, k=1, current_unit=1, T=delta/100)\n",
    "syst, hopping = make_test_system(X=3, Y=3, Z=3)\n",
    "kwant.plot(syst);\n",
    "plot_CPR(syst, hopping, params)"
   ]
  },
  {
   "cell_type": "markdown",
   "metadata": {},
   "source": [
    "# 3D system with Discretizer Hamiltonian, squared system"
   ]
  },
  {
   "cell_type": "code",
   "execution_count": null,
   "metadata": {
    "collapsed": true,
    "scrolled": false
   },
   "outputs": [],
   "source": [
    "# Test Hamiltonian\n",
    "syst, hopping = funcs.make_3d_test_system(X=5, Y=3, Z=3, a=1, test_hamiltonian=True)\n",
    "params = dict(T=0.01, Delta=1, mu=2, t=1, k=1, current_unit=1, c=1)\n",
    "kwant.plotter.bands(syst.leads[2], params=params)\n",
    "plot_CPR(syst, hopping, params)"
   ]
  },
  {
   "cell_type": "code",
   "execution_count": null,
   "metadata": {
    "collapsed": true
   },
   "outputs": [],
   "source": [
    "# Full Hamiltonian\n",
    "syst, hopping = funcs.make_3d_test_system(X=20, Y=30, Z=30, a=10, test_hamiltonian=False)\n",
    "params = dict(T=1, Delta=0.250, mu=30, k=constants.k,\n",
    "              hbar=constants.hbar, m_eff=constants.m_eff, current_unit=constants.current_unit, c=constants.c, \n",
    "              B_x=0, B_y=0, B_z=0, g=0, mu_B=0, alpha=0, V=lambda x:0)\n",
    "kwant.plot(syst);\n",
    "kwant.plotter.bands(syst.leads[2], params=params);\n",
    "plot_CPR(syst, hopping, params)"
   ]
  },
  {
   "cell_type": "markdown",
   "metadata": {},
   "source": [
    "# 3D full wire"
   ]
  },
  {
   "cell_type": "code",
   "execution_count": null,
   "metadata": {
    "collapsed": true
   },
   "outputs": [],
   "source": [
    "syst_pars = dict(a=8, angle=0, site_disorder=True, L=80, L_sc=8,\n",
    "                 phi=135, r1=50, r2=70, shape='circle', with_leads=True,\n",
    "                 with_shell=True, with_vlead=False, holes=True)\n",
    "syst, hopping = funcs.make_3d_wire(**syst_pars)\n",
    "\n",
    "kwant.plot(syst)"
   ]
  },
  {
   "cell_type": "markdown",
   "metadata": {},
   "source": [
    "# 1D Supplementary figure\n",
    "This is calculated using a cluster because of the many parameters."
   ]
  },
  {
   "cell_type": "code",
   "execution_count": null,
   "metadata": {
    "collapsed": true
   },
   "outputs": [],
   "source": [
    "from hpc05 import Client\n",
    "client = Client(profile='pbs', timeout=10)"
   ]
  },
  {
   "cell_type": "code",
   "execution_count": null,
   "metadata": {
    "collapsed": true
   },
   "outputs": [],
   "source": [
    "dview = client[:]\n",
    "dview.use_dill()\n",
    "lview = client.load_balanced_view()\n",
    "len(dview)"
   ]
  },
  {
   "cell_type": "code",
   "execution_count": null,
   "metadata": {
    "collapsed": true
   },
   "outputs": [],
   "source": [
    "%px import sys, os; sys.path.append(os.path.expanduser('~/Work/nanowire_current/'))\n",
    "%px import funcs, kwant"
   ]
  },
  {
   "cell_type": "code",
   "execution_count": null,
   "metadata": {
    "collapsed": true,
    "scrolled": false
   },
   "outputs": [],
   "source": [
    "syst_pars = dict(a=10, L=500, L_sc=100)\n",
    "params = dict(B_y=0, B_z=0, Delta=0.25, g=50, mu_B=constants.mu_B, t=constants.t, V=lambda x: 0, T=1, \n",
    "              k=constants.k, current_unit=constants.current_unit, c=constants.c, hbar=constants.hbar,\n",
    "              m_eff=constants.m_eff)\n",
    "alphas = np.linspace(0, 100, 20)\n",
    "B_xs = np.linspace(0, 1.5, 20)\n",
    "mus = [0.1, 0.3 ,1, 3, 10, 30]\n",
    "vals = list(product(alphas, B_xs, mus))\n",
    "\n",
    "def fun(x, syst_pars=syst_pars, params=params):\n",
    "    import kwant, funcs\n",
    "    syst, hopping = funcs.make_1d_wire(**syst_pars)\n",
    "    params = dict(**params, alpha=x[0], B_x=x[1], mu=x[2])\n",
    "    return funcs.I_c(syst, hopping, params)\n",
    "\n",
    "current_phase = lview.map_async(fun, vals)\n",
    "\n",
    "current_phase.wait_interactive()\n",
    "\n",
    "current_phase = current_phase.result()\n",
    "\n",
    "df = pd.concat((pd.DataFrame(vals, columns=['alpha', 'B_x', 'mu']), pd.DataFrame(current_phase)), axis=1)\n",
    "df = df.assign(**syst_pars, **params).assign(**constants.__dict__)\n",
    "df = df.assign(git_hash=funcs.get_git_revision_hash())\n",
    "df.to_hdf('1d_alpha_vs_B_x.hdf', 'all_data', mode='w')"
   ]
  },
  {
   "cell_type": "code",
   "execution_count": null,
   "metadata": {
    "collapsed": true
   },
   "outputs": [],
   "source": [
    "def Image(group, x, y, z):\n",
    "    bounds = (df[x].min(), df[y].min(), df[x].max(), df[y].max())\n",
    "    table = group.pivot_table(index=[x], columns=[y], values=[z])\n",
    "    return hv.Image(np.rot90(table), kdims=[x, y], vdims=[z], bounds=bounds)"
   ]
  },
  {
   "cell_type": "code",
   "execution_count": null,
   "metadata": {
    "collapsed": true,
    "scrolled": false
   },
   "outputs": [],
   "source": [
    "%%opts Image (cmap='viridis') [aspect='square'] Layout {+axiswise}\n",
    "df = pd.read_hdf('data/1d_alpha_vs_B_x.hdf')\n",
    "ims = [(mu, Image(group, 'B_x', 'alpha', 'current_c')) for mu, group in df.groupby('mu')]\n",
    "hm = hv.HoloMap(ims, kdims=['mu'])\n",
    "hm.layout('mu').cols(3)"
   ]
  }
 ],
 "metadata": {
  "anaconda-cloud": {},
  "kernelspec": {
   "display_name": "Python [conda env:dev]",
   "language": "python",
   "name": "conda-env-dev-py"
  },
  "language_info": {
   "codemirror_mode": {
    "name": "ipython",
    "version": 3
   },
   "file_extension": ".py",
   "mimetype": "text/x-python",
   "name": "python",
   "nbconvert_exporter": "python",
   "pygments_lexer": "ipython3",
   "version": "3.6.1"
  }
 },
 "nbformat": 4,
 "nbformat_minor": 1
}
