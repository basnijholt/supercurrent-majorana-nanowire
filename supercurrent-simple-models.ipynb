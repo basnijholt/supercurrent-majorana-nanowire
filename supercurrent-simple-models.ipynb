{
 "cells": [
  {
   "cell_type": "code",
   "execution_count": null,
   "metadata": {
    "collapsed": false
   },
   "outputs": [],
   "source": [
    "%matplotlib inline\n",
    "import holoviews as hv\n",
    "hv.notebook_extension()\n",
    "import sympy.interactive\n",
    "sympy.interactive.init_printing('mathjax')\n",
    "\n",
    "import kwant\n",
    "import numpy as np\n",
    "from itertools import product\n",
    "from supercurrent import (current_at_phase,\n",
    "                          discretized_hamiltonian,\n",
    "                          hoppingkind_at_interface,\n",
    "                          hoppingkind_in_shape,\n",
    "                          make_params,\n",
    "                          peierls,\n",
    "                          SimpleNamespace)"
   ]
  },
  {
   "cell_type": "markdown",
   "metadata": {},
   "source": [
    "\n",
    "# 3D test system"
   ]
  },
  {
   "cell_type": "code",
   "execution_count": null,
   "metadata": {
    "collapsed": false
   },
   "outputs": [],
   "source": [
    "from supercurrent import k_B\n",
    "sx_ = np.array([[0., 1.], [1., 0.]])\n",
    "sz_ = np.array([[1., 0.], [0., -1.]])\n",
    "\n",
    "onsite = lambda site, p: -p.mu * sz_\n",
    "onsite_lead = lambda site, p: -p.mu * sz_ + p.delta * sx_\n",
    "hops = lambda site1, site2, p: -p.t * sz_\n",
    "\n",
    "def make_test_system(X, Y, Z):\n",
    "    lat = kwant.lattice.general(np.eye(3))\n",
    "    syst = kwant.Builder()\n",
    "    range_X = range(X)\n",
    "    range_Y = range(Y)\n",
    "    range_Z = range(Z)\n",
    "    syst[(lat(x, y, z) for x in range_X for y in range_Y for z in range_Z)] = onsite\n",
    "    syst[lat.neighbors()] = hops\n",
    "\n",
    "    l_cut = [lat(x, y, z) for x, y, z in [i.tag for i in syst.sites()] if x == 0]\n",
    "    r_cut = [lat(x, y, z) for x, y, z in [i.tag for i in syst.sites()] if x == 1]\n",
    "\n",
    "    num_orbs = 2\n",
    "    dim = num_orbs * (len(l_cut) + len(r_cut))\n",
    "    vlead = kwant.builder.SelfEnergyLead(lambda energy, args: np.zeros((dim, dim)), r_cut + l_cut)\n",
    "    syst.leads.append(vlead)\n",
    "    \n",
    "    lead = kwant.Builder(kwant.TranslationalSymmetry((-1, 0, 0)))\n",
    "    lead[(lat(0, y, z) for y in range_Y for z in range_Z)] = onsite_lead\n",
    "    lead[lat.neighbors()] = hops\n",
    "    syst.attach_lead(lead)\n",
    "    syst.attach_lead(lead.reversed())\n",
    "    syst = syst.finalized()\n",
    "    \n",
    "    r_cut_sites = [syst.sites.index(site) for site in r_cut]\n",
    "    l_cut_sites = [syst.sites.index(site) for site in l_cut]\n",
    "    \n",
    "    def hopping(syst, args=()):\n",
    "        return syst.hamiltonian_submatrix(args=args,\n",
    "                                          to_sites=l_cut_sites,\n",
    "                                          from_sites=r_cut_sites)[::2, ::2]\n",
    "    return syst, hopping\n",
    "\n",
    "\n",
    "\n",
    "delta = 0.01\n",
    "T = 0.5 * delta / k_B\n",
    "syst, hopping = make_test_system(X=3, Y=3, Z=3)\n",
    "p = SimpleNamespace(mu=0., t=1., delta=1)\n",
    "\n",
    "phases = np.linspace(-np.pi, np.pi, 51)\n",
    "H_0_cache = []\n",
    "I = np.array([current_at_phase(syst, hopping, p, T, H_0_cache, phase, tol=None, max_frequencies=200) for phase in phases])\n",
    "hv.Curve(I, kdims=['phase'], vdims=['$I$'])"
   ]
  },
  {
   "cell_type": "markdown",
   "metadata": {},
   "source": [
    "# 3D system with Discretizer Hamiltonian, squared system"
   ]
  },
  {
   "cell_type": "code",
   "execution_count": null,
   "metadata": {
    "collapsed": false
   },
   "outputs": [],
   "source": [
    "def make_test_system(X, Y, Z, a=10):\n",
    "    tb_normal, tb_sc = discretized_hamiltonian(a)[:-1]\n",
    "    lat = tb_normal.lattice\n",
    "    syst = kwant.Builder()\n",
    "    syst[(lat(x, y, z) for x in range(X) for y in range(Y) for z in range(Z))] = tb_normal.onsite\n",
    "\n",
    "    for hop, val in tb_normal.hoppings.items():\n",
    "        syst[hop] = val\n",
    "\n",
    "    l_cut = [lat(x, y, z) for x, y, z in [i.tag for i in syst.sites()] if x == 0]\n",
    "    r_cut = [lat(x, y, z) for x, y, z in [i.tag for i in syst.sites()] if x == 1]\n",
    "\n",
    "    num_orbs = 4\n",
    "    dim = num_orbs * (len(l_cut) + len(r_cut))\n",
    "    vlead = kwant.builder.SelfEnergyLead(lambda energy, args: np.zeros((dim, dim)), r_cut + l_cut)\n",
    "    syst.leads.append(vlead)\n",
    "    \n",
    "    lead = kwant.Builder(kwant.TranslationalSymmetry((-a, 0, 0)))\n",
    "    lead[(lat(0, y, z) for y in range(Y) for z in range(Z))] = tb_sc.onsite\n",
    "\n",
    "    for hop, val in tb_sc.hoppings.items():\n",
    "        lead[hop] = val\n",
    "\n",
    "    syst.attach_lead(lead)\n",
    "    syst.attach_lead(lead.reversed())\n",
    "    \n",
    "    syst = syst.finalized()\n",
    "    \n",
    "    r_cut_sites = [syst.sites.index(site) for site in r_cut]\n",
    "    l_cut_sites = [syst.sites.index(site) for site in l_cut]\n",
    "    \n",
    "    def hopping(syst, args=()):\n",
    "        return syst.hamiltonian_submatrix(args=args,\n",
    "                                          to_sites=l_cut_sites,\n",
    "                                          from_sites=r_cut_sites)[::2, ::2]\n",
    "    return syst, hopping\n",
    "\n",
    "T = 60e-3\n",
    "\n",
    "syst, hopping = make_test_system(X=2, Y=3, Z=3)\n",
    "p = make_params(Delta=0.25, alpha=20, mu=15)\n",
    "phases = np.linspace(-np.pi, np.pi, 51)\n",
    "H_0_cache = []\n",
    "I = np.array([current_at_phase(syst, hopping, p, T, H_0_cache, phase, tol=None, max_frequencies=200) for phase in phases])\n",
    "hv.Curve(I, kdims=['phase'], vdims=['$I$'])"
   ]
  },
  {
   "cell_type": "markdown",
   "metadata": {},
   "source": [
    "# Simpler way (but slightly slower)"
   ]
  },
  {
   "cell_type": "code",
   "execution_count": null,
   "metadata": {
    "collapsed": false
   },
   "outputs": [],
   "source": [
    "from supercurrent import matsubara_frequency, k_B\n",
    "def null_G(syst, p, T, n):\n",
    "    en = matsubara_frequency(T, n)\n",
    "    gf = kwant.greens_function(syst, en, [p], [0], [0], check_hermiticity=False)\n",
    "    return gf.data[::2, ::2]\n",
    "\n",
    "def current_from_G_0(T, G_0s, H12, phase):\n",
    "    t = H12 * np.exp(1j * phase)\n",
    "    dim = t.shape[0]\n",
    "    I = 0\n",
    "    for G_0 in G_0s:\n",
    "        V = np.zeros_like(G_0, dtype=complex)\n",
    "        v = t - H12\n",
    "        V[:dim, dim:] = v.T.conj()\n",
    "        V[dim:, :dim] = v\n",
    "        gf = np.linalg.solve(np.identity(2*dim) - G_0 @ V, G_0)\n",
    "        H12G21 = t.T.conj() @ gf[dim:, :dim]\n",
    "        H21G12 = t @ gf[:dim, dim:]\n",
    "        I += -4 * T * (np.trace(H21G12) - np.trace(H12G21)).imag\n",
    "    return I\n",
    "\n",
    "matsfreqs = 200\n",
    "G_0s = [null_G(syst, p, T, n) for n in range(matsfreqs)]\n",
    "H12 = hopping(syst, args=[p])\n",
    "phases = np.linspace(-np.pi, np.pi, 51)\n",
    "I = [current_from_G_0(T, G_0s, H12, phase) for phase in phases]\n",
    "I = np.array(I)\n",
    "hv.Curve((phases, I), kdims=['phase'], vdims=['$I$'])"
   ]
  },
  {
   "cell_type": "markdown",
   "metadata": {},
   "source": [
    "# Test 2D system"
   ]
  },
  {
   "cell_type": "code",
   "execution_count": null,
   "metadata": {
    "collapsed": false
   },
   "outputs": [],
   "source": [
    "sx_ = np.array([[0., 1.], [1., 0.]])\n",
    "sz_ = np.array([[1., 0.], [0., -1.]])\n",
    "\n",
    "onsite = lambda site, p: -p.mu * sz_\n",
    "onsite_lead = lambda site, p: -p.mu * sz_ + p.delta * sx_\n",
    "hops = lambda site1, site2, p: -p.t * sz_\n",
    "\n",
    "def make_test_system_2D(X=3, Y=2):\n",
    "    lat = kwant.lattice.square()\n",
    "    syst = kwant.Builder()\n",
    "    range_X = range(X)\n",
    "    range_Y = range(Y)\n",
    "    syst[(lat(x, y) for x in range_X for y in range_Y)] = onsite\n",
    "    syst[lat.neighbors()] = hops\n",
    "\n",
    "    l_cut = [lat(x, y) for x, y in [i.tag for i in syst.sites()] if x == 0]\n",
    "    r_cut = [lat(x, y) for x, y in [i.tag for i in syst.sites()] if x == 1]\n",
    "\n",
    "    num_orbs = 2\n",
    "    dim = num_orbs * (len(l_cut) + len(r_cut))\n",
    "    vlead = kwant.builder.SelfEnergyLead(lambda energy, args: np.zeros((dim, dim)), r_cut + l_cut)\n",
    "    syst.leads.append(vlead)\n",
    "    \n",
    "    lead = kwant.Builder(kwant.TranslationalSymmetry((-1, 0)))\n",
    "    lead[(lat(0, y) for y in range_Y)] = onsite_lead\n",
    "    lead[lat.neighbors()] = hops\n",
    "    syst.attach_lead(lead)\n",
    "    syst.attach_lead(lead.reversed())\n",
    "    syst = syst.finalized()\n",
    "    \n",
    "    r_cut_sites = [syst.sites.index(site) for site in r_cut]\n",
    "    l_cut_sites = [syst.sites.index(site) for site in l_cut]\n",
    "    \n",
    "    def hopping(syst, args=()):\n",
    "        return syst.hamiltonian_submatrix(args=args,\n",
    "                                          to_sites=l_cut_sites,\n",
    "                                          from_sites=r_cut_sites)[::2, ::2]\n",
    "    return syst, hopping\n"
   ]
  },
  {
   "cell_type": "code",
   "execution_count": null,
   "metadata": {
    "collapsed": false
   },
   "outputs": [],
   "source": [
    "syst, _ = make_test_system_2D()\n",
    "kwant.plot(syst)"
   ]
  }
 ],
 "metadata": {
  "kernelspec": {
   "display_name": "Python 3",
   "language": "python",
   "name": "python3"
  },
  "language_info": {
   "codemirror_mode": {
    "name": "ipython",
    "version": 3
   },
   "file_extension": ".py",
   "mimetype": "text/x-python",
   "name": "python",
   "nbconvert_exporter": "python",
   "pygments_lexer": "ipython3",
   "version": "3.5.2"
  }
 },
 "nbformat": 4,
 "nbformat_minor": 0
}
