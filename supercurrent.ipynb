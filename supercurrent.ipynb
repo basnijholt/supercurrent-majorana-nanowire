{
 "cells": [
  {
   "cell_type": "markdown",
   "metadata": {},
   "source": [
    "# Calculations of supercurrents in a proximitized semiconducting 3D nanowire\n",
    "The simulations in this notebook generate data that is used for the plotting of the theoretical figures of the paper.\n",
    "\n",
    "Some simulations are expensive and took ~5hrs on 300 cores. Therefore we often cut up the simulation in parts using the `funcs.chunks` function. The resulting (partial) data is saved in `pandas.DataFrame`s.\n",
    "\n",
    "To view the resulting data (after joining the parts with `pandas.concat`) see [paper-figures.ipynb](paper-figures.ipynb) for the figures from the paper or [explore-data.ipynb](explore-data.ipynb) to interactively explore the data.\n",
    "\n",
    "# The Python conda environment that is used\n",
    "* To install, save the following code as `environment.yml`, install `conda` and run: `conda env create -f environment.yml`\n",
    "```yaml\n",
    "name: python3\n",
    "channels:\n",
    "  - conda-forge\n",
    "dependencies:\n",
    "  - python=3.5\n",
    "  - anaconda=4.3\n",
    "  - kwant=1.2.2\n",
    "  - discretizer=0.4.3\n",
    "  - holoviews=1.7.0\n",
    "  - xarray=0.9.1\n",
    "  - hpc05  # This is only needed if you use a PBS cluster with headnode\n",
    "```\n",
    "\n",
    "## Notes\n",
    "* Make sure that a folder `tmp` and `data` exists when running the simulations."
   ]
  },
  {
   "cell_type": "code",
   "execution_count": null,
   "metadata": {
    "collapsed": false,
    "scrolled": false
   },
   "outputs": [],
   "source": [
    "try:\n",
    "    # If this can be imported, it assumes you have access to a PBS cluster\n",
    "    # with a headnode where you started a cluster\n",
    "    import hpc05\n",
    "    client = hpc05.Client(profile='pbs', timeout=60)\n",
    "    print(\"Connected to hpc05\")\n",
    "except ImportError:\n",
    "    # Otherwise start an ipyparallel ipcluster locally\n",
    "    from ipyparallel import Client\n",
    "    client = Client()\n",
    "    print(\"Connected to local engines\")"
   ]
  },
  {
   "cell_type": "code",
   "execution_count": null,
   "metadata": {
    "collapsed": false,
    "scrolled": false
   },
   "outputs": [],
   "source": [
    "dview = client[:]\n",
    "dview.use_dill()\n",
    "lview = client.load_balanced_view()\n",
    "print('Connected to {} engines.'.format(len(dview)))"
   ]
  },
  {
   "cell_type": "code",
   "execution_count": null,
   "metadata": {
    "collapsed": true
   },
   "outputs": [],
   "source": [
    "# Make sure this folder is in your $PYTHONPATH\n",
    "# or set the correct location in the next line (run after all engines are connected)\n",
    "%px import sys, os; sys.path.append(os.path.expanduser('~/Work/nanowire_current/'))"
   ]
  },
  {
   "cell_type": "code",
   "execution_count": null,
   "metadata": {
    "collapsed": false,
    "scrolled": false
   },
   "outputs": [],
   "source": [
    "# Standard library imports\n",
    "from functools import partial\n",
    "from itertools import product, repeat\n",
    "import os.path\n",
    "import types\n",
    "\n",
    "# Related third party imports\n",
    "import holoviews as hv\n",
    "import kwant\n",
    "import numpy as np\n",
    "import pandas as pd\n",
    "import sympy.interactive\n",
    "\n",
    "# Local imports\n",
    "import funcs\n",
    "from funcs import constants\n",
    "\n",
    "%matplotlib inline\n",
    "hv.notebook_extension()\n",
    "sympy.interactive.init_printing('mathjax')"
   ]
  },
  {
   "cell_type": "markdown",
   "metadata": {},
   "source": [
    "# Creating some wires as example"
   ]
  },
  {
   "cell_type": "code",
   "execution_count": null,
   "metadata": {
    "collapsed": false,
    "scrolled": false
   },
   "outputs": [],
   "source": [
    "# Create system with infinite leads\n",
    "syst_pars = dict(a=8, A_in_SC=True, angle=0, site_disorder=False, holes=True, L=200, L_sc=80,\n",
    "                 phi=135, r1=50, r2=70, shape='circle', spin=True, with_leads=True,\n",
    "                 with_shell=True, with_vlead=True)\n",
    "\n",
    "syst, hopping = funcs.make_3d_wire(**syst_pars)\n",
    "kwant.plot(syst)"
   ]
  },
  {
   "cell_type": "code",
   "execution_count": null,
   "metadata": {
    "collapsed": false,
    "scrolled": false
   },
   "outputs": [],
   "source": [
    "%matplotlib notebook\n",
    "# Create system without leads and bigger SC regions\n",
    "syst_pars['L_sc'] = 40\n",
    "syst_pars['L'] = 40\n",
    "syst, hopping = funcs.make_3d_wire(**syst_pars)\n",
    "kwant.plot(syst)\n",
    "plt.show()"
   ]
  },
  {
   "cell_type": "code",
   "execution_count": null,
   "metadata": {
    "collapsed": false,
    "scrolled": false
   },
   "outputs": [],
   "source": [
    "# Create system without leads\n",
    "syst_pars['with_leads'] = False\n",
    "syst, hopping = funcs.make_3d_wire(**syst_pars)\n",
    "kwant.plot(syst)"
   ]
  },
  {
   "cell_type": "markdown",
   "metadata": {},
   "source": [
    "# Mean free path calculation\n",
    "See also [mean-free-path.ipynb](mean-free-path.ipynb) for the data processing"
   ]
  },
  {
   "cell_type": "code",
   "execution_count": null,
   "metadata": {
    "collapsed": false,
    "scrolled": false
   },
   "outputs": [],
   "source": [
    "syst_pars = dict(a=8, A_in_SC=True, angle=0, site_disorder=True, holes=False, L_sc=8,\n",
    "                 phi=135, r1=50, r2=70, shape='circle', spin=True, with_leads=True,\n",
    "                 with_shell=False, with_vlead=False)\n",
    "\n",
    "ham_pars = dict(alpha=20, B_x=0, B_y=0, B_z=0, Delta=0, g=50, mu_B=constants.mu_B,\n",
    "                orbital=True, t=constants.t, V=lambda x: 0)\n",
    "\n",
    "Ls = np.arange(80, 2000, 80)\n",
    "salts = np.arange(0, 30)\n",
    "disorders = [0, 10, 20, 30, 40, 50, 60, 70, 80, 90, 100, 110]\n",
    "mus = [10, 15, 20, 25, 30, 35, 40, 45, 50]\n",
    "\n",
    "vals = list(product(salts, disorders, Ls, mus))\n",
    "\n",
    "def transmission(x, syst_pars=syst_pars, ham_pars=ham_pars):\n",
    "    import funcs, types, kwant\n",
    "    syst, hopping = funcs.make_3d_wire(**dict(**syst_pars, L=x[2]))\n",
    "    p = types.SimpleNamespace(**ham_pars, salt=x[0], disorder=x[1], mu=x[3])\n",
    "    smatrix = kwant.smatrix(syst, args=[p])\n",
    "    return smatrix.transmission(0, 1), smatrix.num_propagating(0)\n",
    "\n",
    "trans = lview.map_async(transmission, vals)\n",
    "trans.wait_interactive()\n",
    "trans = trans.result()\n",
    "\n",
    "df = pd.DataFrame(vals, columns=['salt', 'disorder', 'L', 'mu'])\n",
    "df = pd.concat((pd.DataFrame(trans, columns=['transmission', 'num_propagating']), df), axis=1)\n",
    "df = df.assign(**syst_pars).assign(**ham_pars).assign(**constants.__dict__)\n",
    "df = df.assign(git_hash=funcs.get_git_revision_hash())\n",
    "df.to_hdf('data/mean_free_path.hdf', 'all_data', mode='w')"
   ]
  },
  {
   "cell_type": "markdown",
   "metadata": {},
   "source": [
    "# $B_x(I_c)$ no disorder, combinations of effects and geometries:"
   ]
  },
  {
   "cell_type": "code",
   "execution_count": null,
   "metadata": {
    "collapsed": false
   },
   "outputs": [],
   "source": [
    "syst_pars = dict(a=8, A_in_SC=True, angle=0, site_disorder=False, holes=True, phi=135,\n",
    "                 r1=50, r2=70, shape='circle', spin=True, \n",
    "                 with_shell=True, with_vlead=True)\n",
    "\n",
    "ham_pars = dict(B_y=0, B_z=0, Delta=60, mu_B=constants.mu_B,\n",
    "                t=constants.t, t_interface=7/8*constants.t, V=lambda x: 0)\n",
    "\n",
    "Ts = [0.1, 0.5, 1]\n",
    "orbital_bools = [False, True]\n",
    "gs = [0, 50]\n",
    "alphas = [0, 20]\n",
    "mus = [10, 20, 30, 40, 50]\n",
    "Ls = [80, 160, 320, 640]\n",
    "leads = [(True, 8), (False, 400)]\n",
    "Bs = np.linspace(0, 2, 100)\n",
    "\n",
    "vals = list(product(Ts, Ls, orbital_bools, gs, alphas, mus, leads, Bs))\n",
    "\n",
    "def current(x, syst_pars=syst_pars, ham_pars=ham_pars):\n",
    "    import kwant, types, funcs\n",
    "    syst, hopping = funcs.make_3d_wire(**dict(**syst_pars, L=x[1], with_leads=x[6][0], L_sc=x[6][1]))\n",
    "    p = types.SimpleNamespace(**ham_pars, B_x=x[7], orbital=x[2], g=x[3], alpha=x[4], mu=x[5])\n",
    "    return funcs.I_c(syst, hopping, p, T=x[0])\n",
    "\n",
    "for i, chunk in enumerate(funcs.chunks(vals, 3000)):\n",
    "    fname = 'tmp/I_c_B_x_no_disorder{}.hdf'.format(i)\n",
    "    if not os.path.exists(fname):\n",
    "        I = lview.map_async(current, chunk)\n",
    "        I.wait_interactive()\n",
    "        current_phase = I.result()\n",
    "        \n",
    "        df = pd.DataFrame(chunk, columns=['T', 'L', 'orbital', 'g', 'alpha', 'mu', 'leads', 'B_x'])\n",
    "        df[['with_leads', 'L_sc']] = df.pop('leads').apply(pd.Series)\n",
    "        df = pd.concat((pd.DataFrame(current_phase), df), axis=1)\n",
    "        df = df.assign(**syst_pars).assign(**ham_pars).assign(**constants.__dict__)\n",
    "        df = df.assign(git_hash=funcs.get_git_revision_hash())\n",
    "        df.to_hdf(fname, 'all_data', mode='w')"
   ]
  },
  {
   "cell_type": "markdown",
   "metadata": {},
   "source": [
    "# $B_x(I_c)$ with disorder:\n",
    "* Main paper Figure 4\n",
    "* Supplementary materials Figure 8"
   ]
  },
  {
   "cell_type": "code",
   "execution_count": null,
   "metadata": {
    "collapsed": false
   },
   "outputs": [],
   "source": [
    "syst_pars = dict(a=8, A_in_SC=True, angle=0, site_disorder=True, holes=True, L=640, \n",
    "                 L_sc=8, phi=135, r1=50, r2=70, shape='circle', spin=True,\n",
    "                 with_leads=True, with_shell=True, with_vlead=True)\n",
    "\n",
    "ham_pars = dict(B_y=0, B_z=0, Delta=60, mu_B=constants.mu_B,\n",
    "                t=constants.t, t_interface=7/8*constants.t, V=lambda x: 0)\n",
    "\n",
    "T = 1\n",
    "Bs = np.linspace(0, 1, 100)\n",
    "\n",
    "# Uncomment for having all combinations of effects\n",
    "# salts = [0]\n",
    "# disorders = [0, 65, 80]\n",
    "# orbital_bools = [False, True]\n",
    "# gs = [0, 50]\n",
    "# alphas = [0, 20]\n",
    "# mus = [10, 30]\n",
    "# vals = list(product(salts, disorders, orbital_bools, gs, alphas, mus, Bs))\n",
    "\n",
    "# These are all the combinations of effects that are showed in Fig. 4 of the main paper.\n",
    "vals = [[(0, 0, True, 50, 20, 10, B),\n",
    "         (0, 65, True, 50, 20, 10, B),\n",
    "         (0, 0, False, 50, 20, 10, B),\n",
    "         (0, 0, True, 50, 0, 10, B),\n",
    "         (0, 0, False, 50, 0, 10, B),\n",
    "         (0, 0, True, 50, 20, 30, B),\n",
    "         (0, 80, True, 50, 20, 30, B),\n",
    "         (0, 0, False, 50, 20, 30, B),\n",
    "         (0, 0, True, 50, 0, 30, B),\n",
    "         (0, 0, False, 50, 0, 30, B)]\n",
    "         for B in Bs]\n",
    "vals = sum(vals, [])\n",
    "\n",
    "print(len(vals))\n",
    "\n",
    "def current(x, syst_pars=syst_pars, ham_pars=ham_pars, T=T):\n",
    "    import kwant, types, funcs\n",
    "    syst, hopping = funcs.make_3d_wire(**syst_pars)\n",
    "    p = types.SimpleNamespace(**ham_pars, salt=x[0], disorder=x[1], orbital=x[2], \n",
    "                              g=x[3], alpha=x[4], mu=x[5], B_x=x[6])\n",
    "    return funcs.I_c(syst, hopping, p, T=T, N_brute=31)\n",
    "\n",
    "for i, chunk in enumerate(funcs.chunks(vals, 5000)):\n",
    "    fname = 'tmp/I_c_B_x_with_and_without_disorder_L640nm_mu30meV_{}.hdf'.format(i)\n",
    "    if not os.path.exists(fname):\n",
    "        I = lview.map_async(current, chunk)\n",
    "        I.wait_interactive()\n",
    "        current_phase = I.result()\n",
    "        \n",
    "        df = pd.DataFrame(chunk, columns=['salt', 'disorder', 'orbital', 'g', 'alpha', 'mu', 'B_x'])\n",
    "        df = pd.concat((pd.DataFrame(current_phase), df), axis=1)\n",
    "        df = df.assign(**syst_pars).assign(**ham_pars).assign(**constants.__dict__)\n",
    "        df = df.assign(T=T, git_hash=funcs.get_git_revision_hash())\n",
    "        df.to_hdf(fname, 'all_data', mode='w')"
   ]
  },
  {
   "cell_type": "markdown",
   "metadata": {},
   "source": [
    "# Rotation of the magnetic field in the $xy$-plane\n",
    "* Supplementary materials Figure 10"
   ]
  },
  {
   "cell_type": "markdown",
   "metadata": {},
   "source": [
    "![](https://upload.wikimedia.org/wikipedia/commons/thumb/4/4f/3D_Spherical.svg/558px-3D_Spherical.svg.png)"
   ]
  },
  {
   "cell_type": "code",
   "execution_count": null,
   "metadata": {
    "collapsed": false,
    "scrolled": false
   },
   "outputs": [],
   "source": [
    "syst_pars = dict(a=8, A_in_SC=True, angle=0, site_disorder=False, holes=True, L=640, L_sc=8,\n",
    "                 phi=135, r1=50, r2=70, shape='circle', spin=True, \n",
    "                 with_leads=True, with_shell=True, with_vlead=True)\n",
    "\n",
    "ham_pars = dict(alpha=20, B_z=0, Delta=60, g=50, \n",
    "                mu=30, mu_B=constants.mu_B, orbital=True, \n",
    "                t=constants.t, t_interface=7/8*constants.t, V=lambda x: 0)\n",
    "\n",
    "T = 1\n",
    "\n",
    "Bs = np.linspace(0, 1, 100)\n",
    "angles = np.arange(0, 195, 15)\n",
    "thetas = [angle for angle in angles for B in Bs]\n",
    "B_xs = [B * np.cos(angle * np.pi / 180) for angle in angles for B in Bs]\n",
    "B_ys = [B * np.sin(angle * np.pi / 180) for angle in angles for B in Bs]\n",
    "vals = list(zip(B_xs, B_ys))\n",
    "\n",
    "def fun(x, syst_pars=syst_pars, ham_pars=ham_pars, T=T):\n",
    "    import kwant, types, funcs\n",
    "    p = types.SimpleNamespace(**ham_pars, B_x=x[0], B_y=x[1])\n",
    "    syst, hopping = funcs.make_3d_wire(**syst_pars)\n",
    "    return funcs.I_c(syst, hopping, p, T)\n",
    "\n",
    "I = lview.map_async(fun, vals)\n",
    "I.wait_interactive()\n",
    "current_phase = I.result()\n",
    "\n",
    "df = pd.DataFrame(vals, columns=['B_x', 'B_y'])\n",
    "df['theta'] = thetas\n",
    "df['B'] = np.sqrt(df['B_x']**2 + df['B_y']**2)\n",
    "df = pd.concat((pd.DataFrame(current_phase), df), axis=1)\n",
    "df = df.assign(**syst_pars).assign(**ham_pars).assign(**constants.__dict__)\n",
    "df = df.assign(T=T).assign(git_hash=funcs.get_git_revision_hash())\n",
    "df.to_hdf('data/rotation_of_field_xy.hdf', 'all_data', mode='w')"
   ]
  },
  {
   "cell_type": "markdown",
   "metadata": {},
   "source": [
    "# Tuning the induced gap"
   ]
  },
  {
   "cell_type": "code",
   "execution_count": null,
   "metadata": {
    "collapsed": false
   },
   "outputs": [],
   "source": [
    "# Create system with infinite leads\n",
    "syst_pars = dict(a=8, A_in_SC=True, angle=0, site_disorder=False, holes=True,\n",
    "                 L=80, L_sc=8, phi=135, r1=50, r2=70, shape='circle',\n",
    "                 spin=True, with_leads=True, with_shell=True, with_vlead=True)\n",
    "\n",
    "ham_pars = dict(alpha=20, B_x=0, B_y=0, B_z=0, g=50, \n",
    "                mu_B=constants.mu_B, orbital=True, \n",
    "                t=constants.t, t_interface=7/8*constants.t, V=lambda x: 0)\n",
    "\n",
    "mus = np.linspace(2, 30, 50)\n",
    "Deltas = np.linspace(0, 100, 50)\n",
    "\n",
    "def evs(x, syst_pars=syst_pars, ham_pars=ham_pars):\n",
    "    import kwant, types, funcs\n",
    "    import numpy as np\n",
    "    syst, _ = funcs.make_3d_wire(**syst_pars)\n",
    "    lead = syst.leads[1]\n",
    "    p = types.SimpleNamespace(**ham_pars, Delta=x[0], mu=x[1])\n",
    "    h0 = lead.cell_hamiltonian(args=[p])\n",
    "    t0 = lead.inter_cell_hopping(args=[p])\n",
    "    ham = h0 + t0 + t0.conj().T\n",
    "    ev = np.linalg.eigvalsh(ham)\n",
    "    return np.abs(ev).min()\n",
    "\n",
    "vals = list(product(Deltas, mus))\n",
    "gap = lview.map_async(evs, vals)\n",
    "gap.wait_interactive()\n",
    "gap = np.reshape(gap.result(), (len(Deltas), -1)) \n",
    "max_gap = max(np.min(gap, axis=1))\n",
    "print(\"Max gap is {} meV\".format(max_gap))"
   ]
  },
  {
   "cell_type": "code",
   "execution_count": null,
   "metadata": {
    "collapsed": false
   },
   "outputs": [],
   "source": [
    "hv.Curve((Deltas, gap.min(axis=1)), kdims=['$\\Delta$'], vdims=['$E_{gap}$'], label=\"$E_{gap}$ over range of $\\Delta$'s\")"
   ]
  },
  {
   "cell_type": "code",
   "execution_count": null,
   "metadata": {
    "collapsed": false
   },
   "outputs": [],
   "source": [
    "Delta_ind = {delta: hv.Path((mus, evs), kdims=['$\\mu$', ('E_gap', '$E_{gap}$')]) \n",
    "      for evs, delta in zip(gap, Deltas)}\n",
    "\n",
    "hm = hv.HoloMap(Delta_ind, kdims=['$\\Delta$'])\n",
    "(hm.select(E_gap=(0.2, 0.40)) * hv.HLine(0.25))"
   ]
  },
  {
   "cell_type": "markdown",
   "metadata": {},
   "source": [
    "# $I_c(B_x, V)$"
   ]
  },
  {
   "cell_type": "code",
   "execution_count": null,
   "metadata": {
    "collapsed": false
   },
   "outputs": [],
   "source": [
    "# Plot test\n",
    "syst_pars = dict(a=8, A_in_SC=True, angle=0, site_disorder=False, holes=True,\n",
    "                   L=640, L_sc=8, phi=135, r1=50, r2=70, shape='circle',\n",
    "                   spin=True, with_leads=True, with_shell=True, with_vlead=True)\n",
    "\n",
    "syst, hopping = funcs.make_3d_wire(**syst_pars)\n",
    "gate_fun = funcs.gate(syst, 100, 160)\n",
    "sites = [gate_fun(pos[0]) for pos in [i.pos for i in syst.sites]]\n",
    "kwant.plot(syst, site_lw=0, site_color=sites, colorbar=False)"
   ]
  },
  {
   "cell_type": "markdown",
   "metadata": {},
   "source": [
    "## Gate simulation with and without disorder\n",
    "* Main paper figure 5(b)\n",
    "* Supplementary materials Figure 9"
   ]
  },
  {
   "cell_type": "code",
   "execution_count": null,
   "metadata": {
    "collapsed": false
   },
   "outputs": [],
   "source": [
    "syst_pars = dict(a=8, A_in_SC=True, angle=0, site_disorder=True, holes=True,\n",
    "                 L=640, L_sc=8, phi=135, r1=50, r2=70, shape='circle',\n",
    "                 spin=True, with_leads=True, with_shell=True, with_vlead=True)\n",
    "\n",
    "ham_pars = dict(alpha=20, B_y=0, B_z=0, Delta=60, g=50, mu=30,\n",
    "                mu_B=constants.mu_B, orbital=True, t=constants.t,\n",
    "                t_interface=7/8*constants.t, salt=0)\n",
    "\n",
    "T = 1\n",
    "Bs = np.linspace(0, 0.5, 100)\n",
    "Vs = np.linspace(0, 7.5, 100)\n",
    "gate_sizes = [640]\n",
    "disorders = [80, 0]\n",
    "\n",
    "def current(x, syst_pars=syst_pars, ham_pars=ham_pars, T=T):\n",
    "    import kwant, types, funcs\n",
    "    syst, hopping = funcs.make_3d_wire(**syst_pars)\n",
    "    p = types.SimpleNamespace(**ham_pars, B_x=x[3],\n",
    "                              V=funcs.gate(syst, V=x[2], gate_size=x[0]),\n",
    "                              disorder=x[1])\n",
    "    return funcs.I_c(syst, hopping, p, T)\n",
    "\n",
    "vals = list(product(gate_sizes, disorders, Vs, Bs))\n",
    "\n",
    "for i, chunk in enumerate(funcs.chunks(vals, 10000)):\n",
    "    fname = \"tmp/current_as_function_of_gate_and_B_x_with_and_without_disorder_mu30meV_zoomin{}.h5\".format(i)\n",
    "    if not os.path.exists(fname):\n",
    "        I = lview.map_async(current, chunk)\n",
    "        I.wait_interactive()\n",
    "        current_phase = I.result()\n",
    "\n",
    "        df = pd.DataFrame(chunk, columns=['gate_size', 'disorder', 'V', 'B_x'])\n",
    "        df = pd.concat((pd.DataFrame(current_phase), df), axis=1)\n",
    "        df = df.assign(**syst_pars).assign(**ham_pars).assign(**constants.__dict__)\n",
    "        df = df.assign(T=T).assign(git_hash=funcs.get_git_revision_hash())\n",
    "        df.to_hdf(fname, 'all_data', mode='w')"
   ]
  }
 ],
 "metadata": {
  "anaconda-cloud": {},
  "kernelspec": {
   "display_name": "Python 3",
   "language": "python",
   "name": "python3"
  },
  "language_info": {
   "codemirror_mode": {
    "name": "ipython",
    "version": 3
   },
   "file_extension": ".py",
   "mimetype": "text/x-python",
   "name": "python",
   "nbconvert_exporter": "python",
   "pygments_lexer": "ipython3",
   "version": "3.5.2"
  }
 },
 "nbformat": 4,
 "nbformat_minor": 0
}
