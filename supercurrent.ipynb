{
 "cells": [
  {
   "cell_type": "code",
   "execution_count": null,
   "metadata": {
    "collapsed": false
   },
   "outputs": [],
   "source": [
    "%matplotlib inline\n",
    "import holoviews as hv\n",
    "hv.notebook_extension()\n",
    "import sympy.interactive\n",
    "sympy.interactive.init_printing('mathjax')\n",
    "import sys\n",
    "sys.path.append('/home/bnijholt/orbitalfield/')"
   ]
  },
  {
   "cell_type": "code",
   "execution_count": null,
   "metadata": {
    "collapsed": false
   },
   "outputs": [],
   "source": [
    "import os\n",
    "from scripts.hpc05 import HPC05Client\n",
    "os.environ['SSH_AUTH_SOCK'] = os.path.join(os.path.expanduser('~'), 'ssh-agent.socket')\n",
    "client = HPC05Client()"
   ]
  },
  {
   "cell_type": "code",
   "execution_count": null,
   "metadata": {
    "collapsed": false
   },
   "outputs": [],
   "source": [
    "# from ipyparallel import Client\n",
    "# client = Client(profile='python3')\n",
    "dview = client[:]\n",
    "dview.use_dill()\n",
    "lview = client.load_balanced_view()\n",
    "len(dview)"
   ]
  },
  {
   "cell_type": "code",
   "execution_count": null,
   "metadata": {
    "collapsed": false
   },
   "outputs": [],
   "source": [
    "%%px --local\n",
    "\n",
    "import kwant\n",
    "from kwant.digest import uniform\n",
    "from types import SimpleNamespace\n",
    "import sympy\n",
    "from sympy.physics.quantum import TensorProduct as kr\n",
    "import numpy as np\n",
    "from scipy.constants import hbar, m_e, eV, physical_constants\n",
    "from discretizer import Discretizer, momentum_operators\n",
    "import scipy.optimize\n",
    "from itertools import product\n",
    "from copy import copy\n",
    "import types\n",
    "import os.path\n",
    "import deepdish as dd\n",
    "import matplotlib.pyplot as plt\n",
    "\n",
    "k_B = physical_constants['Boltzmann constant in eV/K'][0] * 1000\n",
    "sx, sy, sz = [sympy.physics.matrices.msigma(i) for i in range(1, 4)]\n",
    "s0 = sympy.eye(2)\n",
    "s0 = sympy.eye(2)\n",
    "s0sz = np.kron(s0, sz)\n",
    "s0s0 = np.kron(s0, s0)\n",
    "\n",
    "# Parameters taken from arXiv:1204.2792\n",
    "# All constant parameters, mostly fundamental constants, in a SimpleNamespace.\n",
    "constants = SimpleNamespace(\n",
    "    m=0.015 * m_e,  # effective mass in kg\n",
    "    g=50,  # Lande factor\n",
    "    hbar=hbar,\n",
    "    m_e=m_e,\n",
    "    e=eV,\n",
    "    eV=eV,\n",
    "    meV=eV * 1e-3)\n",
    "\n",
    "constants.t = (hbar ** 2 / (2 * constants.m)) * (1e18 / constants.meV)  # meV * nm^2\n",
    "constants.mu_B = physical_constants['Bohr magneton'][0] / constants.meV\n",
    "\n",
    "class SimpleNamespace(SimpleNamespace):\n",
    "    def update(self, **kwargs):\n",
    "        self.__dict__.update(kwargs)\n",
    "        return self\n",
    "\n",
    "def make_params(alpha=20,\n",
    "                B_x=0,\n",
    "                B_y=0,\n",
    "                B_z=0,\n",
    "                Delta=0.25,\n",
    "                mu=0,\n",
    "                orbital=True,\n",
    "                t=constants.t,\n",
    "                g=constants.g,\n",
    "                mu_B=constants.mu_B,\n",
    "                V=lambda x,y,z: 0,\n",
    "                **kwargs):\n",
    "    \"\"\"Function that creates a namespace with parameters.\n",
    "\n",
    "    Parameters:\n",
    "    -----------\n",
    "    alpha : float\n",
    "        Spin-orbit coupling strength in units of meV*nm.\n",
    "    B_x, B_y, B_z : float\n",
    "        The magnetic field strength in the x, y and z direction in units of Tesla.\n",
    "    Delta : float\n",
    "        The superconducting gap in units of meV.\n",
    "    mu : float\n",
    "        The chemical potential in units of meV.\n",
    "    orbital : bool\n",
    "        Switches the orbital effects on and off.\n",
    "    t : float\n",
    "        Hopping parameter in meV * nm^2.\n",
    "    g : float\n",
    "        Lande g factor.\n",
    "    mu_B : float\n",
    "        Bohr magneton in meV/K.\n",
    "    V : function\n",
    "        Function of spatial coordinates (x, y, z) which is added to mu.\n",
    "\n",
    "    Returns:\n",
    "    --------\n",
    "    p : SimpleNamespace object\n",
    "        A simple container that is used to store Hamiltonian parameters.\n",
    "    \"\"\"\n",
    "    p = SimpleNamespace(t=t,\n",
    "                        g=g,\n",
    "                        mu_B=mu_B,\n",
    "                        alpha=alpha,\n",
    "                        B_x=B_x,\n",
    "                        B_y=B_y,\n",
    "                        B_z=B_z,\n",
    "                        Delta=Delta,\n",
    "                        mu=mu,\n",
    "                        orbital=orbital,\n",
    "                        V=V,\n",
    "                        **kwargs)\n",
    "    return p\n",
    "\n",
    "\n",
    "def cylinder_sector(r1, r2=0, L=1, L0=0, phi=360, angle=0, a=10):\n",
    "    \"\"\"Returns the shape function and start coords.\n",
    "    \n",
    "    Parameters:\n",
    "    -----------\n",
    "    r1 : int\n",
    "        Inner radius in nm.\n",
    "    r2 : int\n",
    "        Outer radius in nm.\n",
    "    L : int\n",
    "        Length of wire from L0 in nm, -1 if infinite in x-direction.\n",
    "    L0 : int\n",
    "        Start position in x.\n",
    "    phi : int\n",
    "        Coverage angle in degrees.\n",
    "    angle : int\n",
    "        Angle of tilting from top in degrees.\n",
    "    a : int\n",
    "        Discretization constant in nm.\n",
    "    \n",
    "    Returns:\n",
    "    --------\n",
    "    (shape_func, *(start_coords))\n",
    "    \"\"\"\n",
    "    phi *= np.pi / 360\n",
    "    angle *= np.pi / 180\n",
    "    r1sq, r2sq = r1 ** 2, r2 ** 2\n",
    "    def sector(pos):\n",
    "        x, y, z = pos\n",
    "        n = (y + 1j * z) * np.exp(1j * angle)\n",
    "        y, z = n.real, n.imag\n",
    "        rsq = y ** 2 + z ** 2\n",
    "        \n",
    "        shape_yz = r2sq <= rsq < r1sq and z >= np.cos(phi) * np.sqrt(rsq)\n",
    "        return (shape_yz and L0 <= x < L) if L > 0 else shape_yz\n",
    "    r_mid = (r1 + r2) / 2\n",
    "    return sector, (L - a, r_mid * np.sin(angle), r_mid * np.cos(angle))\n",
    "\n",
    "\n",
    "def discretized_hamiltonian(a=10):\n",
    "    k_x, k_y, k_z = momentum_operators\n",
    "    t, B_x, B_y, B_z, mu_B, Delta, mu, alpha, g, V = sympy.symbols('t B_x B_y B_z mu_B Delta mu alpha g V', real=True)\n",
    "    t_interface = sympy.symbols('t_interface', real=True)\n",
    "    k = sympy.sqrt(k_x**2+k_y**2+k_z**2)\n",
    "    ham = ((t * k**2 - mu - V) * kr(s0, sz) +\n",
    "               alpha * (k_y * kr(sx, sz) - k_x * kr(sy, sz)) +\n",
    "               0.5 * g * mu_B * (B_x * kr(sx, s0) + B_y * kr(sy, s0) + B_z * kr(sz, s0)) +\n",
    "               Delta * kr(s0, sx))\n",
    "    args = dict(space_dependent={'V'}, lattice_constant=a, discrete_coordinates={'x', 'y', 'z'})\n",
    "    tb_normal = Discretizer(ham.subs(Delta, 0), **args)\n",
    "    tb_sc = Discretizer(ham.subs([(g, 0), (alpha, 0)]), **args)\n",
    "    tb_interface = Discretizer(ham.subs(t, t_interface), **args)\n",
    "    return tb_normal, tb_sc, tb_interface\n",
    "\n",
    "\n",
    "def hoppingkind_in_shape(hop, shape, syst):\n",
    "    \"\"\"Returns an HoppingKind iterator for hoppings in shape.\"\"\"\n",
    "    def in_shape(site1, site2, shape):\n",
    "        return shape[0](site1.pos) and shape[0](site2.pos)\n",
    "    hoppingkind = kwant.HoppingKind(hop.delta, hop.family_a)(syst)\n",
    "    return ((i, j) for (i, j) in hoppingkind if in_shape(i, j, shape))\n",
    "\n",
    "\n",
    "def hoppingkind_at_interface(hop, shape1, shape2, syst):\n",
    "    \"\"\"Returns an HoppingKind iterator for hoppings at an interface between\n",
    "       shape1 and shape2.\"\"\"\n",
    "    def at_interface(site1, site2, shape1, shape2):\n",
    "        return ((shape1[0](site1.pos) and shape2[0](site2.pos)) or \n",
    "                (shape2[0](site1.pos) and shape1[0](site2.pos)))\n",
    "    hoppingkind = kwant.HoppingKind(hop.delta, hop.family_a)(syst)\n",
    "    return ((i, j) for (i, j) in hoppingkind if at_interface(i, j, shape1, shape2))\n",
    "\n",
    "\n",
    "def peierls(val, ind, a, c=constants):\n",
    "    def phase(s1, s2, p):\n",
    "        x, y, z = s1.pos\n",
    "        A_site = [p.B_y * z - p.B_z * y, 0, p.B_x * y][ind]\n",
    "        A_site *= a * 1e-18 * eV / hbar\n",
    "        return np.cos(A_site) * s0s0 - 1j * np.sin(A_site) * s0sz\n",
    "\n",
    "    def with_phase(s1, s2, p):\n",
    "        return phase(s1, s2, p).dot(val(s1, s2, p)) if p.orbital else val(s1, s2, p)\n",
    "    \n",
    "    return with_phase\n",
    "\n",
    "def make_3d_wire(a=10, L=50, r1=50, r2=70, phi=135, angle=0, disorder=False, \n",
    "                 with_vlead=True, with_leads=True, L_sc=1):\n",
    "    \"\"\"Creates a cylindrical 3D wire partially covered with a superconducting shell, \n",
    "    but without superconductor in the scattering region of length (L - 2*a*L_sc).\n",
    "    \n",
    "    Parameters:\n",
    "    -----------\n",
    "    a : int\n",
    "        Discretization constant in nm.\n",
    "    L : int\n",
    "        Length of wire.\n",
    "    r1 : int\n",
    "        Radius of normal part of wire in nm.\n",
    "    r2 : int\n",
    "        Radius of superconductor in nm.\n",
    "    phi : int\n",
    "        Coverage angle of superconductor in degrees.\n",
    "    angle : int\n",
    "        Angle of tilting of superconductor from top in degrees.    \n",
    "    disorder : bool\n",
    "        When True syst requires 'disorder' and 'salt' aguments.\n",
    "    with_vlead : bool\n",
    "        If True a SelfEnergyLead with zero energy is added to a slice of the system.\n",
    "    with_leads : bool\n",
    "        If True it appends infinite leads with superconducting shell.\n",
    "    L_sc : int\n",
    "        Number of unit cells that has a superconducting shell. If the system has\n",
    "        infinite leads, set L_sc=1.\n",
    "\n",
    "    Returns:\n",
    "    --------\n",
    "    syst : kwant.builder.FiniteSystem\n",
    "        The finilized system.\n",
    "    hopping : function\n",
    "        Function that returns the hopping matrix between the two cross sections\n",
    "        of where the SelfEnergyLead is attached.\n",
    "    \"\"\"\n",
    "    tb_normal, tb_sc, tb_interface = discretized_hamiltonian(a)\n",
    "    lat = tb_normal.lattice\n",
    "    syst = kwant.Builder()\n",
    "    lead = kwant.Builder(kwant.TranslationalSymmetry((-a, 0, 0)))\n",
    "    \n",
    "    # Wire scattering region shapes\n",
    "    shape_normal = cylinder_sector(r1=r1, angle=angle, L=L, a=a)\n",
    "    # Superconductor slice in the beginning of the scattering region of L_sc unit cells\n",
    "    shape_sc_start = cylinder_sector(r1=r2, r2=r1, phi=phi, angle=angle, L=a*L_sc, a=a)\n",
    "    # Superconductor slice in the end of the scattering region of L_sc unit cells\n",
    "    shape_sc_end = cylinder_sector(r1=r2, r2=r1, phi=phi, angle=angle, L0=L-a*L_sc, L=L, a=a)\n",
    "    \n",
    "    # Lead shapes\n",
    "    shape_sc_lead = cylinder_sector(r1=r2, r2=r1, phi=phi, angle=angle, L=-1, a=a)\n",
    "    shape_normal_lead = cylinder_sector(r1=r1, angle=angle, L=-1, a=a)\n",
    "    \n",
    "    def onsite_dis(site, p):\n",
    "        return p.disorder * (uniform(repr(site), repr(p.salt)) - 0.5) * np.eye(4)\n",
    "    \n",
    "    # Add onsite terms in the scattering region\n",
    "    syst[lat.shape(*shape_normal)] = lambda s, p: tb_normal.onsite(s, p) + (onsite_dis(s, p) if disorder else 0)\n",
    "    syst[lat.shape(*shape_sc_start)] = tb_sc.onsite\n",
    "    syst[lat.shape(*shape_sc_end)] = tb_sc.onsite\n",
    "\n",
    "    # Add onsite terms in the infinite lead\n",
    "    lead[lat.shape(*shape_normal_lead)] = tb_normal.onsite\n",
    "    lead[lat.shape(*shape_sc_lead)] = tb_sc.onsite\n",
    "\n",
    "    for hop, val in tb_normal.hoppings.items():\n",
    "        # Add hoppings in normal parts of wire and lead with Peierls substitution\n",
    "        ind = np.argmax(hop.delta) # Index of direction of hopping\n",
    "        syst[hoppingkind_in_shape(hop, shape_normal, syst)] = peierls(val, ind, a)\n",
    "        lead[hoppingkind_in_shape(hop, shape_normal_lead, lead)] = peierls(val, ind, a)\n",
    "        \n",
    "    for hop, val in tb_sc.hoppings.items():\n",
    "        # Add hoppings in superconducting parts of wire and lead\n",
    "        syst[hoppingkind_in_shape(hop, shape_sc_start, syst)] = val\n",
    "        syst[hoppingkind_in_shape(hop, shape_sc_end, syst)] = val\n",
    "        lead[hoppingkind_in_shape(hop, shape_sc_lead, lead)] = val\n",
    "\n",
    "    for hop, val in tb_interface.hoppings.items():\n",
    "        # Add hoppings at the interface of superconducting parts and normal parts of wire and lead\n",
    "        syst[hoppingkind_at_interface(hop, shape_sc_start, shape_normal, syst)] = val\n",
    "        syst[hoppingkind_at_interface(hop, shape_sc_end, shape_normal, syst)] = val\n",
    "        lead[hoppingkind_at_interface(hop, shape_sc_lead, shape_normal_lead, lead)] = val\n",
    "        \n",
    "    def cut(x_cut):\n",
    "        # Take the sites at a cross section at x_cut\n",
    "        sites = [lat(x, y, z) for x, y, z in (i.tag for i in syst.sites()) if x == x_cut]\n",
    "        return sorted(sites, key=lambda s: s.pos[2] * 10000 + s.pos[1])\n",
    "    \n",
    "    # Define left and right cut in wire in the middle of the wire.\n",
    "    l_cut = cut(L//a)\n",
    "    r_cut = cut(L//a + 1)\n",
    "    num_orbs = 4\n",
    "    dim = num_orbs * (len(l_cut) + len(r_cut))\n",
    "    vlead = kwant.builder.SelfEnergyLead(lambda energy, args: np.zeros((dim, dim)), r_cut + l_cut)\n",
    "        \n",
    "    if with_vlead:\n",
    "        syst.leads.append(vlead)\n",
    "    if with_leads:\n",
    "        syst.attach_lead(lead)\n",
    "        syst.attach_lead(lead.reversed())\n",
    "    syst = syst.finalized()\n",
    "\n",
    "    r_cut_sites = [syst.sites.index(site) for site in r_cut]\n",
    "    l_cut_sites = [syst.sites.index(site) for site in l_cut]\n",
    "    \n",
    "    def hopping(syst, args=()):\n",
    "        # Function that returns the hopping matrix between the two cross sections\n",
    "        return syst.hamiltonian_submatrix(args=args,\n",
    "                                          to_sites=l_cut_sites,\n",
    "                                          from_sites=r_cut_sites)[::2, ::2]\n",
    "    return syst, hopping\n",
    "\n",
    "\n",
    "def matsubara_frequency(T, n):\n",
    "    return (2*n + 1) * np.pi * T * 1j\n",
    "\n",
    "\n",
    "def null_H(syst, p, T, n):\n",
    "    en = matsubara_frequency(T, n)\n",
    "    gf = kwant.greens_function(syst, en, [p], [0], [0], check_hermiticity=False)\n",
    "    return np.linalg.inv(gf.data[::2, ::2])\n",
    "\n",
    "\n",
    "def gf_from_H_0(H_0, t):\n",
    "    H = np.copy(H_0)\n",
    "    dim = t.shape[0]\n",
    "    H[:dim, dim:] -= t.T.conj()\n",
    "    H[dim:, :dim] -= t\n",
    "    return np.linalg.inv(H)\n",
    "\n",
    "\n",
    "def current_from_H_0(T, H_0s, H12, phase):\n",
    "    t = H12 * np.exp(1j * phase)\n",
    "    I = 0\n",
    "    for H_0 in H_0s:\n",
    "        gf = gf_from_H_0(H_0, t - H12)\n",
    "        dim = t.shape[0]\n",
    "        H12G21 = t.T.conj() @ gf[dim:, :dim]\n",
    "        H21G12 = t @ gf[:dim, dim:]\n",
    "        I += -4 * T * (np.trace(H21G12) - np.trace(H12G21)).imag\n",
    "    return I\n",
    "\n",
    "\n",
    "def I_c(syst, hopping, p, T, matsfreqs=1):\n",
    "    H_0s = [null_H(syst, p, T, n) for n in range(matsfreqs)]\n",
    "    H12 = hopping(syst, [p])\n",
    "    fun = lambda phase: -current_from_H_0(T, H_0s, H12, phase)\n",
    "    opt = scipy.optimize.minimize_scalar(fun, bounds=(-np.pi, np.pi), method='bounded')\n",
    "    phase = opt['x']\n",
    "    current = -opt['fun']\n",
    "    return phase, current\n",
    "\n",
    "\n",
    "def save_data(fname, p, constants, Bs, matsfreqs, wire_params, T, I_cs, phases, **kwargs):\n",
    "    \n",
    "    if os.path.exists(fname):\n",
    "        return \"File already existed\"\n",
    "    \n",
    "    def SimpleNamespace_save(p):\n",
    "        \"\"\"Removes functions from SimpleNamespace.\"\"\"\n",
    "        p_new = {key: val for key, val in p.__dict__.items() \n",
    "                 if not isinstance(val, types.FunctionType)}\n",
    "        return SimpleNamespace(**p_new)\n",
    "    \n",
    "    data = {'p': SimpleNamespace_save(p),\n",
    "            'constants': SimpleNamespace_save(constants),\n",
    "            'B_xs': Bs,\n",
    "            'matsfreqs': matsfreqs,\n",
    "            'wire_params': wire_params,\n",
    "            'T': T,\n",
    "            'I_cs': I_cs,\n",
    "            'phases': phases, **kwargs}\n",
    "\n",
    "    dd.io.save(fname, data, compression='blosc')"
   ]
  },
  {
   "cell_type": "code",
   "execution_count": null,
   "metadata": {
    "collapsed": false,
    "scrolled": false
   },
   "outputs": [],
   "source": [
    "# Create system with infinite leads\n",
    "wire_params = dict(a=10, L=60, r1=50, r2=70, phi=135, angle=0, \n",
    "                   disorder=False, with_vlead=True, with_leads=True, L_sc=1)\n",
    "syst, hopping = make_3d_wire(**wire_params)\n",
    "kwant.plot(syst)"
   ]
  },
  {
   "cell_type": "code",
   "execution_count": null,
   "metadata": {
    "collapsed": false
   },
   "outputs": [],
   "source": [
    "# Create system without leads\n",
    "wire_params = dict(a=10, L=100, r1=50, r2=70, phi=135, angle=0, \n",
    "                   disorder=False, with_vlead=True, with_leads=False, L_sc=1)\n",
    "syst, hopping = make_3d_wire(**wire_params)\n",
    "kwant.plot(syst)"
   ]
  },
  {
   "cell_type": "code",
   "execution_count": null,
   "metadata": {
    "collapsed": false
   },
   "outputs": [],
   "source": [
    "# Create system without leads and bigger SC regions\n",
    "wire_params = dict(a=10, L=100, r1=50, r2=70, phi=135, angle=0, \n",
    "                   disorder=False, with_vlead=True, with_leads=False, L_sc=3)\n",
    "syst, hopping = make_3d_wire(**wire_params)\n",
    "kwant.plot(syst)"
   ]
  },
  {
   "cell_type": "markdown",
   "metadata": {},
   "source": [
    "# $T$ vs $I_c$ with disorder"
   ]
  },
  {
   "cell_type": "code",
   "execution_count": null,
   "metadata": {
    "collapsed": false
   },
   "outputs": [],
   "source": [
    "%%px --local\n",
    "p = make_params(Delta=60, alpha=20, mu=15, B_x=0, B_y=0, t_interface=7/8*constants.t, disorder=None, salt=None)\n",
    "wire_params = dict(a=10, L=600, r1=50, r2=70, phi=135, angle=0, disorder=True)\n",
    "syst, hopping = make_3d_wire(**wire_params)"
   ]
  },
  {
   "cell_type": "code",
   "execution_count": null,
   "metadata": {
    "collapsed": false,
    "scrolled": false
   },
   "outputs": [],
   "source": [
    "Ts = np.arange(10, 160, 10) * 1e-3\n",
    "salts = range(30)\n",
    "disorders = [0, 10, 20, 30, 40]\n",
    "I = lview.map_async(lambda x: I_c(syst, hopping, p.update(salt=x[0], disorder=x[1]), T=x[2]),\n",
    "                    product(salts, disorders, Ts))\n",
    "\n",
    "I.wait_interactive()\n",
    "\n",
    "Ic = np.array(I.result()).reshape(len(salts), len(disorders), len(Ts), -1)\n",
    "\n",
    "phases, I_cs = Ic.T"
   ]
  },
  {
   "cell_type": "code",
   "execution_count": null,
   "metadata": {
    "collapsed": false
   },
   "outputs": [],
   "source": [
    "save_data('T_vs_Ic_L_600_mu-15meV_new.h5', dview['p'][0], constants, None, 1, wire_params, Ts, I_cs, phases,\n",
    "          disorders=disorders, salts=salts)"
   ]
  },
  {
   "cell_type": "markdown",
   "metadata": {},
   "source": [
    "# Relative importance of Zeeman, orbital, and spin-orbit"
   ]
  },
  {
   "cell_type": "code",
   "execution_count": null,
   "metadata": {
    "collapsed": false
   },
   "outputs": [],
   "source": [
    "p = make_params(Delta=60, alpha=20, mu=0, B_x=0, B_y=0, t_interface=7/8*constants.t, disorder=None, salt=None)\n",
    "wire_params = dict(a=10, L=600, r1=50, r2=70, phi=135, angle=0, disorder=True)\n",
    "syst, hopping = make_3d_wire(**wire_params)\n",
    "sorted(np.abs(kwant.physics.Bands(syst.leads[1], args=[p])(k=0)))[:13]"
   ]
  },
  {
   "cell_type": "markdown",
   "metadata": {},
   "source": [
    "# Mean free path, $g \\sim N_{ch}\\lambda_{MFP}/L$"
   ]
  },
  {
   "cell_type": "code",
   "execution_count": null,
   "metadata": {
    "collapsed": false
   },
   "outputs": [],
   "source": [
    "%%px\n",
    "def transmission(syst, p):\n",
    "    smatrix = kwant.smatrix(syst, args=[p])\n",
    "    return smatrix.num_propagating(0), smatrix.transmission(0, 1)\n",
    "\n",
    "p = make_params(Delta=0, alpha=20, mu=6, B_x=0, B_y=0, B_z=0, t_interface=7/8*constants.t, disorder=None, salt=None)\n",
    "wire_params = dict(a=10, L=None, r1=50, r2=70, phi=135, angle=0, disorder=True, with_vlead=False)"
   ]
  },
  {
   "cell_type": "code",
   "execution_count": null,
   "metadata": {
    "collapsed": false
   },
   "outputs": [],
   "source": [
    "Ls = [50, 100, 150, 200, 250, 300, 350, 400, 450, 500, 550, 600]\n",
    "conductances = []\n",
    "num_propagating = []\n",
    "for L in Ls:\n",
    "    print(L)\n",
    "    dview.execute('wire_params[\"L\"] = {}'.format(L))\n",
    "    %px syst, hopping = make_3d_wire(**wire_params)\n",
    "    salts = range(30)\n",
    "    disorders = [0, 5, 10, 15, 20, 25, 30, 35, 40, 45, 50]\n",
    "    conductance = lview.map_async(lambda x: transmission(syst, p.update(salt=x[0], disorder=x[1])), \n",
    "                        product(salts, disorders))\n",
    "    conductance.wait_interactive()\n",
    "    conductance = np.array(conductance.result()).reshape(len(salts), len(disorders), -1)\n",
    "    num_propagating.append(conductance[:, :, 0])\n",
    "    conductances.append(conductance[:, :, 1])"
   ]
  },
  {
   "cell_type": "code",
   "execution_count": null,
   "metadata": {
    "collapsed": false
   },
   "outputs": [],
   "source": [
    "save_data('data/mfp_mu-6meV.h5', dview['p'][0], dview['constants'][0], 0, 1, dview['wire_params'][0], \n",
    "          T=None, I_cs=None, phases=None, conductances=conductances,salts=salts,\n",
    "          disorders=disorders, Ls=Ls, num_propagating=num_propagating)"
   ]
  },
  {
   "cell_type": "code",
   "execution_count": null,
   "metadata": {
    "collapsed": false
   },
   "outputs": [],
   "source": [
    "wire_params = dict(a=10, L=30, r1=50, r2=70, phi=135, angle=0, disorder=True, with_vlead=False)\n",
    "syst, hopping = make_3d_wire(**wire_params)\n",
    "kwant.plot(syst)"
   ]
  },
  {
   "cell_type": "markdown",
   "metadata": {},
   "source": [
    "# Disorder"
   ]
  },
  {
   "cell_type": "code",
   "execution_count": null,
   "metadata": {
    "collapsed": true
   },
   "outputs": [],
   "source": [
    "%%px --local\n",
    "p = make_params(Delta=60, alpha=20, mu=6, B_x=0, B_y=0, t_interface=7/8*constants.t, disorder=None, salt=None)\n",
    "wire_params = dict(a=10, L=600, r1=50, r2=70, phi=135, angle=0, disorder=True)\n",
    "T = 60e-3\n",
    "syst, hopping = make_3d_wire(**wire_params)"
   ]
  },
  {
   "cell_type": "code",
   "execution_count": null,
   "metadata": {
    "collapsed": false
   },
   "outputs": [],
   "source": [
    "Bs = np.linspace(0, 1, 50)\n",
    "salts = range(30)\n",
    "disorders = [0, 10, 20, 30, 40]\n",
    "I = lview.map_async(lambda x: I_c(syst, hopping, p.update(salt=x[0], disorder=x[1], B_x=x[2]), T), \n",
    "                    product(salts, disorders, Bs))\n",
    "\n",
    "I.wait_interactive()\n",
    "\n",
    "Ic = np.array(I.result()).reshape(len(salts), len(disorders), len(Bs), -1)"
   ]
  },
  {
   "cell_type": "code",
   "execution_count": null,
   "metadata": {
    "collapsed": false
   },
   "outputs": [],
   "source": [
    "curves = {}\n",
    "for i, realisation in enumerate(Ic):\n",
    "    for disorder, I_cs in zip(disorders, realisation):\n",
    "        curves[(i, disorder)] = hv.Curve((Bs, (I_cs[:, 1])), kdims=[hv.Dimension('$B$', unit='$T$')], vdims=['$I_c$'])\n",
    "hm = hv.HoloMap(curves, kdims=['salt', 'disorder'])"
   ]
  },
  {
   "cell_type": "code",
   "execution_count": null,
   "metadata": {
    "collapsed": false
   },
   "outputs": [],
   "source": [
    "hm"
   ]
  },
  {
   "cell_type": "code",
   "execution_count": null,
   "metadata": {
    "collapsed": false
   },
   "outputs": [],
   "source": [
    "collapsed = hm.collapse('salt', function=np.mean, spreadfn=np.std)\n",
    "disorder = collapsed * collapsed.table().to.spread(['$B$', '$I_c$'], '$I_c$_std')\n",
    "disorder"
   ]
  },
  {
   "cell_type": "code",
   "execution_count": null,
   "metadata": {
    "collapsed": false
   },
   "outputs": [],
   "source": [
    "%%output size=200 fig='svg'\n",
    "hv.GridSpace(disorder)"
   ]
  },
  {
   "cell_type": "code",
   "execution_count": null,
   "metadata": {
    "collapsed": false
   },
   "outputs": [],
   "source": [
    "wire_params = dview['wire_params'][0]\n",
    "p = dview['p'][0]\n",
    "fname = 'L_{}-matfreqs_{}-a_{}-T_{}_disorder-mu-{}meV.h5'.format(wire_params['L'], 1, wire_params['a'], T, p.mu)\n",
    "save_data(fname, p, constants, Bs, 1, wire_params, T, phases=Ic[..., 0], I_cs=Ic[..., 1], disorders=disorders, salts=salts)"
   ]
  },
  {
   "cell_type": "markdown",
   "metadata": {},
   "source": [
    "# vary $L$, $n$, and $a$ without disorder:"
   ]
  },
  {
   "cell_type": "code",
   "execution_count": null,
   "metadata": {
    "collapsed": false
   },
   "outputs": [],
   "source": [
    "p = make_params(Delta=60, alpha=20, mu=15, B_x=None, B_y=0, t_interface=7/8*constants.t)\n",
    "wire_params = dict(a=10, L=50, r1=50, r2=70, phi=135, angle=0)\n",
    "Bs = np.linspace(0, 2, 100)\n",
    "for T in [30e-3, 60e-3, 90e-3]:\n",
    "    for wire_params['a'] in [5, 10]:\n",
    "        for wire_params['L'] in [50, 100, 200, 400]:\n",
    "            for matsfreqs in [1, 2, 3, 4]:\n",
    "                print(\"T={}, a={}, L={}, matsfreq={}\".format(T, wire_params['a'], wire_params['L'], matsfreqs))\n",
    "                fname = 'L_{}-matfreqs_{}-a_{}-T_{}.h5'.format(wire_params['L'], matsfreqs, wire_params['a'], T)\n",
    "                if not os.path.isfile(fname):\n",
    "                    dview['T'] = T\n",
    "                    dview['p'] = p\n",
    "                    dview['wire_params'] = wire_params\n",
    "                    dview['matsfreqs'] = matsfreqs\n",
    "                    %px syst, hopping = make_3d_wire(**wire_params)\n",
    "                    I = lview.map_async(lambda x: I_c(syst, hopping, p.update(B_x=x), T, matsfreqs), Bs)\n",
    "                    I.wait_interactive()\n",
    "                    phases, I_cs = np.array(I.result()).T\n",
    "                    save_data(fname, p, constants, Bs, matsfreqs, wire_params, T, I_cs, phases)"
   ]
  },
  {
   "cell_type": "code",
   "execution_count": null,
   "metadata": {
    "collapsed": false,
    "scrolled": false
   },
   "outputs": [],
   "source": [
    "%%opts Path [aspect='square']\n",
    "bands = kwant.physics.Bands(syst.leads[1], args=[p])\n",
    "ks = np.linspace(-2, 2, 100)\n",
    "en = np.array([bands(k=k) for k in ks])\n",
    "hv.Path((ks, en))[:, -5:5]"
   ]
  },
  {
   "cell_type": "code",
   "execution_count": null,
   "metadata": {
    "collapsed": false
   },
   "outputs": [],
   "source": [
    "%%opts Overlay [show_legend=True] Curve [show_legend=True]\n",
    "(hv.Curve((Bs, np.array([-I['fun'] for I in I_cs])), kdims=['$B_x$'], vdims=['$I_c$'], label='10 nm') \n",
    " * hv.Curve((np.linspace(0, 1, 50), np.loadtxt('5nm.dat')), kdims=['$B_x$'], vdims=['$I_c$'], label='5 nm'))"
   ]
  }
 ],
 "metadata": {
  "kernelspec": {
   "display_name": "Python 3",
   "language": "python",
   "name": "python3"
  },
  "language_info": {
   "codemirror_mode": {
    "name": "ipython",
    "version": 3
   },
   "file_extension": ".py",
   "mimetype": "text/x-python",
   "name": "python",
   "nbconvert_exporter": "python",
   "pygments_lexer": "ipython3",
   "version": "3.5.1"
  }
 },
 "nbformat": 4,
 "nbformat_minor": 0
}
