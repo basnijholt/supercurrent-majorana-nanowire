{
 "cells": [
  {
   "cell_type": "code",
   "execution_count": null,
   "metadata": {
    "collapsed": false
   },
   "outputs": [],
   "source": [
    "%matplotlib inline\n",
    "import holoviews as hv\n",
    "hv.notebook_extension()\n",
    "import sympy.interactive\n",
    "sympy.interactive.init_printing('mathjax')\n",
    "import sys\n",
    "sys.path.append('/home/bnijholt/orbitalfield/')"
   ]
  },
  {
   "cell_type": "code",
   "execution_count": null,
   "metadata": {
    "collapsed": false
   },
   "outputs": [],
   "source": [
    "import os\n",
    "from scripts.hpc05 import HPC05Client\n",
    "os.environ['SSH_AUTH_SOCK'] = os.path.join(os.path.expanduser('~'), 'ssh-agent.socket')\n",
    "client = HPC05Client()"
   ]
  },
  {
   "cell_type": "code",
   "execution_count": null,
   "metadata": {
    "collapsed": false
   },
   "outputs": [],
   "source": [
    "# from ipyparallel import Client\n",
    "# client = Client(profile='python3')\n",
    "dview = client[:]\n",
    "dview.use_dill()\n",
    "lview = client.load_balanced_view()\n",
    "len(dview)"
   ]
  },
  {
   "cell_type": "code",
   "execution_count": null,
   "metadata": {
    "collapsed": false
   },
   "outputs": [],
   "source": [
    "%%px --local\n",
    "\n",
    "import kwant\n",
    "from collections import namedtuple\n",
    "from kwant.digest import uniform\n",
    "from types import SimpleNamespace\n",
    "import sympy\n",
    "from sympy.physics.quantum import TensorProduct as kr\n",
    "import numpy as np\n",
    "from scipy.constants import hbar, m_e, eV, physical_constants\n",
    "from discretizer import Discretizer, momentum_operators\n",
    "import scipy.optimize\n",
    "from itertools import product\n",
    "from copy import copy\n",
    "import types\n",
    "import os.path\n",
    "import deepdish as dd\n",
    "\n",
    "k_B = physical_constants['Boltzmann constant in eV/K'][0] * 1000\n",
    "sx, sy, sz = [sympy.physics.matrices.msigma(i) for i in range(1, 4)]\n",
    "s0 = sympy.eye(2)\n",
    "s0 = sympy.eye(2)\n",
    "s0sz = np.kron(s0, sz)\n",
    "s0s0 = np.kron(s0, s0)\n",
    "\n",
    "# Parameters taken from arXiv:1204.2792\n",
    "# All constant parameters, mostly fundamental constants, in a SimpleNamespace.\n",
    "constants = SimpleNamespace(\n",
    "    m=0.015 * m_e,  # effective mass in kg\n",
    "    g=50,  # Lande factor\n",
    "    hbar=hbar,\n",
    "    m_e=m_e,\n",
    "    e=eV,\n",
    "    eV=eV,\n",
    "    meV=eV * 1e-3)\n",
    "\n",
    "constants.t = (hbar ** 2 / (2 * constants.m)) * (1e18 / constants.meV)  # meV * nm^2\n",
    "constants.mu_B = physical_constants['Bohr magneton'][0] / constants.meV\n",
    "\n",
    "class SimpleNamespace(SimpleNamespace):\n",
    "    def update(self, **kwargs):\n",
    "        self.__dict__.update(kwargs)\n",
    "        return self\n",
    "\n",
    "def make_params(alpha=20,\n",
    "                B_x=0,\n",
    "                B_y=0,\n",
    "                B_z=0,\n",
    "                Delta=0.25,\n",
    "                mu=0,\n",
    "                orbital=True,\n",
    "                t=constants.t,\n",
    "                g=constants.g,\n",
    "                mu_B=constants.mu_B,\n",
    "                V=lambda x,y,z: 0,\n",
    "                **kwargs):\n",
    "    \"\"\"Function that creates a namespace with parameters.\n",
    "\n",
    "    Parameters:\n",
    "    -----------\n",
    "    alpha : float\n",
    "        Spin-orbit coupling strength in units of meV*nm.\n",
    "    B_x, B_y, B_z : float\n",
    "        The magnetic field strength in the x, y and z direction in units of Tesla.\n",
    "    Delta : float\n",
    "        The superconducting gap in units of meV.\n",
    "    mu : float\n",
    "        The chemical potential in units of meV.\n",
    "    orbital : bool\n",
    "        Switches the orbital effects on and off.\n",
    "    t : float\n",
    "        Hopping parameter in meV * nm^2.\n",
    "    g : float\n",
    "        Lande g factor.\n",
    "    mu_B : float\n",
    "        Bohr magneton in meV/K.\n",
    "    V : function\n",
    "        Function of spatial coordinates (x, y, z) with is added to mu.\n",
    "\n",
    "    Returns:\n",
    "    --------\n",
    "    p : SimpleNamespace object\n",
    "        A simple container that is used to store Hamiltonian parameters.\n",
    "    \"\"\"\n",
    "    p = SimpleNamespace(t=t,\n",
    "                        g=g,\n",
    "                        mu_B=mu_B,\n",
    "                        alpha=alpha,\n",
    "                        B_x=B_x,\n",
    "                        B_y=B_y,\n",
    "                        B_z=B_z,\n",
    "                        Delta=Delta,\n",
    "                        mu=mu,\n",
    "                        orbital=orbital,\n",
    "                        V=V,\n",
    "                        **kwargs)\n",
    "    return p\n",
    "\n",
    "\n",
    "def cylinder_sector(r1, r2=0, L=1, L0=0, phi=360, angle=0, a=10):\n",
    "    phi *= np.pi / 360\n",
    "    angle *= np.pi / 180\n",
    "    r1sq, r2sq = r1 ** 2, r2 ** 2\n",
    "    def sector(pos):\n",
    "        x, y, z = pos\n",
    "        n = (y + 1j * z) * np.exp(1j * angle)\n",
    "        y, z = n.real, n.imag\n",
    "        rsq = y ** 2 + z ** 2\n",
    "        return r2sq <= rsq < r1sq and z >= np.cos(phi) * np.sqrt(rsq) and L0 <= x < L\n",
    "    r_mid = (r1 + r2) / 2\n",
    "    return sector, (L - a, r_mid * np.sin(angle), r_mid * np.cos(angle))\n",
    "\n",
    "\n",
    "def at_interface(site1, site2, shape1, shape2):\n",
    "    return (shape1[0](site1.pos) and shape2[0](site2.pos)) or (shape2[0](site1.pos) and shape1[0](site2.pos))\n",
    "\n",
    "\n",
    "def discretized_hamiltonian(a=10):\n",
    "    k_x, k_y, k_z = momentum_operators\n",
    "    t, B_x, B_y, B_z, mu_B, Delta, mu, alpha, g, V = sympy.symbols('t B_x B_y B_z mu_B Delta mu alpha g V', real=True)\n",
    "    t_interface = sympy.symbols('t_interface', real=True)\n",
    "    k = sympy.sqrt(k_x**2+k_y**2+k_z**2)\n",
    "    ham = ((t * k**2 - mu - V) * kr(s0, sz) +\n",
    "               alpha * (k_y * kr(sx, sz) - k_x * kr(sy, sz)) +\n",
    "               0.5 * g * mu_B * (B_x * kr(sx, s0) + B_y * kr(sy, s0) + B_z * kr(sz, s0)) +\n",
    "               Delta * kr(s0, sx))\n",
    "    args = dict(space_dependent={'V'}, lattice_constant=a, discrete_coordinates={'x', 'y', 'z'})\n",
    "    tb_normal = Discretizer(ham.subs(Delta, 0), **args)\n",
    "    tb_sc = Discretizer(ham.subs(g, 0), **args)\n",
    "    tb_interface = Discretizer(ham.subs(t, t_interface), **args)\n",
    "    return tb_normal, tb_sc, tb_interface\n",
    "\n",
    "\n",
    "def make_3d_wire(a=10, L=50, r1=50, r2=70, phi=135, angle=0, disorder=False, with_vlead=True):\n",
    "    tb_normal, tb_sc, tb_interface = discretized_hamiltonian(a)\n",
    "    lat = tb_normal.lattice\n",
    "    syst = kwant.Builder()\n",
    "    \n",
    "    shape_normal = cylinder_sector(r1=r1, angle=angle, L=L, a=a)\n",
    "    \n",
    "    def onsite_dis(site, p):\n",
    "        return p.disorder * (uniform(repr(site), repr(p.salt)) - 0.5) * np.eye(4)\n",
    "    \n",
    "    syst[lat.shape(*shape_normal)] = lambda s, p: tb_normal.onsite(s, p) + (onsite_dis(s, p) if disorder else 0)\n",
    "    \n",
    "    shape_sc = cylinder_sector(r1=r2, r2=r1, phi=phi, angle=angle, L=a, a=a)\n",
    "    shape_sc2 = cylinder_sector(r1=r2, r2=r1, phi=phi, angle=angle, L0=L-a, L=L, a=a)\n",
    "    \n",
    "    for shape in [shape_sc, shape_sc2]:\n",
    "        syst[lat.shape(*shape)] = lambda s, p: tb_sc.onsite(s, p) + (onsite_dis(s, p) if disorder else 0)\n",
    "\n",
    "    def peierls(val, ind):\n",
    "        def phase(s1, s2, p):\n",
    "            x, y, z = s1.pos\n",
    "            A_site = [p.B_y * z - p.B_z * y, 0, p.B_x * y][ind]\n",
    "            A_site *= a * 1e-18 * eV / hbar\n",
    "            return np.cos(A_site) * s0s0 - 1j * np.sin(A_site) * s0sz\n",
    "\n",
    "        def with_phase(s1, s2, p):\n",
    "            if p.orbital:\n",
    "                return phase(s1, s2, p).dot(val(s1, s2, p))\n",
    "            else:\n",
    "                return val(s1, s2, p)\n",
    "        return with_phase\n",
    "\n",
    "    for hop, val in tb_normal.hoppings.items():\n",
    "        ind = np.argmax(hop.delta)\n",
    "        syst[hop] = peierls(val, ind)\n",
    "    \n",
    "    def cut(x_cut):\n",
    "        sites = [lat(x, y, z) for x, y, z in [i.tag for i in syst.sites()] if x == x_cut]\n",
    "        return sorted(sites, key=lambda s: s.pos[2]*1000 + s.pos[1])\n",
    "    \n",
    "    l_cut = cut(1)\n",
    "    r_cut = cut(2)\n",
    "    \n",
    "    num_orbs = 4\n",
    "    dim = num_orbs * (len(l_cut) + len(r_cut))\n",
    "    vlead = kwant.builder.SelfEnergyLead(lambda energy, args: np.zeros((dim, dim)), r_cut + l_cut)\n",
    "\n",
    "    if with_vlead:\n",
    "        syst.leads.append(vlead)\n",
    "    \n",
    "    lead = kwant.Builder(kwant.TranslationalSymmetry((-a, 0, 0)))\n",
    "    \n",
    "    shape_normal_lead = cylinder_sector(r1=r1, angle=angle, L=a, a=a)\n",
    "    lead[lat.shape(*shape_normal_lead)] = tb_normal.onsite\n",
    "    lead[lat.shape(*shape_sc)] = tb_sc.onsite\n",
    "    \n",
    "    for hop, val in tb_sc.hoppings.items():\n",
    "        ind = np.argmax(hop.delta)\n",
    "        lead[hop] = peierls(val, ind)\n",
    "\n",
    "    for hop, val in tb_interface.hoppings.items():\n",
    "        ind = np.argmax(hop.delta)\n",
    "        for part, shape1, shape2 in [(syst, shape_sc, shape_normal), \n",
    "                                     (syst, shape_sc2, shape_normal), \n",
    "                                     (lead, shape_sc, shape_normal_lead)]:\n",
    "            hoppingkind = kwant.builder.HoppingKind(hop.delta, lat)(part)\n",
    "            hopping_iterator = ((i, j) for (i, j) in hoppingkind if at_interface(i, j, shape1, shape2))\n",
    "            part[hopping_iterator] = val\n",
    "        \n",
    "    syst.attach_lead(lead)\n",
    "    syst.attach_lead(lead.reversed())\n",
    "    \n",
    "    syst = syst.finalized()\n",
    "\n",
    "    r_cut_sites = [syst.sites.index(site) for site in r_cut]\n",
    "    l_cut_sites = [syst.sites.index(site) for site in l_cut]\n",
    "    \n",
    "    def hopping(syst, args=()):\n",
    "        return syst.hamiltonian_submatrix(args=args,\n",
    "                                          to_sites=l_cut_sites,\n",
    "                                          from_sites=r_cut_sites)[::2, ::2]\n",
    "    return syst, hopping\n",
    "\n",
    "\n",
    "def matsubara_frequency(T, n):\n",
    "    return (2*n + 1) * np.pi * T * 1j\n",
    "\n",
    "\n",
    "def null_H(syst, p, T, n):\n",
    "    en = matsubara_frequency(T, n)\n",
    "    gf = kwant.greens_function(syst, en, [p], [0], [0], check_hermiticity=False)\n",
    "    return np.linalg.inv(gf.data[::2, ::2])\n",
    "\n",
    "\n",
    "def gf_from_H_0(H_0, t):\n",
    "    H = np.copy(H_0)\n",
    "    dim = t.shape[0]\n",
    "    H[:dim, dim:] -= t.T.conj()\n",
    "    H[dim:, :dim] -= t\n",
    "    return np.linalg.inv(H)\n",
    "\n",
    "\n",
    "def current_from_H_0(T, H_0s, H12, phase):\n",
    "    t = H12 * np.exp(1j * phase)\n",
    "    I = 0\n",
    "    for H_0 in H_0s:\n",
    "        gf = gf_from_H_0(H_0, t - H12)\n",
    "        dim = t.shape[0]\n",
    "        H12G21 = t.T.conj() @ gf[dim:, :dim]\n",
    "        H21G12 = t @ gf[:dim, dim:]\n",
    "        I += -4 * T * (np.trace(H21G12) - np.trace(H12G21)).imag\n",
    "    return I\n",
    "\n",
    "\n",
    "def I_c(syst, hopping, p, T, matsfreqs=1):\n",
    "    H_0s = [null_H(syst, p, T, n) for n in range(matsfreqs)]\n",
    "    H12 = hopping(syst, [p])\n",
    "    fun = lambda phase: -current_from_H_0(T, H_0s, H12, phase)\n",
    "    opt = scipy.optimize.minimize_scalar(fun, bounds=(-np.pi, np.pi), method='bounded')\n",
    "    phase = opt['x']\n",
    "    current = -opt['fun']\n",
    "    return phase, current\n",
    "\n",
    "\n",
    "def current_at_phase_expansion(T, H_0, H12, phase):\n",
    "    t = H12 * np.exp(1j * phase)\n",
    "    gf = gf_from_H_0(H_0, -H12)\n",
    "    dim = t.shape[0]\n",
    "    tt = np.zeros_like(gf)\n",
    "    tt[dim:, :dim] = t\n",
    "    tt += tt.T.conj()\n",
    "    gf -= gf @ tt @ gf - gf @ tt @ gf @ tt @ gf \n",
    "    H12G21 = t.T.conj() @ gf[dim:, :dim]\n",
    "    H21G12 = t @ gf[:dim, dim:]\n",
    "    I = -4 * T * (np.trace(H21G12) - np.trace(H12G21)).imag\n",
    "    return I\n",
    "\n",
    "\n",
    "def save_data(fname, p, constants, Bs, matsfreqs, wire_params, T, I_cs, phases):\n",
    "    def SimpleNamespace_save(p):\n",
    "        p_new = {key: val for key, val in p.__dict__.items() \n",
    "                 if not isinstance(val, types.FunctionType)}\n",
    "        return SimpleNamespace(**p_new)\n",
    "    \n",
    "    data = {'p': SimpleNamespace_save(p),\n",
    "            'constants': SimpleNamespace_save(constants),\n",
    "            'B_xs': Bs,\n",
    "            'matsfreqs': matsfreqs,\n",
    "            'wire_params': wire_params,\n",
    "            'T': T,\n",
    "            'I_cs': I_cs,\n",
    "            'phases': phases}\n",
    "\n",
    "    dd.io.save(fname, data, compression='blosc')"
   ]
  },
  {
   "cell_type": "markdown",
   "metadata": {},
   "source": [
    "# Conductance"
   ]
  },
  {
   "cell_type": "code",
   "execution_count": null,
   "metadata": {
    "collapsed": false
   },
   "outputs": [],
   "source": [
    "p = make_params(Delta=60, alpha=20, mu=15, B_x=0, B_y=0, t_interface=7/8*constants.t, disorder=None, salt=None)\n",
    "wire_params = dict(a=10, L=400, r1=50, r2=70, phi=135, angle=0, disorder=False, with_vlead=False)\n",
    "T = 60e-3\n",
    "syst, hopping = make_3d_wire(**wire_params)\n",
    "Bs = np.linspace(0, 1, 100)\n",
    "conductance = lview.map_async(lambda B_x: transmission(syst, p.update(B_x=B_x, Delta=0)), Bs)\n",
    "conductance.wait_interactive()"
   ]
  },
  {
   "cell_type": "code",
   "execution_count": null,
   "metadata": {
    "collapsed": true
   },
   "outputs": [],
   "source": [
    "p = make_params(Delta=60, alpha=20, mu=15, B_x=0, B_y=0, t_interface=7/8*constants.t, disorder=None, salt=None)\n",
    "wire_params = dict(a=10, L=400, r1=50, r2=70, phi=135, angle=0, disorder=False)\n",
    "T = 60e-3\n",
    "syst, hopping = make_3d_wire(**wire_params)\n",
    "\n",
    "Bs = np.linspace(0, 1, 100)\n",
    "I = lview.map_async(lambda x: I_c_tunnel_limit(syst, hopping, p.update(B_x=x), T), Bs)\n",
    "I.wait_interactive()\n",
    "current = np.abs(np.array(I.result())[:, 0])"
   ]
  },
  {
   "cell_type": "markdown",
   "metadata": {},
   "source": [
    "* find bug with minimization\n",
    "* check importance of Zeeman and SO\n",
    "* remove $B$ in superconductor\n",
    "* Behaviour of $T$ "
   ]
  },
  {
   "cell_type": "code",
   "execution_count": null,
   "metadata": {
    "collapsed": false
   },
   "outputs": [],
   "source": [
    "hv.Curve((Bs, np.array(conductance.result()) / 2)) * hv.Curve((Bs, current))"
   ]
  },
  {
   "cell_type": "markdown",
   "metadata": {},
   "source": [
    "# Expansion of denominator"
   ]
  },
  {
   "cell_type": "code",
   "execution_count": null,
   "metadata": {
    "collapsed": true
   },
   "outputs": [],
   "source": [
    "%%px --local\n",
    "p = make_params(Delta=60, alpha=20, mu=15, B_x=0, B_y=0, t_interface=7/8*constants.t, disorder=None, salt=None)\n",
    "wire_params = dict(a=10, L=400, r1=50, r2=70, phi=135, angle=0, disorder=False)\n",
    "T = 60e-3\n",
    "syst, hopping = make_3d_wire(**wire_params)\n",
    "\n",
    "def transmission(syst, p):\n",
    "    smatrix = kwant.smatrix(syst, args=[p])\n",
    "    return smatrix.transmission(0, 1)"
   ]
  },
  {
   "cell_type": "code",
   "execution_count": null,
   "metadata": {
    "collapsed": true
   },
   "outputs": [],
   "source": [
    "def I_cs(syst, hopping, p, T, phases):\n",
    "    H_0 = null_H(syst, p, T, 0)\n",
    "    H12 = hopping(syst, [p])\n",
    "    currents1 = lview.map_sync(lambda phase: current_at_phase(T, H_0, H12, phase), phases)\n",
    "    currents2 = lview.map_sync(lambda phase: current_at_phase2(T, H_0, H12, phase), phases)\n",
    "    return currents1, currents2"
   ]
  },
  {
   "cell_type": "code",
   "execution_count": null,
   "metadata": {
    "collapsed": false
   },
   "outputs": [],
   "source": [
    "I = I_cs(syst, hopping, p, T, np.linspace(-np.pi, np.pi, 30))\n",
    "I2 = I_cs2(syst, hopping, p, T, np.linspace(-np.pi, np.pi, 30))"
   ]
  },
  {
   "cell_type": "code",
   "execution_count": null,
   "metadata": {
    "collapsed": false
   },
   "outputs": [],
   "source": [
    "I3 = I_cs2(syst, hopping, p, T, np.linspace(-np.pi, np.pi, 30))"
   ]
  },
  {
   "cell_type": "code",
   "execution_count": null,
   "metadata": {
    "collapsed": false
   },
   "outputs": [],
   "source": [
    "hv.Curve(abs(np.fft.fft(I.result()))) * hv.Curve(abs(np.fft.fft(I2.result()))) * hv.Curve(abs(np.fft.fft(I3.result())))"
   ]
  },
  {
   "cell_type": "code",
   "execution_count": null,
   "metadata": {
    "collapsed": false
   },
   "outputs": [],
   "source": [
    "hv.Curve(I.result()) * hv.Curve(I2.result()) * hv.Curve(I3.result())"
   ]
  },
  {
   "cell_type": "code",
   "execution_count": null,
   "metadata": {
    "collapsed": false
   },
   "outputs": [],
   "source": [
    "hv.Curve(I) * hv.Curve(I2)"
   ]
  },
  {
   "cell_type": "markdown",
   "metadata": {},
   "source": [
    "* Check bigger length, contribution of higher order terms\n",
    "* Find mean free path"
   ]
  },
  {
   "cell_type": "markdown",
   "metadata": {},
   "source": [
    "# Disorder"
   ]
  },
  {
   "cell_type": "code",
   "execution_count": null,
   "metadata": {
    "collapsed": true
   },
   "outputs": [],
   "source": [
    "%%px --local\n",
    "p = make_params(Delta=60, alpha=20, mu=15, B_x=0, B_y=0, t_interface=7/8*constants.t, disorder=None, salt=None)\n",
    "wire_params = dict(a=10, L=400, r1=50, r2=70, phi=135, angle=0, disorder=True)\n",
    "T = 60e-3\n",
    "syst, hopping = make_3d_wire(**wire_params)"
   ]
  },
  {
   "cell_type": "code",
   "execution_count": null,
   "metadata": {
    "collapsed": false
   },
   "outputs": [],
   "source": [
    "Bs = np.linspace(0, 1, 50)\n",
    "salts = range(20)\n",
    "disorders = [0, 10, 50, 100]\n",
    "I = lview.map_async(lambda x: I_c(syst, hopping, p.update(salt=x[0], disorder=x[1], B_x=x[2]), T), \n",
    "                    product(salts, disorders, Bs))\n",
    "\n",
    "I.wait_interactive()\n",
    "\n",
    "Ic = np.array(I.result()).reshape(len(salts), len(disorders), len(Bs), -1)"
   ]
  },
  {
   "cell_type": "code",
   "execution_count": null,
   "metadata": {
    "collapsed": false
   },
   "outputs": [],
   "source": [
    "curves = {}\n",
    "for i, realisation in enumerate(Ic):\n",
    "    for disorder, I_cs in zip(disorders, realisation):\n",
    "        curves[(i, disorder)] = hv.Curve((Bs, (I_cs[:, 1])), kdims=[hv.Dimension('$B$', unit='$T$')], vdims=['$I_c$'])\n",
    "hm = hv.HoloMap(curves, kdims=['salt', 'disorder'])\n",
    "hm"
   ]
  },
  {
   "cell_type": "code",
   "execution_count": null,
   "metadata": {
    "collapsed": false
   },
   "outputs": [],
   "source": [
    "collapsed = hm.collapse('salt', function=np.mean, spreadfn=np.std)\n",
    "disorder = collapsed * collapsed.table().to.spread(['$B$', '$I_c$'], '$I_c$_std')\n",
    "disorder"
   ]
  },
  {
   "cell_type": "code",
   "execution_count": null,
   "metadata": {
    "collapsed": false
   },
   "outputs": [],
   "source": [
    "%%output size=200 fig='svg'\n",
    "hv.GridSpace(disorder)"
   ]
  },
  {
   "cell_type": "markdown",
   "metadata": {},
   "source": [
    "# vary $L$, $n$, and $a$ without disorder:"
   ]
  },
  {
   "cell_type": "code",
   "execution_count": null,
   "metadata": {
    "collapsed": false
   },
   "outputs": [],
   "source": [
    "p = make_params(Delta=60, alpha=20, mu=15, B_x=None, B_y=0, t_interface=7/8*constants.t)\n",
    "wire_params = dict(a=10, L=50, r1=50, r2=70, phi=135, angle=0)\n",
    "Bs = np.linspace(0, 2, 100)\n",
    "for T in [30e-3, 60e-3, 90e-3]:\n",
    "    for wire_params['a'] in [5, 10]:\n",
    "        for wire_params['L'] in [50, 100, 200, 400]:\n",
    "            for matsfreqs in [1, 2, 3, 4]:\n",
    "                dview['T'] = T\n",
    "                dview['p'] = p\n",
    "                dview['wire_params'] = wire_params\n",
    "                dview['matsfreqs'] = matsfreqs\n",
    "                %px syst, hopping = make_3d_wire(**wire_params)\n",
    "                fname = 'L_{}-matfreqs_{}-a_{}-T_{}.h5'.format(wire_params['L'], matsfreqs, wire_params['a'], T)\n",
    "                if not os.path.isfile(fname):\n",
    "                    I = lview.map_async(lambda x: I_c(syst, hopping, p.update(B_x=x), T, matsfreqs), Bs)\n",
    "                    I.wait_interactive()\n",
    "                    phases, I_cs = np.array(I.result()).T\n",
    "                    save_data(fname, p, constants, Bs, matsfreqs, wire_params, T, I_cs, phases)"
   ]
  },
  {
   "cell_type": "code",
   "execution_count": null,
   "metadata": {
    "collapsed": false,
    "scrolled": false
   },
   "outputs": [],
   "source": [
    "%%opts Path [aspect='square']\n",
    "bands = kwant.physics.Bands(syst.leads[1], args=[p])\n",
    "ks = np.linspace(-2, 2, 100)\n",
    "en = np.array([bands(k=k) for k in ks])\n",
    "hv.Path((ks, en))[:, -5:5]"
   ]
  },
  {
   "cell_type": "code",
   "execution_count": null,
   "metadata": {
    "collapsed": false
   },
   "outputs": [],
   "source": [
    "%%opts Overlay [show_legend=True] Curve [show_legend=True]\n",
    "(hv.Curve((Bs, np.array([-I['fun'] for I in I_cs])), kdims=['$B_x$'], vdims=['$I_c$'], label='10 nm') \n",
    " * hv.Curve((np.linspace(0, 1, 50), np.loadtxt('5nm.dat')), kdims=['$B_x$'], vdims=['$I_c$'], label='5 nm'))"
   ]
  },
  {
   "cell_type": "code",
   "execution_count": null,
   "metadata": {
    "collapsed": false
   },
   "outputs": [],
   "source": [
    "l_mag = np.sqrt(constants.hbar / constants.e / 0.3)\n",
    "l_mag / 1e-9"
   ]
  },
  {
   "cell_type": "code",
   "execution_count": null,
   "metadata": {
    "collapsed": false
   },
   "outputs": [],
   "source": [
    "l_so(constants.m, 20)"
   ]
  },
  {
   "cell_type": "code",
   "execution_count": null,
   "metadata": {
    "collapsed": false
   },
   "outputs": [],
   "source": [
    "fermi_velocity(15 * constants.meV) / 1e6"
   ]
  },
  {
   "cell_type": "code",
   "execution_count": null,
   "metadata": {
    "collapsed": false
   },
   "outputs": [],
   "source": [
    "from math import pi\n",
    "fermi_wavelength(fermi_wave_vector(15 * constants.meV)) / 1e-9"
   ]
  },
  {
   "cell_type": "code",
   "execution_count": null,
   "metadata": {
    "collapsed": false
   },
   "outputs": [],
   "source": [
    "np.sqrt(1000 * 100)"
   ]
  },
  {
   "cell_type": "code",
   "execution_count": null,
   "metadata": {
    "collapsed": true
   },
   "outputs": [],
   "source": []
  }
 ],
 "metadata": {
  "kernelspec": {
   "display_name": "Python 3",
   "language": "python",
   "name": "python3"
  },
  "language_info": {
   "codemirror_mode": {
    "name": "ipython",
    "version": 3
   },
   "file_extension": ".py",
   "mimetype": "text/x-python",
   "name": "python",
   "nbconvert_exporter": "python",
   "pygments_lexer": "ipython3",
   "version": "3.5.1"
  }
 },
 "nbformat": 4,
 "nbformat_minor": 0
}
