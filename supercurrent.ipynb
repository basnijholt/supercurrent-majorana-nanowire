{
 "cells": [
  {
   "cell_type": "code",
   "execution_count": null,
   "metadata": {
    "collapsed": false,
    "scrolled": false
   },
   "outputs": [],
   "source": [
    "try:\n",
    "    # If this can be imported, it assumes you are on the TU Delft network with access to cluster\n",
    "    import hpc05\n",
    "    client = hpc05.Client(profile='pbs', timeout=60)\n",
    "    print(\"Connected to hpc05\")\n",
    "except ImportError:\n",
    "    from ipyparallel import Client\n",
    "    client = Client(profile='python3')\n",
    "    print(\"Connected to local engines\")"
   ]
  },
  {
   "cell_type": "code",
   "execution_count": null,
   "metadata": {
    "collapsed": false,
    "scrolled": false
   },
   "outputs": [],
   "source": [
    "dview = client[:]\n",
    "lview = client.load_balanced_view()\n",
    "print(len(dview))"
   ]
  },
  {
   "cell_type": "code",
   "execution_count": null,
   "metadata": {
    "collapsed": false
   },
   "outputs": [],
   "source": [
    "%matplotlib inline\n",
    "import holoviews as hv\n",
    "hv.notebook_extension('bokeh')\n",
    "import sympy.interactive\n",
    "sympy.interactive.init_printing('mathjax')"
   ]
  },
  {
   "cell_type": "code",
   "execution_count": null,
   "metadata": {
    "collapsed": false,
    "scrolled": false
   },
   "outputs": [],
   "source": [
    "# %%px --local\n",
    "\n",
    "import kwant\n",
    "import numpy as np\n",
    "from itertools import product\n",
    "import os.path\n",
    "import deepdish as dd\n",
    "import sys\n",
    "sys.path.append('/home/bnijholt/Dropbox/Work/nanowire_current/')\n",
    "sys.path.append('/home/basnijholt/Dropbox/Work/nanowire_current/')\n",
    "from supercurrent import (constants,\n",
    "                          I_c,\n",
    "                          make_params,\n",
    "                          SimpleNamespace,\n",
    "                          make_3d_wire,\n",
    "                          save_data)"
   ]
  },
  {
   "cell_type": "markdown",
   "metadata": {},
   "source": [
    "# Creating some wires as example"
   ]
  },
  {
   "cell_type": "code",
   "execution_count": null,
   "metadata": {
    "collapsed": false,
    "scrolled": false
   },
   "outputs": [],
   "source": [
    "# Create system with infinite leads\n",
    "syst_params = dict(a=10, L=30, r1=50, r2=70, phi=185, angle=0, holes=True, spin=True,\n",
    "                   disorder=False, with_vlead=True, with_leads=True, L_sc=10, with_shell=True,\n",
    "                   shape='square')\n",
    "syst, hopping = make_3d_wire(**syst_params)\n",
    "kwant.plot(syst)"
   ]
  },
  {
   "cell_type": "code",
   "execution_count": null,
   "metadata": {
    "collapsed": false,
    "scrolled": false
   },
   "outputs": [],
   "source": [
    "# Create system without leads\n",
    "syst_params['with_leads'] = False\n",
    "syst, hopping = make_3d_wire(**syst_params)\n",
    "kwant.plot(syst)"
   ]
  },
  {
   "cell_type": "code",
   "execution_count": null,
   "metadata": {
    "collapsed": false,
    "scrolled": false
   },
   "outputs": [],
   "source": [
    "# Create system without leads and bigger SC regions\n",
    "syst_params['L_sc'] = 30\n",
    "syst, hopping = make_3d_wire(**syst_params)\n",
    "kwant.plot(syst)"
   ]
  },
  {
   "cell_type": "markdown",
   "metadata": {},
   "source": [
    "# Mean free path"
   ]
  },
  {
   "cell_type": "code",
   "execution_count": null,
   "metadata": {
    "collapsed": false,
    "scrolled": false
   },
   "outputs": [],
   "source": [
    "%%px --local\n",
    "def transmission(syst, p):\n",
    "    smatrix = kwant.smatrix(syst, args=[p])\n",
    "    return smatrix.transmission(0, 1), smatrix.num_propagating(0)\n",
    "\n",
    "p = make_params(Delta=0, alpha=20, mu=50, B_x=0, B_y=0, B_z=0, disorder=None, salt=None)\n",
    "syst_params = dict(a=8, L=None, r1=50, r2=70, phi=135, angle=0, disorder=True, with_vlead=False,\n",
    "                   with_leads=True, L_sc=8, with_shell=False, holes=False, spin=True, shape='circle')"
   ]
  },
  {
   "cell_type": "code",
   "execution_count": null,
   "metadata": {
    "collapsed": false,
    "scrolled": false
   },
   "outputs": [],
   "source": [
    "Ls = np.arange(80, 500, 80)\n",
    "conductances = []\n",
    "num_propagating = []\n",
    "for L in Ls:\n",
    "    print(L)\n",
    "    dview.execute('syst_params[\"L\"] = {}'.format(L))\n",
    "    %px syst, hopping = make_3d_wire(**syst_params)\n",
    "    salts = range(30)\n",
    "    disorders = np.arange(0, 150, 10)\n",
    "    conductance = lview.map_async(lambda x: transmission(syst, p.update(salt=x[0], disorder=x[1])), \n",
    "                        product(salts, disorders))\n",
    "    conductance.wait_interactive()\n",
    "    conductance = np.array(conductance.result()).reshape(len(salts), len(disorders), -1)\n",
    "    num_propagating.append(conductance[:, :, 1])\n",
    "    conductances.append(conductance[:, :, 0])"
   ]
  },
  {
   "cell_type": "code",
   "execution_count": null,
   "metadata": {
    "collapsed": false,
    "scrolled": false
   },
   "outputs": [],
   "source": [
    "save_data('mfp__mu_{:.0f}_meV__a_{:.0f}_nm.h5'.format(p.mu, syst_params['a']), p, constants, None, None, syst_params, \n",
    "          T=None, current_phase=None, conductances=conductances, salts=salts,\n",
    "          disorders=disorders, Ls=Ls, num_propagating=num_propagating)"
   ]
  },
  {
   "cell_type": "markdown",
   "metadata": {},
   "source": [
    "# No disorder $B_x$ vs $I_c$:"
   ]
  },
  {
   "cell_type": "code",
   "execution_count": null,
   "metadata": {
    "collapsed": false
   },
   "outputs": [],
   "source": [
    "%%px --local \n",
    "\n",
    "syst_params = dict(a=8, r1=50, r2=70, phi=135, angle=0,\n",
    "                   disorder=False, with_vlead=True,\n",
    "                   with_shell=True, holes=True, spin=True,\n",
    "                   L=None, with_leads=None, L_sc=None, shape='circle')\n",
    "\n",
    "hamiltonian_params = dict(Delta=60, t_interface=7/8*constants.t, \n",
    "                          mu=None, B_x=None, alpha=None, g=None, orbital=None)\n",
    "tol = 1e-2\n",
    "Bs = np.linspace(0, 1, 100)\n",
    "max_frequencies = 200"
   ]
  },
  {
   "cell_type": "code",
   "execution_count": null,
   "metadata": {
    "collapsed": false
   },
   "outputs": [],
   "source": [
    "T_list = [0.1, 0.5, 1]\n",
    "orbital_list = [False, True]\n",
    "g_list = [0, 50]\n",
    "alpha_list = [0, 20]\n",
    "mu_list = [10, 20, 30, 40, 50, 60]\n",
    "\n",
    "for L in [80, 160, 320, 640]:\n",
    "    for with_leads, L_sc in [(True, 8), (False, 400)]:\n",
    "        syst_params['L'] = L\n",
    "        syst_params['with_leads'] = with_leads\n",
    "        syst_params['L_sc'] = L_sc\n",
    "        fname = 'no_disorder_B_vs_I_c__L_{}_nm{}.h5'.format(L, '__infinite_leads' if with_leads else '')\n",
    "        if not os.path.isfile(fname):\n",
    "            print(fname)\n",
    "            dview['syst_params'] = syst_params\n",
    "            %px p = make_params(**hamiltonian_params)\n",
    "            %px syst, hopping = make_3d_wire(**syst_params)\n",
    "            vals = list(product(T_list, Bs, orbital_list, g_list, alpha_list, mu_list))\n",
    "            I = lview.map_async(lambda x: I_c(syst, hopping, p.update(B_x=x[1], orbital=x[2], g=x[3], alpha=x[4], mu=x[5]),\n",
    "                                              x[0], tol, max_frequencies), vals)\n",
    "            I.wait_interactive()\n",
    "            current_phase = I.result()\n",
    "            save_data(fname, make_params(**hamiltonian_params), constants,\n",
    "                      Bs, tol, syst_params, None, current_phase, \n",
    "                      max_frequencies=max_frequencies, vals=vals, \n",
    "                      T_list=T_list, orbital_list=orbital_list, \n",
    "                      g_list=g_list, alpha_list=alpha_list, mu_list=mu_list)"
   ]
  },
  {
   "cell_type": "markdown",
   "metadata": {},
   "source": [
    "# $I_c(B_x, \\mu)$"
   ]
  },
  {
   "cell_type": "code",
   "execution_count": null,
   "metadata": {
    "collapsed": false
   },
   "outputs": [],
   "source": [
    "%%px --local \n",
    "\n",
    "syst_params = dict(a=8, r1=50, r2=70, phi=135, angle=0,\n",
    "                   disorder=False, with_vlead=True,\n",
    "                   with_shell=True, holes=True, spin=True,\n",
    "                   L=640, with_leads=True, L_sc=8, shape='circle')\n",
    "\n",
    "hamiltonian_params = dict(Delta=60, t_interface=7/8*constants.t,\n",
    "                          mu=None, B_x=None, alpha=None, g=None, orbital=None)\n",
    "tol = 1e-2\n",
    "Bs = np.linspace(0, 1, 100)\n",
    "max_frequencies = 200\n",
    "T = 1\n",
    "syst, hopping = make_3d_wire(**syst_params)\n",
    "p = make_params(**hamiltonian_params)"
   ]
  },
  {
   "cell_type": "code",
   "execution_count": null,
   "metadata": {
    "collapsed": false
   },
   "outputs": [],
   "source": [
    "orbital_list = [False, True]\n",
    "g_list = [0, 50]\n",
    "alpha_list = [0, 20]\n",
    "mu_list = np.linspace(0, 50, 100)\n",
    "\n",
    "fname = 'no_disorder_B_vs_I_c__L_{}_nm{}.h5'.format(syst_params['L'], \n",
    "            '__infinite_leads' if syst_params['with_leads'] else '')\n",
    "if not os.path.isfile(fname):\n",
    "    vals = list(product(Bs, orbital_list, g_list, alpha_list, mu_list))\n",
    "    I = lview.map_async(lambda x: I_c(syst, hopping, p.update(B_x=x[0], orbital=x[1], g=x[2], alpha=x[3], mu=x[4]),\n",
    "                                      T, tol, max_frequencies), vals)\n",
    "    I.wait_interactive()\n",
    "    current_phase = I.result()\n",
    "    save_data(fname, make_params(**hamiltonian_params), constants,\n",
    "              Bs, tol, syst_params, T, current_phase, \n",
    "              max_frequencies=max_frequencies, vals=vals, \n",
    "              orbital_list=orbital_list, \n",
    "              g_list=g_list, alpha_list=alpha_list, mu_list=mu_list)"
   ]
  },
  {
   "cell_type": "markdown",
   "metadata": {},
   "source": [
    "# Field in y"
   ]
  },
  {
   "cell_type": "code",
   "execution_count": null,
   "metadata": {
    "collapsed": false
   },
   "outputs": [],
   "source": [
    "%%px --local \n",
    "\n",
    "syst_params = dict(a=8, r1=50, r2=70, phi=135, angle=0,\n",
    "                   disorder=False, with_vlead=True,\n",
    "                   with_shell=True, holes=True, spin=True,\n",
    "                   L=640, with_leads=True, L_sc=8, shape='circle')\n",
    "\n",
    "hamiltonian_params = dict(Delta=60, t_interface=7/8*constants.t,\n",
    "                          mu=None, B_y=None, alpha=None, g=None, orbital=None)\n",
    "tol = 1e-2\n",
    "Bs = np.linspace(0, 1, 100)\n",
    "max_frequencies = 200\n",
    "T = 1\n",
    "syst, hopping = make_3d_wire(**syst_params)\n",
    "p = make_params(**hamiltonian_params)"
   ]
  },
  {
   "cell_type": "code",
   "execution_count": null,
   "metadata": {
    "collapsed": false
   },
   "outputs": [],
   "source": [
    "orbital_list = [False, True]\n",
    "g_list = [0, 50]\n",
    "alpha_list = [0, 20]\n",
    "mu_list = [10, 50]\n",
    "\n",
    "fname = 'no_disorder_B_y_vs_I_c__L_{}_nm{}.h5'.format(syst_params['L'], \n",
    "                                                      '__infinite_leads' if syst_params['with_leads'] else '')\n",
    "if not os.path.isfile(fname):\n",
    "    vals = list(product(Bs, orbital_list, g_list, alpha_list, mu_list))\n",
    "    I = lview.map_async(lambda x: I_c(syst, hopping, p.update(B_y=x[0], orbital=x[1], g=x[2], alpha=x[3], mu=x[4]),\n",
    "                                      T, tol, max_frequencies), vals)\n",
    "    I.wait_interactive()\n",
    "    current_phase = I.result()\n",
    "    save_data(fname, make_params(**hamiltonian_params), constants,\n",
    "              Bs, tol, syst_params, T, current_phase, \n",
    "              max_frequencies=max_frequencies, vals=vals, \n",
    "              orbital_list=orbital_list, \n",
    "              g_list=g_list, alpha_list=alpha_list, mu_list=mu_list,\n",
    "              Bys=Bs)"
   ]
  },
  {
   "cell_type": "markdown",
   "metadata": {},
   "source": [
    "# Rotation of the field"
   ]
  },
  {
   "cell_type": "markdown",
   "metadata": {},
   "source": [
    "![](https://upload.wikimedia.org/wikipedia/commons/thumb/4/4f/3D_Spherical.svg/558px-3D_Spherical.svg.png)"
   ]
  },
  {
   "cell_type": "code",
   "execution_count": null,
   "metadata": {
    "collapsed": false
   },
   "outputs": [],
   "source": [
    "%%px --local \n",
    "\n",
    "syst_params = dict(a=8, r1=50, r2=70, phi=135, angle=0,\n",
    "                   disorder=False, with_vlead=True,\n",
    "                   with_shell=True, holes=True, spin=True,\n",
    "                   L=640, with_leads=True, L_sc=8, shape='circle')\n",
    "\n",
    "hamiltonian_params = dict(Delta=60, t_interface=7/8*constants.t,\n",
    "                          mu=50, B_x=None, B_z=None, alpha=20, g=50, orbital=True)\n",
    "tol = 1e-2\n",
    "max_frequencies = 200\n",
    "\n",
    "def polar_to_z(r, theta):\n",
    "    return r * np.exp(1j * theta)\n",
    "\n",
    "Bs = np.linspace(0, 1, 100)\n",
    "thetas = np.linspace(0, 2 * np.pi, 12, endpoint=False)\n",
    "xy = polar_to_z(Bs, thetas[:, None])\n",
    "B_xs = xy.real\n",
    "B_zs = xy.imag\n",
    "T = 1"
   ]
  },
  {
   "cell_type": "code",
   "execution_count": null,
   "metadata": {
    "collapsed": false
   },
   "outputs": [],
   "source": [
    "fname = 'rotation_of_field__L_{}_nm{}.h5'.format(\n",
    "    syst_params['L'], '__infinite_leads' if syst_params['with_leads'] else '')\n",
    "if not os.path.isfile(fname):\n",
    "    print(fname)\n",
    "    %px p = make_params(**hamiltonian_params)\n",
    "    %px syst, hopping = make_3d_wire(**syst_params)\n",
    "    vals = list(zip(B_xs.reshape(-1), B_zs.reshape(-1)))\n",
    "    I = lview.map_async(lambda x: I_c(syst, hopping, p.update(B_x=x[0], B_z=x[1]),\n",
    "                                      T, tol, max_frequencies), vals)\n",
    "    I.wait_interactive()\n",
    "    current_phase = I.result()\n",
    "    save_data(fname, make_params(**hamiltonian_params), constants,\n",
    "              None, tol, syst_params, T, current_phase,\n",
    "              max_frequencies=max_frequencies, vals=vals, theta=thetas.repeat(len(Bs)),\n",
    "              B=np.linalg.norm(vals, axis=1))"
   ]
  },
  {
   "cell_type": "markdown",
   "metadata": {},
   "source": [
    "# Induced gap"
   ]
  },
  {
   "cell_type": "code",
   "execution_count": null,
   "metadata": {
    "collapsed": false
   },
   "outputs": [],
   "source": [
    "%%px --local\n",
    "# Create system with infinite leads\n",
    "syst_params = dict(a=8, L=800, r1=50, r2=70, phi=135, angle=0, \n",
    "                   disorder=False, with_vlead=True, with_leads=True, L_sc=400,\n",
    "                   with_shell=True, spin=True, holes=True)\n",
    "syst, hopping = make_3d_wire(**syst_params)\n",
    "lead = syst.leads[1]\n",
    "\n",
    "p = make_params(t_interface=7/8*constants.t)\n",
    "\n",
    "def evs(lead, p):\n",
    "    h0 = lead.cell_hamiltonian(args=[p])\n",
    "    t0 = lead.inter_cell_hopping(args=[p])\n",
    "    ham = h0 + t0 + t0.conj().T\n",
    "    ev = np.linalg.eigvalsh(ham)\n",
    "    return np.abs(ev).min()"
   ]
  },
  {
   "cell_type": "code",
   "execution_count": null,
   "metadata": {
    "collapsed": false
   },
   "outputs": [],
   "source": [
    "mus = np.linspace(2, 20, 50)\n",
    "deltas = np.linspace(0, 100, 50)\n",
    "vals = list(product(deltas, mus))\n",
    "dview.scatter('vals', vals, block=True)\n",
    "%px res = [evs(lead, p) for p.Delta, p.mu in vals]\n",
    "res = np.reshape(dview.gather('res', block=True), (len(deltas), len(mus)))\n",
    "print(\"Max gap is {} meV\".format(max(res.min(axis=1))))"
   ]
  },
  {
   "cell_type": "code",
   "execution_count": null,
   "metadata": {
    "collapsed": false
   },
   "outputs": [],
   "source": [
    "hv.Curve((deltas, res.min(axis=1)), kdims=['$\\Delta$'], vdims=['$E_{gap}$'], label=\"$E_{gap}$ over range of $\\Delta$'s\")"
   ]
  },
  {
   "cell_type": "code",
   "execution_count": null,
   "metadata": {
    "collapsed": false
   },
   "outputs": [],
   "source": [
    "Delta_ind = {delta: hv.Path((mus, evs), kdims=['$\\mu$', ('E_gap', '$E_{gap}$')]) \n",
    "      for evs, delta in zip(res, deltas)}\n",
    "\n",
    "hm = hv.HoloMap(Delta_ind, kdims=['$\\Delta$'])\n",
    "(hm.select(E_gap=(0.2, 0.3)) * hv.HLine(0.25))"
   ]
  },
  {
   "cell_type": "markdown",
   "metadata": {},
   "source": [
    "# Gate"
   ]
  },
  {
   "cell_type": "code",
   "execution_count": null,
   "metadata": {
    "collapsed": false
   },
   "outputs": [],
   "source": [
    "# Plot test\n",
    "syst_params = dict(a=8, L=160, r1=50, r2=70, phi=135, angle=0, holes=True, spin=True,\n",
    "                   disorder=False, with_vlead=True, with_leads=True, L_sc=8, with_shell=True,\n",
    "                   shape='circle')\n",
    "syst, hopping = make_3d_wire(**syst_params)\n",
    "gate_fun = gate(syst, 100, 160)\n",
    "sites = [gate_fun(pos[0]) for pos in [i.pos for i in syst.sites]]\n",
    "kwant.plot(syst, site_lw=0, site_color=sites, colorbar=False)"
   ]
  },
  {
   "cell_type": "code",
   "execution_count": null,
   "metadata": {
    "collapsed": false
   },
   "outputs": [],
   "source": [
    "%%px --local \n",
    "\n",
    "def find_nearest(array, value):\n",
    "    idx = np.abs(np.array(array) - value).argmin()\n",
    "    return array[idx]\n",
    "\n",
    "def gate(syst, V, gate_size):\n",
    "    x_positions = sorted(set(i.pos[0] for i in syst.sites))\n",
    "    x_mid = (max(x_positions) - min(x_positions)) / 2\n",
    "    x_L = find_nearest(x_positions, x_mid - gate_size / 2)\n",
    "    x_R = find_nearest(x_positions, x_mid + gate_size / 2)\n",
    "    return lambda x: V if x > x_L and x <= x_R else 0\n",
    "\n",
    "syst_params = dict(a=8, r1=50, r2=70, phi=135, angle=0,\n",
    "                   disorder=False, with_vlead=True,\n",
    "                   with_shell=True, holes=True, spin=True,\n",
    "                   L=640, with_leads=True, L_sc=8,\n",
    "                   shape='circle')\n",
    "\n",
    "hamiltonian_params = dict(Delta=60, t_interface=7/8*constants.t, \n",
    "                          mu=50, B_x=None, alpha=20, g=50, orbital=True)\n",
    "tol = 1e-2\n",
    "Bs = np.linspace(0, 1, 100)\n",
    "Vs = np.linspace(0, 40, 100)\n",
    "max_frequencies = 200\n",
    "T = 1\n",
    "gate_size = None\n",
    "\n",
    "p = make_params(**hamiltonian_params)\n",
    "syst, hopping = make_3d_wire(**syst_params)"
   ]
  },
  {
   "cell_type": "code",
   "execution_count": null,
   "metadata": {
    "collapsed": false
   },
   "outputs": [],
   "source": [
    "vals = list(product(Bs, Vs))\n",
    "\n",
    "for gate_size in [640]:#[80, 160, 320, 640]:\n",
    "    dview['gate_size'] = gate_size\n",
    "    I = lview.map_async(lambda x: I_c(syst, hopping, p.update(B_x=x[0], V=gate(syst, x[1], gate_size)),\n",
    "                                      T, tol, max_frequencies), vals)\n",
    "    I.wait_interactive()\n",
    "    current_phase = I.result()\n",
    "    fname = \"current_as_function_of_gate_and_B_x__gate_size_{}_nm.h5\".format(gate_size)\n",
    "    save_data(fname, make_params(**hamiltonian_params), constants,\n",
    "              Bs, tol, syst_params, T, current_phase, \n",
    "              max_frequencies=max_frequencies, vals=vals, Vs=Vs, gate_size=gate_size)"
   ]
  }
 ],
 "metadata": {
  "kernelspec": {
   "display_name": "Python 3",
   "language": "python",
   "name": "python3"
  },
  "language_info": {
   "codemirror_mode": {
    "name": "ipython",
    "version": 3
   },
   "file_extension": ".py",
   "mimetype": "text/x-python",
   "name": "python",
   "nbconvert_exporter": "python",
   "pygments_lexer": "ipython3",
   "version": "3.5.2"
  }
 },
 "nbformat": 4,
 "nbformat_minor": 0
}
