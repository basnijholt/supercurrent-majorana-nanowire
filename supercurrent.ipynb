{
 "cells": [
  {
   "cell_type": "code",
   "execution_count": null,
   "metadata": {
    "collapsed": false,
    "scrolled": false
   },
   "outputs": [],
   "source": [
    "# Is SC or wire disordered?"
   ]
  },
  {
   "cell_type": "code",
   "execution_count": null,
   "metadata": {
    "collapsed": false,
    "scrolled": false
   },
   "outputs": [],
   "source": [
    "try:\n",
    "    # If this can be imported, it assumes you are on the TU Delft network with access to cluster\n",
    "    from hpc05 import HPC05Client as Client\n",
    "    import os\n",
    "    os.environ['SSH_AUTH_SOCK'] = os.path.join(os.path.expanduser('~'), 'ssh-agent.socket')\n",
    "    client = Client('basnijholt', timeout=30)\n",
    "    print(\"Connected to hpc05\")\n",
    "except ImportError:\n",
    "    from ipyparallel import Client\n",
    "    client = Client(profile='python3')\n",
    "    print(\"Connected to local engines\")"
   ]
  },
  {
   "cell_type": "code",
   "execution_count": null,
   "metadata": {
    "collapsed": false
   },
   "outputs": [],
   "source": [
    "dview = client[:]\n",
    "lview = client.load_balanced_view()\n",
    "len(dview)"
   ]
  },
  {
   "cell_type": "code",
   "execution_count": null,
   "metadata": {
    "collapsed": false
   },
   "outputs": [],
   "source": [
    "%matplotlib inline\n",
    "import holoviews as hv\n",
    "hv.notebook_extension()\n",
    "import sympy.interactive\n",
    "sympy.interactive.init_printing('mathjax')"
   ]
  },
  {
   "cell_type": "code",
   "execution_count": null,
   "metadata": {
    "collapsed": false,
    "scrolled": false
   },
   "outputs": [],
   "source": [
    "# %%px --local\n",
    "\n",
    "import kwant\n",
    "from kwant.digest import uniform\n",
    "import numpy as np\n",
    "from itertools import product\n",
    "import subprocess\n",
    "import types\n",
    "import os.path\n",
    "import deepdish as dd\n",
    "import matplotlib.pyplot as plt\n",
    "from supercurrent import (current_at_phase,\n",
    "                          discretized_hamiltonian,\n",
    "                          hoppingkind_at_interface,\n",
    "                          hoppingkind_in_shape,\n",
    "                          make_params,\n",
    "                          peierls,\n",
    "                          SimpleNamespace)\n",
    "\n",
    "\n",
    "def cylinder_sector(r1, r2=0, L=1, L0=0, phi=360, angle=0, a=10):\n",
    "    \"\"\"Returns the shape function and start coords.\n",
    "\n",
    "    Parameters:\n",
    "    -----------\n",
    "    r1 : int\n",
    "        Inner radius in nm.\n",
    "    r2 : int\n",
    "        Outer radius in nm.\n",
    "    L : int\n",
    "        Length of wire from L0 in nm, -1 if infinite in x-direction.\n",
    "    L0 : int\n",
    "        Start position in x.\n",
    "    phi : int\n",
    "        Coverage angle in degrees.\n",
    "    angle : int\n",
    "        Angle of tilting from top in degrees.\n",
    "    a : int\n",
    "        Discretization constant in nm.\n",
    "\n",
    "    Returns:\n",
    "    --------\n",
    "    (shape_func, *(start_coords))\n",
    "    \"\"\"\n",
    "    phi *= np.pi / 360\n",
    "    angle *= np.pi / 180\n",
    "    r1sq, r2sq = r1 ** 2, r2 ** 2\n",
    "\n",
    "    def sector(pos):\n",
    "        x, y, z = pos\n",
    "        n = (y + 1j * z) * np.exp(1j * angle)\n",
    "        y, z = n.real, n.imag\n",
    "        rsq = y ** 2 + z ** 2\n",
    "\n",
    "        shape_yz = r2sq <= rsq < r1sq and z >= np.cos(phi) * np.sqrt(rsq)\n",
    "        return (shape_yz and L0 <= x < L) if L > 0 else shape_yz\n",
    "    r_mid = (r1 + r2) / 2\n",
    "    return sector, (L - a, r_mid * np.sin(angle), r_mid * np.cos(angle))\n",
    "\n",
    "\n",
    "def make_3d_wire(a, L, r1, r2, phi, angle, L_sc, disorder,\n",
    "                 with_vlead, with_leads, with_shell, spin, holes):\n",
    "    \"\"\"Creates a cylindrical 3D wire partially covered with a superconducting (SC) shell, \n",
    "    but without superconductor in the scattering region of length L.\n",
    "\n",
    "    Default arguments:\n",
    "    ------------------\n",
    "    (a=10, L=50, r1=50, r2=70, phi=135, angle=0, disorder=False, \n",
    "     with_vlead=True, with_leads=True, L_sc=10, with_shell=True,\n",
    "     spin=True, holes=True)\n",
    "    Note: we are not using default parameter because I save them in a dictionary, to\n",
    "    save to file.\n",
    "\n",
    "    Parameters:\n",
    "    -----------\n",
    "    a : int\n",
    "        Discretization constant in nm.\n",
    "    L : int\n",
    "        Length of wire (the scattering part without SC shell.) Should be bigger\n",
    "        than 4 unit cells (4*a) to have the vleads in a region without a SC shell.\n",
    "    r1 : int\n",
    "        Radius of normal part of wire in nm.\n",
    "    r2 : int\n",
    "        Radius of superconductor in nm.\n",
    "    phi : int\n",
    "        Coverage angle of superconductor in degrees.\n",
    "    angle : int\n",
    "        Angle of tilting of superconductor from top in degrees.    \n",
    "    disorder : bool\n",
    "        When True, syst requires 'disorder' and 'salt' aguments.\n",
    "    with_vlead : bool\n",
    "        If True a SelfEnergyLead with zero energy is added to a slice of the system.\n",
    "    with_leads : bool\n",
    "        If True it appends infinite leads with superconducting shell.\n",
    "    L_sc : int\n",
    "        Number of unit cells that has a superconducting shell. If the system has\n",
    "        infinite leads, set L_sc=a.\n",
    "    with_shell : bool\n",
    "        Adds shell the the correct areas. If False no SC shell is added and only\n",
    "        a cylindrical wire will be created.\n",
    "\n",
    "    Returns:\n",
    "    --------\n",
    "    syst : kwant.builder.FiniteSystem\n",
    "        The finilized system.\n",
    "    hopping : function\n",
    "        Function that returns the hopping matrix between the two cross sections\n",
    "        of where the SelfEnergyLead is attached.\n",
    "    \"\"\"\n",
    "    assert L_sc % a == 0\n",
    "    assert L % a == 0\n",
    "\n",
    "    tb_normal, tb_sc, tb_interface = discretized_hamiltonian(a, spin, holes)\n",
    "    lat = tb_normal.lattice\n",
    "    syst = kwant.Builder()\n",
    "    lead = kwant.Builder(kwant.TranslationalSymmetry((-a, 0, 0)))\n",
    "\n",
    "    # The parts with a SC shell are not counted in the length L, so it's\n",
    "    # modified as:\n",
    "    L += 2*L_sc\n",
    "\n",
    "    # Wire scattering region shapes\n",
    "    shape_normal = cylinder_sector(r1=r1, angle=angle, L=L, a=a)\n",
    "    # Superconductor slice in the beginning of the scattering region of L_sc\n",
    "    # unit cells\n",
    "    shape_sc_start = cylinder_sector(\n",
    "        r1=r2, r2=r1, phi=phi, angle=angle, L=L_sc, a=a)\n",
    "    # Superconductor slice in the end of the scattering region of L_sc unit\n",
    "    # cells\n",
    "    shape_sc_end = cylinder_sector(\n",
    "        r1=r2, r2=r1, phi=phi, angle=angle, L0=L-L_sc, L=L, a=a)\n",
    "\n",
    "    # Lead shapes\n",
    "    shape_sc_lead = cylinder_sector(\n",
    "        r1=r2, r2=r1, phi=phi, angle=angle, L=-1, a=a)\n",
    "    shape_normal_lead = cylinder_sector(r1=r1, angle=angle, L=-1, a=a)\n",
    "\n",
    "    def onsite_dis(site, p):\n",
    "        identity = np.eye(4) if spin and holes else np.eye(2)\n",
    "        return p.disorder * (uniform(repr(site), repr(p.salt)) - 0.5) * identity\n",
    "\n",
    "    # Add onsite terms in the scattering region\n",
    "    syst[lat.shape(*shape_normal)] = lambda s, p: tb_normal.onsite(s, p) + (onsite_dis(s, p) if disorder else 0)\n",
    "\n",
    "    if with_shell:\n",
    "        syst[lat.shape(*shape_sc_start)] = tb_sc.onsite\n",
    "        syst[lat.shape(*shape_sc_end)] = tb_sc.onsite\n",
    "\n",
    "    # Add onsite terms in the infinite lead\n",
    "    lead[lat.shape(*shape_normal_lead)] = tb_normal.onsite\n",
    "    if with_shell:\n",
    "        lead[lat.shape(*shape_sc_lead)] = tb_sc.onsite\n",
    "\n",
    "    for hop, func in tb_normal.hoppings.items():\n",
    "        # Add hoppings in normal parts of wire and lead with Peierls\n",
    "        # substitution\n",
    "        ind = np.argmax(hop.delta)  # Index of direction of hopping\n",
    "        syst[hoppingkind_in_shape(hop, shape_normal, syst)] = peierls(func, ind, a)\n",
    "        lead[hoppingkind_in_shape(hop, shape_normal_lead, lead)] = peierls(func, ind, a)\n",
    "\n",
    "    if with_shell:\n",
    "        for hop, func in tb_sc.hoppings.items():\n",
    "            # Add hoppings in superconducting parts of wire and lead\n",
    "            syst[hoppingkind_in_shape(hop, shape_sc_start, syst)] = func\n",
    "            syst[hoppingkind_in_shape(hop, shape_sc_end, syst)] = func\n",
    "            lead[hoppingkind_in_shape(hop, shape_sc_lead, lead)] = func\n",
    "\n",
    "        for hop, func in tb_interface.hoppings.items():\n",
    "            # Add hoppings at the interface of superconducting parts and normal\n",
    "            # parts of wire and lead\n",
    "            syst[hoppingkind_at_interface(\n",
    "                hop, shape_sc_start, shape_normal, syst)] = func\n",
    "            syst[hoppingkind_at_interface(\n",
    "                hop, shape_sc_end, shape_normal, syst)] = func\n",
    "            lead[hoppingkind_at_interface(\n",
    "                hop, shape_sc_lead, shape_normal_lead, lead)] = func\n",
    "\n",
    "    def cut(x_cut):\n",
    "        \"\"\"Return the sites at a cross section at x_cut.\"\"\"\n",
    "        sites = [lat(x, y, z)\n",
    "                 for x, y, z in (i.tag for i in syst.sites()) if x == x_cut]\n",
    "        return sorted(sites, key=lambda s: s.pos[2] * 10000 + s.pos[1])\n",
    "\n",
    "    # Define left and right cut in wire in the middle of the wire, a region\n",
    "    # without superconducting shell.\n",
    "    l_cut = cut(L // (2*a) - 1)\n",
    "    r_cut = cut(L // (2*a))\n",
    "    num_orbs = 4\n",
    "    dim = num_orbs * (len(l_cut) + len(r_cut))\n",
    "    vlead = kwant.builder.SelfEnergyLead(\n",
    "        lambda energy, args: np.zeros((dim, dim)), r_cut + l_cut)\n",
    "\n",
    "    if with_vlead:\n",
    "        syst.leads.append(vlead)\n",
    "    if with_leads:\n",
    "        syst.attach_lead(lead)\n",
    "        syst.attach_lead(lead.reversed())\n",
    "\n",
    "    syst = syst.finalized()\n",
    "\n",
    "    r_cut_sites = [syst.sites.index(site) for site in r_cut]\n",
    "    l_cut_sites = [syst.sites.index(site) for site in l_cut]\n",
    "\n",
    "    def hopping(syst, args=()):\n",
    "        \"\"\"Function that returns the hopping matrix of the electrons\n",
    "        between the two cross sections.\"\"\"\n",
    "        return syst.hamiltonian_submatrix(args=args,\n",
    "                                          to_sites=l_cut_sites,\n",
    "                                          from_sites=r_cut_sites)[::2, ::2]\n",
    "    return syst, hopping\n",
    "\n",
    "\n",
    "def save_data(fname, p, constants, Bs, tol, syst_params, T, current_phase, **kwargs):\n",
    "    if os.path.exists(fname):\n",
    "        return \"File already existed\"\n",
    "\n",
    "    def SimpleNamespace_save(p):\n",
    "        \"\"\"Removes functions from SimpleNamespace.\"\"\"\n",
    "        p_new = {key: val for key, val in p.__dict__.items()\n",
    "                 if not isinstance(val, types.FunctionType)}\n",
    "        return p_new\n",
    "\n",
    "    def get_git_revision_hash():\n",
    "        return subprocess.check_output(['git', 'rev-parse', 'HEAD']).decode(\"utf-8\").replace('\\n', '')\n",
    "\n",
    "    data = {'p': SimpleNamespace_save(p),\n",
    "            'constants': SimpleNamespace_save(constants),\n",
    "            'B_x': Bs,\n",
    "            'tol': tol,\n",
    "            'syst_params': syst_params,\n",
    "            'T': T,\n",
    "            'current_phase': current_phase,\n",
    "            'git_hash': get_git_revision_hash(), **kwargs}\n",
    "\n",
    "    dd.io.save(fname, data, compression='blosc')\n",
    "\n",
    "\n",
    "def file_name(base, hamiltonian_params, syst_params, T):\n",
    "    fname = '{}__L_{}_nm__mu_{:.0f}_meV__a_{:.0f}_nm__T_{}_K__{}{}{}{}.h5'\n",
    "    leads = \"infinite_leads\" if syst_params[\n",
    "        'with_leads'] else 'leads_{}_nm'.format(syst_params['L_sc'])\n",
    "    orbital_str = '__no_orbital' if not hamiltonian_params['orbital'] else ''\n",
    "    zeeman_str = '__no_zeeman' if hamiltonian_params['g'] == 0 else ''\n",
    "    alpha_str = '__no_spinorbit' if hamiltonian_params['alpha'] == 0 else ''\n",
    "    fname = fname.format(base, syst_params['L'], hamiltonian_params['mu'],\n",
    "                         syst_params['a'], T, leads, orbital_str, zeeman_str, alpha_str)\n",
    "    return fname\n"
   ]
  },
  {
   "cell_type": "markdown",
   "metadata": {},
   "source": [
    "# Creating some wires as example"
   ]
  },
  {
   "cell_type": "code",
   "execution_count": null,
   "metadata": {
    "collapsed": false,
    "scrolled": false
   },
   "outputs": [],
   "source": [
    "# Create system with infinite leads\n",
    "syst_params = dict(a=10, L=50, r1=50, r2=70, phi=135, angle=0, holes=True, spin=True,\n",
    "                   disorder=False, with_vlead=True, with_leads=True, L_sc=10, with_shell=True)\n",
    "syst, hopping = make_3d_wire(**syst_params)\n",
    "kwant.plot(syst)"
   ]
  },
  {
   "cell_type": "code",
   "execution_count": null,
   "metadata": {
    "collapsed": false,
    "scrolled": false
   },
   "outputs": [],
   "source": [
    "# Create system without leads\n",
    "syst_params['with_leads'] = False\n",
    "syst, hopping = make_3d_wire(**syst_params)\n",
    "kwant.plot(syst)"
   ]
  },
  {
   "cell_type": "code",
   "execution_count": null,
   "metadata": {
    "collapsed": false,
    "scrolled": false
   },
   "outputs": [],
   "source": [
    "# Create system without leads and bigger SC regions\n",
    "syst_params['L_sc'] = 30\n",
    "syst, hopping = make_3d_wire(**syst_params)\n",
    "kwant.plot(syst)"
   ]
  },
  {
   "cell_type": "markdown",
   "metadata": {},
   "source": [
    "# $T$ vs $I_c$ with disorder"
   ]
  },
  {
   "cell_type": "code",
   "execution_count": null,
   "metadata": {
    "collapsed": false,
    "scrolled": false
   },
   "outputs": [],
   "source": [
    "%%px --local\n",
    "p = make_params(Delta=60, alpha=20, mu=50, B_x=0, B_y=0, t_interface=7/8*constants.t, disorder=None, salt=None)\n",
    "syst_params = dict(a=8, L=400, r1=50, r2=70, phi=135, angle=0, disorder=True, with_shell=True, \n",
    "                   with_vlead=True, with_leads=False, L_sc=400, spin=True, holes=True)\n",
    "\n",
    "syst, hopping = make_3d_wire(**syst_params)\n",
    "tol = 1e-2"
   ]
  },
  {
   "cell_type": "code",
   "execution_count": null,
   "metadata": {
    "collapsed": false,
    "scrolled": false
   },
   "outputs": [],
   "source": [
    "Ts = [0.1, 0.5, 1]\n",
    "salts = range(10)\n",
    "disorders = [0, 10, 20, 40]\n",
    "I = lview.map_async(lambda x: I_c(syst, hopping, p.update(salt=x[0], disorder=x[1]), T=x[2], tol=tol),\n",
    "                    product(salts, disorders, Ts))\n",
    "\n",
    "I.wait_interactive()\n",
    "\n",
    "Ic = np.array(I.result()).reshape(len(salts), len(disorders), len(Ts), -1)\n",
    "\n",
    "I_cs, phases = Ic.T"
   ]
  },
  {
   "cell_type": "code",
   "execution_count": null,
   "metadata": {
    "collapsed": false,
    "scrolled": false
   },
   "outputs": [],
   "source": [
    "wire_type = \"infinite_leads\" if syst_params['with_leads'] else 'leads_{}_nm'.format(syst_params['L_sc'])\n",
    "\n",
    "fname = 'T_vs_Ic__L_{}_nm__mu_{:.0f}_meV__{}__a_{:.0f}_nm.h5'.format(syst_params['L'], \n",
    "                                                                     p.mu,\n",
    "                                                                     syst_params['a'],\n",
    "                                                                     wire_type)\n",
    "\n",
    "save_data(fname, p, constants, None, tol, syst_params, Ts, I_cs, phases,\n",
    "          disorders=disorders, salts=salts)"
   ]
  },
  {
   "cell_type": "markdown",
   "metadata": {},
   "source": [
    "# Mean free path"
   ]
  },
  {
   "cell_type": "code",
   "execution_count": null,
   "metadata": {
    "collapsed": false,
    "scrolled": false
   },
   "outputs": [],
   "source": [
    "%%px --local\n",
    "def transmission(syst, p):\n",
    "    smatrix = kwant.smatrix(syst, args=[p])\n",
    "    return smatrix.transmission(0, 1), smatrix.num_propagating(0)\n",
    "\n",
    "p = make_params(Delta=0, alpha=20, mu=50, B_x=0, B_y=0, B_z=0, disorder=None, salt=None)\n",
    "syst_params = dict(a=8, L=None, r1=50, r2=70, phi=135, angle=0, disorder=True,\n",
    "                   with_vlead=False, with_leads=True, L_sc=8, with_shell=False, holes=False, spin=True)"
   ]
  },
  {
   "cell_type": "code",
   "execution_count": null,
   "metadata": {
    "collapsed": false,
    "scrolled": false
   },
   "outputs": [],
   "source": [
    "Ls = np.arange(80, 500, 80)\n",
    "conductances = []\n",
    "num_propagating = []\n",
    "for L in Ls:\n",
    "    print(L)\n",
    "    dview.execute('syst_params[\"L\"] = {}'.format(L))\n",
    "    %px syst, hopping = make_3d_wire(**syst_params)\n",
    "    salts = range(30)\n",
    "    disorders = np.arange(0, 150, 10)\n",
    "    conductance = lview.map_async(lambda x: transmission(syst, p.update(salt=x[0], disorder=x[1])), \n",
    "                        product(salts, disorders))\n",
    "    conductance.wait_interactive()\n",
    "    conductance = np.array(conductance.result()).reshape(len(salts), len(disorders), -1)\n",
    "    num_propagating.append(conductance[:, :, 1])\n",
    "    conductances.append(conductance[:, :, 0])"
   ]
  },
  {
   "cell_type": "code",
   "execution_count": null,
   "metadata": {
    "collapsed": false,
    "scrolled": false
   },
   "outputs": [],
   "source": [
    "save_data('data/mfp__mu_{:.0f}_meV__a_{:.0f}_nm.h5'.format(p.mu, syst_params['a']), p, constants, None, None, syst_params, \n",
    "          T=None, I_cs=None, phases=None, conductances=conductances, salts=salts,\n",
    "          disorders=disorders, Ls=Ls, num_propagating=num_propagating)"
   ]
  },
  {
   "cell_type": "markdown",
   "metadata": {},
   "source": [
    "# Disorder $B_x$ vs $I_c$"
   ]
  },
  {
   "cell_type": "code",
   "execution_count": null,
   "metadata": {
    "collapsed": false,
    "scrolled": false
   },
   "outputs": [],
   "source": [
    "%%px --local\n",
    "\n",
    "hamiltonian_params = dict(Delta=60, mu=50, B_x=None, B_y=0,\n",
    "                          t_interface=7/8*constants.t, disorder=None, salt=None,\n",
    "                          orbital=True, g=50)\n",
    "syst_params = dict(a=8, L=None, r1=50, r2=70, phi=135, angle=0, disorder=True, \n",
    "                   with_vlead=True, with_leads=None, L_sc=None, with_shell=True, holes=True, spin=True)\n",
    "\n",
    "tol = 1e-2"
   ]
  },
  {
   "cell_type": "code",
   "execution_count": null,
   "metadata": {
    "collapsed": false,
    "scrolled": false
   },
   "outputs": [],
   "source": [
    "Bs = np.linspace(0, 1, 100)\n",
    "salts = range(30)\n",
    "disorders = [0, 1, 2, 5, 10, 20, 30, 40, 50]\n",
    "\n",
    "for syst_params['L'] in [80, 160, 320, 640]:\n",
    "    for T in [0.1, 0.5, 1]:\n",
    "        for syst_params['with_leads'], syst_params['L_sc'] in [(True, 8), (False, 400)]:\n",
    "            fname = file_name('disorder_B_vs_I_c', hamiltonian_params, syst_params, T)\n",
    "            if not os.path.isfile(fname):\n",
    "                dview['syst_params'] = syst_params\n",
    "                dview['hamiltonian_params'] = hamiltonian_params\n",
    "                dview['T'] = T\n",
    "                %px p = make_params(**hamiltonian_params)\n",
    "                %px syst, hopping = make_3d_wire(**syst_params)\n",
    "                I = lview.map_async(lambda x: I_c(syst, hopping, p.update(salt=x[0], disorder=x[1], B_x=x[2]), T, tol), \n",
    "                                    product(salts, disorders, Bs))\n",
    "                I.wait_interactive()\n",
    "                current_phase = I.result()\n",
    "                save_data(fname, make_params(**hamiltonian_params), constants, Bs, tol,\n",
    "                          syst_params, T, current_phase, disorders=disorders, salts=salts)"
   ]
  },
  {
   "cell_type": "markdown",
   "metadata": {},
   "source": [
    "# No disorder $B_x$ vs $I_c$:"
   ]
  },
  {
   "cell_type": "code",
   "execution_count": null,
   "metadata": {
    "collapsed": false
   },
   "outputs": [],
   "source": [
    "%%px --local \n",
    "\n",
    "syst_params = dict(a=8, r1=50, r2=70, phi=135, angle=0,\n",
    "                   disorder=False, with_vlead=True,\n",
    "                   with_shell=True, holes=True, spin=True,\n",
    "                   L=None, with_leads=None, L_sc=None,)\n",
    "\n",
    "hamiltonian_params = dict(Delta=60, t_interface=7/8*constants.t, \n",
    "                          mu=None, B_x=None, alpha=None, g=None, orbital=None)\n",
    "tol = 1e-2\n",
    "Bs = np.linspace(0, 1, 100)\n",
    "max_frequencies = 200"
   ]
  },
  {
   "cell_type": "code",
   "execution_count": null,
   "metadata": {
    "collapsed": false
   },
   "outputs": [],
   "source": [
    "T_list = [0.1, 0.5, 1]\n",
    "orbital_list = [True, False]\n",
    "g_list = [0, 50]\n",
    "alpha_list = [0, 20]\n",
    "mu_list = [30, 60]\n",
    "\n",
    "for L in [80, 160, 320, 640]:\n",
    "    for with_leads, L_sc in [(True, 8), (False, 400)]:\n",
    "        syst_params['L'] = L\n",
    "        syst_params['with_leads'] = with_leads\n",
    "        syst_params['L_sc'] = L_sc\n",
    "        fname = 'no_disorder_B_vs_I_c__L_{}_nm{}.h5'.format(L, '__infinite_leads' if with_leads else '')\n",
    "        if not os.path.isfile(fname):\n",
    "            print(fname)\n",
    "            dview['syst_params'] = syst_params\n",
    "            %px p = make_params(**hamiltonian_params)\n",
    "            %px syst, hopping = make_3d_wire(**syst_params)\n",
    "            vals = list(product(T_list, Bs, orbital_list, g_list, alpha_list, mu_list))\n",
    "            I = lview.map_async(lambda x: I_c(syst, hopping, p.update(B_x=x[1], orbital=x[2], g=x[3], alpha=x[4], mu=x[5]),\n",
    "                                              x[0], tol, max_frequencies), vals)\n",
    "            I.wait_interactive()\n",
    "            current_phase = I.result()\n",
    "            save_data(fname, make_params(**hamiltonian_params), constants,\n",
    "                      Bs, tol, syst_params, None, current_phase, \n",
    "                      max_frequencies=max_frequencies, vals=vals, \n",
    "                      T_list=T_list, orbital_list=orbital_list, \n",
    "                      g_list=g_list, alpha_list=alpha_list, mu_list=mu_list)"
   ]
  },
  {
   "cell_type": "markdown",
   "metadata": {},
   "source": [
    "# Induced gap"
   ]
  },
  {
   "cell_type": "code",
   "execution_count": null,
   "metadata": {
    "collapsed": false
   },
   "outputs": [],
   "source": [
    "%%px --local\n",
    "# Create system with infinite leads\n",
    "syst_params = dict(a=8, L=800, r1=50, r2=70, phi=135, angle=0, \n",
    "                   disorder=False, with_vlead=True, with_leads=True, L_sc=400)\n",
    "syst, hopping = make_3d_wire(**syst_params)\n",
    "lead = syst.leads[1]\n",
    "\n",
    "p = make_params(t_interface=7/8*constants.t)\n",
    "\n",
    "def evs(lead, p):\n",
    "    h0 = lead.cell_hamiltonian(args=[p])\n",
    "    t0 = lead.inter_cell_hopping(args=[p])\n",
    "    ham = h0 + t0 + t0.conj().T\n",
    "    ev = np.linalg.eigvalsh(ham)\n",
    "    return np.abs(ev).min()"
   ]
  },
  {
   "cell_type": "code",
   "execution_count": null,
   "metadata": {
    "collapsed": false
   },
   "outputs": [],
   "source": [
    "mus = np.linspace(2, 20, 50)\n",
    "deltas = np.linspace(0, 100, 50)\n",
    "vals = list(product(deltas, mus))\n",
    "dview.scatter('vals', vals, block=True)\n",
    "%px res = [evs(lead, p) for p.Delta, p.mu in vals]\n",
    "res = np.reshape(dview.gather('res', block=True), (len(deltas), len(mus)))\n",
    "print(\"Max gap is {} meV\".format(max(res.min(axis=1))))"
   ]
  },
  {
   "cell_type": "code",
   "execution_count": null,
   "metadata": {
    "collapsed": false
   },
   "outputs": [],
   "source": [
    "hv.Curve((deltas, res.min(axis=1)), kdims=['$\\Delta$'], vdims=['$E_{gap}$'], label=\"$E_{gap}$ over range of $\\Delta$'s\")"
   ]
  },
  {
   "cell_type": "code",
   "execution_count": null,
   "metadata": {
    "collapsed": false
   },
   "outputs": [],
   "source": [
    "Delta_ind = {delta: hv.Path((mus, evs), kdims=['$\\mu$', ('E_gap', '$E_{gap}$')]) \n",
    "      for evs, delta in zip(res, deltas)}\n",
    "\n",
    "hm = hv.HoloMap(Delta_ind, kdims=['$\\Delta$'])\n",
    "(hm.select(E_gap=(0.2, 0.3)) * hv.HLine(0.25))"
   ]
  },
  {
   "cell_type": "markdown",
   "metadata": {},
   "source": [
    "# Gate"
   ]
  },
  {
   "cell_type": "code",
   "execution_count": null,
   "metadata": {
    "collapsed": false
   },
   "outputs": [],
   "source": [
    "# Plot test\n",
    "syst_params = dict(a=8, L=160, r1=50, r2=70, phi=135, angle=0, holes=True, spin=True,\n",
    "                   disorder=False, with_vlead=True, with_leads=True, L_sc=8, with_shell=True)\n",
    "syst, hopping = make_3d_wire(**syst_params)\n",
    "gate_fun = gate(syst, 100, 160)\n",
    "sites = [gate_fun(pos[0]) for pos in [i.pos for i in syst.sites]]\n",
    "kwant.plot(syst, site_lw=0, site_color=sites, colorbar=False)"
   ]
  },
  {
   "cell_type": "code",
   "execution_count": null,
   "metadata": {
    "collapsed": false
   },
   "outputs": [],
   "source": [
    "%%px --local \n",
    "\n",
    "def find_nearest(array, value):\n",
    "    idx = np.abs(np.array(array) - value).argmin()\n",
    "    return array[idx]\n",
    "\n",
    "def gate(syst, V, gate_size):\n",
    "    x_positions = sorted(set(i.pos[0] for i in syst.sites))\n",
    "    x_mid = (max(x_positions) - min(x_positions)) / 2\n",
    "    x_L = find_nearest(x_positions, x_mid - gate_size / 2)\n",
    "    x_R = find_nearest(x_positions, x_mid + gate_size / 2)\n",
    "    return lambda x: V if x > x_L and x <= x_R else 0\n",
    "\n",
    "syst_params = dict(a=8, r1=50, r2=70, phi=135, angle=0,\n",
    "                   disorder=False, with_vlead=True,\n",
    "                   with_shell=True, holes=True, spin=True,\n",
    "                   L=640, with_leads=True, L_sc=8)\n",
    "\n",
    "hamiltonian_params = dict(Delta=60, t_interface=7/8*constants.t, \n",
    "                          mu=50, B_x=None, alpha=20, g=50, orbital=True)\n",
    "tol = 1e-2\n",
    "Bs = np.linspace(0, 1, 100)\n",
    "Vs = np.linspace(0, 40, 100)\n",
    "max_frequencies = 200\n",
    "T = 1\n",
    "gate_size = None\n",
    "\n",
    "p = make_params(**hamiltonian_params)\n",
    "syst, hopping = make_3d_wire(**syst_params)"
   ]
  },
  {
   "cell_type": "code",
   "execution_count": null,
   "metadata": {
    "collapsed": false
   },
   "outputs": [],
   "source": [
    "vals = list(product(Bs, Vs))\n",
    "\n",
    "for gate_size in [80, 160, 320, 640]:\n",
    "    dview['gate_size'] = gate_size\n",
    "    I = lview.map_async(lambda x: I_c(syst, hopping, p.update(B_x=x[0], V=gate(syst, x[1], gate_size)),\n",
    "                                      T, tol, max_frequencies), vals)\n",
    "    I.wait_interactive()\n",
    "    current_phase = I.result()\n",
    "    fname = \"current_as_function_of_gate_and_B_x__gate_size_{}_nm.h5\".format(gate_size)\n",
    "    save_data(fname, make_params(**hamiltonian_params), constants,\n",
    "              Bs, tol, syst_params, T, current_phase, \n",
    "              max_frequencies=max_frequencies, vals=vals, Vs=Vs, gate_size=gate_size)"
   ]
  }
 ],
 "metadata": {
  "kernelspec": {
   "display_name": "Python 3",
   "language": "python",
   "name": "python3"
  },
  "language_info": {
   "codemirror_mode": {
    "name": "ipython",
    "version": 3
   },
   "file_extension": ".py",
   "mimetype": "text/x-python",
   "name": "python",
   "nbconvert_exporter": "python",
   "pygments_lexer": "ipython3",
   "version": "3.5.2"
  }
 },
 "nbformat": 4,
 "nbformat_minor": 0
}
