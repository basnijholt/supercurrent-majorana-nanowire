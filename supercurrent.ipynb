{
 "cells": [
  {
   "cell_type": "markdown",
   "metadata": {},
   "source": [
    "# Calculations of supercurrents in a proximitized semiconducting 3D nanowire"
   ]
  },
  {
   "cell_type": "code",
   "execution_count": null,
   "metadata": {
    "collapsed": false,
    "scrolled": false
   },
   "outputs": [],
   "source": [
    "# Make sure this folder is in your $PYTHONPATH\n",
    "\n",
    "try:\n",
    "    # If this can be imported, it assumes you are on the TU Delft network with access to cluster\n",
    "    import hpc05\n",
    "    client = hpc05.Client(profile='pbs', timeout=60)\n",
    "    print(\"Connected to hpc05\")\n",
    "except ImportError:\n",
    "    from ipyparallel import Client\n",
    "    client = Client()\n",
    "    print(\"Connected to local engines\")"
   ]
  },
  {
   "cell_type": "code",
   "execution_count": null,
   "metadata": {
    "collapsed": false,
    "scrolled": false
   },
   "outputs": [],
   "source": [
    "dview = client[:]\n",
    "dview.use_dill()\n",
    "lview = client.load_balanced_view()\n",
    "print(len(dview))"
   ]
  },
  {
   "cell_type": "code",
   "execution_count": null,
   "metadata": {
    "collapsed": false,
    "scrolled": false
   },
   "outputs": [],
   "source": [
    "# Standard library imports\n",
    "from functools import partial\n",
    "from itertools import product, repeat\n",
    "import os.path\n",
    "import types\n",
    "\n",
    "# Related third party imports\n",
    "import holoviews as hv\n",
    "from ipyparallel import require\n",
    "import kwant\n",
    "import numpy as np\n",
    "import pandas as pd\n",
    "import sympy.interactive\n",
    "\n",
    "# Local imports\n",
    "import funcs\n",
    "from funcs import constants\n",
    "\n",
    "# next two lines because of https://github.com/ipython/ipyparallel/issues/205\n",
    "%px import sys; sys.path.append('/home/bnijholt/Dropbox/Work/nanowire_current/')\n",
    "%px import funcs, types, kwant\n",
    "\n",
    "%matplotlib inline\n",
    "hv.notebook_extension()\n",
    "sympy.interactive.init_printing('mathjax')"
   ]
  },
  {
   "cell_type": "markdown",
   "metadata": {},
   "source": [
    "# Creating some wires as example"
   ]
  },
  {
   "cell_type": "code",
   "execution_count": null,
   "metadata": {
    "collapsed": false,
    "scrolled": false
   },
   "outputs": [],
   "source": [
    "# Create system with infinite leads\n",
    "syst_pars = dict(a=8, A_in_SC=True, angle=0, site_disorder=False, holes=True, L=40, L_sc=8,\n",
    "                 phi=135, r1=50, r2=70, shape='circle', spin=True, with_leads=True,\n",
    "                 with_shell=True, with_vlead=True)\n",
    "\n",
    "syst, hopping = funcs.make_3d_wire(**syst_pars)\n",
    "kwant.plot(syst)"
   ]
  },
  {
   "cell_type": "code",
   "execution_count": null,
   "metadata": {
    "collapsed": false,
    "scrolled": false
   },
   "outputs": [],
   "source": [
    "# Create system without leads and bigger SC regions\n",
    "syst_pars['L_sc'] = 40\n",
    "syst, hopping = funcs.make_3d_wire(**syst_pars)\n",
    "kwant.plot(syst)"
   ]
  },
  {
   "cell_type": "code",
   "execution_count": null,
   "metadata": {
    "collapsed": false,
    "scrolled": false
   },
   "outputs": [],
   "source": [
    "# Create system without leads\n",
    "syst_pars['with_leads'] = False\n",
    "syst, hopping = funcs.make_3d_wire(**syst_pars)\n",
    "kwant.plot(syst)"
   ]
  },
  {
   "cell_type": "markdown",
   "metadata": {},
   "source": [
    "# Mean free path"
   ]
  },
  {
   "cell_type": "code",
   "execution_count": null,
   "metadata": {
    "collapsed": false,
    "scrolled": false
   },
   "outputs": [],
   "source": [
    "syst_pars = dict(a=8, A_in_SC=True, angle=0, site_disorder=True, holes=False, L_sc=8,\n",
    "                 phi=135, r1=50, r2=70, shape='circle', spin=True, with_leads=True,\n",
    "                 with_shell=False, with_vlead=False)\n",
    "\n",
    "ham_pars = dict(alpha=20, B_x=0, B_y=0, B_z=0, Delta=0, g=50, mu_B=constants.mu_B,\n",
    "                orbital=True, t=constants.t, V=lambda x: 0)\n",
    "\n",
    "Ls = np.arange(80, 2000, 80)\n",
    "salts = np.arange(0, 30)\n",
    "disorders = np.arange(0, 160, 10)\n",
    "mus = [6, 10, 15, 20, 40, 50]\n",
    "\n",
    "vals = list(product(salts, disorders, Ls, mus))\n",
    "\n",
    "@require('kwant', 'types', 'funcs')\n",
    "def transmission(x, syst_pars=syst_pars, ham_pars=ham_pars):\n",
    "    syst, hopping = funcs.make_3d_wire(**dict(**syst_pars, L=x[2]))\n",
    "    p = types.SimpleNamespace(**ham_pars, salt=x[0], disorder=x[1], mu=x[3])\n",
    "    smatrix = kwant.smatrix(syst, args=[p])\n",
    "    return smatrix.transmission(0, 1), smatrix.num_propagating(0)\n",
    "\n",
    "trans = lview.map_async(transmission, vals)\n",
    "trans.wait_interactive()\n",
    "trans = trans.result()\n",
    "\n",
    "df = pd.DataFrame(vals, columns=['salt', 'disorder', 'L', 'mu'])\n",
    "df = pd.concat((pd.DataFrame(trans, columns=['transmission', 'num_propagating']), df), axis=1)\n",
    "df = df.assign(**syst_pars).assign(**ham_pars).assign(**constants.__dict__)\n",
    "df = df.assign(git_hash=funcs.get_git_revision_hash())\n",
    "df.to_hdf('data/mean_free_path.hdf', 'all_data', mode='w')"
   ]
  },
  {
   "cell_type": "markdown",
   "metadata": {},
   "source": [
    "# Disorder"
   ]
  },
  {
   "cell_type": "code",
   "execution_count": null,
   "metadata": {
    "collapsed": false
   },
   "outputs": [],
   "source": [
    "syst_pars = dict(a=8, A_in_SC=True, angle=0, site_disorder=True, holes=True, phi=135,\n",
    "                 r1=50, r2=70, shape='circle', spin=True, with_shell=True, with_vlead=True,\n",
    "                 with_leads=True, L_sc=8, L=640)\n",
    "\n",
    "ham_pars = dict(B_y=0, B_z=0, Delta=60, mu_B=constants.mu_B,\n",
    "                t=constants.t, t_interface=7/8*constants.t, V=lambda x: 0)\n",
    "\n",
    "T = 1\n",
    "\n",
    "Bs = np.linspace(0, 1, 100)\n",
    "orbital_bools = [False, True]\n",
    "gs = [0, 50]\n",
    "alphas = [0, 20]\n",
    "mus = [10, 50]\n",
    "disorders = [20, 50, 70]\n",
    "salts = np.arange(0, 1)\n",
    "\n",
    "vals = list(product(Bs, orbital_bools, gs, alphas, mus, disorders, salts))\n",
    "\n",
    "@require('kwant', 'types', 'funcs')\n",
    "def current(x, syst_pars=syst_pars, ham_pars=ham_pars, T=T):\n",
    "    import funcs, types, kwant\n",
    "    syst, hopping = funcs.make_3d_wire(**dict(**syst_pars))\n",
    "    p = types.SimpleNamespace(**ham_pars, B_x=x[0], orbital=x[1], g=x[2],\n",
    "                              alpha=x[3], mu=x[4], disorder=x[5], salt=x[6])\n",
    "    return funcs.I_c(syst, hopping, p, T=x[0])\n",
    "\n",
    "for i, chunk in enumerate(funcs.chunks(vals, 5000)):\n",
    "    fname = 'tmp/I_c_B_x_disorder_single_{}.hdf'.format(i)\n",
    "    if not os.path.exists(fname):\n",
    "        I = lview.map_async(current, chunk)\n",
    "        I.wait_interactive()\n",
    "        current_phase = I.result()\n",
    "        \n",
    "        df = pd.DataFrame(chunk, columns=['B_x', 'orbital', 'g', 'alpha', 'mu', 'disorder', 'salts'])\n",
    "        df = pd.concat((pd.DataFrame(current_phase), df), axis=1)\n",
    "        df = df.assign(**syst_pars).assign(**ham_pars).assign(**constants.__dict__)\n",
    "        df = df.assign(git_hash=funcs.get_git_revision_hash())\n",
    "        df.to_hdf(fname, 'all_data', mode='w')\n"
   ]
  },
  {
   "cell_type": "markdown",
   "metadata": {},
   "source": [
    "# No disorder $B_x$ vs $I_c$:"
   ]
  },
  {
   "cell_type": "code",
   "execution_count": null,
   "metadata": {
    "collapsed": false
   },
   "outputs": [],
   "source": [
    "syst_pars = dict(a=8, A_in_SC=True, angle=0, site_disorder=False, holes=True, phi=135,\n",
    "                 r1=50, r2=70, shape='circle', spin=True, \n",
    "                 with_shell=True, with_vlead=True)\n",
    "\n",
    "ham_pars = dict(B_y=0, B_z=0, Delta=60, mu_B=constants.mu_B,\n",
    "                t=constants.t, t_interface=7/8*constants.t, V=lambda x: 0)\n",
    "\n",
    "Ts = [0.1, 0.5, 1]\n",
    "orbital_bools = [False, True]\n",
    "gs = [0, 50]\n",
    "alphas = [0, 20]\n",
    "mus = [10, 20, 30, 40, 50, 60]\n",
    "Ls = [80, 160, 320, 640]\n",
    "leads = [(True, 8), (False, 400)]\n",
    "Bs = np.linspace(0, 1, 100)\n",
    "\n",
    "vals = list(product(Ts, Bs, orbital_bools, gs, alphas, mus, Ls, leads))\n",
    "\n",
    "@require('kwant', 'types', 'funcs')\n",
    "def current(x, syst_pars=syst_pars, ham_pars=ham_pars):\n",
    "    syst, hopping = funcs.make_3d_wire(**dict(**syst_pars, L=x[6], with_leads=x[7][0], L_sc=x[7][1]))\n",
    "    p = types.SimpleNamespace(**ham_pars, B_x=x[1], orbital=x[2], g=x[3], alpha=x[4], mu=x[5])\n",
    "    return funcs.I_c(syst, hopping, p, T=x[0])\n",
    "\n",
    "for i, chunk in enumerate(funcs.chunks(vals, 50000)):\n",
    "    fname = 'tmp/I_c_B_x_no_disorder{}.hdf'.format(i)\n",
    "    if not os.path.exists(fname):\n",
    "        I = lview.map_async(current, chunk)\n",
    "        I.wait_interactive()\n",
    "        current_phase = I.result()\n",
    "        \n",
    "        df = pd.DataFrame(chunk, columns=['T', 'B_x', 'orbital', 'g', 'alpha', 'mu', 'L', 'leads'])\n",
    "        df[['with_leads', 'L_sc']] = df.pop('leads').apply(pd.Series)\n",
    "        df = pd.concat((pd.DataFrame(current_phase), df), axis=1)\n",
    "        df = df.assign(**syst_pars).assign(**ham_pars).assign(**constants.__dict__)\n",
    "        df = df.assign(git_hash=funcs.get_git_revision_hash())\n",
    "        df.to_hdf(fname, 'all_data', mode='w')"
   ]
  },
  {
   "cell_type": "markdown",
   "metadata": {},
   "source": [
    "# $I_c(B_x, \\mu)$"
   ]
  },
  {
   "cell_type": "code",
   "execution_count": null,
   "metadata": {
    "collapsed": false
   },
   "outputs": [],
   "source": [
    "syst_pars = dict(a=8, A_in_SC=True, angle=0, site_disorder=False, holes=True, L=640,\n",
    "                 L_sc=8, phi=135, r1=50, r2=70, shape='circle',\n",
    "                 spin=True, with_leads=True, with_shell=True, with_vlead=True)\n",
    "\n",
    "ham_pars = dict(B_y=0, B_z=0, Delta=60, mu_B=constants.mu_B,\n",
    "                t=constants.t, t_interface=7/8*constants.t, V=lambda x: 0)\n",
    "\n",
    "T = 1\n",
    "\n",
    "orbital_bools = [False, True]\n",
    "gs = [0, 50]\n",
    "alphas = [0, 20]\n",
    "mus = np.linspace(0, 50, 100)\n",
    "Bs = np.linspace(0, 1, 100)\n",
    "\n",
    "vals = list(product(Bs, orbital_bools, gs, alphas, mus))\n",
    "\n",
    "@require('kwant', 'types', 'funcs')\n",
    "def fun(x, syst_pars=syst_pars, ham_pars=ham_pars, T=T):\n",
    "    syst, hopping = funcs.make_3d_wire(**syst_pars)\n",
    "    p = types.SimpleNamespace(**ham_pars, B_x=x[0], orbital=x[1], g=x[2], alpha=x[3], mu=x[4])\n",
    "    return funcs.I_c(syst, hopping, p, T=T)\n",
    "\n",
    "for i, chunk in enumerate(funcs.chunks(vals, 50000)):\n",
    "    fname = 'tmp/I_c_B_x_mu_2D_plots_{}.hdf'.format(i)\n",
    "    if not os.path.exists(fname):\n",
    "        I = lview.map_async(fun, chunk)\n",
    "\n",
    "        I.wait_interactive()\n",
    "\n",
    "        current_phase = I.result()\n",
    "\n",
    "        df = pd.DataFrame(chunk, columns=['B_x', 'orbital', 'g', 'alpha', 'mu'])\n",
    "        df = pd.concat((pd.DataFrame(current_phase), df), axis=1)\n",
    "        df = df.assign(**syst_pars).assign(**ham_pars).assign(**constants.__dict__)\n",
    "        df = df.assign(T=T, git_hash=funcs.get_git_revision_hash())\n",
    "        df.to_hdf(fname, 'all_data', mode='w')"
   ]
  },
  {
   "cell_type": "markdown",
   "metadata": {},
   "source": [
    "# Field in y"
   ]
  },
  {
   "cell_type": "code",
   "execution_count": null,
   "metadata": {
    "collapsed": false
   },
   "outputs": [],
   "source": [
    "syst_pars = dict(a=8, A_in_SC=True, angle=0, site_disorder=False, holes=True, L=640,\n",
    "                 L_sc=8, phi=135, r1=50, r2=70, shape='circle', spin=True,\n",
    "                 with_leads=True, with_shell=True, with_vlead=True)\n",
    "\n",
    "ham_pars = dict(B_x=0, B_z=0, Delta=60, mu_B=constants.mu_B,\n",
    "                t=constants.t, t_interface=7/8*constants.t, V=lambda x: 0)\n",
    "T = 1\n",
    "\n",
    "orbital_bools = [False, True]\n",
    "gs = [0, 50]\n",
    "alphas = [0, 20]\n",
    "mus = [10, 50]\n",
    "Bs = np.linspace(0, 1, 100)\n",
    "\n",
    "vals = list(product(Bs, orbital_bools, gs, alphas, mus))[:100]\n",
    "\n",
    "@require('kwant', 'types', 'funcs')\n",
    "def fun(x, syst_pars=syst_pars, ham_pars=ham_pars, T=T):\n",
    "    syst, hopping = funcs.make_3d_wire(**syst_pars)\n",
    "    p = types.SimpleNamespace(**ham_pars, B_y=x[0], orbital=x[1], g=x[2], alpha=x[3], mu=x[4])\n",
    "    return funcs.I_c(syst, hopping, p, T=T)\n",
    "\n",
    "current_phase = lview.map_async(fun, vals)\n",
    "current_phase.wait_interactive()\n",
    "current_phase = current_phase.result()\n",
    "\n",
    "df = pd.DataFrame(vals, columns=['B_x', 'orbital', 'g', 'alpha', 'mu'])\n",
    "df = pd.concat((pd.DataFrame(current_phase), df), axis=1)\n",
    "df = df.assign(**syst_pars).assign(**ham_pars).assign(**constants.__dict__)\n",
    "df = df.assign(T=T).assign(git_hash=funcs.get_git_revision_hash())"
   ]
  },
  {
   "cell_type": "markdown",
   "metadata": {},
   "source": [
    "# Rotation of the field"
   ]
  },
  {
   "cell_type": "markdown",
   "metadata": {},
   "source": [
    "![](https://upload.wikimedia.org/wikipedia/commons/thumb/4/4f/3D_Spherical.svg/558px-3D_Spherical.svg.png)"
   ]
  },
  {
   "cell_type": "code",
   "execution_count": null,
   "metadata": {
    "collapsed": false
   },
   "outputs": [],
   "source": [
    "syst_pars = dict(a=8, A_in_SC=True, angle=0, site_disorder=False, holes=True, L=640, L_sc=8,\n",
    "                 phi=135, r1=50, r2=70, shape='circle', spin=True, \n",
    "                 with_leads=True, with_shell=True, with_vlead=True)\n",
    "\n",
    "ham_pars = dict(alpha=20, B_y=0, Delta=60, g=50, \n",
    "                mu=50, mu_B=constants.mu_B, orbital=True, \n",
    "                t=constants.t, t_interface=7/8*constants.t, V=lambda x: 0)\n",
    "\n",
    "T = 1\n",
    "\n",
    "Bs = np.linspace(0, 1, 100)\n",
    "angles = np.arange(0, 360, 15)\n",
    "B_xs = [B * np.cos(angle * np.pi / 180) for angle in angles for B in Bs]\n",
    "B_zs = [B * np.sin(angle * np.pi / 180) for angle in angles for B in Bs]\n",
    "vals = list(zip(B_xs, B_zs))\n",
    "\n",
    "@require('kwant', 'types', 'funcs')\n",
    "def fun(x, syst_pars=syst_pars, ham_pars=ham_pars, T=T):\n",
    "    p = types.SimpleNamespace(**ham_pars, B_x=x[0], B_z=x[1])\n",
    "    syst, hopping = funcs.make_3d_wire(**syst_pars)\n",
    "    return funcs.I_c(syst, hopping, p, T)\n",
    "\n",
    "I = lview.map_async(fun, vals)\n",
    "I.wait_interactive()\n",
    "current_phase = I.result()\n",
    "\n",
    "df = pd.DataFrame(vals, columns=['B_x', 'B_z'])\n",
    "df = pd.concat((pd.DataFrame(current_phase), df), axis=1)\n",
    "df = df.assign(**syst_pars).assign(**ham_pars).assign(**constants.__dict__)\n",
    "df = df.assign(T=T).assign(git_hash=funcs.get_git_revision_hash())\n",
    "df.to_hdf('rotation_of_field.hdf', 'all_data', mode='w')"
   ]
  },
  {
   "cell_type": "markdown",
   "metadata": {},
   "source": [
    "# Induced gap"
   ]
  },
  {
   "cell_type": "code",
   "execution_count": null,
   "metadata": {
    "collapsed": false
   },
   "outputs": [],
   "source": [
    "# Create system with infinite leads\n",
    "syst_pars = dict(a=8, A_in_SC=True, angle=0, site_disorder=False, holes=True,\n",
    "                 L=80, L_sc=8, phi=135, r1=50, r2=70, shape='circle',\n",
    "                 spin=True, with_leads=True, with_shell=True, with_vlead=True)\n",
    "\n",
    "ham_pars = dict(alpha=20, B_x=0, B_y=0, B_z=0, g=50, \n",
    "                mu_B=constants.mu_B, orbital=True, \n",
    "                t=constants.t, t_interface=7/8*constants.t, V=lambda x: 0)\n",
    "\n",
    "mus = np.linspace(2, 30, 50)\n",
    "Deltas = np.linspace(0, 100, 50)\n",
    "\n",
    "@require('kwant', 'types', 'funcs', 'numpy')\n",
    "def evs(x, syst_pars=syst_pars, ham_pars=ham_pars):\n",
    "    import numpy as np\n",
    "    syst, _ = funcs.make_3d_wire(**syst_pars)\n",
    "    lead = syst.leads[1]\n",
    "    p = types.SimpleNamespace(**ham_pars, Delta=x[0], mu=x[1])\n",
    "    h0 = lead.cell_hamiltonian(args=[p])\n",
    "    t0 = lead.inter_cell_hopping(args=[p])\n",
    "    ham = h0 + t0 + t0.conj().T\n",
    "    ev = np.linalg.eigvalsh(ham)\n",
    "    return np.abs(ev).min()\n",
    "\n",
    "vals = list(product(Deltas, mus))\n",
    "gap = lview.map_async(evs, vals)\n",
    "gap.wait_interactive()\n",
    "gap = np.reshape(gap.result(), (len(Deltas), -1)) \n",
    "max_gap = max(np.min(gap, axis=1))\n",
    "print(\"Max gap is {} meV\".format(max_gap))"
   ]
  },
  {
   "cell_type": "code",
   "execution_count": null,
   "metadata": {
    "collapsed": false
   },
   "outputs": [],
   "source": [
    "hv.Curve((Deltas, gap.min(axis=1)), kdims=['$\\Delta$'], vdims=['$E_{gap}$'], label=\"$E_{gap}$ over range of $\\Delta$'s\")"
   ]
  },
  {
   "cell_type": "code",
   "execution_count": null,
   "metadata": {
    "collapsed": false
   },
   "outputs": [],
   "source": [
    "Delta_ind = {delta: hv.Path((mus, evs), kdims=['$\\mu$', ('E_gap', '$E_{gap}$')]) \n",
    "      for evs, delta in zip(gap, Deltas)}\n",
    "\n",
    "hm = hv.HoloMap(Delta_ind, kdims=['$\\Delta$'])\n",
    "(hm.select(E_gap=(0.2, 0.40)) * hv.HLine(0.25))"
   ]
  },
  {
   "cell_type": "markdown",
   "metadata": {},
   "source": [
    "# Gate"
   ]
  },
  {
   "cell_type": "code",
   "execution_count": null,
   "metadata": {
    "collapsed": false
   },
   "outputs": [],
   "source": [
    "# Plot test\n",
    "syst_pars = dict(a=8, A_in_SC=True, angle=0, site_disorder=False, holes=True,\n",
    "                   L=640, L_sc=8, phi=135, r1=50, r2=70, shape='circle',\n",
    "                   spin=True, with_leads=True, with_shell=True, with_vlead=True)\n",
    "\n",
    "syst, hopping = funcs.make_3d_wire(**syst_pars)\n",
    "gate_fun = funcs.gate(syst, 100, 160)\n",
    "sites = [gate_fun(pos[0]) for pos in [i.pos for i in syst.sites]]\n",
    "kwant.plot(syst, site_lw=0, site_color=sites, colorbar=False)"
   ]
  },
  {
   "cell_type": "code",
   "execution_count": null,
   "metadata": {
    "collapsed": false
   },
   "outputs": [],
   "source": [
    "syst_pars = dict(a=8, A_in_SC=True, angle=0, site_disorder=False, holes=True,\n",
    "                 L=640, L_sc=8, phi=135, r1=50, r2=70, shape='circle',\n",
    "                 spin=True, with_leads=True, with_shell=True, with_vlead=True)\n",
    "\n",
    "ham_pars = dict(alpha=20, B_y=0, B_z=0, Delta=60, g=50, mu=50,\n",
    "                mu_B=constants.mu_B, orbital=True, t=constants.t,\n",
    "                t_interface=7/8*constants.t)\n",
    "\n",
    "T = 1\n",
    "Bs = np.linspace(0, 1, 100)\n",
    "Vs = np.linspace(0, 40, 100)\n",
    "\n",
    "gate_sizes = [80, 160, 320, 640]\n",
    "\n",
    "@require('kwant', 'types', 'funcs')\n",
    "def fun(x, syst_pars=syst_pars, ham_pars=ham_pars, T=T):\n",
    "    syst, hopping = funcs.make_3d_wire(**syst_pars)\n",
    "    p = types.SimpleNamespace(**ham_pars, B_x=x[2], V=funcs.gate(syst, x[1], x[0]))\n",
    "    return funcs.I_c(syst, hopping, p, T)\n",
    "\n",
    "vals = list(product(gate_sizes, Vs, Bs))\n",
    "\n",
    "for i, chunk in enumerate(funcs.chunks(vals, 50000)):\n",
    "    fname = \"current_as_function_of_gate_and_B_x__gate_size_{}_nm.h5\".format(i)\n",
    "    if not os.path.exists(fname):\n",
    "        I = lview.map_async(fun, chunk)\n",
    "        I.wait_interactive()\n",
    "        current_phase = I.result()\n",
    "\n",
    "        df = pd.DataFrame(chunk, columns=['gate_size', 'V', 'B_x'])\n",
    "        df = pd.concat((pd.DataFrame(current_phase), df), axis=1)\n",
    "        df = df.assign(**syst_pars).assign(**ham_pars).assign(**constants.__dict__)\n",
    "        df = df.assign(T=T).assign(git_hash=funcs.get_git_revision_hash())\n",
    "        df.to_hdf(fname, 'all_data', mode='w')"
   ]
  },
  {
   "cell_type": "markdown",
   "metadata": {},
   "source": [
    "# gate with disorder"
   ]
  },
  {
   "cell_type": "code",
   "execution_count": null,
   "metadata": {
    "collapsed": false
   },
   "outputs": [],
   "source": [
    "syst_pars = dict(a=8, A_in_SC=True, angle=0, site_disorder=True, holes=True,\n",
    "                 L=640, L_sc=8, phi=135, r1=50, r2=70, shape='circle',\n",
    "                 spin=True, with_leads=True, with_shell=True, with_vlead=True)\n",
    "\n",
    "ham_pars = dict(alpha=20, B_y=0, B_z=0, Delta=60, g=50, mu=50,\n",
    "                mu_B=constants.mu_B, orbital=True, t=constants.t,\n",
    "                t_interface=7/8*constants.t, salt=0)\n",
    "\n",
    "T = 1\n",
    "Bs = np.linspace(0, 1, 100)\n",
    "Vs = np.linspace(0, 40, 100)\n",
    "gate_sizes = [80, 160, 320, 640]\n",
    "disorders = [20, 50, 70]\n",
    "\n",
    "@require('kwant', 'types', 'funcs')\n",
    "def fun(x, syst_pars=syst_pars, ham_pars=ham_pars, T=T):\n",
    "    syst, hopping = funcs.make_3d_wire(**syst_pars)\n",
    "    p = types.SimpleNamespace(**ham_pars, B_x=x[3],\n",
    "                              V=funcs.gate(syst, V=x[2], gate_size=x[0]),\n",
    "                              disorder=x[1])\n",
    "    return funcs.I_c(syst, hopping, p, T)\n",
    "\n",
    "vals = list(product(gate_sizes, disorders, Vs, Bs))\n",
    "\n",
    "for i, chunk in enumerate(funcs.chunks(vals, 5000)):\n",
    "    fname = \"tmp/current_as_function_of_gate_and_B_x__gate_size_{}_nm_disorder.h5\".format(i)\n",
    "    if not os.path.exists(fname):\n",
    "        I = lview.map_async(fun, chunk)\n",
    "        I.wait_interactive()\n",
    "        current_phase = I.result()\n",
    "\n",
    "        df = pd.DataFrame(chunk, columns=['gate_size', 'disorder', 'V', 'B_x'])\n",
    "        df = pd.concat((pd.DataFrame(current_phase), df), axis=1)\n",
    "        df = df.assign(**syst_pars).assign(**ham_pars).assign(**constants.__dict__)\n",
    "        df = df.assign(T=T).assign(git_hash=funcs.get_git_revision_hash())\n",
    "        df.to_hdf(fname, 'all_data', mode='w')"
   ]
  }
 ],
 "metadata": {
  "kernelspec": {
   "display_name": "Python 3",
   "language": "python",
   "name": "python3"
  },
  "language_info": {
   "codemirror_mode": {
    "name": "ipython",
    "version": 3
   },
   "file_extension": ".py",
   "mimetype": "text/x-python",
   "name": "python",
   "nbconvert_exporter": "python",
   "pygments_lexer": "ipython3",
   "version": "3.5.2"
  }
 },
 "nbformat": 4,
 "nbformat_minor": 0
}
