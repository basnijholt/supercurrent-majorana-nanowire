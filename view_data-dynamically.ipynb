{
 "cells": [
  {
   "cell_type": "markdown",
   "metadata": {},
   "source": [
    "# Download the datafile [here](https://www.dropbox.com/s/0r508fymxtnepuz/all_data.hdf?dl=0) and place in the same folder as this notebook."
   ]
  },
  {
   "cell_type": "code",
   "execution_count": null,
   "metadata": {
    "collapsed": false
   },
   "outputs": [],
   "source": [
    "from types import SimpleNamespace\n",
    "import numpy as np\n",
    "import holoviews as hv\n",
    "import pandas as pd\n",
    "hv.notebook_extension()\n",
    "%opts Scatter (color='b') \n",
    "df = pd.read_hdf('all_data.hdf')\n",
    "d = SimpleNamespace(phi=hv.Dimension(r'$\\phi$', unit='rad'),\n",
    "                    phi_c=hv.Dimension(r'$\\phi_c$', unit='rad'),\n",
    "                    I=hv.Dimension('$I$', unit=r'meV / $\\Phi_0$'),\n",
    "                    I_c=hv.Dimension('$I_c$', unit=r'meV / $\\Phi_0$'),\n",
    "                    B=hv.Dimension('$B$', unit='T', values=df['B_x'].unique().tolist()),\n",
    "                    T=hv.Dimension('$T$', unit='K', values=df['T'].unique().tolist()), \n",
    "                    L=hv.Dimension('$L$', unit='nm', values=df['L'].unique().tolist()), \n",
    "                    g=hv.Dimension('$g$-factor', values=df['g'].unique().tolist()), \n",
    "                    alpha=hv.Dimension(r'$\\alpha$', unit='mev nm', values=df['alpha'].unique().tolist()), \n",
    "                    mu=hv.Dimension(r'$\\mu$', unit='meV', values=df['mu'].unique().tolist()), \n",
    "                    a=hv.Dimension('$a$', unit='nm', values=df['a'].unique().tolist()))\n",
    "\n",
    "pd.set_option('display.max_columns', None)"
   ]
  },
  {
   "cell_type": "markdown",
   "metadata": {},
   "source": [
    "# Critical current and phase, $B_x$ vs $I_c$ and $B_x$ vs $\\phi_c$"
   ]
  },
  {
   "cell_type": "code",
   "execution_count": null,
   "metadata": {
    "collapsed": false
   },
   "outputs": [],
   "source": [
    "inds = ['T', 'L', 'with_leads', 'orbital', 'g', 'alpha', 'mu', 'a']\n",
    "kdims = [d.T, d.L, 'infinite leads', 'orbital', d.g, d.alpha, d.mu, d.a]\n",
    "gb = df.groupby(inds)\n",
    "groups = dict(list(gb))\n",
    "\n",
    "def current_curve(T, L, leads, orbital, g, alpha, mu, a):\n",
    "    gr = groups[(T, L, leads, orbital, g, alpha, mu, a)]\n",
    "    return hv.Path((gr['B_x'], gr['current_c']), kdims=[d.B, d.I_c])[:, 0:df['current_c'].max()]\n",
    "\n",
    "def phase_curve(T, L, leads, orbital, g, alpha, mu, a):\n",
    "    gr = groups[(T, L, leads, orbital, g, alpha, mu, a)]\n",
    "    return hv.Path((gr['B_x'], gr['phase_c']), kdims=[d.B, d.phi_c])[:, -np.pi:np.pi]\n",
    "\n",
    "kdims = [d.T, d.L, hv.Dimension('leads', values=[True, False]), \n",
    "         hv.Dimension('orbital', values=[True, False]),\n",
    "         d.g, d.alpha, d.mu, d.a]\n",
    "\n",
    "hv.DynamicMap(current_curve, kdims=kdims) + hv.DynamicMap(phase_curve, kdims=kdims)"
   ]
  },
  {
   "cell_type": "markdown",
   "metadata": {},
   "source": [
    "# Current phase relation, $\\phi$ vs $I$\n",
    "Adjust `zoom` slider to change the `y`-range of the plot."
   ]
  },
  {
   "cell_type": "code",
   "execution_count": null,
   "metadata": {
    "collapsed": false,
    "scrolled": false
   },
   "outputs": [],
   "source": [
    "%%opts Path [aspect='square']\n",
    "inds = ['T', 'L', 'with_leads', 'orbital', 'g', 'alpha', 'mu', 'a']\n",
    "kdims = [d.T, d.L, 'infinite leads', 'orbital', d.g, d.alpha, d.mu, d.a]\n",
    "gb = df.groupby(inds)\n",
    "groups = dict(list(gb))\n",
    "\n",
    "def current_curve(B_x, T, L, leads, orbital, g, alpha, mu, a, zoom):\n",
    "    gr = groups[(T, L, leads, orbital, g, alpha, mu, a)]\n",
    "    gr = gr[gr['B_x'] == B_x]\n",
    "    I_max = df['current_c'].max()\n",
    "    return hv.Path((np.array(gr['phases'])[0], np.array(gr['currents'])[0]), kdims=[d.B, d.I_c])[:, -zoom:zoom]\n",
    "\n",
    "kdims = [d.B, d.T, d.L, hv.Dimension('leads', values=[True, False]), \n",
    "         hv.Dimension('orbital', values=[True, False]), d.g, d.alpha, \n",
    "         d.mu, d.a, hv.Dimension('zoom', values=[10, 20, 40, 80, 160, 200])]\n",
    "\n",
    "hv.DynamicMap(current_curve, kdims=kdims)"
   ]
  }
 ],
 "metadata": {
  "kernelspec": {
   "display_name": "Python 3",
   "language": "python",
   "name": "python3"
  },
  "language_info": {
   "codemirror_mode": {
    "name": "ipython",
    "version": 3
   },
   "file_extension": ".py",
   "mimetype": "text/x-python",
   "name": "python",
   "nbconvert_exporter": "python",
   "pygments_lexer": "ipython3",
   "version": "3.5.2"
  }
 },
 "nbformat": 4,
 "nbformat_minor": 0
}
