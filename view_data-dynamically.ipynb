{
 "cells": [
  {
   "cell_type": "markdown",
   "metadata": {},
   "source": [
    "# Download the datafile [here](https://www.dropbox.com/s/0r508fymxtnepuz/all_data.hdf?dl=0) and place in the same folder as this notebook."
   ]
  },
  {
   "cell_type": "markdown",
   "metadata": {},
   "source": [
    "# [and here](https://www.dropbox.com/s/cyaxqukd89sqfe6/all_data_square.hdf?dl=0) for the data with a squared wire"
   ]
  },
  {
   "cell_type": "code",
   "execution_count": null,
   "metadata": {
    "collapsed": false
   },
   "outputs": [],
   "source": [
    "from types import SimpleNamespace\n",
    "import numpy as np\n",
    "import holoviews as hv\n",
    "import pandas as pd\n",
    "hv.notebook_extension()\n",
    "%opts Scatter (color='b') \n",
    "df = pd.read_hdf('all_data.hdf')\n",
    "df_square = pd.read_hdf('all_data_square.hdf')\n",
    "d = SimpleNamespace(phi=hv.Dimension(r'$\\phi$', unit='rad'),\n",
    "                    phi_c=hv.Dimension(r'$\\phi_c$', unit='rad'),\n",
    "                    I=hv.Dimension('$I$', unit=r'meV / $\\Phi_0$'),\n",
    "                    I_c=hv.Dimension('$I_c$', unit=r'meV / $\\Phi_0$'),\n",
    "                    B=hv.Dimension('$B$', unit='T', values=df['B_x'].unique().tolist()),\n",
    "                    T=hv.Dimension('$T$', unit='K', values=df['T'].unique().tolist()), \n",
    "                    L=hv.Dimension('$L$', unit='nm', values=df['L'].unique().tolist()), \n",
    "                    g=hv.Dimension('$g$-factor', values=df['g'].unique().tolist()), \n",
    "                    alpha=hv.Dimension(r'$\\alpha$', unit='mev nm', values=df['alpha'].unique().tolist()), \n",
    "                    mu=hv.Dimension(r'$\\mu$', unit='meV', values=df['mu'].unique().tolist()), \n",
    "                    a=hv.Dimension('$a$', unit='nm', values=df['a'].unique().tolist()))\n",
    "\n",
    "pd.set_option('display.max_columns', None)"
   ]
  },
  {
   "cell_type": "markdown",
   "metadata": {},
   "source": [
    "# Critical current and phase, $B_x$ vs $I_c$ and $B_x$ vs $\\phi_c$"
   ]
  },
  {
   "cell_type": "code",
   "execution_count": null,
   "metadata": {
    "collapsed": false
   },
   "outputs": [],
   "source": [
    "def dynamic_map(df):\n",
    "    gb = df.groupby(['T', 'L', 'with_leads', 'orbital', 'g', 'alpha', 'mu', 'a'])\n",
    "    groups = dict(list(gb))\n",
    "\n",
    "    def current_curve(T, L, leads, orbital, g, alpha, mu, a, zoom):\n",
    "        gr = groups[(T, L, leads, orbital, g, alpha, mu, a)]\n",
    "        return hv.Path((gr['B_x'], gr['current_c']), kdims=[d.B, d.I_c])[:, 0:zoom]\n",
    "\n",
    "    def phase_curve(T, L, leads, orbital, g, alpha, mu, a, zoom):\n",
    "        gr = groups[(T, L, leads, orbital, g, alpha, mu, a)]\n",
    "        return hv.Path((gr['B_x'], gr['phase_c']), kdims=[d.B, d.phi_c])[:, -np.pi:np.pi]\n",
    "\n",
    "    kdims = [d.T, d.L, hv.Dimension('leads', values=[True, False]), \n",
    "             hv.Dimension('orbital', values=[True, False]),\n",
    "             d.g, d.alpha, d.mu, d.a, hv.Dimension('zoom', values=[5, 10, 25, 50, 75, 100, 200])]\n",
    "\n",
    "    return hv.DynamicMap(current_curve, kdims=kdims) + hv.DynamicMap(phase_curve, kdims=kdims)\n",
    "\n",
    "(dynamic_map(df) + dynamic_map(df_square)).cols(2)"
   ]
  },
  {
   "cell_type": "markdown",
   "metadata": {},
   "source": [
    "# Current phase relation, $\\phi$ vs $I$\n",
    "Adjust `zoom` slider to change the `y`-range of the plot."
   ]
  },
  {
   "cell_type": "code",
   "execution_count": null,
   "metadata": {
    "collapsed": false,
    "scrolled": false
   },
   "outputs": [],
   "source": [
    "%%opts Path [aspect='square']\n",
    "def dynamic_map2(df):\n",
    "    gb = df.groupby(['T', 'L', 'with_leads', 'orbital', 'g', 'alpha', 'mu', 'a'])\n",
    "    groups = dict(list(gb))\n",
    "\n",
    "    def current_curve(B_x, T, L, leads, orbital, g, alpha, mu, a, zoom):\n",
    "        gr = groups[(T, L, leads, orbital, g, alpha, mu, a)]\n",
    "        gr = gr[gr['B_x'] == B_x]\n",
    "        phases = np.array(gr['phases'])[0]\n",
    "        currents = np.array(gr['currents'])[0]\n",
    "        return (hv.Path((phases, currents), kdims=[d.phi, d.I_c])[:, -zoom:zoom] *\n",
    "                hv.Scatter((gr['phase_c'], gr['current_c'])))\n",
    "\n",
    "    kdims = [d.B, d.T, d.L, hv.Dimension('leads', values=[True, False]), \n",
    "             hv.Dimension('orbital', values=[True, False]), d.g, d.alpha, \n",
    "             d.mu, d.a, hv.Dimension('zoom', values=[5, 10, 20, 40, 80, 160, 200])]\n",
    "\n",
    "    return hv.DynamicMap(current_curve, kdims=kdims)\n",
    "\n",
    "dynamic_map2(df) * dynamic_map2(df_square)"
   ]
  }
 ],
 "metadata": {
  "kernelspec": {
   "display_name": "Python 3",
   "language": "python",
   "name": "python3"
  },
  "language_info": {
   "codemirror_mode": {
    "name": "ipython",
    "version": 3
   },
   "file_extension": ".py",
   "mimetype": "text/x-python",
   "name": "python",
   "nbconvert_exporter": "python",
   "pygments_lexer": "ipython3",
   "version": "3.5.2"
  }
 },
 "nbformat": 4,
 "nbformat_minor": 0
}
