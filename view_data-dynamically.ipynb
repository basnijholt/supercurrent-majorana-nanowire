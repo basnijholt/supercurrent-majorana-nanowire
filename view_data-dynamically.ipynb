{
 "cells": [
  {
   "cell_type": "code",
   "execution_count": null,
   "metadata": {
    "collapsed": false
   },
   "outputs": [],
   "source": [
    "from types import SimpleNamespace\n",
    "import numpy as np\n",
    "import holoviews as hv\n",
    "import pandas as pd\n",
    "hv.notebook_extension()\n",
    "%opts Scatter (color='b') \n",
    "d = SimpleNamespace(phi=hv.Dimension(r'$\\phi$', unit='rad'),\n",
    "                    phi_c=hv.Dimension(r'$\\phi_c$', unit='rad'),\n",
    "                    I=hv.Dimension('$I$', unit=r'meV / $\\Phi_0$'),\n",
    "                    I_c=hv.Dimension('$I_c$', unit=r'meV / $\\Phi_0$'),\n",
    "                    B=hv.Dimension('$B$', unit='T'),\n",
    "                    T=hv.Dimension('$T$', unit='K'), \n",
    "                    L=hv.Dimension('$L$', unit='nm'), \n",
    "                    g=hv.Dimension('$g$-factor'), \n",
    "                    alpha=hv.Dimension(r'$\\alpha$', unit='mev nm'), \n",
    "                    mu=hv.Dimension(r'$\\mu$', unit='meV'), \n",
    "                    a=hv.Dimension('$a$', unit='nm'))\n",
    "\n",
    "pd.set_option('display.max_columns', None)"
   ]
  },
  {
   "cell_type": "code",
   "execution_count": null,
   "metadata": {
    "collapsed": false
   },
   "outputs": [],
   "source": [
    "df = pd.read_hdf('all_data.hdf')\n",
    "inds = ['T', 'L', 'with_leads', 'orbital', 'g', 'alpha', 'mu', 'a']\n",
    "kdims = [d.T, d.L, 'infinite leads', 'orbital', d.g, d.alpha, d.mu, d.a]\n",
    "gb = df.groupby(inds)\n",
    "groups = dict(list(gb))"
   ]
  },
  {
   "cell_type": "code",
   "execution_count": null,
   "metadata": {
    "collapsed": false,
    "scrolled": false
   },
   "outputs": [],
   "source": [
    "def current_curve(T, L, leads, orbital, g, alpha, mu, a):\n",
    "    gr = groups[(T, L, leads, orbital, g, alpha, mu, a)]\n",
    "    return hv.Path((gr['B_x'], gr['current_c']), kdims=[d.B, d.I_c])[:, 0:df['current_c'].max()]\n",
    "\n",
    "def phase_curve(T, L, leads, orbital, g, alpha, mu, a):\n",
    "    gr = groups[(T, L, leads, orbital, g, alpha, mu, a)]\n",
    "    return hv.Path((gr['B_x'], gr['phase_c']), kdims=[d.B, d.phi_c])[:, np.pi:np.pi]\n",
    "\n",
    "kdims = [hv.Dimension('T', values=df['T'].unique().tolist()),\n",
    "         hv.Dimension('L', values=df['L'].unique().tolist()),\n",
    "         hv.Dimension('leads', values=[True, False]),\n",
    "         hv.Dimension('orbital', values=[True, False]),\n",
    "         hv.Dimension('g', values=df['g'].unique().tolist()),\n",
    "         hv.Dimension('alpha', values=df['alpha'].unique().tolist()),\n",
    "         hv.Dimension('mu', values=df['mu'].unique().tolist()),\n",
    "         hv.Dimension('a', values=[8])]\n",
    "\n",
    "hv.DynamicMap(current_curve, kdims=kdims) + hv.DynamicMap(phase_curve, kdims=kdims)"
   ]
  }
 ],
 "metadata": {
  "kernelspec": {
   "display_name": "Python 3",
   "language": "python",
   "name": "python3"
  },
  "language_info": {
   "codemirror_mode": {
    "name": "ipython",
    "version": 3
   },
   "file_extension": ".py",
   "mimetype": "text/x-python",
   "name": "python",
   "nbconvert_exporter": "python",
   "pygments_lexer": "ipython3",
   "version": "3.5.2"
  }
 },
 "nbformat": 4,
 "nbformat_minor": 0
}
