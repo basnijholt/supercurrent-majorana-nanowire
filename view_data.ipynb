{
 "cells": [
  {
   "cell_type": "code",
   "execution_count": null,
   "metadata": {
    "collapsed": false
   },
   "outputs": [],
   "source": [
    "from types import SimpleNamespace\n",
    "import numpy as np\n",
    "import deepdish as dd\n",
    "import os\n",
    "import holoviews as hv\n",
    "import xarray as xr\n",
    "hv.notebook_extension()\n",
    "%opts Scatter (color='b')"
   ]
  },
  {
   "cell_type": "markdown",
   "metadata": {},
   "source": [
    "# No disorder"
   ]
  },
  {
   "cell_type": "code",
   "execution_count": null,
   "metadata": {
    "collapsed": false
   },
   "outputs": [],
   "source": [
    "path = './'\n",
    "files = [f for f in os.listdir(path) if f.startswith('no_disorder_B_vs_I_c')]\n",
    "\n",
    "fs = {f: dd.io.load(path + f) for f in files}\n",
    "\n",
    "hm_I = {}\n",
    "hm_phases = {}\n",
    "\n",
    "for fname, data in fs.items():\n",
    "    wire_params = data['wire_params']\n",
    "    p = data['p']\n",
    "    key = (wire_params['a'], wire_params['L'], data['T'],\n",
    "           p.mu, wire_params['with_leads'], p.orbital, p.g, p.alpha)\n",
    "    I_cs = data['I_cs']\n",
    "    Bs = data['B_xs']\n",
    "    phases = data['phases']\n",
    "    \n",
    "    hm_I[key] = hv.Curve((Bs, I_cs), kdims=[hv.Dimension('$B$', unit='T')], vdims=['$I$'])\n",
    "    hm_phases[key] = hv.Curve((Bs, phases), kdims=[hv.Dimension('$B$', unit='T')],\n",
    "                              vdims=[hv.Dimension('$\\phi$', unit='rad')])\n",
    "    \n",
    "\n",
    "kdims = [hv.Dimension('$a$', unit='nm'),\n",
    "                      hv.Dimension('$L$', unit='nm'),\n",
    "                      hv.Dimension('$T$', unit='K'),\n",
    "                      hv.Dimension('$\\mu$', unit='meV'),\n",
    "                      'infinite leads', 'orbital', 'g-factor', 'alpha']\n",
    "\n",
    "no_disorder_I = hv.HoloMap(hm_I, kdims=kdims)\n",
    "no_disorder_phases = hv.HoloMap(hm_phases, kdims=kdims)"
   ]
  },
  {
   "cell_type": "code",
   "execution_count": null,
   "metadata": {
    "collapsed": false
   },
   "outputs": [],
   "source": [
    "table = no_disorder_I.table()"
   ]
  },
  {
   "cell_type": "code",
   "execution_count": null,
   "metadata": {
    "collapsed": false
   },
   "outputs": [],
   "source": [
    "table.dframe()"
   ]
  },
  {
   "cell_type": "code",
   "execution_count": null,
   "metadata": {
    "collapsed": false
   },
   "outputs": [],
   "source": [
    "(no_disorder_I + no_disorder_phases.select(B=(0, 1))).cols(1)"
   ]
  },
  {
   "cell_type": "code",
   "execution_count": null,
   "metadata": {
    "collapsed": false
   },
   "outputs": [],
   "source": [
    "len(files)"
   ]
  },
  {
   "cell_type": "markdown",
   "metadata": {},
   "source": [
    "# Disorder"
   ]
  },
  {
   "cell_type": "code",
   "execution_count": null,
   "metadata": {
    "collapsed": false
   },
   "outputs": [],
   "source": [
    "def disorder_B_vs_I(fname):\n",
    "    file = dd.io.load(fname)\n",
    "\n",
    "    print(file.keys())\n",
    "\n",
    "    p = file['p']\n",
    "    T = file['T']\n",
    "    tol = file['tol']\n",
    "    constants = file['constants']\n",
    "    Bs = file['B_xs']\n",
    "    phases = file['phases']\n",
    "    wire_params = file['wire_params']\n",
    "    I_c = file['I_cs']\n",
    "    disorders = file['disorders']\n",
    "    salts = file['salts']\n",
    "\n",
    "    curves = {}\n",
    "    for i, realisation in enumerate(I_c):\n",
    "        for disorder, I_cs in zip(disorders, realisation):\n",
    "            curves[(i, disorder)] = hv.Curve((Bs, I_cs), kdims=[hv.Dimension('$B$', unit='$T$')], vdims=['$I_c$'])\n",
    "    hm = hv.HoloMap(curves, kdims=['salt', 'disorder'])\n",
    "\n",
    "    return hm\n",
    "\n",
    "\n",
    "def collapse_salts(hm):\n",
    "    collapsed = hm.collapse('salt', function=np.mean, spreadfn=np.std)\n",
    "    disorder = collapsed * collapsed.table().to.spread(['$B$', '$I_c$'], '$I_c$_std')\n",
    "    return disorder"
   ]
  },
  {
   "cell_type": "code",
   "execution_count": null,
   "metadata": {
    "collapsed": false,
    "scrolled": false
   },
   "outputs": [],
   "source": [
    "path = './'\n",
    "files = [f for f in os.listdir(path) if f.startswith('disorder_B_vs_I_c')]\n",
    "\n",
    "fs = {f: dd.io.load(path + f) for f in files}\n",
    "\n",
    "hm = {}\n",
    "\n",
    "    \n",
    "for fname, data in fs.items():\n",
    "    disorders = data['disorders']\n",
    "    I_cs = data['I_cs']\n",
    "    Bs = data['B_xs']\n",
    "    wire_params = data['wire_params']\n",
    "    p = data['p']\n",
    "    dims = dict(kdims=[hv.Dimension('$B$', unit='$T$')], vdims=['$I_c$'])\n",
    "\n",
    "    for disorder, I_cs, std in zip(disorders, I_cs.mean(axis=0), I_cs.std(axis=0)):\n",
    "        key = (wire_params['a'], wire_params['L'], data['T'], \n",
    "               p.mu, disorder, wire_params['with_leads'], p.orbital, p.g)\n",
    "        val = hv.Spread((Bs, I_cs, std), kdims=[hv.Dimension('$B$', unit='$T$')], vdims=[hv.Dimension('$I_c$'), 'err'])\n",
    "        val *= hv.Path((Bs, I_cs), kdims=[hv.Dimension('$B$', unit='$T$'), '$I_c$'])\n",
    "        hm[key] = val[:, 0:100]\n",
    "\n",
    "\n",
    "hv.HoloMap(hm, kdims=[hv.Dimension('$a$', unit='nm'),\n",
    "                      hv.Dimension('$L$', unit='nm'),\n",
    "                      hv.Dimension('$T$', unit='K'),\n",
    "                      hv.Dimension('$\\mu$', unit='meV'),\n",
    "                      hv.Dimension('disorder', unit='meV'),\n",
    "                      'infinite leads', 'orbital', 'zeeman']).select(T=1)"
   ]
  },
  {
   "cell_type": "code",
   "execution_count": null,
   "metadata": {
    "collapsed": false
   },
   "outputs": [],
   "source": [
    "len(files)"
   ]
  },
  {
   "cell_type": "markdown",
   "metadata": {},
   "source": [
    "# Mean free path $g \\sim N_{ch} / (1 + L / \\lambda_{MFP})$\n",
    "Check with Carlo's review paper on random matrix theory"
   ]
  },
  {
   "cell_type": "code",
   "execution_count": null,
   "metadata": {
    "collapsed": false
   },
   "outputs": [],
   "source": [
    "def mfp_hms(fname):\n",
    "    mfp = dd.io.load(fname)\n",
    "    disorders = mfp['disorders']\n",
    "    conductances = xr.DataArray(mfp['conductances'], dims=['length', 'salts', 'disorder'])\n",
    "    Ls = np.array(mfp['Ls'])\n",
    "    num_propagating = np.unique(mfp['num_propagating'])\n",
    "    assert len(num_propagating) == 1\n",
    "\n",
    "    hm_dict = {}\n",
    "    for L, conductance in zip(Ls, conductances):\n",
    "        conductance_mean = conductance.mean(dim='salts')\n",
    "        curve = hv.Curve((disorders, conductance_mean), kdims=['disorder'], vdims=['conductance'])\n",
    "        spread = hv.Spread((disorders, conductance_mean, conductance.std(dim='salts')))\n",
    "        scatter = hv.Scatter((disorders, conductance_mean))\n",
    "        hm_dict[L] = curve * spread * scatter\n",
    "    hm_disorder_vs_g = hv.HoloMap(hm_dict, kdims=['L'])\n",
    "\n",
    "    hm_dict = {}\n",
    "    for disorder, resistance in zip(disorders, (1 / conductances.T)):\n",
    "        resistance_mean = resistance.mean(dim='salts')\n",
    "        curve = hv.Curve((Ls, resistance_mean), kdims=['L'], vdims=['resistance'])\n",
    "        spread = hv.Spread((Ls, resistance_mean, resistance.std(dim='salts')))\n",
    "        scatter = hv.Scatter((Ls, resistance_mean))\n",
    "        hm_dict[disorder] = curve * spread * scatter\n",
    "    hm_L_vs_R = hv.HoloMap(hm_dict, kdims=['disorder'])\n",
    "\n",
    "    fits = np.squeeze([np.polyfit(Ls, resistance, deg=1) for resistance in (1/conductances).mean('salts').transpose('disorder', 'length')])\n",
    "    polyfits = [np.poly1d(fit)(Ls) for fit in fits]\n",
    "    l_mfps = 1 / (num_propagating[0] * fits[:, 0])\n",
    "    \n",
    "    dims = dict(kdims=['L'], vdims=['resistance'])\n",
    "    hm_fit = hv.HoloMap({disorder: hv.Curve((Ls, R), **dims) for disorder, R in zip(disorders, polyfits)}, \n",
    "           kdims=['disorder'])\n",
    "          \n",
    "    print(\"\")\n",
    "    print(\"with {} modes at {} meV\".format(num_propagating[0], mfp['p'].mu))\n",
    "    for disorder, l_mfp in zip(disorders, l_mfps):\n",
    "        print(\"Disorder strength: {} meV and mean free path: {:.0f} nm\".format(disorder, l_mfp))\n",
    "    \n",
    "    return hm_disorder_vs_g, hm_L_vs_R, hm_fit\n",
    "\n",
    "hm_disorder_vs_g_40meV, hm_L_vs_R_40meV, hm_fit_40meV = mfp_hms('data/mfp_mu-40meV.h5')\n",
    "hm_disorder_vs_g_20meV, hm_L_vs_R_20meV, hm_fit_20meV = mfp_hms('data/mfp_mu-20meV.h5')\n",
    "hm_disorder_vs_g_15meV, hm_L_vs_R_15meV, hm_fit_15meV = mfp_hms('data/mfp_mu-15meV.h5')\n",
    "hm_disorder_vs_g_6meV, hm_L_vs_R_6meV, hm_fit_6meV = mfp_hms('data/mfp_mu-6meV.h5')"
   ]
  },
  {
   "cell_type": "code",
   "execution_count": null,
   "metadata": {
    "collapsed": false
   },
   "outputs": [],
   "source": [
    "hm_disorder_vs_g_15meV.relabel(\"mu = 15 meV, 6 modes\") + hm_disorder_vs_g_6meV.relabel(\"mu = 6 meV, 2 modes\")"
   ]
  },
  {
   "cell_type": "code",
   "execution_count": null,
   "metadata": {
    "collapsed": false
   },
   "outputs": [],
   "source": [
    "((hm_L_vs_R_15meV * hm_fit_15meV).relabel(\"mu = 15 meV, 6 modes\")  +\n",
    " (hm_L_vs_R_6meV * hm_fit_6meV).relabel(\"mu = 6 meV, 2 modes\"))"
   ]
  },
  {
   "cell_type": "markdown",
   "metadata": {},
   "source": [
    "# $T$ vs $I_c$ with disorder"
   ]
  },
  {
   "cell_type": "code",
   "execution_count": null,
   "metadata": {
    "collapsed": false
   },
   "outputs": [],
   "source": [
    "def T_vs_Ic(fname):\n",
    "    dat = dd.io.load(fname)\n",
    "\n",
    "    Ts = dat['T']\n",
    "    I_cs = xr.DataArray(dat['I_cs'], dims=['T', 'disorder', 'salts'])\n",
    "    disorders = dat['disorders']\n",
    "\n",
    "    I_cs_mean = I_cs.mean('salts')\n",
    "\n",
    "    dims = dict(kdims=['$T$'], vdims=['$I_c$'])\n",
    "    hm = hv.HoloMap({disorder: hv.Scatter((Ts, I), **dims) for disorder, I in zip(disorders, I_cs_mean.T)}, \n",
    "               kdims=['disorder'])\n",
    "    return hm\n",
    "\n",
    "(T_vs_Ic('data/T_vs_Ic_L_600.h5').relabel(\"mu = 15 meV, 12 modes\") +\n",
    " T_vs_Ic('data/T_vs_Ic_L_600_mu-6meV.h5').relabel(\"mu = 6 meV, 4 modes\") )"
   ]
  }
 ],
 "metadata": {
  "kernelspec": {
   "display_name": "Python 3",
   "language": "python",
   "name": "python3"
  },
  "language_info": {
   "codemirror_mode": {
    "name": "ipython",
    "version": 3
   },
   "file_extension": ".py",
   "mimetype": "text/x-python",
   "name": "python",
   "nbconvert_exporter": "python",
   "pygments_lexer": "ipython3",
   "version": "3.5.2"
  }
 },
 "nbformat": 4,
 "nbformat_minor": 0
}
