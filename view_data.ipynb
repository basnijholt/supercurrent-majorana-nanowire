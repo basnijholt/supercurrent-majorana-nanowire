{
 "cells": [
  {
   "cell_type": "code",
   "execution_count": null,
   "metadata": {
    "collapsed": false
   },
   "outputs": [],
   "source": [
    "from types import SimpleNamespace\n",
    "import numpy as np\n",
    "import deepdish as dd\n",
    "import os\n",
    "import holoviews as hv\n",
    "import xarray as xr\n",
    "import pandas as pd\n",
    "hv.notebook_extension()\n",
    "%opts Scatter (color='b') \n",
    "d = SimpleNamespace(phi=hv.Dimension(r'$\\phi$', unit='rad'),\n",
    "                    phi_c=hv.Dimension(r'$\\phi_c$', unit='rad'),\n",
    "                    I=hv.Dimension('$I$', unit=r'meV / $\\Phi_0$'),\n",
    "                    I_c=hv.Dimension('$I_c$', unit=r'meV / $\\Phi_0$'),\n",
    "                    B=hv.Dimension('$B$', unit='T'),\n",
    "                    T=hv.Dimension('$T$', unit='K'), \n",
    "                    L=hv.Dimension('$L$', unit='nm'), \n",
    "                    g=hv.Dimension('$g$-factor'), \n",
    "                    alpha=hv.Dimension(r'$\\alpha$', unit='mev nm'), \n",
    "                    mu=hv.Dimension(r'$\\mu$', unit='meV'), \n",
    "                    a=hv.Dimension('$a$', unit='nm'))\n",
    "\n",
    "pd.set_option('display.max_columns', None)"
   ]
  },
  {
   "cell_type": "markdown",
   "metadata": {},
   "source": [
    "# No disorder"
   ]
  },
  {
   "cell_type": "code",
   "execution_count": null,
   "metadata": {
    "collapsed": false
   },
   "outputs": [],
   "source": [
    "# Load all data from deepdish and convert it to pd.DataFrame\n",
    "path = './'\n",
    "files = [f for f in os.listdir(path) if f.startswith('no_disorder_B_vs_I_c') and f.endswith('.h5')]\n",
    "for fname in files:\n",
    "    fname_new = fname[:-3] + '.hdf'\n",
    "    if not os.path.isfile(fname_new):\n",
    "        x = dd.io.load(fname)\n",
    "\n",
    "        df1 = pd.DataFrame(x['vals'], columns=['T', 'B_x', 'orbital', 'g', 'alpha', 'mu'])\n",
    "        df2 = pd.DataFrame((x['current_phase']))\n",
    "        df = pd.concat([df1, df2], axis=1)\n",
    "        x['constants']['g'] = None # somehow this slipped in\n",
    "        const_dims = ['wire_params', 'git_hash', 'max_frequencies', 'tol', 'constants', 'p']\n",
    "        for dim in const_dims:\n",
    "            if isinstance(x[dim], dict):\n",
    "                dic = {key: val for key, val in x[dim].items() if val is not None}\n",
    "                df = df.assign(**dic)\n",
    "            else:\n",
    "                df[dim] = x[dim]\n",
    "        df.to_hdf(fname_new, 'brute', mode='w')\n",
    "    else:\n",
    "        print('{} already exists'.format(fname_new))"
   ]
  },
  {
   "cell_type": "code",
   "execution_count": null,
   "metadata": {
    "collapsed": false
   },
   "outputs": [],
   "source": [
    "# Combine all pd.DataFrames into one\n",
    "path = 'data/'\n",
    "files = [f for f in os.listdir(path) if f.startswith('no_disorder_B_vs_I_c') and f.endswith('.hdf')]\n",
    "df = pd.DataFrame()\n",
    "for fname in files:\n",
    "    df = df.append(pd.read_hdf(path + fname), ignore_index=True)\n",
    "\n",
    "df.to_hdf('all_data.hdf', 'all_data', mode='w')"
   ]
  },
  {
   "cell_type": "code",
   "execution_count": null,
   "metadata": {
    "collapsed": false,
    "scrolled": false
   },
   "outputs": [],
   "source": [
    "%%opts Path {+axiswise} [show_grid=True]\n",
    "\n",
    "inds = ['T', 'L', 'with_leads', 'orbital', 'g', 'alpha', 'mu', 'a']\n",
    "kdims = [d.T, d.L, 'infinite leads', 'orbital', d.g, d.alpha, d.mu, d.a]\n",
    "\n",
    "gb = df.groupby(inds)\n",
    "\n",
    "currents = hv.HoloMap({key: hv.Path((val['B_x'], val['current_c']), kdims=[d.B, d.I_c])\n",
    "                       for key, val in gb}, kdims=kdims)\n",
    "\n",
    "phases = hv.HoloMap({key: hv.Path((val['B_x'], val['phase_c']), kdims=[d.B, d.phi_c])\n",
    "                     for key, val in gb}, kdims=kdims)\n",
    "\n",
    "(currents + phases)#.select(mu=50)"
   ]
  },
  {
   "cell_type": "code",
   "execution_count": null,
   "metadata": {
    "collapsed": false,
    "scrolled": false
   },
   "outputs": [],
   "source": [
    "groups = dict(list(gb))\n",
    "T = 0.1\n",
    "L = 80\n",
    "with_leads = True\n",
    "orbital = True\n",
    "g = 50\n",
    "alpha = 20\n",
    "mu = 50\n",
    "a = 8\n",
    "key = (T, L, with_leads, orbital, g, alpha, mu, a)\n",
    "\n",
    "curves = {row['B_x']: hv.Curve((row['phases'], row['currents']), kdims=[d.phi], vdims=[d.I]) *\n",
    "          hv.Scatter((row['phase_c'], row['current_c'])) for _, row in groups[key].iterrows()}\n",
    "\n",
    "hm = hv.HoloMap(curves, kdims=[d.B])\n",
    "\n",
    "hm + currents[key] * hv.HoloMap({B: hv.VLine(B) for B in df['B_x'].unique()}, kdims=[d.B])"
   ]
  },
  {
   "cell_type": "markdown",
   "metadata": {},
   "source": [
    "# Disorder"
   ]
  },
  {
   "cell_type": "code",
   "execution_count": null,
   "metadata": {
    "collapsed": false,
    "scrolled": false
   },
   "outputs": [],
   "source": [
    "path = './'\n",
    "files = [f for f in os.listdir(path) if f.startswith('disorder_B_vs_I_c')]\n",
    "\n",
    "fs = {f: dd.io.load(path + f) for f in files}\n",
    "\n",
    "hm = {}\n",
    "\n",
    "    \n",
    "for fname, data in fs.items():\n",
    "    disorders = data['disorders']\n",
    "    I_cs = data['I_cs']\n",
    "    Bs = data['B_xs']\n",
    "    wire_params = data['wire_params']\n",
    "    p = data['p']\n",
    "    dims = dict(kdims=[hv.Dimension('$B$', unit='$T$')], vdims=['$I_c$'])\n",
    "\n",
    "    for disorder, I_cs, std in zip(disorders, I_cs.mean(axis=0), I_cs.std(axis=0)):\n",
    "        key = (wire_params['a'], wire_params['L'], data['T'], \n",
    "               p.mu, disorder, wire_params['with_leads'], p.orbital, p.g)\n",
    "        val = hv.Spread((Bs, I_cs, std), kdims=[hv.Dimension('$B$', unit='$T$')], vdims=[hv.Dimension('$I_c$'), 'err'])\n",
    "        val *= hv.Path((Bs, I_cs), kdims=[hv.Dimension('$B$', unit='$T$'), '$I_c$'])\n",
    "        hm[key] = val[:, 0:100]\n",
    "\n",
    "\n",
    "hv.HoloMap(hm, kdims=[hv.Dimension('$a$', unit='nm'),\n",
    "                      hv.Dimension('$L$', unit='nm'),\n",
    "                      hv.Dimension('$T$', unit='K'),\n",
    "                      hv.Dimension('$\\mu$', unit='meV'),\n",
    "                      hv.Dimension('disorder', unit='meV'),\n",
    "                      'infinite leads', 'orbital', 'zeeman']).select(T=1)"
   ]
  },
  {
   "cell_type": "code",
   "execution_count": null,
   "metadata": {
    "collapsed": false
   },
   "outputs": [],
   "source": [
    "len(files)"
   ]
  },
  {
   "cell_type": "markdown",
   "metadata": {},
   "source": [
    "# Mean free path $g \\sim N_{ch} / (1 + L / \\lambda_{MFP})$\n",
    "Check with Carlo's review paper on random matrix theory"
   ]
  },
  {
   "cell_type": "code",
   "execution_count": null,
   "metadata": {
    "collapsed": false
   },
   "outputs": [],
   "source": [
    "def mfp_hms(fname):\n",
    "    mfp = dd.io.load(fname)\n",
    "    disorders = mfp['disorders']\n",
    "    conductances = xr.DataArray(mfp['conductances'], dims=['length', 'salts', 'disorder'])\n",
    "    Ls = np.array(mfp['Ls'])\n",
    "    num_propagating = np.unique(mfp['num_propagating'])\n",
    "    assert len(num_propagating) == 1\n",
    "\n",
    "    hm_dict = {}\n",
    "    for L, conductance in zip(Ls, conductances):\n",
    "        conductance_mean = conductance.mean(dim='salts')\n",
    "        curve = hv.Curve((disorders, conductance_mean), kdims=['disorder'], vdims=['conductance'])\n",
    "        spread = hv.Spread((disorders, conductance_mean, conductance.std(dim='salts')))\n",
    "        scatter = hv.Scatter((disorders, conductance_mean))\n",
    "        hm_dict[L] = curve * spread * scatter\n",
    "    hm_disorder_vs_g = hv.HoloMap(hm_dict, kdims=['L'])\n",
    "\n",
    "    hm_dict = {}\n",
    "    for disorder, resistance in zip(disorders, (1 / conductances.T)):\n",
    "        resistance_mean = resistance.mean(dim='salts')\n",
    "        curve = hv.Curve((Ls, resistance_mean), kdims=['L'], vdims=['resistance'])\n",
    "        spread = hv.Spread((Ls, resistance_mean, resistance.std(dim='salts')))\n",
    "        scatter = hv.Scatter((Ls, resistance_mean))\n",
    "        hm_dict[disorder] = curve * spread * scatter\n",
    "    hm_L_vs_R = hv.HoloMap(hm_dict, kdims=['disorder'])\n",
    "\n",
    "    fits = np.squeeze([np.polyfit(Ls, resistance, deg=1) for resistance in (1/conductances).mean('salts').transpose('disorder', 'length')])\n",
    "    polyfits = [np.poly1d(fit)(Ls) for fit in fits]\n",
    "    l_mfps = 1 / (num_propagating[0] * fits[:, 0])\n",
    "    \n",
    "    dims = dict(kdims=['L'], vdims=['resistance'])\n",
    "    hm_fit = hv.HoloMap({disorder: hv.Curve((Ls, R), **dims) for disorder, R in zip(disorders, polyfits)}, \n",
    "           kdims=['disorder'])\n",
    "          \n",
    "    print(\"\")\n",
    "    print(\"with {} modes at {} meV\".format(num_propagating[0], mfp['p'].mu))\n",
    "    for disorder, l_mfp in zip(disorders, l_mfps):\n",
    "        print(\"Disorder strength: {} meV and mean free path: {:.0f} nm\".format(disorder, l_mfp))\n",
    "    \n",
    "    return hm_disorder_vs_g, hm_L_vs_R, hm_fit\n",
    "\n",
    "hm_disorder_vs_g_40meV, hm_L_vs_R_40meV, hm_fit_40meV = mfp_hms('data/mfp_mu-40meV.h5')\n",
    "hm_disorder_vs_g_20meV, hm_L_vs_R_20meV, hm_fit_20meV = mfp_hms('data/mfp_mu-20meV.h5')\n",
    "hm_disorder_vs_g_15meV, hm_L_vs_R_15meV, hm_fit_15meV = mfp_hms('data/mfp_mu-15meV.h5')\n",
    "hm_disorder_vs_g_6meV, hm_L_vs_R_6meV, hm_fit_6meV = mfp_hms('data/mfp_mu-6meV.h5')"
   ]
  },
  {
   "cell_type": "code",
   "execution_count": null,
   "metadata": {
    "collapsed": false
   },
   "outputs": [],
   "source": [
    "hm_disorder_vs_g_15meV.relabel(\"mu = 15 meV, 6 modes\") + hm_disorder_vs_g_6meV.relabel(\"mu = 6 meV, 2 modes\")"
   ]
  },
  {
   "cell_type": "code",
   "execution_count": null,
   "metadata": {
    "collapsed": false
   },
   "outputs": [],
   "source": [
    "((hm_L_vs_R_15meV * hm_fit_15meV).relabel(\"mu = 15 meV, 6 modes\")  +\n",
    " (hm_L_vs_R_6meV * hm_fit_6meV).relabel(\"mu = 6 meV, 2 modes\"))"
   ]
  }
 ],
 "metadata": {
  "kernelspec": {
   "display_name": "Python 3",
   "language": "python",
   "name": "python3"
  },
  "language_info": {
   "codemirror_mode": {
    "name": "ipython",
    "version": 3
   },
   "file_extension": ".py",
   "mimetype": "text/x-python",
   "name": "python",
   "nbconvert_exporter": "python",
   "pygments_lexer": "ipython3",
   "version": "3.5.2"
  }
 },
 "nbformat": 4,
 "nbformat_minor": 0
}
