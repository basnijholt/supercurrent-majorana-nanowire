{
 "cells": [
  {
   "cell_type": "code",
   "execution_count": null,
   "metadata": {
    "collapsed": false
   },
   "outputs": [],
   "source": [
    "from types import SimpleNamespace\n",
    "import numpy as np\n",
    "import deepdish as dd\n",
    "import os\n",
    "import holoviews as hv\n",
    "import xarray as xr\n",
    "import pandas as pd\n",
    "hv.notebook_extension()\n",
    "%opts Scatter (color='b')\n",
    "d = SimpleNamespace(phi=hv.Dimension(r'$\\phi$', unit='rad'),\n",
    "                    phi_c=hv.Dimension(r'$\\phi_c$', unit='rad'),\n",
    "                    I=hv.Dimension('$I$', unit='?'),\n",
    "                    I_c=hv.Dimension('$I_c$', unit='?'),\n",
    "                    B=hv.Dimension('$B$', unit='T'),\n",
    "                    T=hv.Dimension('$T$', unit='K'), \n",
    "                    L=hv.Dimension('$L$', unit='nm'), \n",
    "                    g=hv.Dimension('$g$-factor'), \n",
    "                    alpha=hv.Dimension(r'$\\alpha$', unit='mev nm'), \n",
    "                    mu=hv.Dimension(r'$\\mu$', unit='meV'), \n",
    "                    a=hv.Dimension('$a$', unit='nm'))"
   ]
  },
  {
   "cell_type": "markdown",
   "metadata": {},
   "source": [
    "# No disorder"
   ]
  },
  {
   "cell_type": "code",
   "execution_count": null,
   "metadata": {
    "collapsed": false
   },
   "outputs": [],
   "source": [
    "# Load all data from deepdish\n",
    "path = './'\n",
    "files = [f for f in os.listdir(path) if f.startswith('no_disorder_B_vs_I_c') and f.endswith('.dd')]\n",
    "\n",
    "fs = {f: dd.io.load(path + f) for f in files}\n",
    "\n",
    "# Save all data to a pandas DataFrame\n",
    "df = pd.DataFrame()\n",
    "for fname, data in fs.items():\n",
    "    const_dims = ['wire_params', 'git_hash', 'T', 'max_frequencies', 'tol', 'constants', 'p']\n",
    "    new_df = pd.DataFrame(data['current_phase'])\n",
    "\n",
    "    for dim in const_dims:\n",
    "        if isinstance(data[dim], dict):\n",
    "            new_df = new_df.assign(**data[dim])\n",
    "        else:\n",
    "            new_df[dim] = data[dim]\n",
    "\n",
    "    new_df['B_x'] = data['B_xs']\n",
    "    \n",
    "    df = df.append(new_df, ignore_index=True)\n",
    "\n",
    "df.to_hdf('no_disorder_B_vs_I_c.hdf', 'brute', mode='w')"
   ]
  },
  {
   "cell_type": "code",
   "execution_count": null,
   "metadata": {
    "collapsed": false
   },
   "outputs": [],
   "source": [
    "df = pd.read_hdf('no_disorder_B_vs_I_c.hdf')"
   ]
  },
  {
   "cell_type": "code",
   "execution_count": null,
   "metadata": {
    "collapsed": false,
    "scrolled": false
   },
   "outputs": [],
   "source": [
    "%%opts Path {+axiswise} [show_grid=True]\n",
    "\n",
    "inds = ['T', 'L', 'with_leads', 'orbital', 'g', 'alpha', 'mu', 'a']\n",
    "kdims = [d.T, d.L, 'infinite leads', 'orbital', d.g, d.alpha, d.mu, d.a]\n",
    "\n",
    "gb = df.groupby(inds)\n",
    "\n",
    "currents = hv.HoloMap({key: hv.Path((val['B_x'], val['current_c']), kdims=[d.B, d.I_c])\n",
    "                       for key, val in gb}, kdims=kdims)\n",
    "\n",
    "phases = hv.HoloMap({key: hv.Path((val['B_x'], val['phase_c']), kdims=[d.B, d.phi_c])\n",
    "                     for key, val in gb}, kdims=kdims)\n",
    "\n",
    "currents + phases"
   ]
  },
  {
   "cell_type": "code",
   "execution_count": null,
   "metadata": {
    "collapsed": false,
    "scrolled": false
   },
   "outputs": [],
   "source": [
    "groups = dict(list(gb))\n",
    "T = 1.0\n",
    "L = 640\n",
    "with_leads = True\n",
    "orbital = True\n",
    "g = 50\n",
    "alpha = 20\n",
    "mu = 50\n",
    "a = 8\n",
    "key = (T, L, with_leads, orbital, g, alpha, mu, a)\n",
    "\n",
    "curves = {row['B_x']: hv.Curve((row['phases'], row['currents']), kdims=[d.phi], vdims=[d.I]) *\n",
    "          hv.Scatter((row['phase_c'], row['current_c'])) for _, row in groups[key].iterrows()}\n",
    "\n",
    "hm = hv.HoloMap(curves, kdims=[d.B])\n",
    "\n",
    "hm + currents[key] * hv.HoloMap({B: hv.VLine(B) for B in df['B_x'].unique()}, kdims=[d.B])"
   ]
  },
  {
   "cell_type": "markdown",
   "metadata": {},
   "source": [
    "# Disorder"
   ]
  },
  {
   "cell_type": "code",
   "execution_count": null,
   "metadata": {
    "collapsed": false
   },
   "outputs": [],
   "source": [
    "def disorder_B_vs_I(fname):\n",
    "    file = dd.io.load(fname)\n",
    "\n",
    "    print(file.keys())\n",
    "\n",
    "    p = file['p']\n",
    "    T = file['T']\n",
    "    tol = file['tol']\n",
    "    constants = file['constants']\n",
    "    Bs = file['B_xs']\n",
    "    phases = file['phases']\n",
    "    wire_params = file['wire_params']\n",
    "    I_c = file['I_cs']\n",
    "    disorders = file['disorders']\n",
    "    salts = file['salts']\n",
    "\n",
    "    curves = {}\n",
    "    for i, realisation in enumerate(I_c):\n",
    "        for disorder, I_cs in zip(disorders, realisation):\n",
    "            curves[(i, disorder)] = hv.Curve((Bs, I_cs), kdims=[hv.Dimension('$B$', unit='$T$')], vdims=['$I_c$'])\n",
    "    hm = hv.HoloMap(curves, kdims=['salt', 'disorder'])\n",
    "\n",
    "    return hm\n",
    "\n",
    "\n",
    "def collapse_salts(hm):\n",
    "    collapsed = hm.collapse('salt', function=np.mean, spreadfn=np.std)\n",
    "    disorder = collapsed * collapsed.table().to.spread(['$B$', '$I_c$'], '$I_c$_std')\n",
    "    return disorder"
   ]
  },
  {
   "cell_type": "code",
   "execution_count": null,
   "metadata": {
    "collapsed": false,
    "scrolled": false
   },
   "outputs": [],
   "source": [
    "path = './'\n",
    "files = [f for f in os.listdir(path) if f.startswith('disorder_B_vs_I_c')]\n",
    "\n",
    "fs = {f: dd.io.load(path + f) for f in files}\n",
    "\n",
    "hm = {}\n",
    "\n",
    "    \n",
    "for fname, data in fs.items():\n",
    "    disorders = data['disorders']\n",
    "    I_cs = data['I_cs']\n",
    "    Bs = data['B_xs']\n",
    "    wire_params = data['wire_params']\n",
    "    p = data['p']\n",
    "    dims = dict(kdims=[hv.Dimension('$B$', unit='$T$')], vdims=['$I_c$'])\n",
    "\n",
    "    for disorder, I_cs, std in zip(disorders, I_cs.mean(axis=0), I_cs.std(axis=0)):\n",
    "        key = (wire_params['a'], wire_params['L'], data['T'], \n",
    "               p.mu, disorder, wire_params['with_leads'], p.orbital, p.g)\n",
    "        val = hv.Spread((Bs, I_cs, std), kdims=[hv.Dimension('$B$', unit='$T$')], vdims=[hv.Dimension('$I_c$'), 'err'])\n",
    "        val *= hv.Path((Bs, I_cs), kdims=[hv.Dimension('$B$', unit='$T$'), '$I_c$'])\n",
    "        hm[key] = val[:, 0:100]\n",
    "\n",
    "\n",
    "hv.HoloMap(hm, kdims=[hv.Dimension('$a$', unit='nm'),\n",
    "                      hv.Dimension('$L$', unit='nm'),\n",
    "                      hv.Dimension('$T$', unit='K'),\n",
    "                      hv.Dimension('$\\mu$', unit='meV'),\n",
    "                      hv.Dimension('disorder', unit='meV'),\n",
    "                      'infinite leads', 'orbital', 'zeeman']).select(T=1)"
   ]
  },
  {
   "cell_type": "code",
   "execution_count": null,
   "metadata": {
    "collapsed": false
   },
   "outputs": [],
   "source": [
    "len(files)"
   ]
  },
  {
   "cell_type": "markdown",
   "metadata": {},
   "source": [
    "# Mean free path $g \\sim N_{ch} / (1 + L / \\lambda_{MFP})$\n",
    "Check with Carlo's review paper on random matrix theory"
   ]
  },
  {
   "cell_type": "code",
   "execution_count": null,
   "metadata": {
    "collapsed": false
   },
   "outputs": [],
   "source": [
    "def mfp_hms(fname):\n",
    "    mfp = dd.io.load(fname)\n",
    "    disorders = mfp['disorders']\n",
    "    conductances = xr.DataArray(mfp['conductances'], dims=['length', 'salts', 'disorder'])\n",
    "    Ls = np.array(mfp['Ls'])\n",
    "    num_propagating = np.unique(mfp['num_propagating'])\n",
    "    assert len(num_propagating) == 1\n",
    "\n",
    "    hm_dict = {}\n",
    "    for L, conductance in zip(Ls, conductances):\n",
    "        conductance_mean = conductance.mean(dim='salts')\n",
    "        curve = hv.Curve((disorders, conductance_mean), kdims=['disorder'], vdims=['conductance'])\n",
    "        spread = hv.Spread((disorders, conductance_mean, conductance.std(dim='salts')))\n",
    "        scatter = hv.Scatter((disorders, conductance_mean))\n",
    "        hm_dict[L] = curve * spread * scatter\n",
    "    hm_disorder_vs_g = hv.HoloMap(hm_dict, kdims=['L'])\n",
    "\n",
    "    hm_dict = {}\n",
    "    for disorder, resistance in zip(disorders, (1 / conductances.T)):\n",
    "        resistance_mean = resistance.mean(dim='salts')\n",
    "        curve = hv.Curve((Ls, resistance_mean), kdims=['L'], vdims=['resistance'])\n",
    "        spread = hv.Spread((Ls, resistance_mean, resistance.std(dim='salts')))\n",
    "        scatter = hv.Scatter((Ls, resistance_mean))\n",
    "        hm_dict[disorder] = curve * spread * scatter\n",
    "    hm_L_vs_R = hv.HoloMap(hm_dict, kdims=['disorder'])\n",
    "\n",
    "    fits = np.squeeze([np.polyfit(Ls, resistance, deg=1) for resistance in (1/conductances).mean('salts').transpose('disorder', 'length')])\n",
    "    polyfits = [np.poly1d(fit)(Ls) for fit in fits]\n",
    "    l_mfps = 1 / (num_propagating[0] * fits[:, 0])\n",
    "    \n",
    "    dims = dict(kdims=['L'], vdims=['resistance'])\n",
    "    hm_fit = hv.HoloMap({disorder: hv.Curve((Ls, R), **dims) for disorder, R in zip(disorders, polyfits)}, \n",
    "           kdims=['disorder'])\n",
    "          \n",
    "    print(\"\")\n",
    "    print(\"with {} modes at {} meV\".format(num_propagating[0], mfp['p'].mu))\n",
    "    for disorder, l_mfp in zip(disorders, l_mfps):\n",
    "        print(\"Disorder strength: {} meV and mean free path: {:.0f} nm\".format(disorder, l_mfp))\n",
    "    \n",
    "    return hm_disorder_vs_g, hm_L_vs_R, hm_fit\n",
    "\n",
    "hm_disorder_vs_g_40meV, hm_L_vs_R_40meV, hm_fit_40meV = mfp_hms('data/mfp_mu-40meV.h5')\n",
    "hm_disorder_vs_g_20meV, hm_L_vs_R_20meV, hm_fit_20meV = mfp_hms('data/mfp_mu-20meV.h5')\n",
    "hm_disorder_vs_g_15meV, hm_L_vs_R_15meV, hm_fit_15meV = mfp_hms('data/mfp_mu-15meV.h5')\n",
    "hm_disorder_vs_g_6meV, hm_L_vs_R_6meV, hm_fit_6meV = mfp_hms('data/mfp_mu-6meV.h5')"
   ]
  },
  {
   "cell_type": "code",
   "execution_count": null,
   "metadata": {
    "collapsed": false
   },
   "outputs": [],
   "source": [
    "hm_disorder_vs_g_15meV.relabel(\"mu = 15 meV, 6 modes\") + hm_disorder_vs_g_6meV.relabel(\"mu = 6 meV, 2 modes\")"
   ]
  },
  {
   "cell_type": "code",
   "execution_count": null,
   "metadata": {
    "collapsed": false
   },
   "outputs": [],
   "source": [
    "((hm_L_vs_R_15meV * hm_fit_15meV).relabel(\"mu = 15 meV, 6 modes\")  +\n",
    " (hm_L_vs_R_6meV * hm_fit_6meV).relabel(\"mu = 6 meV, 2 modes\"))"
   ]
  },
  {
   "cell_type": "markdown",
   "metadata": {},
   "source": [
    "# $T$ vs $I_c$ with disorder"
   ]
  },
  {
   "cell_type": "code",
   "execution_count": null,
   "metadata": {
    "collapsed": false
   },
   "outputs": [],
   "source": [
    "def T_vs_Ic(fname):\n",
    "    dat = dd.io.load(fname)\n",
    "\n",
    "    Ts = dat['T']\n",
    "    I_cs = xr.DataArray(dat['I_cs'], dims=['T', 'disorder', 'salts'])\n",
    "    disorders = dat['disorders']\n",
    "\n",
    "    I_cs_mean = I_cs.mean('salts')\n",
    "\n",
    "    dims = dict(kdims=['$T$'], vdims=['$I_c$'])\n",
    "    hm = hv.HoloMap({disorder: hv.Scatter((Ts, I), **dims) for disorder, I in zip(disorders, I_cs_mean.T)}, \n",
    "               kdims=['disorder'])\n",
    "    return hm\n",
    "\n",
    "(T_vs_Ic('data/T_vs_Ic_L_600.h5').relabel(\"mu = 15 meV, 12 modes\") +\n",
    " T_vs_Ic('data/T_vs_Ic_L_600_mu-6meV.h5').relabel(\"mu = 6 meV, 4 modes\") )"
   ]
  },
  {
   "cell_type": "markdown",
   "metadata": {},
   "source": [
    "# Check if all simulations are done"
   ]
  },
  {
   "cell_type": "code",
   "execution_count": null,
   "metadata": {
    "collapsed": false
   },
   "outputs": [],
   "source": [
    "wire_params = dict(a=None, L=None, with_leads=None, L_sc=None,\n",
    "                   r1=50, r2=70, phi=135, angle=0, disorder=False, with_vlead=True,\n",
    "                    with_shell=True, holes=True, spin=True)\n",
    "\n",
    "hamiltonian_params = dict(Delta=60, mu=50, B_x=None, alpha=None, g=None, orbital=None)\n",
    "\n",
    "def file_name(base, hamiltonian_params, wire_params, T):\n",
    "    fname = '{}__L_{}_nm__mu_{:.0f}_meV__a_{:.0f}_nm__T_{}_K__{}{}{}{}.dd'\n",
    "    leads = \"infinite_leads\" if wire_params['with_leads'] else 'leads_{}_nm'.format(wire_params['L_sc'])\n",
    "    orbital_str = '__no_orbital' if not hamiltonian_params['orbital'] else ''\n",
    "    zeeman_str = '__no_zeeman' if hamiltonian_params['g'] == 0 else ''\n",
    "    alpha_str = '__no_spinorbit' if hamiltonian_params['alpha'] == 0 else ''\n",
    "    fname = fname.format(base, wire_params['L'], hamiltonian_params['mu'],\n",
    "                         wire_params['a'], T, leads, orbital_str, zeeman_str, alpha_str)\n",
    "    return fname\n",
    "\n",
    "for a in [8]:\n",
    "    for L in [80, 160, 320, 640]:\n",
    "        for with_leads, L_sc in [(True, a), (False, 400)]:\n",
    "            wire_params['a'] = a\n",
    "            wire_params['L'] = L\n",
    "            wire_params['with_leads'] = with_leads\n",
    "            wire_params['L_sc'] = L_sc\n",
    "            for T in [0.1, 0.5, 1]:\n",
    "                for orbital, g in [(True, 50), (True, 0), (False, 50)]:\n",
    "                    for alpha in [0, 20]:\n",
    "                        hamiltonian_params['orbital'] = orbital\n",
    "                        hamiltonian_params['g'] = g\n",
    "                        hamiltonian_params['alpha'] = alpha\n",
    "                        fname = file_name('no_disorder_B_vs_I_c', hamiltonian_params, wire_params, T)\n",
    "                        if not os.path.isfile(fname):\n",
    "                            print(fname)"
   ]
  }
 ],
 "metadata": {
  "kernelspec": {
   "display_name": "Python 3",
   "language": "python",
   "name": "python3"
  },
  "language_info": {
   "codemirror_mode": {
    "name": "ipython",
    "version": 3
   },
   "file_extension": ".py",
   "mimetype": "text/x-python",
   "name": "python",
   "nbconvert_exporter": "python",
   "pygments_lexer": "ipython3",
   "version": "3.5.2"
  }
 },
 "nbformat": 4,
 "nbformat_minor": 0
}
