{
 "cells": [
  {
   "cell_type": "code",
   "execution_count": null,
   "metadata": {
    "collapsed": false
   },
   "outputs": [],
   "source": [
    "from types import SimpleNamespace\n",
    "import numpy as np\n",
    "import deepdish as dd\n",
    "import os\n",
    "import holoviews as hv\n",
    "hv.notebook_extension()\n",
    "%opts Scatter (color='r')"
   ]
  },
  {
   "cell_type": "markdown",
   "metadata": {},
   "source": [
    "# No disorder"
   ]
  },
  {
   "cell_type": "code",
   "execution_count": null,
   "metadata": {
    "collapsed": false
   },
   "outputs": [],
   "source": [
    "path = 'data_L_matsfreqs_a_T/'\n",
    "files = [f for f in os.listdir(path) if f.endswith('.h5')]\n",
    "\n",
    "fs = {f: dd.io.load(path + f) for f in files}\n",
    "\n",
    "hm = {}\n",
    "for fname, vals in fs.items():\n",
    "    key = (vals['wire_params']['a'], vals['wire_params']['L'], vals['matsfreqs'], vals['T'])\n",
    "    I_cs = vals['I_cs']\n",
    "    val = hv.Curve((vals['B_xs'], I_cs), kdims=[hv.Dimension('$B$', unit='T')], vdims=['$I$'])\n",
    "    hm[key] = val\n",
    "\n",
    "hv.HoloMap(hm, kdims=[hv.Dimension('$a$', unit='nm'),\n",
    "                      hv.Dimension('$L$', unit='nm'),\n",
    "                      'matfreqs',\n",
    "                      hv.Dimension('$T$', unit='K')])"
   ]
  },
  {
   "cell_type": "code",
   "execution_count": null,
   "metadata": {
    "collapsed": false
   },
   "outputs": [],
   "source": [
    "len(files)"
   ]
  },
  {
   "cell_type": "markdown",
   "metadata": {},
   "source": [
    "# Disorder"
   ]
  },
  {
   "cell_type": "code",
   "execution_count": null,
   "metadata": {
    "collapsed": true
   },
   "outputs": [],
   "source": [
    "file = dd.io.load('data/L_600-matfreqs_1-a_10-T_0.06_disorder.h5')"
   ]
  },
  {
   "cell_type": "code",
   "execution_count": null,
   "metadata": {
    "collapsed": false
   },
   "outputs": [],
   "source": [
    "file.keys()"
   ]
  },
  {
   "cell_type": "code",
   "execution_count": null,
   "metadata": {
    "collapsed": false
   },
   "outputs": [],
   "source": [
    "p = file['p']\n",
    "T = file['T']\n",
    "matsfreqs = file['matsfreqs']\n",
    "constants = file['constants']\n",
    "Bs = file['B_xs']\n",
    "phases = file['phases']\n",
    "wire_params = file['wire_params']\n",
    "I_c = file['I_cs']\n",
    "disorders = file['disorders']\n",
    "salts = file['salts']"
   ]
  },
  {
   "cell_type": "code",
   "execution_count": null,
   "metadata": {
    "collapsed": false
   },
   "outputs": [],
   "source": [
    "curves = {}\n",
    "for i, realisation in enumerate(I_c):\n",
    "    for disorder, I_cs in zip(disorders, realisation):\n",
    "        curves[(i, disorder)] = hv.Curve((Bs, I_cs), kdims=[hv.Dimension('$B$', unit='$T$')], vdims=['$I_c$'])\n",
    "hm = hv.HoloMap(curves, kdims=['salt', 'disorder'])"
   ]
  },
  {
   "cell_type": "code",
   "execution_count": null,
   "metadata": {
    "collapsed": false
   },
   "outputs": [],
   "source": [
    "hm"
   ]
  },
  {
   "cell_type": "code",
   "execution_count": null,
   "metadata": {
    "collapsed": false
   },
   "outputs": [],
   "source": [
    "collapsed = hm.collapse('salt', function=np.mean, spreadfn=np.std)\n",
    "disorder = collapsed * collapsed.table().to.spread(['$B$', '$I_c$'], '$I_c$_std')\n",
    "disorder"
   ]
  },
  {
   "cell_type": "code",
   "execution_count": null,
   "metadata": {
    "collapsed": false
   },
   "outputs": [],
   "source": [
    "%%output size=200 fig='svg'\n",
    "hv.GridSpace(disorder)"
   ]
  },
  {
   "cell_type": "markdown",
   "metadata": {},
   "source": [
    "# Mean free path $g \\sim N_{ch} / (1 + L / \\lambda_{MFP})$\n",
    "Check with Carlo's review paper on random matrix theory"
   ]
  },
  {
   "cell_type": "code",
   "execution_count": null,
   "metadata": {
    "collapsed": false
   },
   "outputs": [],
   "source": [
    "mfp = dd.io.load('data/mfp.h5')"
   ]
  },
  {
   "cell_type": "code",
   "execution_count": null,
   "metadata": {
    "collapsed": false,
    "scrolled": false
   },
   "outputs": [],
   "source": [
    "import xarray as xr\n",
    "disorders = mfp['disorders']\n",
    "conductances = xr.DataArray(mfp['conductances'], dims=['length', 'salts', 'disorder'])\n",
    "Ls = np.array(mfp['Ls']) - 20\n",
    "num_propagating = np.unique(mfp['num_propagating'])\n",
    "assert len(num_propagating) == 1"
   ]
  },
  {
   "cell_type": "code",
   "execution_count": null,
   "metadata": {
    "collapsed": false
   },
   "outputs": [],
   "source": [
    "hm_dict = {}\n",
    "for L, conductance in zip(Ls, conductances):\n",
    "    conductance_mean = conductance.mean(dim='salts')\n",
    "    curve = hv.Curve((disorders, conductance_mean), kdims=['disorder'], vdims=['conductance'])\n",
    "    spread = hv.Spread((disorders, conductance_mean, conductance.std(dim='salts')))\n",
    "    scatter = hv.Scatter((disorders, conductance_mean))\n",
    "    hm_dict[L] = curve * spread * scatter\n",
    "hv.HoloMap(hm_dict, kdims=['L'])"
   ]
  },
  {
   "cell_type": "code",
   "execution_count": null,
   "metadata": {
    "collapsed": false
   },
   "outputs": [],
   "source": [
    "hm_dict = {}\n",
    "for disorder, resistance in zip(disorders, (1 / conductances.T)):\n",
    "    resistance_mean = resistance.mean(dim='salts')\n",
    "    curve = hv.Curve((Ls, resistance_mean), kdims=['L'], vdims=['resistance'])\n",
    "    spread = hv.Spread((Ls, resistance_mean, resistance.std(dim='salts')))\n",
    "    scatter = hv.Scatter((Ls, resistance_mean))\n",
    "    hm_dict[disorder] = curve * spread * scatter\n",
    "hm = hv.HoloMap(hm_dict, kdims=['disorder'])\n",
    "hm"
   ]
  },
  {
   "cell_type": "code",
   "execution_count": null,
   "metadata": {
    "collapsed": false
   },
   "outputs": [],
   "source": [
    "from functools import partial\n",
    "\n",
    "def R(l_mfp, L, N_ch=12):\n",
    "    return (1 + L / l_mfp) / N_ch\n",
    "\n",
    "R_ = partial(R, N_ch=12)\n",
    "\n",
    "fits = np.squeeze([np.polyfit(Ls, resistance, deg=1)[0] for resistance in (1/conductances).mean('salts').transpose('disorder', 'length')])\n",
    "l_mfps = 1 / (12 * fits)"
   ]
  },
  {
   "cell_type": "markdown",
   "metadata": {},
   "source": [
    "## Fit and data"
   ]
  },
  {
   "cell_type": "code",
   "execution_count": null,
   "metadata": {
    "collapsed": false
   },
   "outputs": [],
   "source": [
    "dims = dict(kdims=['L'], vdims=['resistance'])\n",
    "hv.HoloMap({disorder: hv.Curve((Ls, R_(l_mfp, Ls)), **dims) for disorder, l_mfp in zip(disorders, l_mfps)}, \n",
    "           kdims=['disorder']) * hm"
   ]
  },
  {
   "cell_type": "code",
   "execution_count": null,
   "metadata": {
    "collapsed": false
   },
   "outputs": [],
   "source": [
    "for disorder, l_mfp in zip(disorders, l_mfps):\n",
    "    print(\"Disorder strength: {} meV and mean free path: {:.5} nm\".format(disorder, l_mfp))"
   ]
  }
 ],
 "metadata": {
  "kernelspec": {
   "display_name": "Python 3",
   "language": "python",
   "name": "python3"
  },
  "language_info": {
   "codemirror_mode": {
    "name": "ipython",
    "version": 3
   },
   "file_extension": ".py",
   "mimetype": "text/x-python",
   "name": "python",
   "nbconvert_exporter": "python",
   "pygments_lexer": "ipython3",
   "version": "3.5.1"
  }
 },
 "nbformat": 4,
 "nbformat_minor": 0
}
